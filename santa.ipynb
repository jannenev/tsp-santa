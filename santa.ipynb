{
 "cells": [
  {
   "cell_type": "code",
   "execution_count": 1,
   "metadata": {},
   "outputs": [],
   "source": [
    "# Santas travel to deliver packets\n",
    "\n",
    "# NP-Complete problem: Optimize Santas route/trips to deliver gifts.\n",
    "# This can be seen also as KNN-problem, but instead of set nr K to include per group, each group is limited by weight. \n",
    "\n",
    "# https://traveling-santa.reaktor.com/\n",
    "# \n",
    "# \"Santa’s sleigh can only carry 10 metric tons (10,000kg) at a time\".\n",
    "# files include coordinates on Earth, and the weight of presents in grams.\n",
    "# Your job is to find the most optimal routes to deliver all the presents.\n",
    "# Santa starts at Korvatunturi, Finland (68.073611N 29.315278E)\n",
    "# we assume Earth to be a sphere with radius of 6,378km.\""
   ]
  },
  {
   "cell_type": "code",
   "execution_count": 124,
   "metadata": {},
   "outputs": [],
   "source": [
    "import pandas as pd\n",
    "import time\n",
    "import matplotlib.pyplot as plt\n",
    "\n",
    "import numpy as np\n",
    "from scipy.spatial import KDTree\n",
    "from time import clock\n",
    "import copy\n",
    "import random\n",
    "import csv"
   ]
  },
  {
   "cell_type": "code",
   "execution_count": 2,
   "metadata": {},
   "outputs": [],
   "source": [
    "# Since over a sphere geometry is different than on flat surface, use haversine.\n",
    "# https://stackoverflow.com/questions/4913349/haversine-formula-in-python-bearing-and-distance-between-two-gps-points\n",
    "from math import radians, cos, sin, asin, sqrt\n",
    "\n",
    "def haversine(lon1, lat1, lon2, lat2):\n",
    "    \"\"\"\n",
    "    Calculate the great circle distance between two points \n",
    "    on the earth (specified in decimal degrees)\n",
    "    \"\"\"\n",
    "    # convert decimal degrees to radians \n",
    "    lon1, lat1, lon2, lat2 = map(radians, [lon1, lat1, lon2, lat2])\n",
    "\n",
    "    # haversine formula \n",
    "    dlon = lon2 - lon1 \n",
    "    dlat = lat2 - lat1 \n",
    "    a = sin(dlat/2)**2 + cos(lat1) * cos(lat2) * sin(dlon/2)**2\n",
    "    c = 2 * asin(sqrt(a)) \n",
    "    r = 6378 # Radius of earth in kilometers. \n",
    "    return c * r"
   ]
  },
  {
   "cell_type": "code",
   "execution_count": 3,
   "metadata": {},
   "outputs": [
    {
     "data": {
      "text/plain": [
       "2889.6158619401444"
      ]
     },
     "execution_count": 3,
     "metadata": {},
     "output_type": "execute_result"
    }
   ],
   "source": [
    "haversine(-86.67, 36.12, -118.40,33.94 ) "
   ]
  },
  {
   "cell_type": "code",
   "execution_count": 4,
   "metadata": {},
   "outputs": [
    {
     "data": {
      "text/plain": [
       "6818.460779642609"
      ]
     },
     "execution_count": 4,
     "metadata": {},
     "output_type": "execute_result"
    }
   ],
   "source": [
    "# test\n",
    "haversine(29.315278, 68.073611, -86.762233, 40.733034)"
   ]
  },
  {
   "cell_type": "code",
   "execution_count": 6,
   "metadata": {},
   "outputs": [],
   "source": [
    "# weight is in grams. Sleigh can carry 10000 kgs\n",
    "max_weight = 10000000"
   ]
  },
  {
   "cell_type": "code",
   "execution_count": 7,
   "metadata": {},
   "outputs": [
    {
     "data": {
      "text/plain": [
       "0    29.315278\n",
       "1    68.073611\n",
       "dtype: float64"
      ]
     },
     "execution_count": 7,
     "metadata": {},
     "output_type": "execute_result"
    }
   ],
   "source": [
    "# Korvatunturi = 68.073611N 29.315278E  (lat, long)\n",
    "#home = pd.Series([68.073611, 29.315278])\n",
    "\n",
    "#long, lat\n",
    "home = pd.Series([29.315278, 68.073611])\n",
    "home"
   ]
  },
  {
   "cell_type": "code",
   "execution_count": 8,
   "metadata": {},
   "outputs": [
    {
     "data": {
      "text/html": [
       "<div>\n",
       "<style scoped>\n",
       "    .dataframe tbody tr th:only-of-type {\n",
       "        vertical-align: middle;\n",
       "    }\n",
       "\n",
       "    .dataframe tbody tr th {\n",
       "        vertical-align: top;\n",
       "    }\n",
       "\n",
       "    .dataframe thead th {\n",
       "        text-align: right;\n",
       "    }\n",
       "</style>\n",
       "<table border=\"1\" class=\"dataframe\">\n",
       "  <thead>\n",
       "    <tr style=\"text-align: right;\">\n",
       "      <th></th>\n",
       "      <th>lat</th>\n",
       "      <th>long</th>\n",
       "      <th>weight</th>\n",
       "      <th>sleigh</th>\n",
       "    </tr>\n",
       "    <tr>\n",
       "      <th>id</th>\n",
       "      <th></th>\n",
       "      <th></th>\n",
       "      <th></th>\n",
       "      <th></th>\n",
       "    </tr>\n",
       "  </thead>\n",
       "  <tbody>\n",
       "    <tr>\n",
       "      <th>2</th>\n",
       "      <td>40.733034</td>\n",
       "      <td>-86.762233</td>\n",
       "      <td>342917</td>\n",
       "      <td>-1</td>\n",
       "    </tr>\n",
       "    <tr>\n",
       "      <th>3</th>\n",
       "      <td>43.029635</td>\n",
       "      <td>-91.094895</td>\n",
       "      <td>974703</td>\n",
       "      <td>-1</td>\n",
       "    </tr>\n",
       "    <tr>\n",
       "      <th>4</th>\n",
       "      <td>31.180215</td>\n",
       "      <td>16.596037</td>\n",
       "      <td>215099</td>\n",
       "      <td>-1</td>\n",
       "    </tr>\n",
       "  </tbody>\n",
       "</table>\n",
       "</div>"
      ],
      "text/plain": [
       "          lat       long  weight  sleigh\n",
       "id                                      \n",
       "2   40.733034 -86.762233  342917      -1\n",
       "3   43.029635 -91.094895  974703      -1\n",
       "4   31.180215  16.596037  215099      -1"
      ]
     },
     "execution_count": 8,
     "metadata": {},
     "output_type": "execute_result"
    }
   ],
   "source": [
    "colnames = ['id', 'lat', 'long', 'weight']\n",
    "df = pd.read_csv('nicelist.txt', header=None, delimiter=';', names=colnames)\n",
    "df.set_index('id', inplace=True)\n",
    "df['sleigh']=-1\n",
    "df.head(3)"
   ]
  },
  {
   "cell_type": "code",
   "execution_count": 9,
   "metadata": {},
   "outputs": [
    {
     "data": {
      "text/plain": [
       "365.4292324325635"
      ]
     },
     "execution_count": 9,
     "metadata": {},
     "output_type": "execute_result"
    }
   ],
   "source": [
    "# test\n",
    "haversine(df.iloc[0]['long'], df.iloc[0]['lat'], df.iloc[1]['long'], df.iloc[0]['lat'])"
   ]
  },
  {
   "cell_type": "code",
   "execution_count": 10,
   "metadata": {},
   "outputs": [
    {
     "data": {
      "text/html": [
       "<div>\n",
       "<style scoped>\n",
       "    .dataframe tbody tr th:only-of-type {\n",
       "        vertical-align: middle;\n",
       "    }\n",
       "\n",
       "    .dataframe tbody tr th {\n",
       "        vertical-align: top;\n",
       "    }\n",
       "\n",
       "    .dataframe thead th {\n",
       "        text-align: right;\n",
       "    }\n",
       "</style>\n",
       "<table border=\"1\" class=\"dataframe\">\n",
       "  <thead>\n",
       "    <tr style=\"text-align: right;\">\n",
       "      <th></th>\n",
       "      <th>lat</th>\n",
       "      <th>long</th>\n",
       "      <th>weight</th>\n",
       "      <th>sleigh</th>\n",
       "      <th>dist_korvatunturi</th>\n",
       "    </tr>\n",
       "    <tr>\n",
       "      <th>id</th>\n",
       "      <th></th>\n",
       "      <th></th>\n",
       "      <th></th>\n",
       "      <th></th>\n",
       "      <th></th>\n",
       "    </tr>\n",
       "  </thead>\n",
       "  <tbody>\n",
       "    <tr>\n",
       "      <th>2</th>\n",
       "      <td>40.733034</td>\n",
       "      <td>-86.762233</td>\n",
       "      <td>342917</td>\n",
       "      <td>-1</td>\n",
       "      <td>6818.460780</td>\n",
       "    </tr>\n",
       "    <tr>\n",
       "      <th>3</th>\n",
       "      <td>43.029635</td>\n",
       "      <td>-91.094895</td>\n",
       "      <td>974703</td>\n",
       "      <td>-1</td>\n",
       "      <td>6716.931863</td>\n",
       "    </tr>\n",
       "    <tr>\n",
       "      <th>4</th>\n",
       "      <td>31.180215</td>\n",
       "      <td>16.596037</td>\n",
       "      <td>215099</td>\n",
       "      <td>-1</td>\n",
       "      <td>4189.445884</td>\n",
       "    </tr>\n",
       "  </tbody>\n",
       "</table>\n",
       "</div>"
      ],
      "text/plain": [
       "          lat       long  weight  sleigh  dist_korvatunturi\n",
       "id                                                         \n",
       "2   40.733034 -86.762233  342917      -1        6818.460780\n",
       "3   43.029635 -91.094895  974703      -1        6716.931863\n",
       "4   31.180215  16.596037  215099      -1        4189.445884"
      ]
     },
     "execution_count": 10,
     "metadata": {},
     "output_type": "execute_result"
    }
   ],
   "source": [
    "# Add distance from Korvatunturi\n",
    "df['dist_korvatunturi'] = df.apply(lambda row: haversine(29.315278, 68.073611,row['long'], row['lat']), axis=1)\n",
    "df.head(3)"
   ]
  },
  {
   "cell_type": "code",
   "execution_count": 11,
   "metadata": {},
   "outputs": [
    {
     "data": {
      "image/png": "[encoded data removed]",
      "text/plain": [
       "<matplotlib.figure.Figure at 0x7fa7f3c11e48>"
      ]
     },
     "metadata": {},
     "output_type": "display_data"
    }
   ],
   "source": [
    "import matplotlib.pyplot as plt\n",
    "df.plot(kind=\"scatter\", x=\"long\", y=\"lat\", alpha=0.2, figsize=(20,10))\n",
    "# Red X home / Korvatunturi\n",
    "plt.plot(home[0], home[1], 'rX', label='point')\n",
    "plt.show()"
   ]
  },
  {
   "cell_type": "code",
   "execution_count": 12,
   "metadata": {},
   "outputs": [
    {
     "data": {
      "text/html": [
       "<div>\n",
       "<style scoped>\n",
       "    .dataframe tbody tr th:only-of-type {\n",
       "        vertical-align: middle;\n",
       "    }\n",
       "\n",
       "    .dataframe tbody tr th {\n",
       "        vertical-align: top;\n",
       "    }\n",
       "\n",
       "    .dataframe thead th {\n",
       "        text-align: right;\n",
       "    }\n",
       "</style>\n",
       "<table border=\"1\" class=\"dataframe\">\n",
       "  <thead>\n",
       "    <tr style=\"text-align: right;\">\n",
       "      <th></th>\n",
       "      <th>lat</th>\n",
       "      <th>long</th>\n",
       "      <th>weight</th>\n",
       "      <th>sleigh</th>\n",
       "      <th>dist_korvatunturi</th>\n",
       "    </tr>\n",
       "  </thead>\n",
       "  <tbody>\n",
       "    <tr>\n",
       "      <th>count</th>\n",
       "      <td>10000.000000</td>\n",
       "      <td>10000.000000</td>\n",
       "      <td>1.000000e+04</td>\n",
       "      <td>10000.0</td>\n",
       "      <td>10000.000000</td>\n",
       "    </tr>\n",
       "    <tr>\n",
       "      <th>mean</th>\n",
       "      <td>27.720125</td>\n",
       "      <td>-17.268937</td>\n",
       "      <td>5.308228e+05</td>\n",
       "      <td>-1.0</td>\n",
       "      <td>6784.421729</td>\n",
       "    </tr>\n",
       "    <tr>\n",
       "      <th>std</th>\n",
       "      <td>24.241659</td>\n",
       "      <td>78.886361</td>\n",
       "      <td>4.291983e+05</td>\n",
       "      <td>0.0</td>\n",
       "      <td>2977.048874</td>\n",
       "    </tr>\n",
       "    <tr>\n",
       "      <th>min</th>\n",
       "      <td>-90.000000</td>\n",
       "      <td>-179.593071</td>\n",
       "      <td>5.000000e+00</td>\n",
       "      <td>-1.0</td>\n",
       "      <td>133.077700</td>\n",
       "    </tr>\n",
       "    <tr>\n",
       "      <th>25%</th>\n",
       "      <td>14.431097</td>\n",
       "      <td>-85.826239</td>\n",
       "      <td>2.514975e+05</td>\n",
       "      <td>-1.0</td>\n",
       "      <td>5043.700586</td>\n",
       "    </tr>\n",
       "    <tr>\n",
       "      <th>50%</th>\n",
       "      <td>36.169634</td>\n",
       "      <td>-40.346728</td>\n",
       "      <td>5.027195e+05</td>\n",
       "      <td>-1.0</td>\n",
       "      <td>6891.140591</td>\n",
       "    </tr>\n",
       "    <tr>\n",
       "      <th>75%</th>\n",
       "      <td>42.718775</td>\n",
       "      <td>34.304132</td>\n",
       "      <td>7.563300e+05</td>\n",
       "      <td>-1.0</td>\n",
       "      <td>8099.031980</td>\n",
       "    </tr>\n",
       "    <tr>\n",
       "      <th>max</th>\n",
       "      <td>90.000000</td>\n",
       "      <td>179.385081</td>\n",
       "      <td>9.158430e+06</td>\n",
       "      <td>-1.0</td>\n",
       "      <td>17596.295914</td>\n",
       "    </tr>\n",
       "  </tbody>\n",
       "</table>\n",
       "</div>"
      ],
      "text/plain": [
       "                lat          long        weight   sleigh  dist_korvatunturi\n",
       "count  10000.000000  10000.000000  1.000000e+04  10000.0       10000.000000\n",
       "mean      27.720125    -17.268937  5.308228e+05     -1.0        6784.421729\n",
       "std       24.241659     78.886361  4.291983e+05      0.0        2977.048874\n",
       "min      -90.000000   -179.593071  5.000000e+00     -1.0         133.077700\n",
       "25%       14.431097    -85.826239  2.514975e+05     -1.0        5043.700586\n",
       "50%       36.169634    -40.346728  5.027195e+05     -1.0        6891.140591\n",
       "75%       42.718775     34.304132  7.563300e+05     -1.0        8099.031980\n",
       "max       90.000000    179.385081  9.158430e+06     -1.0       17596.295914"
      ]
     },
     "execution_count": 12,
     "metadata": {},
     "output_type": "execute_result"
    }
   ],
   "source": [
    "# Avg weight\n",
    "df.describe()"
   ]
  },
  {
   "cell_type": "code",
   "execution_count": 13,
   "metadata": {},
   "outputs": [
    {
     "data": {
      "text/html": [
       "<div>\n",
       "<style scoped>\n",
       "    .dataframe tbody tr th:only-of-type {\n",
       "        vertical-align: middle;\n",
       "    }\n",
       "\n",
       "    .dataframe tbody tr th {\n",
       "        vertical-align: top;\n",
       "    }\n",
       "\n",
       "    .dataframe thead th {\n",
       "        text-align: right;\n",
       "    }\n",
       "</style>\n",
       "<table border=\"1\" class=\"dataframe\">\n",
       "  <thead>\n",
       "    <tr style=\"text-align: right;\">\n",
       "      <th></th>\n",
       "      <th>lat</th>\n",
       "      <th>long</th>\n",
       "      <th>weight</th>\n",
       "      <th>sleigh</th>\n",
       "      <th>dist_korvatunturi</th>\n",
       "    </tr>\n",
       "    <tr>\n",
       "      <th>id</th>\n",
       "      <th></th>\n",
       "      <th></th>\n",
       "      <th></th>\n",
       "      <th></th>\n",
       "      <th></th>\n",
       "    </tr>\n",
       "  </thead>\n",
       "  <tbody>\n",
       "    <tr>\n",
       "      <th>2298</th>\n",
       "      <td>2.106498</td>\n",
       "      <td>31.400424</td>\n",
       "      <td>9158430</td>\n",
       "      <td>-1</td>\n",
       "      <td>7344.993084</td>\n",
       "    </tr>\n",
       "  </tbody>\n",
       "</table>\n",
       "</div>"
      ],
      "text/plain": [
       "           lat       long   weight  sleigh  dist_korvatunturi\n",
       "id                                                           \n",
       "2298  2.106498  31.400424  9158430      -1        7344.993084"
      ]
     },
     "execution_count": 13,
     "metadata": {},
     "output_type": "execute_result"
    }
   ],
   "source": [
    "# gifts that cant fit 2 per sleigh - only 1 such\n",
    "df[df['weight']>5000000]"
   ]
  },
  {
   "cell_type": "code",
   "execution_count": 14,
   "metadata": {},
   "outputs": [
    {
     "data": {
      "text/plain": [
       "135688434.588227"
      ]
     },
     "execution_count": 14,
     "metadata": {},
     "output_type": "execute_result"
    }
   ],
   "source": [
    "# HIGHER LIMIT 1\n",
    "# define a higher limit - 136 Million km\n",
    "# each gift taken with separate sleigh\n",
    "df['dist_korvatunturi'].sum()*2"
   ]
  },
  {
   "cell_type": "code",
   "execution_count": 16,
   "metadata": {},
   "outputs": [
    {
     "name": "stdout",
     "output_type": "stream",
     "text": [
      "4.843199014663696\n"
     ]
    }
   ],
   "source": [
    "start = time.time()\n",
    "for i in range(len(df)):\n",
    "    haversine(df.iloc[0]['long'], df.iloc[0]['lat'], df.iloc[i]['long'], df.iloc[i]['lat'])\n",
    "end = time.time()\n",
    "print(end-start)"
   ]
  },
  {
   "cell_type": "code",
   "execution_count": 17,
   "metadata": {},
   "outputs": [],
   "source": [
    "# scipy kdtree\n",
    "# https://www.programcreek.com/python/example/57350/scipy.spatial.KDTree\n",
    "# http://code.activestate.com/recipes/578434-a-simple-kd-tree-example-with-custom-euclidean-dis/"
   ]
  },
  {
   "cell_type": "code",
   "execution_count": 18,
   "metadata": {},
   "outputs": [
    {
     "data": {
      "text/plain": [
       "array([[0, 2],\n",
       "       [0, 3]])"
      ]
     },
     "execution_count": 18,
     "metadata": {},
     "output_type": "execute_result"
    }
   ],
   "source": [
    "# http://library.isr.ist.utl.pt/docs/scipy/spatial.html\n",
    "x, y = np.mgrid[0:5, 2:8]\n",
    "tree = KDTree(list(zip(x.ravel(), y.ravel())))\n",
    "tree.data[0:2]"
   ]
  },
  {
   "cell_type": "code",
   "execution_count": 19,
   "metadata": {},
   "outputs": [],
   "source": [
    "# https://scipy-cookbook.readthedocs.io/items/KDTree_example.html\n",
    "#!python numbers=disable\n",
    "\n",
    "# Copyleft 2008 Sturla Molden\n",
    "# University of Oslo\n",
    "\n",
    "#import psyco\n",
    "#psyco.full()\n",
    "\n",
    "import numpy\n",
    "\n",
    "def kdtree( data, leafsize=10 ):\n",
    "    \"\"\"\n",
    "    build a kd-tree for O(n log n) nearest neighbour search\n",
    "\n",
    "    input:\n",
    "        data:       2D ndarray, shape =(ndim,ndata), preferentially C order\n",
    "        leafsize:   max. number of data points to leave in a leaf\n",
    "\n",
    "    output:\n",
    "        kd-tree:    list of tuples\n",
    "    \"\"\"\n",
    "\n",
    "    ndim = data.shape[0]\n",
    "    ndata = data.shape[1]\n",
    "\n",
    "    # find bounding hyper-rectangle\n",
    "    hrect = numpy.zeros((2,data.shape[0]))\n",
    "    hrect[0,:] = data.min(axis=1)\n",
    "    hrect[1,:] = data.max(axis=1)\n",
    "\n",
    "    # create root of kd-tree\n",
    "    idx = numpy.argsort(data[0,:], kind='mergesort')\n",
    "    data[:,:] = data[:,idx]\n",
    "    splitval = data[0,ndata//2]\n",
    "\n",
    "    left_hrect = hrect.copy()\n",
    "    right_hrect = hrect.copy()\n",
    "    left_hrect[1, 0] = splitval\n",
    "    right_hrect[0, 0] = splitval\n",
    "\n",
    "    tree = [(None, None, left_hrect, right_hrect, None, None)]\n",
    "\n",
    "    stack = [(data[:,:ndata//2], idx[:ndata//2], 1, 0, True),\n",
    "             (data[:,ndata//2:], idx[ndata//2:], 1, 0, False)]\n",
    "\n",
    "    # recursively split data in halves using hyper-rectangles:\n",
    "    while stack:\n",
    "\n",
    "        # pop data off stack\n",
    "        data, didx, depth, parent, leftbranch = stack.pop()\n",
    "        ndata = data.shape[1]\n",
    "        nodeptr = len(tree)\n",
    "\n",
    "        # update parent node\n",
    "\n",
    "        _didx, _data, _left_hrect, _right_hrect, left, right = tree[parent]\n",
    "\n",
    "        tree[parent] = (_didx, _data, _left_hrect, _right_hrect, nodeptr, right) if leftbranch \\\n",
    "            else (_didx, _data, _left_hrect, _right_hrect, left, nodeptr)\n",
    "\n",
    "        # insert node in kd-tree\n",
    "\n",
    "        # leaf node?\n",
    "        if ndata <= leafsize:\n",
    "            _didx = didx.copy()\n",
    "            _data = data.copy()\n",
    "            leaf = (_didx, _data, None, None, 0, 0)\n",
    "            tree.append(leaf)\n",
    "\n",
    "        # not a leaf, split the data in two      \n",
    "        else:\n",
    "            splitdim = depth % ndim\n",
    "            idx = numpy.argsort(data[splitdim,:], kind='mergesort')\n",
    "            data[:,:] = data[:,idx]\n",
    "            didx = didx[idx]\n",
    "            nodeptr = len(tree)\n",
    "            stack.append((data[:,:ndata//2], didx[:ndata//2], depth+1, nodeptr, True))\n",
    "            stack.append((data[:,ndata//2:], didx[ndata//2:], depth+1, nodeptr, False))\n",
    "            splitval = data[splitdim,ndata//2]\n",
    "            if leftbranch:\n",
    "                left_hrect = _left_hrect.copy()\n",
    "                right_hrect = _left_hrect.copy()\n",
    "            else:\n",
    "                left_hrect = _right_hrect.copy()\n",
    "                right_hrect = _right_hrect.copy()\n",
    "            left_hrect[1, splitdim] = splitval\n",
    "            right_hrect[0, splitdim] = splitval\n",
    "            # append node to tree\n",
    "            tree.append((None, None, left_hrect, right_hrect, None, None))\n",
    "\n",
    "    return tree"
   ]
  },
  {
   "cell_type": "code",
   "execution_count": 21,
   "metadata": {},
   "outputs": [],
   "source": [
    "#!python numbers=disable\n",
    "\n",
    "def intersect(hrect, r2, centroid):\n",
    "    \"\"\"\n",
    "    checks if the hyperrectangle hrect intersects with the\n",
    "    hypersphere defined by centroid and r2\n",
    "    \"\"\"\n",
    "    maxval = hrect[1,:]\n",
    "    minval = hrect[0,:]\n",
    "    p = centroid.copy()\n",
    "    idx = p < minval\n",
    "    p[idx] = minval[idx]\n",
    "    idx = p > maxval\n",
    "    p[idx] = maxval[idx]\n",
    "    return ((p-centroid)**2).sum() < r2\n",
    "\n",
    "\n",
    "def quadratic_knn_search(data, lidx, ldata, K):\n",
    "    \"\"\" find K nearest neighbours of data among ldata \"\"\"\n",
    "    ndata = ldata.shape[1]\n",
    "    param = ldata.shape[0]\n",
    "    K = K if K < ndata else ndata\n",
    "    retval = []\n",
    "    sqd = ((ldata - data[:,:ndata])**2).sum(axis=0) # data.reshape((param,1)).repeat(ndata, axis=1);\n",
    "    idx = numpy.argsort(sqd, kind='mergesort')\n",
    "    idx = idx[:K]\n",
    "    return list(zip(sqd[idx], lidx[idx]))\n",
    "\n",
    "\n",
    "def search_kdtree(tree, datapoint, K):\n",
    "    \"\"\" find the k nearest neighbours of datapoint in a kdtree \"\"\"\n",
    "    stack = [tree[0]]\n",
    "    knn = [(numpy.inf, None)]*K\n",
    "    _datapt = datapoint[:,0]\n",
    "    while stack:\n",
    "\n",
    "        leaf_idx, leaf_data, left_hrect, \\\n",
    "                  right_hrect, left, right = stack.pop()\n",
    "\n",
    "        # leaf\n",
    "        if leaf_idx is not None:\n",
    "            _knn = quadratic_knn_search(datapoint, leaf_idx, leaf_data, K)\n",
    "            if _knn[0][0] < knn[-1][0]:\n",
    "                knn = sorted(knn + _knn)[:K]\n",
    "\n",
    "        # not a leaf\n",
    "        else:\n",
    "\n",
    "            # check left branch\n",
    "            if intersect(left_hrect, knn[-1][0], _datapt):\n",
    "                stack.append(tree[left])\n",
    "\n",
    "            # chech right branch\n",
    "            if intersect(right_hrect, knn[-1][0], _datapt):\n",
    "                stack.append(tree[right])\n",
    "    return knn\n",
    "\n",
    "\n",
    "def knn_search( data, K, leafsize=2048 ):\n",
    "\n",
    "    \"\"\" find the K nearest neighbours for data points in data,\n",
    "        using an O(n log n) kd-tree \"\"\"\n",
    "\n",
    "    ndata = data.shape[1]\n",
    "    param = data.shape[0]\n",
    "\n",
    "    # build kdtree\n",
    "    tree = kdtree(data.copy(), leafsize=leafsize)\n",
    "\n",
    "    # search kdtree\n",
    "    knn = []\n",
    "    for i in numpy.arange(ndata):\n",
    "        _data = data[:,i].reshape((param,1)).repeat(leafsize, axis=1);\n",
    "        _knn = search_kdtree(tree, _data, K+1)\n",
    "        knn.append(_knn[1:])\n",
    "\n",
    "    return knn\n",
    "\n",
    "\n",
    "def radius_search(tree, datapoint, radius):\n",
    "    \"\"\" find all points within radius of datapoint \"\"\"\n",
    "    stack = [tree[0]]\n",
    "    inside = []\n",
    "    while stack:\n",
    "\n",
    "        leaf_idx, leaf_data, left_hrect, \\\n",
    "                  right_hrect, left, right = stack.pop()\n",
    "\n",
    "        # leaf\n",
    "        if leaf_idx is not None:\n",
    "            param=leaf_data.shape[0]\n",
    "            distance = numpy.sqrt(((leaf_data - datapoint.reshape((param,1)))**2).sum(axis=0))\n",
    "            near = numpy.where(distance<=radius)\n",
    "            if len(near[0]):\n",
    "                idx = leaf_idx[near]\n",
    "                distance = distance[near]\n",
    "                inside += (zip(distance, idx))\n",
    "\n",
    "        else:\n",
    "\n",
    "            if intersect(left_hrect, radius, datapoint):\n",
    "                stack.append(tree[left])\n",
    "\n",
    "            if intersect(right_hrect, radius, datapoint):\n",
    "                stack.append(tree[right])\n",
    "\n",
    "    return inside"
   ]
  },
  {
   "cell_type": "code",
   "execution_count": 22,
   "metadata": {},
   "outputs": [],
   "source": [
    "#!python numbers=disable\n",
    "\n",
    "try:\n",
    "    import multiprocessing as processing\n",
    "except:\n",
    "    import processing\n",
    "\n",
    "import ctypes, os\n",
    "\n",
    "def __num_processors():\n",
    "    if os.name == 'nt': # Windows\n",
    "        return int(os.getenv('NUMBER_OF_PROCESSORS'))\n",
    "    else: # glibc (Linux, *BSD, Apple)\n",
    "        get_nprocs = ctypes.cdll.libc.get_nprocs\n",
    "        get_nprocs.restype = ctypes.c_int\n",
    "        get_nprocs.argtypes = []\n",
    "        return get_nprocs()\n",
    "\n",
    "def __search_kdtree(tree, data, K, leafsize):\n",
    "    knn = []\n",
    "    param = data.shape[0]\n",
    "    ndata = data.shape[1]\n",
    "    for i in numpy.arange(ndata):\n",
    "        _data = data[:,i].reshape((param,1)).repeat(leafsize, axis=1);\n",
    "        _knn = search_kdtree(tree, _data, K+1)\n",
    "        knn.append(_knn[1:])\n",
    "    return knn\n",
    "\n",
    "def __remote_process(rank, qin, qout, tree, K, leafsize):\n",
    "    while 1:\n",
    "        # read input queue (block until data arrives)\n",
    "        nc, data = qin.get()\n",
    "        # process data\n",
    "        knn = __search_kdtree(tree, data, K, leafsize)\n",
    "        # write to output queue\n",
    "        qout.put((nc,knn))\n",
    "\n",
    "def knn_search_parallel(data, K, leafsize=2048):\n",
    "\n",
    "    \"\"\" find the K nearest neighbours for data points in data,\n",
    "        using an O(n log n) kd-tree, exploiting all logical\n",
    "        processors on the computer \"\"\"\n",
    "\n",
    "    ndata = data.shape[1]\n",
    "    param = data.shape[0]\n",
    "    nproc = __num_processors()\n",
    "    # build kdtree\n",
    "    tree = kdtree(data.copy(), leafsize=leafsize)\n",
    "    # compute chunk size\n",
    "    chunk_size = data.shape[1] / (4*nproc)\n",
    "    chunk_size = 100 if chunk_size < 100 else chunk_size\n",
    "    # set up a pool of processes\n",
    "    qin = processing.Queue(maxsize=ndata/chunk_size)\n",
    "    qout = processing.Queue(maxsize=ndata/chunk_size)\n",
    "    pool = [processing.Process(target=__remote_process,\n",
    "                args=(rank, qin, qout, tree, K, leafsize))\n",
    "                    for rank in range(nproc)]\n",
    "    for p in pool: p.start()\n",
    "    # put data chunks in input queue\n",
    "    cur, nc = 0, 0\n",
    "    while 1:\n",
    "        _data = data[:,cur:cur+chunk_size]\n",
    "        if _data.shape[1] == 0: break\n",
    "        qin.put((nc,_data))\n",
    "        cur += chunk_size\n",
    "        nc += 1\n",
    "    # read output queue\n",
    "    knn = []\n",
    "    while len(knn) < nc:\n",
    "        knn += [qout.get()]\n",
    "    # avoid race condition\n",
    "    _knn = [n for i,n in sorted(knn)]\n",
    "    knn = []\n",
    "    for tmp in _knn:\n",
    "        knn += tmp\n",
    "    # terminate workers\n",
    "    for p in pool: p.terminate()\n",
    "    return knn"
   ]
  },
  {
   "cell_type": "code",
   "execution_count": 23,
   "metadata": {},
   "outputs": [
    {
     "name": "stdout",
     "output_type": "stream",
     "text": [
      "Elapsed time %.2f seconds\n",
      "12.372141\n"
     ]
    }
   ],
   "source": [
    "#!python numbers=disable\n",
    "from time import clock\n",
    "\n",
    "def test():\n",
    "    K = 11\n",
    "    ndata = 10000\n",
    "    ndim = 12\n",
    "    data =  10 * numpy.random.rand(ndata*ndim).reshape((ndim,ndata) )\n",
    "    knn = knn_search(data, K)\n",
    "\n",
    "if __name__ == '__main__':\n",
    "    t0 = clock()\n",
    "    test()\n",
    "    t1 = clock()\n",
    "    print(\"Elapsed time %.2f seconds\") ; print(t1-t0)\n",
    "\n",
    "    #import profile          # using Python's profiler is not useful if you are\n",
    "    #profile.run('test()')   # running the parallel search."
   ]
  },
  {
   "cell_type": "code",
   "execution_count": 24,
   "metadata": {},
   "outputs": [
    {
     "name": "stdout",
     "output_type": "stream",
     "text": [
      "Elapsed time %.2f seconds\n",
      "-0.00490999999999886\n"
     ]
    }
   ],
   "source": [
    "### Test example\n",
    "K = 11\n",
    "ndata = 100\n",
    "ndim = 2\n",
    "data =  10 * numpy.random.rand(ndata*ndim).reshape((ndim,ndata) )\n",
    "    \n",
    "t0 = clock()\n",
    "print(\"Elapsed time %.2f seconds\") ; print(t1-t0)\n",
    "t1 = clock()\n",
    "knn = knn_search(data, K)"
   ]
  },
  {
   "cell_type": "code",
   "execution_count": 25,
   "metadata": {},
   "outputs": [
    {
     "data": {
      "text/plain": [
       "100"
      ]
     },
     "execution_count": 25,
     "metadata": {},
     "output_type": "execute_result"
    }
   ],
   "source": [
    "len(knn)"
   ]
  },
  {
   "cell_type": "code",
   "execution_count": 26,
   "metadata": {},
   "outputs": [],
   "source": [
    "# libc error for parallel version\n",
    "# knn = knn_search_parallel(data, K)"
   ]
  },
  {
   "cell_type": "code",
   "execution_count": 27,
   "metadata": {},
   "outputs": [
    {
     "name": "stdout",
     "output_type": "stream",
     "text": [
      "(10000, 2)\n",
      "(2, 10000)\n",
      "5.391992999999999\n"
     ]
    }
   ],
   "source": [
    "### Test with real data\n",
    "treedata = df[['long', 'lat']]\n",
    "treedat = np.asarray(treedata)\n",
    "print(treedat.shape)\n",
    "\n",
    "#ndata = 10000\n",
    "ndata = len(treedat)\n",
    "ndim = 2\n",
    "\n",
    "data = treedat.reshape(ndim,ndata)\n",
    "print(data.shape)\n",
    "\n",
    "K = 10\n",
    "#data =  10 * numpy.random.rand(ndata*ndim).reshape((ndim,ndata) )\n",
    "t0 = clock()\n",
    "knn = knn_search(data, K)\n",
    "t1 = clock()\n",
    "print(t1-t0)"
   ]
  },
  {
   "cell_type": "code",
   "execution_count": 28,
   "metadata": {},
   "outputs": [
    {
     "data": {
      "text/plain": [
       "[(0.035337873581000136, 8964),\n",
       " (0.9283121356569914, 5852),\n",
       " (1.266208588250013, 9578),\n",
       " (1.4500857272850018, 9328),\n",
       " (1.5663806009299814, 8870),\n",
       " (1.5857399166370032, 5124),\n",
       " (2.221291289120009, 9302),\n",
       " (2.4370281524809574, 882),\n",
       " (2.8134255199210036, 100),\n",
       " (3.3382238789840173, 6154)]"
      ]
     },
     "execution_count": 28,
     "metadata": {},
     "output_type": "execute_result"
    }
   ],
   "source": [
    "knn[0]"
   ]
  },
  {
   "cell_type": "markdown",
   "metadata": {},
   "source": [
    "### Main run"
   ]
  },
  {
   "cell_type": "code",
   "execution_count": 29,
   "metadata": {},
   "outputs": [
    {
     "name": "stdout",
     "output_type": "stream",
     "text": [
      "         long        lat  weight\n",
      "id                              \n",
      "2  -86.762233  40.733034  342917\n",
      "3  -91.094895  43.029635  974703\n",
      "4   16.596037  31.180215  215099\n",
      "------\n",
      "[[-86.762233  40.733034]\n",
      " [-91.094895  43.029635]\n",
      " [ 16.596037  31.180215]]\n"
     ]
    }
   ],
   "source": [
    "# each gifts initialized free, ie no sleigh\n",
    "df['sleigh']= -1\n",
    "# Np array of free sleighs coordinates\n",
    "free= df[df['sleigh']==-1]\n",
    "freeones = free[['long','lat', 'weight']]\n",
    "print(freeones[0:3])\n",
    "\n",
    "# Input required is np.arary with only coordinates, no id field\n",
    "np_freeones = np.asarray(freeones[['long','lat']])\n",
    "print('------')\n",
    "print(np_freeones[0:3])"
   ]
  },
  {
   "cell_type": "code",
   "execution_count": 30,
   "metadata": {},
   "outputs": [
    {
     "data": {
      "text/plain": [
       "array([-86.762233,  40.733034])"
      ]
     },
     "execution_count": 30,
     "metadata": {},
     "output_type": "execute_result"
    }
   ],
   "source": [
    "np_df= np.asarray(df[['long','lat']])\n",
    "np_df[0]"
   ]
  },
  {
   "cell_type": "code",
   "execution_count": 31,
   "metadata": {},
   "outputs": [
    {
     "data": {
      "text/html": [
       "<div>\n",
       "<style scoped>\n",
       "    .dataframe tbody tr th:only-of-type {\n",
       "        vertical-align: middle;\n",
       "    }\n",
       "\n",
       "    .dataframe tbody tr th {\n",
       "        vertical-align: top;\n",
       "    }\n",
       "\n",
       "    .dataframe thead th {\n",
       "        text-align: right;\n",
       "    }\n",
       "</style>\n",
       "<table border=\"1\" class=\"dataframe\">\n",
       "  <thead>\n",
       "    <tr style=\"text-align: right;\">\n",
       "      <th></th>\n",
       "      <th>lat</th>\n",
       "      <th>long</th>\n",
       "      <th>weight</th>\n",
       "      <th>sleigh</th>\n",
       "      <th>dist_korvatunturi</th>\n",
       "    </tr>\n",
       "    <tr>\n",
       "      <th>id</th>\n",
       "      <th></th>\n",
       "      <th></th>\n",
       "      <th></th>\n",
       "      <th></th>\n",
       "      <th></th>\n",
       "    </tr>\n",
       "  </thead>\n",
       "  <tbody>\n",
       "    <tr>\n",
       "      <th>2</th>\n",
       "      <td>40.733034</td>\n",
       "      <td>-86.762233</td>\n",
       "      <td>342917</td>\n",
       "      <td>-1</td>\n",
       "      <td>6818.460780</td>\n",
       "    </tr>\n",
       "    <tr>\n",
       "      <th>3</th>\n",
       "      <td>43.029635</td>\n",
       "      <td>-91.094895</td>\n",
       "      <td>974703</td>\n",
       "      <td>-1</td>\n",
       "      <td>6716.931863</td>\n",
       "    </tr>\n",
       "    <tr>\n",
       "      <th>4</th>\n",
       "      <td>31.180215</td>\n",
       "      <td>16.596037</td>\n",
       "      <td>215099</td>\n",
       "      <td>-1</td>\n",
       "      <td>4189.445884</td>\n",
       "    </tr>\n",
       "  </tbody>\n",
       "</table>\n",
       "</div>"
      ],
      "text/plain": [
       "          lat       long  weight  sleigh  dist_korvatunturi\n",
       "id                                                         \n",
       "2   40.733034 -86.762233  342917      -1        6818.460780\n",
       "3   43.029635 -91.094895  974703      -1        6716.931863\n",
       "4   31.180215  16.596037  215099      -1        4189.445884"
      ]
     },
     "execution_count": 31,
     "metadata": {},
     "output_type": "execute_result"
    }
   ],
   "source": [
    "df[0:3]"
   ]
  },
  {
   "cell_type": "code",
   "execution_count": 32,
   "metadata": {},
   "outputs": [
    {
     "name": "stdout",
     "output_type": "stream",
     "text": [
      "long   -86.762233\n",
      "lat     40.733034\n",
      "Name: 2, dtype: float64\n",
      "----\n",
      "[[-86.762233]\n",
      " [ 40.733034]]\n"
     ]
    }
   ],
   "source": [
    "# Test - individual datapoint\n",
    "# Gift #2\n",
    "this = df.loc[2][['long','lat']]\n",
    "print(this)\n",
    "datapoint = np.asarray(this)\n",
    "datapoint = datapoint.reshape(2,1) # give it dim 1 instead of , and rotate\n",
    "print('----')\n",
    "print(datapoint)"
   ]
  },
  {
   "cell_type": "code",
   "execution_count": 30,
   "metadata": {},
   "outputs": [
    {
     "data": {
      "text/plain": [
       "array([[-86.762233],\n",
       "       [ 40.733034]])"
      ]
     },
     "execution_count": 30,
     "metadata": {},
     "output_type": "execute_result"
    }
   ],
   "source": [
    "# def search_kdtree(tree, datapoint, K):\n",
    "datapoint"
   ]
  },
  {
   "cell_type": "code",
   "execution_count": 31,
   "metadata": {},
   "outputs": [
    {
     "data": {
      "text/plain": [
       "array([[-86.762233,  40.733034],\n",
       "       [-91.094895,  43.029635],\n",
       "       [ 16.596037,  31.180215],\n",
       "       ...,\n",
       "       [-84.314389,  33.463295],\n",
       "       [134.530749,  34.091971],\n",
       "       [-63.770996, -22.55115 ]])"
      ]
     },
     "execution_count": 31,
     "metadata": {},
     "output_type": "execute_result"
    }
   ],
   "source": [
    "np_freeones"
   ]
  },
  {
   "cell_type": "code",
   "execution_count": 32,
   "metadata": {},
   "outputs": [
    {
     "name": "stdout",
     "output_type": "stream",
     "text": [
      "5.421358999999999\n"
     ]
    }
   ],
   "source": [
    "# Test\n",
    "K = 10\n",
    "\n",
    "data = np_freeones\n",
    "# switch axels\n",
    "ndata = len(np_freeones)\n",
    "ndim = 2\n",
    "data = data.reshape(ndim,ndata)\n",
    "\n",
    "t0 = clock()\n",
    "knn = knn_search(data, K)\n",
    "t1 = clock()\n",
    "print(t1-t0)"
   ]
  },
  {
   "cell_type": "code",
   "execution_count": 33,
   "metadata": {},
   "outputs": [
    {
     "data": {
      "text/plain": [
       "10000"
      ]
     },
     "execution_count": 33,
     "metadata": {},
     "output_type": "execute_result"
    }
   ],
   "source": [
    "len(knn)"
   ]
  },
  {
   "cell_type": "code",
   "execution_count": 34,
   "metadata": {},
   "outputs": [],
   "source": [
    "#treedata"
   ]
  },
  {
   "cell_type": "code",
   "execution_count": 35,
   "metadata": {},
   "outputs": [
    {
     "data": {
      "text/plain": [
       "pandas.core.frame.DataFrame"
      ]
     },
     "execution_count": 35,
     "metadata": {},
     "output_type": "execute_result"
    }
   ],
   "source": [
    "type(treedata)"
   ]
  },
  {
   "cell_type": "code",
   "execution_count": 36,
   "metadata": {},
   "outputs": [],
   "source": [
    "# individual point search requires Tree as input\n",
    "#tree = kdtree( treedata, leafsize=10 )\n",
    "tree = kdtree(data, leafsize=10 )\n",
    "# tree = kdtree(np_freeones, leafsize=10 )"
   ]
  },
  {
   "cell_type": "code",
   "execution_count": 37,
   "metadata": {},
   "outputs": [],
   "source": [
    "K = 10\n",
    "ndata = len(np_freeones)\n",
    "ndim = 2\n",
    "#data =  10 * numpy.random.rand(ndata*ndim).reshape((ndim,ndata) )\n",
    "#data = treedata.reshape(ndim,ndata)\n",
    "#datap = datapoint.reshape(2,1)\n",
    "\n",
    "near = search_kdtree(tree, datapoint, K)\n",
    "#near = search_kdtree(tree, datap, K)"
   ]
  },
  {
   "cell_type": "code",
   "execution_count": 38,
   "metadata": {},
   "outputs": [
    {
     "data": {
      "text/plain": [
       "[(1.0729000158739854, 5296),\n",
       " (3.045992294809971, 4380),\n",
       " (4.25588072516002, 7400),\n",
       " (4.8058428571289635, 1540),\n",
       " (6.378489357385014, 96),\n",
       " (8.241262304122005, 3314),\n",
       " (8.892256276754043, 8656),\n",
       " (9.439722041268977, 9298),\n",
       " (10.886933755316026, 4246),\n",
       " (11.173561781508077, 3756)]"
      ]
     },
     "execution_count": 38,
     "metadata": {},
     "output_type": "execute_result"
    }
   ],
   "source": [
    "near"
   ]
  },
  {
   "cell_type": "code",
   "execution_count": 33,
   "metadata": {},
   "outputs": [
    {
     "data": {
      "text/plain": [
       "440.6969447506693"
      ]
     },
     "execution_count": 33,
     "metadata": {},
     "output_type": "execute_result"
    }
   ],
   "source": [
    "def distance(point1, point2):\n",
    "    '''\n",
    "    input: 2 numpy arrays with single point: longitude, latitude \n",
    "    '''\n",
    "    #confirm only 2 columns\n",
    "    assert len(point1)==2 or len(point1)==3\n",
    "    assert len(point2)==2 or len(point2)==3\n",
    "    \n",
    "    return haversine(point1[0], point1[1], point2[0], point2[1])\n",
    "#test\n",
    "distance(np_df[0], np_df[1])"
   ]
  },
  {
   "cell_type": "code",
   "execution_count": 34,
   "metadata": {},
   "outputs": [
    {
     "data": {
      "text/plain": [
       "440.6969447506693"
      ]
     },
     "execution_count": 34,
     "metadata": {},
     "output_type": "execute_result"
    }
   ],
   "source": [
    "def distance_panda(point1, point2):\n",
    "    '''Input DataFrame, allowed to have extra fields'''\n",
    "    #haversine(df.iloc[0]['long'], df.iloc[0]['lat'], df.iloc[i]['long'], df.iloc[i]['lat'])\n",
    "    return haversine(point1['long'], point1['lat'], point2['long'], point2['lat'])\n",
    "#test\n",
    "distance_panda(this, freeones.loc[3])"
   ]
  },
  {
   "cell_type": "code",
   "execution_count": 42,
   "metadata": {},
   "outputs": [
    {
     "data": {
      "text/plain": [
       "long          54.012250\n",
       "lat           57.027138\n",
       "weight    831256.000000\n",
       "Name: 5341, dtype: float64"
      ]
     },
     "execution_count": 42,
     "metadata": {},
     "output_type": "execute_result"
    }
   ],
   "source": [
    "freeones.loc[5341]"
   ]
  },
  {
   "cell_type": "code",
   "execution_count": 43,
   "metadata": {},
   "outputs": [
    {
     "data": {
      "text/plain": [
       "array([[-86.762233],\n",
       "       [ 40.733034]])"
      ]
     },
     "execution_count": 43,
     "metadata": {},
     "output_type": "execute_result"
    }
   ],
   "source": [
    "datapoint"
   ]
  },
  {
   "cell_type": "code",
   "execution_count": 44,
   "metadata": {},
   "outputs": [
    {
     "data": {
      "text/plain": [
       "2120.8743472471565"
      ]
     },
     "execution_count": 44,
     "metadata": {},
     "output_type": "execute_result"
    }
   ],
   "source": [
    "distance(datapoint, np_df[5340])"
   ]
  },
  {
   "cell_type": "code",
   "execution_count": 45,
   "metadata": {},
   "outputs": [],
   "source": [
    "# Each points distance to this one\n",
    "# distances = freeones.apply(lambda row: distance(this, row), axis=1)\n",
    "#this = np_df[0]\n",
    "distances = np.array( [distance(this, row) for row in np_df] )"
   ]
  },
  {
   "cell_type": "code",
   "execution_count": 46,
   "metadata": {},
   "outputs": [
    {
     "data": {
      "text/plain": [
       "array([   0.        ,  440.69694475, 8811.92943327, 8352.661111  ])"
      ]
     },
     "execution_count": 46,
     "metadata": {},
     "output_type": "execute_result"
    }
   ],
   "source": [
    "distances[0:4]"
   ]
  },
  {
   "cell_type": "code",
   "execution_count": null,
   "metadata": {},
   "outputs": [],
   "source": [
    "print(distances.min())\n",
    "print(distances.idxmin())"
   ]
  },
  {
   "cell_type": "code",
   "execution_count": null,
   "metadata": {},
   "outputs": [],
   "source": [
    "i= 5340\n",
    "haversine(df.iloc[0]['long'], df.iloc[0]['lat'], df.loc[i]['long'], df.loc[i]['lat'])"
   ]
  },
  {
   "cell_type": "code",
   "execution_count": null,
   "metadata": {},
   "outputs": [],
   "source": [
    "distance_panda(freeones.iloc[0], freeones.loc[i])"
   ]
  },
  {
   "cell_type": "code",
   "execution_count": null,
   "metadata": {},
   "outputs": [],
   "source": [
    "distance_panda(freeones.iloc[0], freeones.iloc[1])"
   ]
  },
  {
   "cell_type": "code",
   "execution_count": null,
   "metadata": {},
   "outputs": [],
   "source": [
    "df.head()"
   ]
  },
  {
   "cell_type": "code",
   "execution_count": 60,
   "metadata": {},
   "outputs": [
    {
     "data": {
      "text/plain": [
       "[2, 3]"
      ]
     },
     "execution_count": 60,
     "metadata": {},
     "output_type": "execute_result"
    }
   ],
   "source": [
    "# LIST OF SLEIGHS/TAXIS \n",
    "taxis = []\n",
    "taxis.append([2,3])\n",
    "taxis[0]\n",
    "#taxi_dist(taxis[0])"
   ]
  },
  {
   "cell_type": "code",
   "execution_count": 36,
   "metadata": {},
   "outputs": [],
   "source": [
    "def taxi_dist(taxi):\n",
    "    '''Return distance through home, points in list, home\n",
    "       input: integer list of locations'''\n",
    "    route=[]\n",
    "    route.append(home)\n",
    "    for i in taxi:\n",
    "        #route.append(  np_df[ df.index.get_loc(i)]  )\n",
    "        route.append( np.asarray(df.loc[i][['long','lat']]) )\n",
    "    route.append(home)    \n",
    "\n",
    "    sum=0\n",
    "    for i in range(len(route)-1):\n",
    "            sum+=distance(route[i], route[i+1]) \n",
    "    return sum\n",
    "#test\n",
    "#taxi_dist(taxis2[0])"
   ]
  },
  {
   "cell_type": "code",
   "execution_count": 108,
   "metadata": {},
   "outputs": [
    {
     "data": {
      "text/plain": [
       "9413.416736776197"
      ]
     },
     "execution_count": 108,
     "metadata": {},
     "output_type": "execute_result"
    }
   ],
   "source": [
    "def group_dist(taxi, start=False, end=False):\n",
    "    '''Return distance between points, not adding home location\n",
    "       input: integer list of locations\n",
    "       params: start: add home as start location to list\n",
    "               end:   add home as end location to list\n",
    "       '''\n",
    "    route=[]\n",
    "    \n",
    "    if start==True:\n",
    "        route.append(home)\n",
    "    for i in taxi:\n",
    "        route.append( np.asarray(df.loc[i][['long','lat']]) )\n",
    "        \n",
    "    if end==True:\n",
    "        route.append(home)\n",
    "        \n",
    "    sum=0\n",
    "    for i in range(len(route)-1):\n",
    "            sum+=distance(route[i], route[i+1]) \n",
    "    return sum\n",
    "test\n",
    "group_dist([2,3,4])"
   ]
  },
  {
   "cell_type": "code",
   "execution_count": 109,
   "metadata": {},
   "outputs": [
    {
     "data": {
      "text/plain": [
       "16231.877516418805"
      ]
     },
     "execution_count": 109,
     "metadata": {},
     "output_type": "execute_result"
    }
   ],
   "source": [
    "group_dist([2,3,4], start=True)"
   ]
  },
  {
   "cell_type": "code",
   "execution_count": 110,
   "metadata": {},
   "outputs": [
    {
     "data": {
      "text/plain": [
       "20421.32340085681"
      ]
     },
     "execution_count": 110,
     "metadata": {},
     "output_type": "execute_result"
    }
   ],
   "source": [
    "group_dist([2,3,4], start=True, end=True)"
   ]
  },
  {
   "cell_type": "code",
   "execution_count": null,
   "metadata": {},
   "outputs": [],
   "source": [
    "def taxi_weight(taxi):\n",
    "    '''Return total weight of gifts in route\n",
    "       input: integer list of locations'''\n",
    "    route=[]\n",
    "    for i in taxi:\n",
    "        #route.append(df.iloc[  df.index.get_loc(i)  ])\n",
    "        route.append(df.loc[i])\n",
    "        \n",
    "    #print(route)\n",
    "\n",
    "    sum=0\n",
    "    for i in range(len(route)):\n",
    "            sum+=route[i]['weight']\n",
    "    return sum\n",
    "#test\n",
    "taxi_weight(taxis[0])"
   ]
  },
  {
   "cell_type": "code",
   "execution_count": null,
   "metadata": {},
   "outputs": [],
   "source": [
    "def taxi_info(taxi):\n",
    "    '''Print info about route\n",
    "       input: integer list of locations'''\n",
    "    print(df.loc[taxi])\n",
    "    #print(np_df[taxi])\n",
    "#test\n",
    "taxi_info(taxis[0])"
   ]
  },
  {
   "cell_type": "code",
   "execution_count": 65,
   "metadata": {},
   "outputs": [
    {
     "data": {
      "text/plain": [
       "0"
      ]
     },
     "execution_count": 65,
     "metadata": {},
     "output_type": "execute_result"
    }
   ],
   "source": [
    "# if item #2, get indes of its row\n",
    "# iloc for loc\n",
    "df.index.get_loc(2)"
   ]
  },
  {
   "cell_type": "code",
   "execution_count": 68,
   "metadata": {},
   "outputs": [
    {
     "data": {
      "text/plain": [
       "array([-86.762233,  40.733034])"
      ]
     },
     "execution_count": 68,
     "metadata": {},
     "output_type": "execute_result"
    }
   ],
   "source": [
    "np_df[df.index.get_loc(2)]"
   ]
  },
  {
   "cell_type": "code",
   "execution_count": 39,
   "metadata": {},
   "outputs": [],
   "source": [
    "def taxi_build_route(startpoint, knn):\n",
    "    '''Pick always item furthest from home\n",
    "   find 30 knn\n",
    "   by order of distance to 1st, if fits under 10 tons, add next\n",
    "   score: 12.8M (12837118)   '''\n",
    "    \n",
    "    route=[]\n",
    "    route.append(startpoint)\n",
    "    weight_total = taxi_weight(route)\n",
    "    #print(weight_total)\n",
    "    \n",
    "    for i in knn:\n",
    "        #print(f'Taxi_build_route i in knn: {i}')\n",
    "        weight_total = taxi_weight(route)\n",
    "        weight_next = df.loc[i]['weight']\n",
    "        if weight_total + weight_next <= max_weight:\n",
    "            route.append(i)\n",
    "    return route\n",
    "#test\n",
    "#taxi_build_route()"
   ]
  },
  {
   "cell_type": "code",
   "execution_count": 40,
   "metadata": {},
   "outputs": [],
   "source": [
    "def taxi_build_route2(startpoint, knn):\n",
    "    '''Input startpoint: int of first item to add \n",
    "       knn list of n nearest points to startpoint\n",
    "    \n",
    "       On version 1 we added always knn in order, as logn as they fit under max weight\n",
    "       At times though, distance to next item x can be larger than distance to home and back to x with empty\n",
    "       load!\n",
    "       \n",
    "       Also if our load is 9 tons out of 10 tons and current->home-> x is just little longer than direct to x,\n",
    "       we might wanna go home and arrive to x with empty load.\n",
    "       \n",
    "       So we want to add a function comparing \n",
    "       - current load percentage, \n",
    "       - distance to home and \n",
    "       - distance to next item\n",
    "       \n",
    "       The further we are from home, the longer way we are willing to travel sideways\n",
    "       Consider also\n",
    "       - distance to home vs\n",
    "       - distance to home via x\n",
    "       This will tell how much extra way x would bring.\n",
    "       In good case x can be far from current, but very close to direct line between current and home!\n",
    "       \n",
    "       Also notice that each item has a hardness-number\n",
    "       If we have options to pick 500kg item at 10.000 km from home at extra route y or \n",
    "       500kg item at 100 km from home at extra route 0.1y, the one further might be lot better, \n",
    "       since coming later to this far is expensive, while item B is cheap to come at later route.\n",
    "    \n",
    "    '''\n",
    "    route=[]\n",
    "    route.append(startpoint)\n",
    "    weight_total = taxi_weight(route)\n",
    "    #print(weight_total)\n",
    "    \n",
    "    for i in knn:\n",
    "        #print(i)\n",
    "        weight_total = taxi_weight(route)\n",
    "        weight_next = df.loc[i]['weight']\n",
    "        # fits y weigh\n",
    "        if weight_total + weight_next <= max_weight:\n",
    "                   \n",
    "            eps = 1e-7   \n",
    "            #multiplier for go home, then to dest i\n",
    "            dist_direct = distance_panda(df.loc[startpoint], df.loc[i])\n",
    "            \n",
    "            dist_through_home = distance( np_df[ df.index.get_loc(startpoint)] , home) + distance(home, np_df[ df.index.get_loc(i)])\n",
    "            multiplyer_dist = dist_through_home / (dist_direct+eps)\n",
    "            \n",
    "            #multiplayer space\n",
    "            weight_direct = weight_total + weight_next\n",
    "            weight_through_home = weight_next\n",
    "            multiplyer_weight = (max_weight - weight_through_home) / (max_weight - weight_direct)\n",
    "            \n",
    "            #hypothesis, saving?\n",
    "            # example, cargo 0.5 full, next is 0.1, direct would bring 0.6 full\n",
    "            # distance through home is 1.2x multiplier, space for cargo through home\n",
    "            # would be free space: 0.9 / 0.4 = 2.25 x\n",
    "            # hypothesis, by going home to empty, on average we save\n",
    "            \n",
    "            #if multiplyer_weight > multiplyer_dist:\n",
    "            \n",
    "            # don't go home, go directly to next\n",
    "            if not(multiplyer_weight > multiplyer_dist):\n",
    "                route.append(i)\n",
    "                \n",
    "            #weight_free = max_weight - weight_total\n",
    "            #weight_free_percentage = weight_total / max_weight            \n",
    "            #HARDNESS NUMBER FOR EACH ITEM\n",
    "            # weight * distance?\n",
    "        \n",
    "            #extra_distance \n",
    "            #(taxi_dist(startpoint, df.iloc[i]) + taxi_dist(df.iloc[i], home) / taxi_dist(startpoint, home))\n",
    "            \n",
    "           # fits by distance and loc  \n",
    "           # relation of dist to new x + dist to home vs directly home\n",
    "            #weight_free = (weight_total / max_weight)\n",
    "            #if (taxi_dist(startpoint, df.iloc[i]) + taxi_dist(df.iloc[i], home) / taxi_dist(startpoint, home))                \n",
    "    return route"
   ]
  },
  {
   "cell_type": "code",
   "execution_count": null,
   "metadata": {},
   "outputs": [],
   "source": [
    "def taxi_build_route3(startpoint, knn):\n",
    "    '''Within knn, add nearest in chain\n",
    "       Input startpoint: int of first item to add \n",
    "       knn list of n nearest points to startpoint\n",
    "    \n",
    "       On version 1 we added always knn in order, as logn as they fit under max weight\n",
    "       At times though, distance to next item x can be larger than distance to home and back to x with empty\n",
    "       load!\n",
    "       \n",
    "       Also if our load is 9 tons out of 10 tons and current->home-> x is just little longer than direct to x,\n",
    "       we might wanna go home and arrive to x with empty load.\n",
    "       \n",
    "       So we want to add a function comparing \n",
    "       - current load percentage, \n",
    "       - distance to home and \n",
    "       - distance to next item\n",
    "       \n",
    "       The further we are from home, the longer way we are willing to travel sideways\n",
    "       Consider also\n",
    "       - distance to home vs\n",
    "       - distance to home via x\n",
    "       This will tell how much extra way x would bring.\n",
    "       In good case x can be far from current, but very close to direct line between current and home!\n",
    "       \n",
    "       Also notice that each item has a hardness-number\n",
    "       If we have options to pick 500kg item at 10.000 km from home at extra route y or \n",
    "       500kg item at 100 km from home at extra route 0.1y, the one further might be lot better, \n",
    "       since coming later to this far is expensive, while item B is cheap to come at later route.\n",
    "    \n",
    "    '''\n",
    "    route=[]\n",
    "    route.append(startpoint)\n",
    "    weight_total = taxi_weight(route)\n",
    "    #print(weight_total)\n",
    "    \n",
    "    for i in knn:\n",
    "        #print(i)\n",
    "        weight_total = taxi_weight(route)\n",
    "        weight_next = df.loc[i]['weight']\n",
    "        # fits y weigh\n",
    "        if weight_total + weight_next <= max_weight:\n",
    "                   \n",
    "            eps = 1e-7   \n",
    "            #multiplier for go home, then to dest i\n",
    "            dist_direct = distance_panda(df.loc[startpoint], df.loc[i])\n",
    "            \n",
    "            dist_through_home = distance( np_df[ df.index.get_loc(startpoint)] , home) + distance(home, np_df[ df.index.get_loc(i)])\n",
    "            multiplyer_dist = dist_through_home / (dist_direct+eps)\n",
    "            \n",
    "            #multiplyer space\n",
    "            weight_direct = weight_total + weight_next\n",
    "            weight_through_home = weight_next\n",
    "            multiplyer_weight = (max_weight - weight_through_home) / (max_weight - weight_direct)\n",
    "            \n",
    "            #hypothesis, saving?\n",
    "            # example, cargo 0.5 full, next is 0.1, direct would bring 0.6 full\n",
    "            # distance through home is 1.2x multiplier, space for cargo through home\n",
    "            # would be free space: 0.9 / 0.4 = 2.25 x\n",
    "            # hypothesis, by going home to empty, on average we save\n",
    "            \n",
    "            #if multiplyer_weight > multiplyer_dist:\n",
    "            \n",
    "            # don't go home, go directly to next\n",
    "            if not(multiplyer_weight > multiplyer_dist):\n",
    "                route.append(i)\n",
    "                \n",
    "            #weight_free = max_weight - weight_total\n",
    "            #weight_free_percentage = weight_total / max_weight            \n",
    "            #HARDNESS NUMBER FOR EACH ITEM\n",
    "            # weight * distance?\n",
    "        \n",
    "            #extra_distance \n",
    "            #(taxi_dist(startpoint, df.iloc[i]) + taxi_dist(df.iloc[i], home) / taxi_dist(startpoint, home))\n",
    "            \n",
    "           # fits by distance and loc  \n",
    "           # relation of dist to new x + dist to home vs directly home\n",
    "            #weight_free = (weight_total / max_weight)\n",
    "            #if (taxi_dist(startpoint, df.iloc[i]) + taxi_dist(df.iloc[i], home) / taxi_dist(startpoint, home))                \n",
    "    return route"
   ]
  },
  {
   "cell_type": "code",
   "execution_count": 41,
   "metadata": {},
   "outputs": [],
   "source": [
    "def mark_taken(df, locations):\n",
    "    '''mark locations on list as taken\n",
    "       '''\n",
    "    df['sleigh'].loc[locations]=10000"
   ]
  },
  {
   "cell_type": "code",
   "execution_count": 42,
   "metadata": {},
   "outputs": [
    {
     "name": "stdout",
     "output_type": "stream",
     "text": [
      "8826\n",
      "id\n",
      "8828      0.000000\n",
      "8660      4.560893\n",
      "6249    151.962850\n",
      "4441    153.381073\n",
      "dtype: float64\n"
     ]
    }
   ],
   "source": [
    "sleighs=[]\n",
    "\n",
    "i =df['dist_korvatunturi'].idxmax()\n",
    "print(i)\n",
    "this = df.iloc[i]\n",
    "# Each points distance to this one\n",
    "distances = freeones.apply(lambda row: distance_panda(this, row), axis=1)\n",
    "knn = distances.nsmallest(30)\n",
    "\n",
    "print(knn[0:4])\n",
    "\n",
    "# while  sleight weight under 10k kg\n",
    "# add next closest to same sleigh"
   ]
  },
  {
   "cell_type": "code",
   "execution_count": 56,
   "metadata": {},
   "outputs": [
    {
     "data": {
      "text/plain": [
       "Int64Index([8660, 6249, 4441, 8259, 8526, 3033, 7597, 8224, 2652, 5369, 8121,\n",
       "            3952, 2292, 4610, 2516, 6006, 8852, 4869, 5049, 7879, 5691, 8670,\n",
       "            6171, 9764,  946, 1351, 7605,  820, 7802],\n",
       "           dtype='int64', name='id')"
      ]
     },
     "execution_count": 56,
     "metadata": {},
     "output_type": "execute_result"
    }
   ],
   "source": [
    "knn.index[1:]"
   ]
  },
  {
   "cell_type": "code",
   "execution_count": 76,
   "metadata": {},
   "outputs": [
    {
     "name": "stdout",
     "output_type": "stream",
     "text": [
      "18\n"
     ]
    }
   ],
   "source": [
    "newtaxi = taxi_build_route(i, knn.index[1:])\n",
    "print(len(newtaxi))"
   ]
  },
  {
   "cell_type": "markdown",
   "metadata": {},
   "source": [
    "### Repeat\n"
   ]
  },
  {
   "cell_type": "code",
   "execution_count": 323,
   "metadata": {},
   "outputs": [
    {
     "name": "stdout",
     "output_type": "stream",
     "text": [
      "Free remaining\n",
      "9912\n",
      "------\n",
      "[[ 43.029635 -91.094895]\n",
      " [ 31.180215  16.596037]\n",
      " [-28.657398 -55.964951]]\n"
     ]
    }
   ],
   "source": [
    "# Get free ones\n",
    "free= df[df['sleigh']==-1]\n",
    "freeones = free[['id','long','lat', 'weight']]\n",
    "\n",
    "# Input required is np.arary with only coordinates, no id field\n",
    "np_freeones = np.asarray(freeones[['long','lat']])\n",
    "print('Free remaining'); print(len(freeones))\n",
    "print('------')\n",
    "print(np_freeones[0:3])"
   ]
  },
  {
   "cell_type": "code",
   "execution_count": 324,
   "metadata": {},
   "outputs": [
    {
     "name": "stdout",
     "output_type": "stream",
     "text": [
      "9278\n",
      "9278      0.000000\n",
      "8557    297.985948\n",
      "278     454.053433\n",
      "3522    484.076805\n",
      "dtype: float64\n"
     ]
    }
   ],
   "source": [
    "#Pick NEXT gift (furthest from home) to pick up and its knn\n",
    "\n",
    "i =free['dist_korvatunturi'].idxmax()\n",
    "print(i)\n",
    "this = df.iloc[i]\n",
    "# Each points distance to this one\n",
    "distances = freeones.apply(lambda row: distance(this, row), axis=1)\n",
    "knn = distances.nsmallest(30)\n",
    "\n",
    "print(knn[0:4])"
   ]
  },
  {
   "cell_type": "code",
   "execution_count": 325,
   "metadata": {},
   "outputs": [
    {
     "name": "stdout",
     "output_type": "stream",
     "text": [
      "678340.0\n",
      "21\n"
     ]
    },
    {
     "name": "stderr",
     "output_type": "stream",
     "text": [
      "/home/mark/anaconda3/lib/python3.6/site-packages/pandas/core/indexing.py:189: SettingWithCopyWarning: \n",
      "A value is trying to be set on a copy of a slice from a DataFrame\n",
      "\n",
      "See the caveats in the documentation: http://pandas.pydata.org/pandas-docs/stable/indexing.html#indexing-view-versus-copy\n",
      "  self._setitem_with_indexer(indexer, value)\n"
     ]
    }
   ],
   "source": [
    "# Plan a route\n",
    "newtaxi = taxi_build_route(i, knn.index[1:])\n",
    "print(len(newtaxi))\n",
    "\n",
    "#Add to routes\n",
    "taxis.append(newtaxi)\n",
    "\n",
    "#Mark those taken\n",
    "mark_taken(df, newtaxi)"
   ]
  },
  {
   "cell_type": "code",
   "execution_count": 331,
   "metadata": {},
   "outputs": [
    {
     "data": {
      "text/plain": [
       "478771.4884847733"
      ]
     },
     "execution_count": 331,
     "metadata": {},
     "output_type": "execute_result"
    }
   ],
   "source": [
    "# Total distance of all taxis\n",
    "total_dist = np.sum([taxi_dist(item) for item in taxis])\n",
    "print(total_dist)"
   ]
  },
  {
   "cell_type": "code",
   "execution_count": 354,
   "metadata": {},
   "outputs": [
    {
     "data": {
      "text/plain": [
       "200"
      ]
     },
     "execution_count": 354,
     "metadata": {},
     "output_type": "execute_result"
    }
   ],
   "source": [
    "len(df)"
   ]
  },
  {
   "cell_type": "markdown",
   "metadata": {},
   "source": [
    "### In one loop"
   ]
  },
  {
   "cell_type": "code",
   "execution_count": 358,
   "metadata": {},
   "outputs": [
    {
     "data": {
      "text/plain": [
       "10000"
      ]
     },
     "execution_count": 358,
     "metadata": {},
     "output_type": "execute_result"
    }
   ],
   "source": [
    "df_full = df\n",
    "#df = df[0:500]\n",
    "df = df_full\n",
    "len(df)"
   ]
  },
  {
   "cell_type": "code",
   "execution_count": null,
   "metadata": {},
   "outputs": [],
   "source": [
    "'''Pick always item furthest from home\n",
    "   find knn\n",
    "   by order of distance to 1st, if fits under 10 tons, add next\n",
    "                           '''\n",
    "#Reset all to free\n",
    "df['sleigh']=-1\n",
    "taxis=[]\n",
    "\n",
    "# Get free ones\n",
    "free= df[df['sleigh']==-1]\n",
    "\n",
    "while len(free) >0:\n",
    "    freeones = free[['long','lat', 'weight']]\n",
    "\n",
    "    # Input required is np.arary with only coordinates\n",
    "    np_freeones = np.asarray(freeones[['long','lat']])\n",
    "    print('Free remaining'); print(len(freeones))\n",
    "\n",
    "#Pick NEXT gift (furthest from home) to pick up and its knn\n",
    "    \n",
    "    #i = free.loc[free['dist_korvatunturi'].idxmax()]\n",
    "    i = free['dist_korvatunturi'].idxmax()\n",
    "    #print(f'Most distant i from home {i}')\n",
    "    thispoint = np.asarray(free.loc[ i ][['long','lat']])\n",
    "\n",
    "    # Each points distance to this one    \n",
    "    distances =  [distance(thispoint, row) for row in np_freeones] \n",
    "    distances = pd.Series(distances)\n",
    "    \n",
    "    # these are indexes in numpy list, not yet id:s of items\n",
    "    # for example 2nd row in results is index 1, though smallest item# is 2\n",
    "    knn = distances.nsmallest(40)\n",
    "    \n",
    "    # get ids for them\n",
    "    # freeones[0] has index/name of 5\n",
    "    knn_indices = [ freeones.index[index] for index in knn.index]\n",
    "    \n",
    "    \n",
    "# Plan a route\n",
    "    #newtaxi = taxi_build_route(i, knn.index[1:])\n",
    "    newtaxi = taxi_build_route(i, knn_indices[1:])\n",
    "\n",
    "    #Add to routes\n",
    "    taxis.append(newtaxi)\n",
    "\n",
    "    #Mark those taken\n",
    "    mark_taken(df, newtaxi)\n",
    "    # Update free ones\n",
    "    free= df[df['sleigh']==-1]\n",
    "    \n",
    "# Total distance of all taxis\n",
    "print('Total distance of all routes')\n",
    "total_dist = np.sum([taxi_dist(item) for item in taxis])\n",
    "print(total_dist)"
   ]
  },
  {
   "cell_type": "code",
   "execution_count": 238,
   "metadata": {},
   "outputs": [
    {
     "name": "stdout",
     "output_type": "stream",
     "text": [
      "Total distance of all routes\n",
      "8713230.292004172\n"
     ]
    }
   ],
   "source": [
    "print('Total distance of all routes')\n",
    "total_dist = np.sum([taxi_dist(item) for item in taxis])\n",
    "print(total_dist)"
   ]
  },
  {
   "cell_type": "code",
   "execution_count": null,
   "metadata": {},
   "outputs": [],
   "source": []
  },
  {
   "cell_type": "markdown",
   "metadata": {},
   "source": [
    "### Save result"
   ]
  },
  {
   "cell_type": "code",
   "execution_count": 226,
   "metadata": {},
   "outputs": [],
   "source": [
    "import csv\n",
    "with open(\"solution_route1_change2_optimize_7_98M.csv\", \"w\", newline=\"\") as f:\n",
    "    writer = csv.writer(f, delimiter=';')\n",
    "    writer.writerows(taxis2)"
   ]
  },
  {
   "cell_type": "code",
   "execution_count": 125,
   "metadata": {},
   "outputs": [],
   "source": [
    "with open(\"solution_nperm3_no_start_end.csv\", \"w\", newline=\"\") as f:\n",
    "    writer = csv.writer(f, delimiter=';')\n",
    "    writer.writerows(taxis2)\n",
    "    \n",
    "# Real scored: Well done! Your result was    8016097784 meters.\n",
    "# own counted Total distance of all routes: 10191414.869035328\n",
    "\n",
    "# nperm3, no_start_end Well done! Your result was 7961271115 meters."
   ]
  },
  {
   "cell_type": "code",
   "execution_count": 190,
   "metadata": {},
   "outputs": [],
   "source": [
    "with open(\"solution_route1_greedyb.csv\", \"w\", newline=\"\") as f:\n",
    "    writer = csv.writer(f, delimiter=';')\n",
    "    writer.writerows(taxis2)\n",
    "    \n",
    "# Well done! Your result was 8020739245 meters.\n",
    "# own counted Total distance of all routes: 10884966.111994263"
   ]
  },
  {
   "cell_type": "markdown",
   "metadata": {},
   "source": [
    "### Statistics"
   ]
  },
  {
   "cell_type": "code",
   "execution_count": 214,
   "metadata": {},
   "outputs": [
    {
     "name": "stdout",
     "output_type": "stream",
     "text": [
      "Nr of taxis: 535\n",
      "Avg items per taxi: 18.69158878504673\n",
      "Avg weight of taxi: 9921920.575700935\n",
      "Avg length of taxi route: 16241.542148096532\n"
     ]
    }
   ],
   "source": [
    "# nr of taxis\n",
    "print(f'Nr of taxis: {len(taxis)}')\n",
    "\n",
    "# Avg items per taxi\n",
    "print(f'Avg items per taxi: {np.mean([len(item) for item in taxis])}')\n",
    "\n",
    "# Avg weight per taxi\n",
    "print(f'Avg weight of taxi: {np.mean([taxi_weight(item) for item in taxis])}')\n",
    "\n",
    "# Avg length of taxi ride\n",
    "print(f'Avg length of taxi route: {np.mean([taxi_dist(item) for item in taxis])}')\n"
   ]
  },
  {
   "cell_type": "code",
   "execution_count": null,
   "metadata": {},
   "outputs": [],
   "source": [
    "# route1, fixed coord 8.68M\n",
    "# Nr of taxis: 535\n",
    "# Avg items per taxi: 18.69158878504673\n",
    "# Avg weight of taxi: 9921920.575700935\n",
    "# Avg length of taxi route: 16241.542148096532"
   ]
  },
  {
   "cell_type": "code",
   "execution_count": null,
   "metadata": {},
   "outputs": [],
   "source": [
    "# route1, knn=40\n",
    "# 8690193.153362121\n",
    "\n"
   ]
  },
  {
   "cell_type": "code",
   "execution_count": null,
   "metadata": {},
   "outputs": [],
   "source": [
    "# route1 fixed indexing 10,8M\n",
    "# Nr of taxis: 535\n",
    "# Avg items per taxi: 18.69158878504673\n",
    "# Avg weight of taxi: 9921920.575700935\n",
    "# Avg length of taxi route: 20345.731050456565\n",
    "\n",
    "# route2 fixed indexing, 11M\n",
    "# Nr of taxis: 562\n",
    "# Avg items per taxi: 17.793594306049823\n",
    "# Avg weight of taxi: 9445244.676156584\n",
    "# Avg length of taxi route: 19719.974044225128\n",
    "\n",
    "\n",
    "# route1 12M\n",
    "# Nr of taxis: 536\n",
    "# Avg items per taxi 18.65671641791045\n",
    "# Avg weight of taxi 9903409.529850746\n",
    "# Avg length of taxi route 23949.846369940846\n",
    "\n",
    "# route2 16,9M\n",
    "#Nr of taxis: 757\n",
    "#Avg items per taxi 13.21003963011889\n",
    "#Avg weight of taxi 7012189.574636724\n",
    "#Avg length of taxi route 22411.432553687224\n",
    "\n",
    "# route2 fixed long,lat in np,  65M - large\n",
    "Nr of taxis:  1559\n",
    "Avg items per taxi 6.428479794740218\n",
    "Avg weight of taxi 3412421.434252726\n",
    "Avg length of taxi route 42015.77227992759\n",
    "# WHY avg length almost double to those with more items?\n"
   ]
  },
  {
   "cell_type": "code",
   "execution_count": 168,
   "metadata": {},
   "outputs": [
    {
     "name": "stdout",
     "output_type": "stream",
     "text": [
      "487.66596545953473\n"
     ]
    }
   ],
   "source": [
    "# how much distance per kg on average?\n",
    "\n",
    "wei = np.sum([taxi_weight(item) for item in taxis])\n",
    "dis = np.sum([taxi_dist(item) for item in taxis])\n",
    "print(wei/dis)"
   ]
  },
  {
   "cell_type": "code",
   "execution_count": 169,
   "metadata": {},
   "outputs": [
    {
     "name": "stdout",
     "output_type": "stream",
     "text": [
      "2.050583946447207\n"
     ]
    }
   ],
   "source": [
    "print(dis/(wei/1000))\n",
    "# is this 2,4 km per kg?\n"
   ]
  },
  {
   "cell_type": "markdown",
   "metadata": {},
   "source": [
    "### Visualize a route"
   ]
  },
  {
   "cell_type": "code",
   "execution_count": 182,
   "metadata": {},
   "outputs": [
    {
     "data": {
      "text/plain": [
       "lat                    -90.000000\n",
       "long                     0.000000\n",
       "weight                8520.000000\n",
       "sleigh               10000.000000\n",
       "dist_korvatunturi    17596.295914\n",
       "Name: 8826, dtype: float64"
      ]
     },
     "execution_count": 182,
     "metadata": {},
     "output_type": "execute_result"
    }
   ],
   "source": [
    "df.loc[8826]"
   ]
  },
  {
   "cell_type": "code",
   "execution_count": 196,
   "metadata": {},
   "outputs": [
    {
     "data": {
      "text/plain": [
       "[8826,\n",
       " 5049,\n",
       " 3260,\n",
       " 9403,\n",
       " 8224,\n",
       " 7597,\n",
       " 3033,\n",
       " 8526,\n",
       " 4441,\n",
       " 5418,\n",
       " 3899,\n",
       " 6249,\n",
       " 8259,\n",
       " 8828,\n",
       " 8660,\n",
       " 2516]"
      ]
     },
     "execution_count": 196,
     "metadata": {},
     "output_type": "execute_result"
    }
   ],
   "source": [
    "taxis[0]"
   ]
  },
  {
   "cell_type": "code",
   "execution_count": 175,
   "metadata": {},
   "outputs": [
    {
     "data": {
      "text/plain": [
       "3904.2857505922034"
      ]
     },
     "execution_count": 175,
     "metadata": {},
     "output_type": "execute_result"
    }
   ],
   "source": [
    "distance_panda(df.loc[8826], df.loc[5049])"
   ]
  },
  {
   "cell_type": "code",
   "execution_count": 176,
   "metadata": {},
   "outputs": [
    {
     "data": {
      "text/plain": [
       "3972.0615006910975"
      ]
     },
     "execution_count": 176,
     "metadata": {},
     "output_type": "execute_result"
    }
   ],
   "source": [
    "distance_panda(df.loc[8826], df.loc[3260])"
   ]
  },
  {
   "cell_type": "code",
   "execution_count": 223,
   "metadata": {},
   "outputs": [
    {
     "data": {
      "text/plain": [
       "1990.9262580912575"
      ]
     },
     "execution_count": 223,
     "metadata": {},
     "output_type": "execute_result"
    }
   ],
   "source": [
    "distance_panda(df.loc[5049], df.loc[3260])"
   ]
  },
  {
   "cell_type": "code",
   "execution_count": 224,
   "metadata": {},
   "outputs": [
    {
     "data": {
      "text/plain": [
       "3972.6031696981995"
      ]
     },
     "execution_count": 224,
     "metadata": {},
     "output_type": "execute_result"
    }
   ],
   "source": [
    "distance_panda(df.loc[8826], df.loc[9403])"
   ]
  },
  {
   "cell_type": "code",
   "execution_count": 164,
   "metadata": {},
   "outputs": [
    {
     "data": {
      "text/html": [
       "<div>\n",
       "<style scoped>\n",
       "    .dataframe tbody tr th:only-of-type {\n",
       "        vertical-align: middle;\n",
       "    }\n",
       "\n",
       "    .dataframe tbody tr th {\n",
       "        vertical-align: top;\n",
       "    }\n",
       "\n",
       "    .dataframe thead th {\n",
       "        text-align: right;\n",
       "    }\n",
       "</style>\n",
       "<table border=\"1\" class=\"dataframe\">\n",
       "  <thead>\n",
       "    <tr style=\"text-align: right;\">\n",
       "      <th></th>\n",
       "      <th>long</th>\n",
       "      <th>lat</th>\n",
       "    </tr>\n",
       "    <tr>\n",
       "      <th>id</th>\n",
       "      <th></th>\n",
       "      <th></th>\n",
       "    </tr>\n",
       "  </thead>\n",
       "  <tbody>\n",
       "    <tr>\n",
       "      <th>8826</th>\n",
       "      <td>0.000000</td>\n",
       "      <td>-90.000000</td>\n",
       "    </tr>\n",
       "    <tr>\n",
       "      <th>5049</th>\n",
       "      <td>-67.637410</td>\n",
       "      <td>-54.926451</td>\n",
       "    </tr>\n",
       "    <tr>\n",
       "      <th>3260</th>\n",
       "      <td>-36.506344</td>\n",
       "      <td>-54.317598</td>\n",
       "    </tr>\n",
       "    <tr>\n",
       "      <th>9403</th>\n",
       "      <td>-36.513174</td>\n",
       "      <td>-54.312732</td>\n",
       "    </tr>\n",
       "    <tr>\n",
       "      <th>8224</th>\n",
       "      <td>-70.928661</td>\n",
       "      <td>-53.163496</td>\n",
       "    </tr>\n",
       "    <tr>\n",
       "      <th>7597</th>\n",
       "      <td>-70.972913</td>\n",
       "      <td>-53.148835</td>\n",
       "    </tr>\n",
       "    <tr>\n",
       "      <th>3033</th>\n",
       "      <td>-70.941173</td>\n",
       "      <td>-53.128911</td>\n",
       "    </tr>\n",
       "    <tr>\n",
       "      <th>8526</th>\n",
       "      <td>-71.454606</td>\n",
       "      <td>-52.624282</td>\n",
       "    </tr>\n",
       "    <tr>\n",
       "      <th>4441</th>\n",
       "      <td>-72.497241</td>\n",
       "      <td>-51.719119</td>\n",
       "    </tr>\n",
       "    <tr>\n",
       "      <th>5418</th>\n",
       "      <td>-57.839239</td>\n",
       "      <td>-51.718164</td>\n",
       "    </tr>\n",
       "    <tr>\n",
       "      <th>3899</th>\n",
       "      <td>-57.851359</td>\n",
       "      <td>-51.708967</td>\n",
       "    </tr>\n",
       "    <tr>\n",
       "      <th>6249</th>\n",
       "      <td>-72.514337</td>\n",
       "      <td>-51.705300</td>\n",
       "    </tr>\n",
       "    <tr>\n",
       "      <th>8259</th>\n",
       "      <td>-69.226963</td>\n",
       "      <td>-51.626529</td>\n",
       "    </tr>\n",
       "    <tr>\n",
       "      <th>8828</th>\n",
       "      <td>-72.299891</td>\n",
       "      <td>-50.346843</td>\n",
       "    </tr>\n",
       "    <tr>\n",
       "      <th>8660</th>\n",
       "      <td>-72.290394</td>\n",
       "      <td>-50.306322</td>\n",
       "    </tr>\n",
       "    <tr>\n",
       "      <th>2516</th>\n",
       "      <td>-65.907171</td>\n",
       "      <td>-47.760977</td>\n",
       "    </tr>\n",
       "    <tr>\n",
       "      <th>2652</th>\n",
       "      <td>-70.927374</td>\n",
       "      <td>-46.611472</td>\n",
       "    </tr>\n",
       "    <tr>\n",
       "      <th>5369</th>\n",
       "      <td>-70.941438</td>\n",
       "      <td>-46.586179</td>\n",
       "    </tr>\n",
       "    <tr>\n",
       "      <th>3742</th>\n",
       "      <td>168.388101</td>\n",
       "      <td>-46.404829</td>\n",
       "    </tr>\n",
       "    <tr>\n",
       "      <th>7259</th>\n",
       "      <td>170.468748</td>\n",
       "      <td>-45.884629</td>\n",
       "    </tr>\n",
       "  </tbody>\n",
       "</table>\n",
       "</div>"
      ],
      "text/plain": [
       "            long        lat\n",
       "id                         \n",
       "8826    0.000000 -90.000000\n",
       "5049  -67.637410 -54.926451\n",
       "3260  -36.506344 -54.317598\n",
       "9403  -36.513174 -54.312732\n",
       "8224  -70.928661 -53.163496\n",
       "7597  -70.972913 -53.148835\n",
       "3033  -70.941173 -53.128911\n",
       "8526  -71.454606 -52.624282\n",
       "4441  -72.497241 -51.719119\n",
       "5418  -57.839239 -51.718164\n",
       "3899  -57.851359 -51.708967\n",
       "6249  -72.514337 -51.705300\n",
       "8259  -69.226963 -51.626529\n",
       "8828  -72.299891 -50.346843\n",
       "8660  -72.290394 -50.306322\n",
       "2516  -65.907171 -47.760977\n",
       "2652  -70.927374 -46.611472\n",
       "5369  -70.941438 -46.586179\n",
       "3742  168.388101 -46.404829\n",
       "7259  170.468748 -45.884629"
      ]
     },
     "execution_count": 164,
     "metadata": {},
     "output_type": "execute_result"
    }
   ],
   "source": [
    "routex = df[['long','lat']].loc[taxis[0]]\n",
    "routex"
   ]
  },
  {
   "cell_type": "code",
   "execution_count": 217,
   "metadata": {},
   "outputs": [
    {
     "data": {
      "image/png": "[encoded data removed]",
      "text/plain": [
       "<matplotlib.figure.Figure at 0x7fe447815320>"
      ]
     },
     "metadata": {},
     "output_type": "display_data"
    }
   ],
   "source": [
    "# Plot route\n",
    "# this is south tip of South america\n",
    "\n",
    "routex.plot(kind=\"line\", x=\"long\", y=\"lat\", alpha=0.3, figsize=(20,10))\n",
    "# Red X home / Korvatunturi\n",
    "plt.plot(home[0], home[1], 'rX', label='point')\n",
    "plt.show()"
   ]
  },
  {
   "cell_type": "code",
   "execution_count": 216,
   "metadata": {},
   "outputs": [
    {
     "data": {
      "image/png": "[encoded data removed]",
      "text/plain": [
       "<matplotlib.figure.Figure at 0x7fe44771e048>"
      ]
     },
     "metadata": {},
     "output_type": "display_data"
    }
   ],
   "source": [
    "df.plot(kind=\"scatter\", x=\"long\", y=\"lat\", alpha=0.2, figsize=(20,10))\n",
    "# Red X home / Korvatunturi\n",
    "plt.plot(home[0], home[1], 'rX', label='point')\n",
    "plt.show()"
   ]
  },
  {
   "cell_type": "markdown",
   "metadata": {},
   "source": [
    "### Optimize single taxis"
   ]
  },
  {
   "cell_type": "code",
   "execution_count": 159,
   "metadata": {},
   "outputs": [
    {
     "name": "stdout",
     "output_type": "stream",
     "text": [
      "Total distance of all routes\n",
      "10884966.111994263\n"
     ]
    }
   ],
   "source": [
    "print('Total distance of all routes')\n",
    "total_dist = np.sum([taxi_dist(item) for item in taxis])\n",
    "print(total_dist)\n"
   ]
  },
  {
   "cell_type": "code",
   "execution_count": 160,
   "metadata": {},
   "outputs": [
    {
     "data": {
      "text/plain": [
       "46654.228833948626"
      ]
     },
     "execution_count": 160,
     "metadata": {},
     "output_type": "execute_result"
    }
   ],
   "source": [
    "taxi_dist(taxis[0])"
   ]
  },
  {
   "cell_type": "code",
   "execution_count": null,
   "metadata": {},
   "outputs": [],
   "source": [
    "import copy\n",
    "import random\n",
    "route = copy.deepcopy(item)"
   ]
  },
  {
   "cell_type": "code",
   "execution_count": 97,
   "metadata": {},
   "outputs": [
    {
     "name": "stdout",
     "output_type": "stream",
     "text": [
      "[8826, 5049, 3260, 9403, 8224, 7597, 3033, 8526, 4441, 5418, 3899, 6249, 8259, 8828, 8660, 2516, 2652, 5369, 3742, 7259]\n",
      "[8660, 6249, 4441, 7597, 2652, 3899, 8259, 7259, 9403, 5049, 8828, 2516, 3033, 3742, 8826, 5369, 5418, 8526, 3260, 8224]\n"
     ]
    }
   ],
   "source": [
    "print(route)\n",
    "random.shuffle(route)\n",
    "print(route)"
   ]
  },
  {
   "cell_type": "code",
   "execution_count": null,
   "metadata": {},
   "outputs": [],
   "source": [
    "# Random permutation, improves around 5%\n",
    "#\n",
    "# original 46654\n",
    "# New highscore: 43852\n",
    "\n",
    "highscore = taxi_dist(item)\n",
    "print(highscore)\n",
    "\n",
    "saveroute=[]\n",
    "\n",
    "for i in range(1000000):\n",
    "    random.shuffle(route)\n",
    "    newscore = taxi_dist(route)\n",
    "    #print(newscore)\n",
    "    if i % 10000 ==0:\n",
    "        print(i)\n",
    "    if newscore < highscore:\n",
    "        saveroute = route\n",
    "        highscore = newscore\n",
    "        print(f'New highscore: {newscore}')"
   ]
  },
  {
   "cell_type": "code",
   "execution_count": null,
   "metadata": {},
   "outputs": [],
   "source": [
    "# for whole list - SLOW\n",
    "taxis2 = copy.deepcopy(taxis)\n",
    "for j in range(len(taxis2)):\n",
    "    \n",
    "    taxi = taxis2[j]\n",
    "    route = copy.deepcopy(taxi)\n",
    "    \n",
    "    highscore = taxi_dist(taxi)\n",
    "    print(f'Score at start: {highscore}')\n",
    "\n",
    "    saveroute =[]\n",
    "\n",
    "    #1M permutations takes about 1 minute per route, about 500 min. 100k runs in about 50 min.\n",
    "    for i in range(1000000):\n",
    "        random.shuffle(route)\n",
    "        newscore = taxi_dist(route)\n",
    "        #print(newscore)\n",
    "        #if i % 10000 ==0:\n",
    "        #    print(i)\n",
    "        if newscore < highscore:\n",
    "            \n",
    "            taxis2[j] = route\n",
    "            highscore = newscore \n",
    "            print(f'New highscore: {newscore}')\n",
    "    \n",
    "    print(f'Score at end: {highscore}')\n",
    "#if newscore < taxi_dist(taxi)\n",
    "#   taxi = saveroute"
   ]
  },
  {
   "cell_type": "code",
   "execution_count": 91,
   "metadata": {},
   "outputs": [],
   "source": [
    "def optimize_route_greedy(taxi):\n",
    "\n",
    "# Greedy. Add closest spot from home, then always add closest spot from that next one\n",
    "# the final spot is not optimal, as its distance to home is not considered ahead\n",
    "    route = copy.deepcopy(taxi)\n",
    "    highscore = taxi_dist(route)\n",
    "    newroute=[]\n",
    "\n",
    "# spot #1 is home\n",
    "    current = home\n",
    "\n",
    "    while len(route) >0:    \n",
    "        # list of distances to current spot\n",
    "        distances = pd.Series( [distance(current, np.asarray(df.loc[spot][['long', 'lat']])) for spot in route] )\n",
    "        # nearest one\n",
    "        idxmin = distances.idxmin()\n",
    "        spot = route[idxmin]\n",
    "\n",
    "        #add it to newroute\n",
    "        newroute.append(spot)\n",
    "\n",
    "        #remove from list\n",
    "        del route[idxmin]\n",
    "\n",
    "        #set as new current\n",
    "        current = np.asarray(df.loc[spot][['long', 'lat']])\n",
    "    \n",
    "    \n",
    "    # check if changing last 2 would help (distance from last to home is not taken into consideration before)\n",
    "    score1 =  taxi_dist(newroute)\n",
    "    temp = newroute[-1]\n",
    "    temp2 = newroute[-2]\n",
    "    testroute = copy.deepcopy(newroute)\n",
    "    testroute[-2]=temp\n",
    "    testroute[-1]=temp2\n",
    "    score2 =  taxi_dist(testroute)\n",
    "    \n",
    "    if score2 < score1:\n",
    "        #print(f'Changed score is smaller')\n",
    "        newroute = testroute\n",
    "    \n",
    "    return newroute"
   ]
  },
  {
   "cell_type": "code",
   "execution_count": 154,
   "metadata": {},
   "outputs": [
    {
     "name": "stdout",
     "output_type": "stream",
     "text": [
      "46654.228833948626\n",
      "Newroute dist: 39981.0413495176\n"
     ]
    }
   ],
   "source": [
    "# test\n",
    "print(taxi_dist(taxis[0]))\n",
    "newroute = optimize_route_greedy(taxis[0])\n",
    "print(f'Newroute dist: {taxi_dist(newroute)}')      "
   ]
  },
  {
   "cell_type": "code",
   "execution_count": 141,
   "metadata": {},
   "outputs": [],
   "source": [
    "def optimize_route_greedy2(taxi, nperm=2):\n",
    "    ''' try changing nearby spots for whole route \n",
    "                                        '''\n",
    "    import itertools    \n",
    "# Greedy. Add closest spot from home, then always add closest spot from that next one\n",
    "# the final spot is not optimal, as its distance to home is not considered ahead\n",
    "    route = copy.deepcopy(taxi)\n",
    "    highscore = taxi_dist(route)\n",
    "    newroute=[]\n",
    "\n",
    "# spot #1 is home\n",
    "    current = home\n",
    "\n",
    "    while len(route) >0:    \n",
    "        # list of distances to current spot\n",
    "        distances = pd.Series( [distance(current, np.asarray(df.loc[spot][['long', 'lat']])) for spot in route] )\n",
    "        # nearest one\n",
    "        idxmin = distances.idxmin()\n",
    "        spot = route[idxmin]\n",
    "\n",
    "        #add it to newroute\n",
    "        newroute.append(spot)\n",
    "\n",
    "        #remove from list\n",
    "        del route[idxmin]\n",
    "\n",
    "        #set as new current\n",
    "        current = np.asarray(df.loc[spot][['long', 'lat']])\n",
    "    \n",
    "    \n",
    "    # check if changing last 2 would help (distance from last to home is not taken into consideration before)\n",
    "    score1 =  taxi_dist(newroute)\n",
    "    temp = newroute[-1]\n",
    "    temp2 = newroute[-2]\n",
    "    testroute = copy.deepcopy(newroute)\n",
    "    testroute[-2]=temp\n",
    "    testroute[-1]=temp2\n",
    "    score2 =  taxi_dist(testroute)\n",
    "    \n",
    "    if score2 < score1:\n",
    "        #print(f'Changed score is smaller')\n",
    "        newroute = testroute\n",
    "\n",
    "                \n",
    "    #For each n-group of spots in route\n",
    "    n=nperm # n-permutations\n",
    "    \n",
    "    #1) i=0, start+block\n",
    "    if len(newroute)>=nperm:\n",
    "            i=0\n",
    "            #spots = newroute[i:i+n+1]   \n",
    "            spots = newroute[0: nperm+1]\n",
    "            blocks = [list(tup) for tup in itertools.permutations(spots)]\n",
    "         # count distance inside each blocks.       \n",
    "            #distances = [group_dist( block+[newroute[i+n+1]], start=True) for block in blocks]        \n",
    "            distances = [group_dist( block, start=True) for block in blocks]        \n",
    "        \n",
    "            argmin = pd.Series(distances).idxmin()\n",
    "            newroute[i:i+n+1] = blocks[argmin]\n",
    "    \n",
    "    #2) main body\n",
    "    for i in range(2, len(newroute)-n-2): # skip home in start +1 and end with -1 , as home is not movable \n",
    "                                          # expand to 2, since we look 1 back and ahead for distance\n",
    "\n",
    "        spots = newroute[i:i+n+1]\n",
    "        # list with each permutation as list\n",
    "        blocks = [list(tup) for tup in itertools.permutations(spots)]\n",
    "        \n",
    "        #     print(f'Blocks: {blocks}')\n",
    "        # count distance inside each block   \n",
    "        # (spot 1 before this block + this block + spot 1 after this block)\n",
    "        distances = [group_dist( [newroute[i-1]]+block+[newroute[i+n+1]]) for block in blocks]\n",
    "        #     print(f'Distances: {distances}')\n",
    "        argmin = pd.Series(distances).idxmin()\n",
    "        #     print(f'argmin: {argmin}')\n",
    "        #print(blocks[argmin])\n",
    "        newroute[i:i+n+1] = blocks[argmin]\n",
    "        \n",
    "    #3) end of route, add home-location to end of block\n",
    "    if len(newroute)>nperm:    \n",
    "        i = len(newroute)-nperm-1\n",
    "        spots = newroute[i:i+n+1]   \n",
    "        blocks = [list(tup) for tup in itertools.permutations(spots)]\n",
    "        # count distance inside each block      \n",
    "        distances = [group_dist([newroute[i-1]]+block, end=True) for block in blocks]        \n",
    "        \n",
    "        argmin = pd.Series(distances).idxmin()\n",
    "        newroute[i:i+n+1] = blocks[argmin]        \n",
    "    \n",
    "    return newroute"
   ]
  },
  {
   "cell_type": "code",
   "execution_count": 104,
   "metadata": {},
   "outputs": [
    {
     "name": "stdout",
     "output_type": "stream",
     "text": [
      "0\n"
     ]
    }
   ],
   "source": [
    "for i in [0]:\n",
    "    print(i)"
   ]
  },
  {
   "cell_type": "code",
   "execution_count": 119,
   "metadata": {},
   "outputs": [
    {
     "data": {
      "text/plain": [
       "[7389, 2217, 3801]"
      ]
     },
     "execution_count": 119,
     "metadata": {},
     "output_type": "execute_result"
    }
   ],
   "source": [
    "taxis[-1]"
   ]
  },
  {
   "cell_type": "code",
   "execution_count": 117,
   "metadata": {},
   "outputs": [
    {
     "name": "stdout",
     "output_type": "stream",
     "text": [
      "54472.54825421206\n",
      "Newroute dist: 44261.45723490082\n"
     ]
    }
   ],
   "source": [
    "# test\n",
    "print(taxi_dist(taxis[0]))\n",
    "newroute = optimize_route_greedy(taxis[0])\n",
    "print(f'Newroute dist: {taxi_dist(newroute)}') "
   ]
  },
  {
   "cell_type": "code",
   "execution_count": 140,
   "metadata": {},
   "outputs": [
    {
     "name": "stdout",
     "output_type": "stream",
     "text": [
      "562.6731181767295\n",
      "Newroute dist: 562.6731181767295\n"
     ]
    }
   ],
   "source": [
    "# test\n",
    "print(taxi_dist(taxis[-1]))\n",
    "newroute = optimize_route_greedy2(taxis[-1],nperm=2)\n",
    "print(f'Newroute dist: {taxi_dist(newroute)}') \n",
    "\n",
    "#newroute = optimize_route_greedy2(taxis[0],nperm=5)\n",
    "#print(f'Newroute dist: {taxi_dist(newroute)}') \n",
    "\n",
    "#\n",
    "# original, non opt     54472.54825421206\n",
    "# 2-perm Newroute dist: 44259.99859032741\n",
    "# 3-perm same as 2-perm\n",
    "# 4-perm Newroute dist: 44254.41969975126\n",
    "# 5-erm same as 4-perm  44254.41969975126\n",
    "\n",
    "# Start and end added as home\n",
    "# 2-perm with start-end taken too Newroute dist: \n",
    "#                       44259.809585828145\n",
    "\n",
    "# 4-perm Newroute dist: 44254.230695252\n",
    "\n",
    "\n"
   ]
  },
  {
   "cell_type": "code",
   "execution_count": 132,
   "metadata": {},
   "outputs": [
    {
     "data": {
      "text/plain": [
       "[2217, 3801, 7389]"
      ]
     },
     "execution_count": 132,
     "metadata": {},
     "output_type": "execute_result"
    }
   ],
   "source": [
    "newroute"
   ]
  },
  {
   "cell_type": "code",
   "execution_count": 143,
   "metadata": {},
   "outputs": [
    {
     "name": "stdout",
     "output_type": "stream",
     "text": [
      "0\n",
      "10\n",
      "20\n",
      "30\n",
      "40\n",
      "50\n",
      "60\n",
      "70\n",
      "80\n",
      "90\n",
      "100\n",
      "110\n",
      "120\n",
      "130\n",
      "140\n",
      "150\n",
      "160\n",
      "170\n",
      "180\n",
      "190\n",
      "200\n",
      "210\n",
      "220\n",
      "230\n",
      "240\n",
      "250\n",
      "260\n",
      "270\n",
      "280\n",
      "290\n",
      "300\n",
      "310\n",
      "320\n",
      "330\n",
      "340\n",
      "350\n",
      "360\n",
      "370\n",
      "380\n",
      "390\n",
      "400\n",
      "410\n",
      "420\n",
      "430\n",
      "440\n",
      "450\n",
      "460\n",
      "470\n",
      "480\n",
      "490\n",
      "500\n",
      "510\n",
      "520\n",
      "530\n"
     ]
    }
   ],
   "source": [
    "# for whole list - 2\n",
    "taxis2 = copy.deepcopy(taxis)\n",
    "for i in range(len(taxis2)):\n",
    "    if i % 10 ==0: \n",
    "        print(i)\n",
    "    new = optimize_route_greedy2(taxis2[i], nperm=3)\n",
    "    if taxi_dist(new) < taxi_dist(taxis2[i]):\n",
    "        taxis2[i] = new\n"
   ]
  },
  {
   "cell_type": "code",
   "execution_count": 86,
   "metadata": {},
   "outputs": [
    {
     "data": {
      "text/plain": [
       "534"
      ]
     },
     "execution_count": 86,
     "metadata": {},
     "output_type": "execute_result"
    }
   ],
   "source": [
    "len(taxis)"
   ]
  },
  {
   "cell_type": "code",
   "execution_count": 144,
   "metadata": {},
   "outputs": [
    {
     "name": "stdout",
     "output_type": "stream",
     "text": [
      "Total distance of all routes: 7953472.655310535\n"
     ]
    }
   ],
   "source": [
    "# Test\n",
    "total_dist = np.sum([taxi_dist(item) for item in taxis2])\n",
    "print(f'Total distance of all routes: {total_dist}')\n",
    "\n",
    "# route1 knn40 before optimize\n",
    "# Total distance of all routes: 8690193.153362121\n",
    "\n",
    "# route1 after greedy2, n=2\n",
    "# Total distance of all routes: 7965723.961962177  nperm=2\n",
    "\n",
    "# Total distance of all routes: 7961271.114675406  nperm=3\n",
    "\n",
    "# start+end fixed, nperm=3\n",
    "#Total distance of all routes: 7953472.655310535\n"
   ]
  },
  {
   "cell_type": "code",
   "execution_count": 239,
   "metadata": {},
   "outputs": [
    {
     "name": "stdout",
     "output_type": "stream",
     "text": [
      "0\n",
      "50\n",
      "100\n",
      "150\n",
      "200\n",
      "250\n",
      "300\n",
      "350\n",
      "400\n",
      "450\n",
      "500\n"
     ]
    }
   ],
   "source": [
    "# for whole list\n",
    "taxis2 = copy.deepcopy(taxis)\n",
    "for i in range(len(taxis2)):\n",
    "    if i % 50 ==0: \n",
    "        print(i)\n",
    "    new = optimize_route_greedy(taxis2[i])\n",
    "    if taxi_dist(new) < taxi_dist(taxis2[i]):\n",
    "        taxis2[i] = new"
   ]
  },
  {
   "cell_type": "code",
   "execution_count": null,
   "metadata": {},
   "outputs": [],
   "source": [
    "# for whole list - 2\n",
    "taxis2 = copy.deepcopy(taxis)\n",
    "for i in range(len(taxis2)):\n",
    "    if i % 50 ==0: \n",
    "        print(i)\n",
    "    new = optimize_route_greedy2(taxis2[i])\n",
    "    if taxi_dist(new) < taxi_dist(taxis2[i]):\n",
    "        taxis2[i] = new"
   ]
  },
  {
   "cell_type": "code",
   "execution_count": null,
   "metadata": {},
   "outputs": [],
   "source": []
  },
  {
   "cell_type": "code",
   "execution_count": 240,
   "metadata": {},
   "outputs": [
    {
     "name": "stdout",
     "output_type": "stream",
     "text": [
      "Total distance of all routes: 7995498.582337219\n"
     ]
    }
   ],
   "source": [
    "# Route2, knn=40\n",
    "# taxis1, before optimize\n",
    "# 8879727.348415207\n",
    "# After optimizer\n",
    "# 8235209.027967165\n"
   ]
  },
  {
   "cell_type": "code",
   "execution_count": null,
   "metadata": {},
   "outputs": [],
   "source": [
    "# route1, change last2, fixed home-coords, - with knn= 50\n",
    "total_dist = np.sum([taxi_dist(item) for item in taxis2])\n",
    "print(f'Total distance of all routes: {total_dist}')"
   ]
  },
  {
   "cell_type": "code",
   "execution_count": 241,
   "metadata": {},
   "outputs": [
    {
     "name": "stdout",
     "output_type": "stream",
     "text": [
      "Total distance of all routes: 7995498.582337219\n"
     ]
    }
   ],
   "source": [
    "# route1, change last2, fixed home-coords, - with knn=40\n",
    "total_dist = np.sum([taxi_dist(item) for item in taxis2])\n",
    "print(f'Total distance of all routes: {total_dist}')\n",
    "\n",
    "# knn=30 Total distance of all routes: 7987323.022162415\n",
    "# knn=40 Total distance of all routes: 7979064.014302649, 8 km shorter\n",
    "# knn=50 Total distance of all routes: 7995498.582337219 , goes higher again\n",
    "\n"
   ]
  },
  {
   "cell_type": "code",
   "execution_count": 221,
   "metadata": {},
   "outputs": [
    {
     "name": "stdout",
     "output_type": "stream",
     "text": [
      "Total distance of all routes: 7987323.022162415\n"
     ]
    }
   ],
   "source": [
    "# route1, change last2, fixed home-coords, \n",
    "total_dist = np.sum([taxi_dist(item) for item in taxis2])\n",
    "print(f'Total distance of all routes: {total_dist}')\n",
    "\n",
    "# Total distance of all routes: 7987323.022162415\n",
    "# Well done! Your result was    7987323022 meters."
   ]
  },
  {
   "cell_type": "code",
   "execution_count": 223,
   "metadata": {},
   "outputs": [
    {
     "data": {
      "image/png": "[encoded data removed]",
      "text/plain": [
       "<matplotlib.figure.Figure at 0x7fe447ad05c0>"
      ]
     },
     "metadata": {},
     "output_type": "display_data"
    }
   ],
   "source": [
    "# Plot route\n",
    "routex = df[['long','lat']].loc[taxis2[2]]\n",
    "#routex\n",
    "\n",
    "routex.plot(kind=\"line\", x=\"long\", y=\"lat\", alpha=0.6, figsize=(20,10))\n",
    "# Red X home / Korvatunturi\n",
    "plt.plot(home[1], home[0], 'rX', label='point')\n",
    "plt.show()"
   ]
  },
  {
   "cell_type": "code",
   "execution_count": null,
   "metadata": {},
   "outputs": [],
   "source": [
    "# Plot route\n",
    "routex = df[['long','lat']].loc[taxis2[4]]\n",
    "#routex\n",
    "\n",
    "routex.plot(kind=\"line\", x=\"long\", y=\"lat\", alpha=0.6, figsize=(20,10))\n",
    "# Red X home / Korvatunturi\n",
    "plt.plot(home[1], home[0], 'rX', label='point')\n",
    "plt.show()"
   ]
  },
  {
   "cell_type": "code",
   "execution_count": null,
   "metadata": {},
   "outputs": [],
   "source": [
    "# as long as unassigned gifts remain\n",
    "- pick furthest away\n",
    "  as long as space:\n",
    "# find n nearest\n",
    "- if fit, add closest\n",
    "# find nearest for all these\n",
    "- add closest to this group # this is same as growing cluster with unit closest to any old item\n",
    "\n",
    "# keep a alist of unassigned? or use sleigh==-1?\n",
    "# how to keep indexing?\n",
    "\n",
    "\n",
    "# when done, can still arrange each sleighs locations internally to shortest path\n"
   ]
  }
 ],
 "metadata": {
  "kernelspec": {
   "display_name": "Python 3",
   "language": "python",
   "name": "python3"
  },
  "language_info": {
   "codemirror_mode": {
    "name": "ipython",
    "version": 3
   },
   "file_extension": ".py",
   "mimetype": "text/x-python",
   "name": "python",
   "nbconvert_exporter": "python",
   "pygments_lexer": "ipython3",
   "version": "3.6.4"
  }
 },
 "nbformat": 4,
 "nbformat_minor": 2
}
