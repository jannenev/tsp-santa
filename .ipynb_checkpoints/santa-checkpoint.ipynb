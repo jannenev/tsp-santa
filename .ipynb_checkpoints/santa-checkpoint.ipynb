{
 "cells": [
  {
   "cell_type": "code",
   "execution_count": 1,
   "metadata": {},
   "outputs": [],
   "source": [
    "# Santas travel to deliver packets\n",
    "# https://traveling-santa.reaktor.com/?utm_source=facebook&utm_campaign=FI+%7C+Holiday+Code+Puzzle+12%2F2018&utm_medium=paid&hsa_net=facebook&hsa_ad=6111530998674&hsa_src=fb&hsa_ver=3&hsa_grp=6111530993874&hsa_cam=6111530985074&hsa_acc=273790800&fbclid=IwAR2nXLgIqacdbUOM1buVCqznhb8Ab-DAMFIGgSFD7L6lNkleH6tSF1M6z58"
   ]
  },
  {
   "cell_type": "code",
   "execution_count": 1,
   "metadata": {},
   "outputs": [],
   "source": [
    "import pandas as pd\n",
    "import time\n",
    "import matplotlib.pyplot as plt\n",
    "#import numpy\n",
    "\n",
    "import numpy as np\n",
    "from scipy.spatial import KDTree"
   ]
  },
  {
   "cell_type": "code",
   "execution_count": 2,
   "metadata": {},
   "outputs": [],
   "source": [
    "# Since over a sphere geometry is different than on flat surface, use haversine.\n",
    "# https://stackoverflow.com/questions/4913349/haversine-formula-in-python-bearing-and-distance-between-two-gps-points\n",
    "from math import radians, cos, sin, asin, sqrt\n",
    "\n",
    "def haversine(lon1, lat1, lon2, lat2):\n",
    "    \"\"\"\n",
    "    Calculate the great circle distance between two points \n",
    "    on the earth (specified in decimal degrees)\n",
    "    \"\"\"\n",
    "    # convert decimal degrees to radians \n",
    "    lon1, lat1, lon2, lat2 = map(radians, [lon1, lat1, lon2, lat2])\n",
    "\n",
    "    # haversine formula \n",
    "    dlon = lon2 - lon1 \n",
    "    dlat = lat2 - lat1 \n",
    "    a = sin(dlat/2)**2 + cos(lat1) * cos(lat2) * sin(dlon/2)**2\n",
    "    c = 2 * asin(sqrt(a)) \n",
    "    r = 6378 # Radius of earth in kilometers. \n",
    "    return c * r"
   ]
  },
  {
   "cell_type": "code",
   "execution_count": 3,
   "metadata": {},
   "outputs": [
    {
     "data": {
      "text/plain": [
       "6818.460779642609"
      ]
     },
     "execution_count": 3,
     "metadata": {},
     "output_type": "execute_result"
    }
   ],
   "source": [
    "# test\n",
    "haversine(29.315278, 68.073611, -86.762233, 40.733034)"
   ]
  },
  {
   "cell_type": "code",
   "execution_count": 4,
   "metadata": {},
   "outputs": [],
   "source": [
    "# weight is in grams. Sleigh can carry 10000 kgs\n",
    "max_weight = 10000000"
   ]
  },
  {
   "cell_type": "code",
   "execution_count": 5,
   "metadata": {},
   "outputs": [
    {
     "data": {
      "text/plain": [
       "0    68.073611\n",
       "1    29.315278\n",
       "dtype: float64"
      ]
     },
     "execution_count": 5,
     "metadata": {},
     "output_type": "execute_result"
    }
   ],
   "source": [
    "# Korvatunturi = 68.073611N 29.315278E\n",
    "home = pd.Series([68.073611, 29.315278])\n",
    "home2 = pd.Series([[68.073611, 29.315278]])\n",
    "\n",
    "home"
   ]
  },
  {
   "cell_type": "code",
   "execution_count": 6,
   "metadata": {},
   "outputs": [
    {
     "data": {
      "text/html": [
       "<div>\n",
       "<style scoped>\n",
       "    .dataframe tbody tr th:only-of-type {\n",
       "        vertical-align: middle;\n",
       "    }\n",
       "\n",
       "    .dataframe tbody tr th {\n",
       "        vertical-align: top;\n",
       "    }\n",
       "\n",
       "    .dataframe thead th {\n",
       "        text-align: right;\n",
       "    }\n",
       "</style>\n",
       "<table border=\"1\" class=\"dataframe\">\n",
       "  <thead>\n",
       "    <tr style=\"text-align: right;\">\n",
       "      <th></th>\n",
       "      <th>id</th>\n",
       "      <th>lat</th>\n",
       "      <th>long</th>\n",
       "      <th>weight</th>\n",
       "      <th>sleigh</th>\n",
       "    </tr>\n",
       "  </thead>\n",
       "  <tbody>\n",
       "    <tr>\n",
       "      <th>0</th>\n",
       "      <td>2</td>\n",
       "      <td>40.733034</td>\n",
       "      <td>-86.762233</td>\n",
       "      <td>342917</td>\n",
       "      <td>-1</td>\n",
       "    </tr>\n",
       "    <tr>\n",
       "      <th>1</th>\n",
       "      <td>3</td>\n",
       "      <td>43.029635</td>\n",
       "      <td>-91.094895</td>\n",
       "      <td>974703</td>\n",
       "      <td>-1</td>\n",
       "    </tr>\n",
       "    <tr>\n",
       "      <th>2</th>\n",
       "      <td>4</td>\n",
       "      <td>31.180215</td>\n",
       "      <td>16.596037</td>\n",
       "      <td>215099</td>\n",
       "      <td>-1</td>\n",
       "    </tr>\n",
       "  </tbody>\n",
       "</table>\n",
       "</div>"
      ],
      "text/plain": [
       "   id        lat       long  weight  sleigh\n",
       "0   2  40.733034 -86.762233  342917      -1\n",
       "1   3  43.029635 -91.094895  974703      -1\n",
       "2   4  31.180215  16.596037  215099      -1"
      ]
     },
     "execution_count": 6,
     "metadata": {},
     "output_type": "execute_result"
    }
   ],
   "source": [
    "colnames = ['id', 'lat', 'long', 'weight']\n",
    "df = pd.read_csv('nicelist.txt', header=None, delimiter=';', names=colnames)\n",
    "df['sleigh']=-1\n",
    "df.head(3)"
   ]
  },
  {
   "cell_type": "code",
   "execution_count": 7,
   "metadata": {},
   "outputs": [
    {
     "data": {
      "text/plain": [
       "365.4292324325635"
      ]
     },
     "execution_count": 7,
     "metadata": {},
     "output_type": "execute_result"
    }
   ],
   "source": [
    "# test\n",
    "haversine(df.iloc[0]['long'], df.iloc[0]['lat'], df.iloc[1]['long'], df.iloc[0]['lat'])"
   ]
  },
  {
   "cell_type": "code",
   "execution_count": 8,
   "metadata": {},
   "outputs": [
    {
     "data": {
      "text/html": [
       "<div>\n",
       "<style scoped>\n",
       "    .dataframe tbody tr th:only-of-type {\n",
       "        vertical-align: middle;\n",
       "    }\n",
       "\n",
       "    .dataframe tbody tr th {\n",
       "        vertical-align: top;\n",
       "    }\n",
       "\n",
       "    .dataframe thead th {\n",
       "        text-align: right;\n",
       "    }\n",
       "</style>\n",
       "<table border=\"1\" class=\"dataframe\">\n",
       "  <thead>\n",
       "    <tr style=\"text-align: right;\">\n",
       "      <th></th>\n",
       "      <th>id</th>\n",
       "      <th>lat</th>\n",
       "      <th>long</th>\n",
       "      <th>weight</th>\n",
       "      <th>sleigh</th>\n",
       "      <th>dist_korvatunturi</th>\n",
       "    </tr>\n",
       "  </thead>\n",
       "  <tbody>\n",
       "    <tr>\n",
       "      <th>0</th>\n",
       "      <td>2</td>\n",
       "      <td>40.733034</td>\n",
       "      <td>-86.762233</td>\n",
       "      <td>342917</td>\n",
       "      <td>-1</td>\n",
       "      <td>6818.460780</td>\n",
       "    </tr>\n",
       "    <tr>\n",
       "      <th>1</th>\n",
       "      <td>3</td>\n",
       "      <td>43.029635</td>\n",
       "      <td>-91.094895</td>\n",
       "      <td>974703</td>\n",
       "      <td>-1</td>\n",
       "      <td>6716.931863</td>\n",
       "    </tr>\n",
       "    <tr>\n",
       "      <th>2</th>\n",
       "      <td>4</td>\n",
       "      <td>31.180215</td>\n",
       "      <td>16.596037</td>\n",
       "      <td>215099</td>\n",
       "      <td>-1</td>\n",
       "      <td>4189.445884</td>\n",
       "    </tr>\n",
       "  </tbody>\n",
       "</table>\n",
       "</div>"
      ],
      "text/plain": [
       "   id        lat       long  weight  sleigh  dist_korvatunturi\n",
       "0   2  40.733034 -86.762233  342917      -1        6818.460780\n",
       "1   3  43.029635 -91.094895  974703      -1        6716.931863\n",
       "2   4  31.180215  16.596037  215099      -1        4189.445884"
      ]
     },
     "execution_count": 8,
     "metadata": {},
     "output_type": "execute_result"
    }
   ],
   "source": [
    "# Add distance from Korvatunturi\n",
    "df['dist_korvatunturi'] = df.apply(lambda row: haversine(29.315278, 68.073611,row['long'], row['lat']), axis=1)\n",
    "df.head(3)"
   ]
  },
  {
   "cell_type": "code",
   "execution_count": 10,
   "metadata": {},
   "outputs": [
    {
     "data": {
      "image/png": "[encoded data removed]",
      "text/plain": [
       "<matplotlib.figure.Figure at 0x7f05cad60d30>"
      ]
     },
     "metadata": {},
     "output_type": "display_data"
    }
   ],
   "source": [
    "import matplotlib.pyplot as plt\n",
    "df.plot(kind=\"scatter\", x=\"long\", y=\"lat\", alpha=0.2, figsize=(20,10))\n",
    "# Red X home / Korvatunturi\n",
    "plt.plot(home[1], home[0], 'rX', label='point')\n",
    "plt.show()"
   ]
  },
  {
   "cell_type": "code",
   "execution_count": 12,
   "metadata": {},
   "outputs": [
    {
     "data": {
      "text/html": [
       "<div>\n",
       "<style scoped>\n",
       "    .dataframe tbody tr th:only-of-type {\n",
       "        vertical-align: middle;\n",
       "    }\n",
       "\n",
       "    .dataframe tbody tr th {\n",
       "        vertical-align: top;\n",
       "    }\n",
       "\n",
       "    .dataframe thead th {\n",
       "        text-align: right;\n",
       "    }\n",
       "</style>\n",
       "<table border=\"1\" class=\"dataframe\">\n",
       "  <thead>\n",
       "    <tr style=\"text-align: right;\">\n",
       "      <th></th>\n",
       "      <th>id</th>\n",
       "      <th>lat</th>\n",
       "      <th>long</th>\n",
       "      <th>weight</th>\n",
       "      <th>sleigh</th>\n",
       "      <th>dist_korvatunturi</th>\n",
       "    </tr>\n",
       "  </thead>\n",
       "  <tbody>\n",
       "    <tr>\n",
       "      <th>count</th>\n",
       "      <td>10000.00000</td>\n",
       "      <td>10000.000000</td>\n",
       "      <td>10000.000000</td>\n",
       "      <td>1.000000e+04</td>\n",
       "      <td>10000.0</td>\n",
       "      <td>10000.000000</td>\n",
       "    </tr>\n",
       "    <tr>\n",
       "      <th>mean</th>\n",
       "      <td>5001.50000</td>\n",
       "      <td>27.720125</td>\n",
       "      <td>-17.268937</td>\n",
       "      <td>5.308228e+05</td>\n",
       "      <td>-1.0</td>\n",
       "      <td>6784.421729</td>\n",
       "    </tr>\n",
       "    <tr>\n",
       "      <th>std</th>\n",
       "      <td>2886.89568</td>\n",
       "      <td>24.241659</td>\n",
       "      <td>78.886361</td>\n",
       "      <td>4.291983e+05</td>\n",
       "      <td>0.0</td>\n",
       "      <td>2977.048874</td>\n",
       "    </tr>\n",
       "    <tr>\n",
       "      <th>min</th>\n",
       "      <td>2.00000</td>\n",
       "      <td>-90.000000</td>\n",
       "      <td>-179.593071</td>\n",
       "      <td>5.000000e+00</td>\n",
       "      <td>-1.0</td>\n",
       "      <td>133.077700</td>\n",
       "    </tr>\n",
       "    <tr>\n",
       "      <th>25%</th>\n",
       "      <td>2501.75000</td>\n",
       "      <td>14.431097</td>\n",
       "      <td>-85.826239</td>\n",
       "      <td>2.514975e+05</td>\n",
       "      <td>-1.0</td>\n",
       "      <td>5043.700586</td>\n",
       "    </tr>\n",
       "    <tr>\n",
       "      <th>50%</th>\n",
       "      <td>5001.50000</td>\n",
       "      <td>36.169634</td>\n",
       "      <td>-40.346728</td>\n",
       "      <td>5.027195e+05</td>\n",
       "      <td>-1.0</td>\n",
       "      <td>6891.140591</td>\n",
       "    </tr>\n",
       "    <tr>\n",
       "      <th>75%</th>\n",
       "      <td>7501.25000</td>\n",
       "      <td>42.718775</td>\n",
       "      <td>34.304132</td>\n",
       "      <td>7.563300e+05</td>\n",
       "      <td>-1.0</td>\n",
       "      <td>8099.031980</td>\n",
       "    </tr>\n",
       "    <tr>\n",
       "      <th>max</th>\n",
       "      <td>10001.00000</td>\n",
       "      <td>90.000000</td>\n",
       "      <td>179.385081</td>\n",
       "      <td>9.158430e+06</td>\n",
       "      <td>-1.0</td>\n",
       "      <td>17596.295914</td>\n",
       "    </tr>\n",
       "  </tbody>\n",
       "</table>\n",
       "</div>"
      ],
      "text/plain": [
       "                id           lat          long        weight   sleigh  \\\n",
       "count  10000.00000  10000.000000  10000.000000  1.000000e+04  10000.0   \n",
       "mean    5001.50000     27.720125    -17.268937  5.308228e+05     -1.0   \n",
       "std     2886.89568     24.241659     78.886361  4.291983e+05      0.0   \n",
       "min        2.00000    -90.000000   -179.593071  5.000000e+00     -1.0   \n",
       "25%     2501.75000     14.431097    -85.826239  2.514975e+05     -1.0   \n",
       "50%     5001.50000     36.169634    -40.346728  5.027195e+05     -1.0   \n",
       "75%     7501.25000     42.718775     34.304132  7.563300e+05     -1.0   \n",
       "max    10001.00000     90.000000    179.385081  9.158430e+06     -1.0   \n",
       "\n",
       "       dist_korvatunturi  \n",
       "count       10000.000000  \n",
       "mean         6784.421729  \n",
       "std          2977.048874  \n",
       "min           133.077700  \n",
       "25%          5043.700586  \n",
       "50%          6891.140591  \n",
       "75%          8099.031980  \n",
       "max         17596.295914  "
      ]
     },
     "execution_count": 12,
     "metadata": {},
     "output_type": "execute_result"
    }
   ],
   "source": [
    "# Avg weight\n",
    "df.describe()"
   ]
  },
  {
   "cell_type": "code",
   "execution_count": 13,
   "metadata": {},
   "outputs": [
    {
     "data": {
      "text/html": [
       "<div>\n",
       "<style scoped>\n",
       "    .dataframe tbody tr th:only-of-type {\n",
       "        vertical-align: middle;\n",
       "    }\n",
       "\n",
       "    .dataframe tbody tr th {\n",
       "        vertical-align: top;\n",
       "    }\n",
       "\n",
       "    .dataframe thead th {\n",
       "        text-align: right;\n",
       "    }\n",
       "</style>\n",
       "<table border=\"1\" class=\"dataframe\">\n",
       "  <thead>\n",
       "    <tr style=\"text-align: right;\">\n",
       "      <th></th>\n",
       "      <th>id</th>\n",
       "      <th>lat</th>\n",
       "      <th>long</th>\n",
       "      <th>weight</th>\n",
       "      <th>sleigh</th>\n",
       "      <th>dist_korvatunturi</th>\n",
       "    </tr>\n",
       "  </thead>\n",
       "  <tbody>\n",
       "    <tr>\n",
       "      <th>2296</th>\n",
       "      <td>2298</td>\n",
       "      <td>2.106498</td>\n",
       "      <td>31.400424</td>\n",
       "      <td>9158430</td>\n",
       "      <td>-1</td>\n",
       "      <td>7344.993084</td>\n",
       "    </tr>\n",
       "  </tbody>\n",
       "</table>\n",
       "</div>"
      ],
      "text/plain": [
       "        id       lat       long   weight  sleigh  dist_korvatunturi\n",
       "2296  2298  2.106498  31.400424  9158430      -1        7344.993084"
      ]
     },
     "execution_count": 13,
     "metadata": {},
     "output_type": "execute_result"
    }
   ],
   "source": [
    "# gifts that cant fit 2 per sleigh - only 1 such\n",
    "df[df['weight']>5000000]"
   ]
  },
  {
   "cell_type": "code",
   "execution_count": 14,
   "metadata": {},
   "outputs": [
    {
     "data": {
      "text/plain": [
       "135688434.588227"
      ]
     },
     "execution_count": 14,
     "metadata": {},
     "output_type": "execute_result"
    }
   ],
   "source": [
    "# HIGHER LIMIT 1\n",
    "# define a higher limit - 136 Million km\n",
    "# each gift taken with separate sleigh\n",
    "df['dist_korvatunturi'].sum()*2"
   ]
  },
  {
   "cell_type": "code",
   "execution_count": null,
   "metadata": {},
   "outputs": [],
   "source": []
  },
  {
   "cell_type": "code",
   "execution_count": 28,
   "metadata": {},
   "outputs": [],
   "source": [
    "# Algorithm 1\n",
    "# Find a gift furthest from home\n",
    "# For it, find n nearest neighbors (or all within certain radius)\n",
    "# considering their weights, try to fill sleight close to full\n",
    "#  - define some kind of formula to weight distance and weight vs each other\n",
    "# repeat\n",
    "\n"
   ]
  },
  {
   "cell_type": "code",
   "execution_count": 31,
   "metadata": {},
   "outputs": [
    {
     "ename": "IndentationError",
     "evalue": "unexpected indent (<ipython-input-31-a06bc08bdc10>, line 3)",
     "output_type": "error",
     "traceback": [
      "\u001b[0;36m  File \u001b[0;32m\"<ipython-input-31-a06bc08bdc10>\"\u001b[0;36m, line \u001b[0;32m3\u001b[0m\n\u001b[0;31m    get_ipython().set_next_input('  - compare dist to home');get_ipython().run_line_magic('pinfo', 'home')\u001b[0m\n\u001b[0m    ^\u001b[0m\n\u001b[0;31mIndentationError\u001b[0m\u001b[0;31m:\u001b[0m unexpected indent\n"
     ]
    }
   ],
   "source": [
    "# Finding nearest\n",
    "# 1 approximate which might be close to location x\n",
    "  - compare dist to home?\n",
    "  - compare lat/long\n",
    "  - add found to list while increasing search area as long as found at least n\n",
    "\n",
    "# 2 within those, use more accurate but more expensive way\n"
   ]
  },
  {
   "cell_type": "code",
   "execution_count": 15,
   "metadata": {},
   "outputs": [
    {
     "name": "stdout",
     "output_type": "stream",
     "text": [
      "6.857689619064331\n"
     ]
    }
   ],
   "source": [
    "start = time.time()\n",
    "for i in range(len(df)):\n",
    "    haversine(df.iloc[0]['long'], df.iloc[0]['lat'], df.iloc[i]['long'], df.iloc[i]['lat'])\n",
    "end = time.time()\n",
    "print(end-start)"
   ]
  },
  {
   "cell_type": "code",
   "execution_count": 35,
   "metadata": {},
   "outputs": [],
   "source": [
    "# scipy kdtree\n",
    "# https://www.programcreek.com/python/example/57350/scipy.spatial.KDTree\n",
    "# http://code.activestate.com/recipes/578434-a-simple-kd-tree-example-with-custom-euclidean-dis/"
   ]
  },
  {
   "cell_type": "markdown",
   "metadata": {},
   "source": [
    "import numpy as np\n",
    "from scipy.spatial import KDTree"
   ]
  },
  {
   "cell_type": "code",
   "execution_count": 15,
   "metadata": {},
   "outputs": [
    {
     "data": {
      "text/plain": [
       "array([[0, 2],\n",
       "       [0, 3],\n",
       "       [0, 4],\n",
       "       [0, 5],\n",
       "       [0, 6],\n",
       "       [0, 7],\n",
       "       [1, 2],\n",
       "       [1, 3],\n",
       "       [1, 4],\n",
       "       [1, 5],\n",
       "       [1, 6],\n",
       "       [1, 7],\n",
       "       [2, 2],\n",
       "       [2, 3],\n",
       "       [2, 4],\n",
       "       [2, 5],\n",
       "       [2, 6],\n",
       "       [2, 7],\n",
       "       [3, 2],\n",
       "       [3, 3],\n",
       "       [3, 4],\n",
       "       [3, 5],\n",
       "       [3, 6],\n",
       "       [3, 7],\n",
       "       [4, 2],\n",
       "       [4, 3],\n",
       "       [4, 4],\n",
       "       [4, 5],\n",
       "       [4, 6],\n",
       "       [4, 7]])"
      ]
     },
     "execution_count": 15,
     "metadata": {},
     "output_type": "execute_result"
    }
   ],
   "source": [
    "# http://library.isr.ist.utl.pt/docs/scipy/spatial.html\n",
    "x, y = np.mgrid[0:5, 2:8]\n",
    "tree = KDTree(list(zip(x.ravel(), y.ravel())))\n",
    "tree.data"
   ]
  },
  {
   "cell_type": "code",
   "execution_count": 16,
   "metadata": {},
   "outputs": [],
   "source": [
    "# https://scipy-cookbook.readthedocs.io/items/KDTree_example.html\n",
    "#!python numbers=disable\n",
    "\n",
    "# Copyleft 2008 Sturla Molden\n",
    "# University of Oslo\n",
    "\n",
    "#import psyco\n",
    "#psyco.full()\n",
    "\n",
    "import numpy\n",
    "\n",
    "def kdtree( data, leafsize=10 ):\n",
    "    \"\"\"\n",
    "    build a kd-tree for O(n log n) nearest neighbour search\n",
    "\n",
    "    input:\n",
    "        data:       2D ndarray, shape =(ndim,ndata), preferentially C order\n",
    "        leafsize:   max. number of data points to leave in a leaf\n",
    "\n",
    "    output:\n",
    "        kd-tree:    list of tuples\n",
    "    \"\"\"\n",
    "\n",
    "    ndim = data.shape[0]\n",
    "    ndata = data.shape[1]\n",
    "\n",
    "    # find bounding hyper-rectangle\n",
    "    hrect = numpy.zeros((2,data.shape[0]))\n",
    "    hrect[0,:] = data.min(axis=1)\n",
    "    hrect[1,:] = data.max(axis=1)\n",
    "\n",
    "    # create root of kd-tree\n",
    "    idx = numpy.argsort(data[0,:], kind='mergesort')\n",
    "    data[:,:] = data[:,idx]\n",
    "    splitval = data[0,ndata//2]\n",
    "\n",
    "    left_hrect = hrect.copy()\n",
    "    right_hrect = hrect.copy()\n",
    "    left_hrect[1, 0] = splitval\n",
    "    right_hrect[0, 0] = splitval\n",
    "\n",
    "    tree = [(None, None, left_hrect, right_hrect, None, None)]\n",
    "\n",
    "    stack = [(data[:,:ndata//2], idx[:ndata//2], 1, 0, True),\n",
    "             (data[:,ndata//2:], idx[ndata//2:], 1, 0, False)]\n",
    "\n",
    "    # recursively split data in halves using hyper-rectangles:\n",
    "    while stack:\n",
    "\n",
    "        # pop data off stack\n",
    "        data, didx, depth, parent, leftbranch = stack.pop()\n",
    "        ndata = data.shape[1]\n",
    "        nodeptr = len(tree)\n",
    "\n",
    "        # update parent node\n",
    "\n",
    "        _didx, _data, _left_hrect, _right_hrect, left, right = tree[parent]\n",
    "\n",
    "        tree[parent] = (_didx, _data, _left_hrect, _right_hrect, nodeptr, right) if leftbranch \\\n",
    "            else (_didx, _data, _left_hrect, _right_hrect, left, nodeptr)\n",
    "\n",
    "        # insert node in kd-tree\n",
    "\n",
    "        # leaf node?\n",
    "        if ndata <= leafsize:\n",
    "            _didx = didx.copy()\n",
    "            _data = data.copy()\n",
    "            leaf = (_didx, _data, None, None, 0, 0)\n",
    "            tree.append(leaf)\n",
    "\n",
    "        # not a leaf, split the data in two      \n",
    "        else:\n",
    "            splitdim = depth % ndim\n",
    "            idx = numpy.argsort(data[splitdim,:], kind='mergesort')\n",
    "            data[:,:] = data[:,idx]\n",
    "            didx = didx[idx]\n",
    "            nodeptr = len(tree)\n",
    "            stack.append((data[:,:ndata//2], didx[:ndata//2], depth+1, nodeptr, True))\n",
    "            stack.append((data[:,ndata//2:], didx[ndata//2:], depth+1, nodeptr, False))\n",
    "            splitval = data[splitdim,ndata//2]\n",
    "            if leftbranch:\n",
    "                left_hrect = _left_hrect.copy()\n",
    "                right_hrect = _left_hrect.copy()\n",
    "            else:\n",
    "                left_hrect = _right_hrect.copy()\n",
    "                right_hrect = _right_hrect.copy()\n",
    "            left_hrect[1, splitdim] = splitval\n",
    "            right_hrect[0, splitdim] = splitval\n",
    "            # append node to tree\n",
    "            tree.append((None, None, left_hrect, right_hrect, None, None))\n",
    "\n",
    "    return tree"
   ]
  },
  {
   "cell_type": "code",
   "execution_count": 17,
   "metadata": {},
   "outputs": [],
   "source": [
    "#!python numbers=disable\n",
    "\n",
    "\n",
    "def intersect(hrect, r2, centroid):\n",
    "    \"\"\"\n",
    "    checks if the hyperrectangle hrect intersects with the\n",
    "    hypersphere defined by centroid and r2\n",
    "    \"\"\"\n",
    "    maxval = hrect[1,:]\n",
    "    minval = hrect[0,:]\n",
    "    p = centroid.copy()\n",
    "    idx = p < minval\n",
    "    p[idx] = minval[idx]\n",
    "    idx = p > maxval\n",
    "    p[idx] = maxval[idx]\n",
    "    return ((p-centroid)**2).sum() < r2\n",
    "\n",
    "\n",
    "def quadratic_knn_search(data, lidx, ldata, K):\n",
    "    \"\"\" find K nearest neighbours of data among ldata \"\"\"\n",
    "    ndata = ldata.shape[1]\n",
    "    param = ldata.shape[0]\n",
    "    K = K if K < ndata else ndata\n",
    "    retval = []\n",
    "    sqd = ((ldata - data[:,:ndata])**2).sum(axis=0) # data.reshape((param,1)).repeat(ndata, axis=1);\n",
    "    idx = numpy.argsort(sqd, kind='mergesort')\n",
    "    idx = idx[:K]\n",
    "    return list(zip(sqd[idx], lidx[idx]))\n",
    "\n",
    "\n",
    "def search_kdtree(tree, datapoint, K):\n",
    "    \"\"\" find the k nearest neighbours of datapoint in a kdtree \"\"\"\n",
    "    stack = [tree[0]]\n",
    "    knn = [(numpy.inf, None)]*K\n",
    "    _datapt = datapoint[:,0]\n",
    "    while stack:\n",
    "\n",
    "        leaf_idx, leaf_data, left_hrect, \\\n",
    "                  right_hrect, left, right = stack.pop()\n",
    "\n",
    "        # leaf\n",
    "        if leaf_idx is not None:\n",
    "            _knn = quadratic_knn_search(datapoint, leaf_idx, leaf_data, K)\n",
    "            if _knn[0][0] < knn[-1][0]:\n",
    "                knn = sorted(knn + _knn)[:K]\n",
    "\n",
    "        # not a leaf\n",
    "        else:\n",
    "\n",
    "            # check left branch\n",
    "            if intersect(left_hrect, knn[-1][0], _datapt):\n",
    "                stack.append(tree[left])\n",
    "\n",
    "            # chech right branch\n",
    "            if intersect(right_hrect, knn[-1][0], _datapt):\n",
    "                stack.append(tree[right])\n",
    "    return knn\n",
    "\n",
    "\n",
    "def knn_search( data, K, leafsize=2048 ):\n",
    "\n",
    "    \"\"\" find the K nearest neighbours for data points in data,\n",
    "        using an O(n log n) kd-tree \"\"\"\n",
    "\n",
    "    ndata = data.shape[1]\n",
    "    param = data.shape[0]\n",
    "\n",
    "    # build kdtree\n",
    "    tree = kdtree(data.copy(), leafsize=leafsize)\n",
    "\n",
    "    # search kdtree\n",
    "    knn = []\n",
    "    for i in numpy.arange(ndata):\n",
    "        _data = data[:,i].reshape((param,1)).repeat(leafsize, axis=1);\n",
    "        _knn = search_kdtree(tree, _data, K+1)\n",
    "        knn.append(_knn[1:])\n",
    "\n",
    "    return knn\n",
    "\n",
    "\n",
    "def radius_search(tree, datapoint, radius):\n",
    "    \"\"\" find all points within radius of datapoint \"\"\"\n",
    "    stack = [tree[0]]\n",
    "    inside = []\n",
    "    while stack:\n",
    "\n",
    "        leaf_idx, leaf_data, left_hrect, \\\n",
    "                  right_hrect, left, right = stack.pop()\n",
    "\n",
    "        # leaf\n",
    "        if leaf_idx is not None:\n",
    "            param=leaf_data.shape[0]\n",
    "            distance = numpy.sqrt(((leaf_data - datapoint.reshape((param,1)))**2).sum(axis=0))\n",
    "            near = numpy.where(distance<=radius)\n",
    "            if len(near[0]):\n",
    "                idx = leaf_idx[near]\n",
    "                distance = distance[near]\n",
    "                inside += (zip(distance, idx))\n",
    "\n",
    "        else:\n",
    "\n",
    "            if intersect(left_hrect, radius, datapoint):\n",
    "                stack.append(tree[left])\n",
    "\n",
    "            if intersect(right_hrect, radius, datapoint):\n",
    "                stack.append(tree[right])\n",
    "\n",
    "    return inside"
   ]
  },
  {
   "cell_type": "code",
   "execution_count": 18,
   "metadata": {},
   "outputs": [],
   "source": [
    "#!python numbers=disable\n",
    "\n",
    "try:\n",
    "    import multiprocessing as processing\n",
    "except:\n",
    "    import processing\n",
    "\n",
    "import ctypes, os\n",
    "\n",
    "def __num_processors():\n",
    "    if os.name == 'nt': # Windows\n",
    "        return int(os.getenv('NUMBER_OF_PROCESSORS'))\n",
    "    else: # glibc (Linux, *BSD, Apple)\n",
    "        get_nprocs = ctypes.cdll.libc.get_nprocs\n",
    "        get_nprocs.restype = ctypes.c_int\n",
    "        get_nprocs.argtypes = []\n",
    "        return get_nprocs()\n",
    "\n",
    "\n",
    "def __search_kdtree(tree, data, K, leafsize):\n",
    "    knn = []\n",
    "    param = data.shape[0]\n",
    "    ndata = data.shape[1]\n",
    "    for i in numpy.arange(ndata):\n",
    "        _data = data[:,i].reshape((param,1)).repeat(leafsize, axis=1);\n",
    "        _knn = search_kdtree(tree, _data, K+1)\n",
    "        knn.append(_knn[1:])\n",
    "    return knn\n",
    "\n",
    "def __remote_process(rank, qin, qout, tree, K, leafsize):\n",
    "    while 1:\n",
    "        # read input queue (block until data arrives)\n",
    "        nc, data = qin.get()\n",
    "        # process data\n",
    "        knn = __search_kdtree(tree, data, K, leafsize)\n",
    "        # write to output queue\n",
    "        qout.put((nc,knn))\n",
    "\n",
    "def knn_search_parallel(data, K, leafsize=2048):\n",
    "\n",
    "    \"\"\" find the K nearest neighbours for data points in data,\n",
    "        using an O(n log n) kd-tree, exploiting all logical\n",
    "        processors on the computer \"\"\"\n",
    "\n",
    "    ndata = data.shape[1]\n",
    "    param = data.shape[0]\n",
    "    nproc = __num_processors()\n",
    "    # build kdtree\n",
    "    tree = kdtree(data.copy(), leafsize=leafsize)\n",
    "    # compute chunk size\n",
    "    chunk_size = data.shape[1] / (4*nproc)\n",
    "    chunk_size = 100 if chunk_size < 100 else chunk_size\n",
    "    # set up a pool of processes\n",
    "    qin = processing.Queue(maxsize=ndata/chunk_size)\n",
    "    qout = processing.Queue(maxsize=ndata/chunk_size)\n",
    "    pool = [processing.Process(target=__remote_process,\n",
    "                args=(rank, qin, qout, tree, K, leafsize))\n",
    "                    for rank in range(nproc)]\n",
    "    for p in pool: p.start()\n",
    "    # put data chunks in input queue\n",
    "    cur, nc = 0, 0\n",
    "    while 1:\n",
    "        _data = data[:,cur:cur+chunk_size]\n",
    "        if _data.shape[1] == 0: break\n",
    "        qin.put((nc,_data))\n",
    "        cur += chunk_size\n",
    "        nc += 1\n",
    "    # read output queue\n",
    "    knn = []\n",
    "    while len(knn) < nc:\n",
    "        knn += [qout.get()]\n",
    "    # avoid race condition\n",
    "    _knn = [n for i,n in sorted(knn)]\n",
    "    knn = []\n",
    "    for tmp in _knn:\n",
    "        knn += tmp\n",
    "    # terminate workers\n",
    "    for p in pool: p.terminate()\n",
    "    return knn"
   ]
  },
  {
   "cell_type": "code",
   "execution_count": 19,
   "metadata": {},
   "outputs": [
    {
     "name": "stdout",
     "output_type": "stream",
     "text": [
      "Elapsed time %.2f seconds\n",
      "12.160696\n"
     ]
    }
   ],
   "source": [
    "#!python numbers=disable\n",
    "from time import clock\n",
    "\n",
    "def test():\n",
    "    K = 11\n",
    "    ndata = 10000\n",
    "    ndim = 12\n",
    "    data =  10 * numpy.random.rand(ndata*ndim).reshape((ndim,ndata) )\n",
    "    knn = knn_search(data, K)\n",
    "\n",
    "if __name__ == '__main__':\n",
    "    t0 = clock()\n",
    "    test()\n",
    "    t1 = clock()\n",
    "    print(\"Elapsed time %.2f seconds\") ; print(t1-t0)\n",
    "\n",
    "    #import profile          # using Python's profiler is not useful if you are\n",
    "    #profile.run('test()')   # running the parallel search."
   ]
  },
  {
   "cell_type": "code",
   "execution_count": 20,
   "metadata": {},
   "outputs": [
    {
     "name": "stdout",
     "output_type": "stream",
     "text": [
      "Elapsed time %.2f seconds\n",
      "-0.007687999999999917\n"
     ]
    }
   ],
   "source": [
    "### Test example\n",
    "K = 11\n",
    "ndata = 100\n",
    "ndim = 2\n",
    "data =  10 * numpy.random.rand(ndata*ndim).reshape((ndim,ndata) )\n",
    "    \n",
    "t0 = clock()\n",
    "print(\"Elapsed time %.2f seconds\") ; print(t1-t0)\n",
    "t1 = clock()\n",
    "knn = knn_search(data, K)\n"
   ]
  },
  {
   "cell_type": "code",
   "execution_count": 21,
   "metadata": {},
   "outputs": [
    {
     "data": {
      "text/plain": [
       "100"
      ]
     },
     "execution_count": 21,
     "metadata": {},
     "output_type": "execute_result"
    }
   ],
   "source": [
    "len(knn)"
   ]
  },
  {
   "cell_type": "code",
   "execution_count": null,
   "metadata": {},
   "outputs": [],
   "source": [
    "# libc error for parallel version\n",
    "# knn = knn_search_parallel(data, K)"
   ]
  },
  {
   "cell_type": "code",
   "execution_count": 22,
   "metadata": {},
   "outputs": [
    {
     "name": "stdout",
     "output_type": "stream",
     "text": [
      "(10000, 2)\n",
      "(2, 10000)\n",
      "5.329623\n"
     ]
    }
   ],
   "source": [
    "### Test with real data\n",
    "treedata = df[['long', 'lat']]\n",
    "treedat = np.asarray(treedata)\n",
    "print(treedat.shape)\n",
    "\n",
    "#ndata = 10000\n",
    "ndata = len(treedat)\n",
    "ndim = 2\n",
    "\n",
    "data = treedat.reshape(ndim,ndata)\n",
    "print(data.shape)\n",
    "\n",
    "K = 10\n",
    "#data =  10 * numpy.random.rand(ndata*ndim).reshape((ndim,ndata) )\n",
    "t0 = clock()\n",
    "knn = knn_search(data, K)\n",
    "t1 = clock()\n",
    "print(t1-t0)"
   ]
  },
  {
   "cell_type": "code",
   "execution_count": null,
   "metadata": {},
   "outputs": [],
   "source": [
    "knn"
   ]
  },
  {
   "cell_type": "markdown",
   "metadata": {},
   "source": [
    "### Main run"
   ]
  },
  {
   "cell_type": "code",
   "execution_count": 30,
   "metadata": {},
   "outputs": [
    {
     "name": "stdout",
     "output_type": "stream",
     "text": [
      "   id       long        lat  weight\n",
      "0   2 -86.762233  40.733034  342917\n",
      "1   3 -91.094895  43.029635  974703\n",
      "2   4  16.596037  31.180215  215099\n",
      "------\n",
      "[[-86.762233  40.733034]\n",
      " [-91.094895  43.029635]\n",
      " [ 16.596037  31.180215]]\n"
     ]
    }
   ],
   "source": [
    "# each gifts initialized free, ie no sleigh\n",
    "df['sleigh']= -1\n",
    "# Np array of free sleighs coordinates\n",
    "free= df[df['sleigh']==-1]\n",
    "freeones = free[['id','long','lat', 'weight']]\n",
    "print(freeones[0:3])\n",
    "\n",
    "# Input required is np.arary with only coordinates, no id field\n",
    "np_freeones = np.asarray(freeones[['long','lat']])\n",
    "print('------')\n",
    "print(np_freeones[0:3])"
   ]
  },
  {
   "cell_type": "code",
   "execution_count": 66,
   "metadata": {},
   "outputs": [
    {
     "data": {
      "text/plain": [
       "array([-86.762233,  40.733034,   2.      ])"
      ]
     },
     "execution_count": 66,
     "metadata": {},
     "output_type": "execute_result"
    }
   ],
   "source": [
    "np_df= np.asarray(df[['long','lat','id']])\n",
    "np_df[0]"
   ]
  },
  {
   "cell_type": "markdown",
   "metadata": {},
   "source": [
    "#### Id and index don't match, we need to keep id"
   ]
  },
  {
   "cell_type": "code",
   "execution_count": 50,
   "metadata": {},
   "outputs": [
    {
     "data": {
      "text/html": [
       "<div>\n",
       "<style scoped>\n",
       "    .dataframe tbody tr th:only-of-type {\n",
       "        vertical-align: middle;\n",
       "    }\n",
       "\n",
       "    .dataframe tbody tr th {\n",
       "        vertical-align: top;\n",
       "    }\n",
       "\n",
       "    .dataframe thead th {\n",
       "        text-align: right;\n",
       "    }\n",
       "</style>\n",
       "<table border=\"1\" class=\"dataframe\">\n",
       "  <thead>\n",
       "    <tr style=\"text-align: right;\">\n",
       "      <th></th>\n",
       "      <th>id</th>\n",
       "      <th>lat</th>\n",
       "      <th>long</th>\n",
       "      <th>weight</th>\n",
       "      <th>sleigh</th>\n",
       "      <th>dist_korvatunturi</th>\n",
       "    </tr>\n",
       "  </thead>\n",
       "  <tbody>\n",
       "    <tr>\n",
       "      <th>0</th>\n",
       "      <td>2</td>\n",
       "      <td>40.733034</td>\n",
       "      <td>-86.762233</td>\n",
       "      <td>342917</td>\n",
       "      <td>-1</td>\n",
       "      <td>6818.460780</td>\n",
       "    </tr>\n",
       "    <tr>\n",
       "      <th>1</th>\n",
       "      <td>3</td>\n",
       "      <td>43.029635</td>\n",
       "      <td>-91.094895</td>\n",
       "      <td>974703</td>\n",
       "      <td>-1</td>\n",
       "      <td>6716.931863</td>\n",
       "    </tr>\n",
       "    <tr>\n",
       "      <th>2</th>\n",
       "      <td>4</td>\n",
       "      <td>31.180215</td>\n",
       "      <td>16.596037</td>\n",
       "      <td>215099</td>\n",
       "      <td>-1</td>\n",
       "      <td>4189.445884</td>\n",
       "    </tr>\n",
       "    <tr>\n",
       "      <th>3</th>\n",
       "      <td>5</td>\n",
       "      <td>-28.657398</td>\n",
       "      <td>-55.964951</td>\n",
       "      <td>568144</td>\n",
       "      <td>-1</td>\n",
       "      <td>12768.438477</td>\n",
       "    </tr>\n",
       "    <tr>\n",
       "      <th>4</th>\n",
       "      <td>6</td>\n",
       "      <td>36.186751</td>\n",
       "      <td>-86.355754</td>\n",
       "      <td>695570</td>\n",
       "      <td>-1</td>\n",
       "      <td>7274.033239</td>\n",
       "    </tr>\n",
       "  </tbody>\n",
       "</table>\n",
       "</div>"
      ],
      "text/plain": [
       "   id        lat       long  weight  sleigh  dist_korvatunturi\n",
       "0   2  40.733034 -86.762233  342917      -1        6818.460780\n",
       "1   3  43.029635 -91.094895  974703      -1        6716.931863\n",
       "2   4  31.180215  16.596037  215099      -1        4189.445884\n",
       "3   5 -28.657398 -55.964951  568144      -1       12768.438477\n",
       "4   6  36.186751 -86.355754  695570      -1        7274.033239"
      ]
     },
     "execution_count": 50,
     "metadata": {},
     "output_type": "execute_result"
    }
   ],
   "source": [
    "df[0:5]"
   ]
  },
  {
   "cell_type": "code",
   "execution_count": 51,
   "metadata": {},
   "outputs": [
    {
     "name": "stdout",
     "output_type": "stream",
     "text": [
      "long   -86.762233\n",
      "lat     40.733034\n",
      "Name: 0, dtype: float64\n",
      "----\n",
      "[[-86.762233]\n",
      " [ 40.733034]]\n"
     ]
    }
   ],
   "source": [
    "# Test - individual datapoint\n",
    "this = df.iloc[0][['long','lat']]\n",
    "print(this)\n",
    "datapoint = np.asarray(this)\n",
    "datapoint = datapoint.reshape(2,1) # give it dim 1 instead of , and rotate\n",
    "print('----')\n",
    "print(datapoint)"
   ]
  },
  {
   "cell_type": "code",
   "execution_count": 52,
   "metadata": {},
   "outputs": [
    {
     "data": {
      "text/plain": [
       "array([[-86.762233],\n",
       "       [ 40.733034]])"
      ]
     },
     "execution_count": 52,
     "metadata": {},
     "output_type": "execute_result"
    }
   ],
   "source": [
    "# def search_kdtree(tree, datapoint, K):\n",
    "datapoint"
   ]
  },
  {
   "cell_type": "code",
   "execution_count": 53,
   "metadata": {},
   "outputs": [
    {
     "data": {
      "text/plain": [
       "array([[-86.762233,  40.733034],\n",
       "       [-91.094895,  43.029635],\n",
       "       [ 16.596037,  31.180215],\n",
       "       ...,\n",
       "       [-84.314389,  33.463295],\n",
       "       [134.530749,  34.091971],\n",
       "       [-63.770996, -22.55115 ]])"
      ]
     },
     "execution_count": 53,
     "metadata": {},
     "output_type": "execute_result"
    }
   ],
   "source": [
    "np_freeones"
   ]
  },
  {
   "cell_type": "code",
   "execution_count": 54,
   "metadata": {},
   "outputs": [
    {
     "name": "stdout",
     "output_type": "stream",
     "text": [
      "5.325391999999997\n"
     ]
    }
   ],
   "source": [
    "# Test\n",
    "K = 10\n",
    "\n",
    "data = np_freeones\n",
    "# switch axels\n",
    "ndata = len(np_freeones)\n",
    "ndim = 2\n",
    "data = data.reshape(ndim,ndata)\n",
    "\n",
    "t0 = clock()\n",
    "knn = knn_search(data, K)\n",
    "t1 = clock()\n",
    "print(t1-t0)"
   ]
  },
  {
   "cell_type": "code",
   "execution_count": 55,
   "metadata": {},
   "outputs": [
    {
     "data": {
      "text/plain": [
       "10000"
      ]
     },
     "execution_count": 55,
     "metadata": {},
     "output_type": "execute_result"
    }
   ],
   "source": [
    "len(knn)"
   ]
  },
  {
   "cell_type": "code",
   "execution_count": 56,
   "metadata": {},
   "outputs": [],
   "source": [
    "#treedata"
   ]
  },
  {
   "cell_type": "code",
   "execution_count": 57,
   "metadata": {},
   "outputs": [
    {
     "data": {
      "text/plain": [
       "pandas.core.frame.DataFrame"
      ]
     },
     "execution_count": 57,
     "metadata": {},
     "output_type": "execute_result"
    }
   ],
   "source": [
    "type(treedata)"
   ]
  },
  {
   "cell_type": "code",
   "execution_count": 58,
   "metadata": {},
   "outputs": [],
   "source": [
    "# individual point search requires Tree as input\n",
    "#tree = kdtree( treedata, leafsize=10 )\n",
    "tree = kdtree(data, leafsize=10 )\n",
    "# tree = kdtree(np_freeones, leafsize=10 )"
   ]
  },
  {
   "cell_type": "code",
   "execution_count": 59,
   "metadata": {},
   "outputs": [],
   "source": [
    "K = 10\n",
    "ndata = len(np_freeones)\n",
    "ndim = 2\n",
    "#data =  10 * numpy.random.rand(ndata*ndim).reshape((ndim,ndata) )\n",
    "#data = treedata.reshape(ndim,ndata)\n",
    "#datap = datapoint.reshape(2,1)\n",
    "\n",
    "near = search_kdtree(tree, datapoint, K)\n",
    "#near = search_kdtree(tree, datap, K)"
   ]
  },
  {
   "cell_type": "code",
   "execution_count": 60,
   "metadata": {},
   "outputs": [
    {
     "data": {
      "text/plain": [
       "[(1.0729000158739854, 5296),\n",
       " (3.045992294809971, 4380),\n",
       " (4.25588072516002, 7400),\n",
       " (4.8058428571289635, 1540),\n",
       " (6.378489357385014, 96),\n",
       " (8.241262304122005, 3314),\n",
       " (8.892256276754043, 8656),\n",
       " (9.439722041268977, 9298),\n",
       " (10.886933755316026, 4246),\n",
       " (11.173561781508077, 3756)]"
      ]
     },
     "execution_count": 60,
     "metadata": {},
     "output_type": "execute_result"
    }
   ],
   "source": [
    "near"
   ]
  },
  {
   "cell_type": "code",
   "execution_count": 61,
   "metadata": {},
   "outputs": [],
   "source": [
    "# Match results with their IDs "
   ]
  },
  {
   "cell_type": "code",
   "execution_count": 75,
   "metadata": {},
   "outputs": [
    {
     "data": {
      "text/plain": [
       "440.6969447506693"
      ]
     },
     "execution_count": 75,
     "metadata": {},
     "output_type": "execute_result"
    }
   ],
   "source": [
    "def distance(point1, point2):\n",
    "    '''\n",
    "    input: 2 numpy arrays with single point: longitude, latitude \n",
    "    '''\n",
    "    #confirm only 2 columns\n",
    "    assert len(point1)==2 or len(point1)==3\n",
    "    assert len(point2)==2 or len(point2)==3\n",
    "    \n",
    "    return haversine(point1[0], point1[1], point2[0], point2[1])\n",
    "#test\n",
    "distance(np_df[0], np_df[1])"
   ]
  },
  {
   "cell_type": "code",
   "execution_count": 71,
   "metadata": {},
   "outputs": [
    {
     "data": {
      "text/plain": [
       "440.6969447506693"
      ]
     },
     "execution_count": 71,
     "metadata": {},
     "output_type": "execute_result"
    }
   ],
   "source": [
    "def distance_panda(point1, point2):\n",
    "    '''Input DataFrame, allowed to have extra fields'''\n",
    "    #haversine(df.iloc[0]['long'], df.iloc[0]['lat'], df.iloc[i]['long'], df.iloc[i]['lat'])\n",
    "    return haversine(point1['long'], point1['lat'], point2['long'], point2['lat'])\n",
    "#test\n",
    "distance_panda(this, freeones.iloc[1])"
   ]
  },
  {
   "cell_type": "code",
   "execution_count": 72,
   "metadata": {},
   "outputs": [
    {
     "data": {
      "text/plain": [
       "id          5343.000000\n",
       "long          25.304851\n",
       "lat           57.264955\n",
       "weight    352548.000000\n",
       "Name: 5341, dtype: float64"
      ]
     },
     "execution_count": 72,
     "metadata": {},
     "output_type": "execute_result"
    }
   ],
   "source": [
    "freeones.iloc[5341]"
   ]
  },
  {
   "cell_type": "code",
   "execution_count": 74,
   "metadata": {},
   "outputs": [
    {
     "data": {
      "text/plain": [
       "array([[-86.762233],\n",
       "       [ 40.733034]])"
      ]
     },
     "execution_count": 74,
     "metadata": {},
     "output_type": "execute_result"
    }
   ],
   "source": [
    "datapoint"
   ]
  },
  {
   "cell_type": "code",
   "execution_count": 76,
   "metadata": {},
   "outputs": [
    {
     "data": {
      "text/plain": [
       "2120.8743472471565"
      ]
     },
     "execution_count": 76,
     "metadata": {},
     "output_type": "execute_result"
    }
   ],
   "source": [
    "distance(datapoint, np_df[5340])"
   ]
  },
  {
   "cell_type": "code",
   "execution_count": 77,
   "metadata": {},
   "outputs": [],
   "source": [
    "# Each points distance to this one\n",
    "# distances = freeones.apply(lambda row: distance(this, row), axis=1)\n",
    "#this = np_df[0]\n",
    "distances = np.array( [distance(this, row) for row in np_df] )"
   ]
  },
  {
   "cell_type": "code",
   "execution_count": 78,
   "metadata": {},
   "outputs": [
    {
     "data": {
      "text/plain": [
       "array([   0.        ,  440.69694475, 8811.92943327, 8352.661111  ])"
      ]
     },
     "execution_count": 78,
     "metadata": {},
     "output_type": "execute_result"
    }
   ],
   "source": [
    "distances[0:4]"
   ]
  },
  {
   "cell_type": "code",
   "execution_count": 85,
   "metadata": {},
   "outputs": [
    {
     "name": "stdout",
     "output_type": "stream",
     "text": [
      "0.0\n"
     ]
    },
    {
     "ename": "AttributeError",
     "evalue": "'numpy.ndarray' object has no attribute 'idxmin'",
     "output_type": "error",
     "traceback": [
      "\u001b[0;31m---------------------------------------------------------------------------\u001b[0m",
      "\u001b[0;31mAttributeError\u001b[0m                            Traceback (most recent call last)",
      "\u001b[0;32m<ipython-input-85-cb43e0470e7f>\u001b[0m in \u001b[0;36m<module>\u001b[0;34m()\u001b[0m\n\u001b[1;32m      1\u001b[0m \u001b[0mprint\u001b[0m\u001b[0;34m(\u001b[0m\u001b[0mdistances\u001b[0m\u001b[0;34m.\u001b[0m\u001b[0mmin\u001b[0m\u001b[0;34m(\u001b[0m\u001b[0;34m)\u001b[0m\u001b[0;34m)\u001b[0m\u001b[0;34m\u001b[0m\u001b[0m\n\u001b[0;32m----> 2\u001b[0;31m \u001b[0mprint\u001b[0m\u001b[0;34m(\u001b[0m\u001b[0mdistances\u001b[0m\u001b[0;34m.\u001b[0m\u001b[0midxmin\u001b[0m\u001b[0;34m(\u001b[0m\u001b[0;34m)\u001b[0m\u001b[0;34m)\u001b[0m\u001b[0;34m\u001b[0m\u001b[0m\n\u001b[0m",
      "\u001b[0;31mAttributeError\u001b[0m: 'numpy.ndarray' object has no attribute 'idxmin'"
     ]
    }
   ],
   "source": [
    "print(distances.min())\n",
    "print(distances.idxmin())"
   ]
  },
  {
   "cell_type": "code",
   "execution_count": 86,
   "metadata": {},
   "outputs": [
    {
     "data": {
      "text/plain": [
       "2120.8743472471565"
      ]
     },
     "execution_count": 86,
     "metadata": {},
     "output_type": "execute_result"
    }
   ],
   "source": [
    "i= 5340\n",
    "haversine(df.iloc[0]['long'], df.iloc[0]['lat'], df.iloc[i]['long'], df.iloc[i]['lat'])"
   ]
  },
  {
   "cell_type": "code",
   "execution_count": 88,
   "metadata": {},
   "outputs": [
    {
     "data": {
      "text/plain": [
       "2120.8743472471565"
      ]
     },
     "execution_count": 88,
     "metadata": {},
     "output_type": "execute_result"
    }
   ],
   "source": [
    "distance_panda(freeones.iloc[0], freeones.iloc[i])"
   ]
  },
  {
   "cell_type": "code",
   "execution_count": 89,
   "metadata": {},
   "outputs": [
    {
     "data": {
      "text/plain": [
       "440.6969447506693"
      ]
     },
     "execution_count": 89,
     "metadata": {},
     "output_type": "execute_result"
    }
   ],
   "source": [
    "distance_panda(freeones.iloc[0], freeones.iloc[1])"
   ]
  },
  {
   "cell_type": "code",
   "execution_count": 90,
   "metadata": {},
   "outputs": [
    {
     "data": {
      "text/html": [
       "<div>\n",
       "<style scoped>\n",
       "    .dataframe tbody tr th:only-of-type {\n",
       "        vertical-align: middle;\n",
       "    }\n",
       "\n",
       "    .dataframe tbody tr th {\n",
       "        vertical-align: top;\n",
       "    }\n",
       "\n",
       "    .dataframe thead th {\n",
       "        text-align: right;\n",
       "    }\n",
       "</style>\n",
       "<table border=\"1\" class=\"dataframe\">\n",
       "  <thead>\n",
       "    <tr style=\"text-align: right;\">\n",
       "      <th></th>\n",
       "      <th>id</th>\n",
       "      <th>lat</th>\n",
       "      <th>long</th>\n",
       "      <th>weight</th>\n",
       "      <th>sleigh</th>\n",
       "      <th>dist_korvatunturi</th>\n",
       "    </tr>\n",
       "  </thead>\n",
       "  <tbody>\n",
       "    <tr>\n",
       "      <th>0</th>\n",
       "      <td>2</td>\n",
       "      <td>40.733034</td>\n",
       "      <td>-86.762233</td>\n",
       "      <td>342917</td>\n",
       "      <td>-1</td>\n",
       "      <td>6818.460780</td>\n",
       "    </tr>\n",
       "    <tr>\n",
       "      <th>1</th>\n",
       "      <td>3</td>\n",
       "      <td>43.029635</td>\n",
       "      <td>-91.094895</td>\n",
       "      <td>974703</td>\n",
       "      <td>-1</td>\n",
       "      <td>6716.931863</td>\n",
       "    </tr>\n",
       "    <tr>\n",
       "      <th>2</th>\n",
       "      <td>4</td>\n",
       "      <td>31.180215</td>\n",
       "      <td>16.596037</td>\n",
       "      <td>215099</td>\n",
       "      <td>-1</td>\n",
       "      <td>4189.445884</td>\n",
       "    </tr>\n",
       "    <tr>\n",
       "      <th>3</th>\n",
       "      <td>5</td>\n",
       "      <td>-28.657398</td>\n",
       "      <td>-55.964951</td>\n",
       "      <td>568144</td>\n",
       "      <td>-1</td>\n",
       "      <td>12768.438477</td>\n",
       "    </tr>\n",
       "    <tr>\n",
       "      <th>4</th>\n",
       "      <td>6</td>\n",
       "      <td>36.186751</td>\n",
       "      <td>-86.355754</td>\n",
       "      <td>695570</td>\n",
       "      <td>-1</td>\n",
       "      <td>7274.033239</td>\n",
       "    </tr>\n",
       "  </tbody>\n",
       "</table>\n",
       "</div>"
      ],
      "text/plain": [
       "   id        lat       long  weight  sleigh  dist_korvatunturi\n",
       "0   2  40.733034 -86.762233  342917      -1        6818.460780\n",
       "1   3  43.029635 -91.094895  974703      -1        6716.931863\n",
       "2   4  31.180215  16.596037  215099      -1        4189.445884\n",
       "3   5 -28.657398 -55.964951  568144      -1       12768.438477\n",
       "4   6  36.186751 -86.355754  695570      -1        7274.033239"
      ]
     },
     "execution_count": 90,
     "metadata": {},
     "output_type": "execute_result"
    }
   ],
   "source": [
    "df.head()"
   ]
  },
  {
   "cell_type": "code",
   "execution_count": 97,
   "metadata": {},
   "outputs": [
    {
     "data": {
      "text/plain": [
       "[0, 1]"
      ]
     },
     "execution_count": 97,
     "metadata": {},
     "output_type": "execute_result"
    }
   ],
   "source": [
    "# LIST OF SLEIGHS/TAXIS \n",
    "taxis = []\n",
    "taxis.append([0,1])\n",
    "taxis[0]\n",
    "#taxi_dist(taxis[0])"
   ]
  },
  {
   "cell_type": "code",
   "execution_count": 102,
   "metadata": {},
   "outputs": [],
   "source": [
    "def taxi_total_dist(taxi):\n",
    "    '''Return distance through home, points in list, home\n",
    "       input: integer list of locations'''\n",
    "    route=[]\n",
    "    route.append(home)\n",
    "    for i in taxi:\n",
    "        route.append(df.iloc[i])\n",
    "    route.append(home)    \n",
    "    #print(route)\n",
    "\n",
    "    sum=0\n",
    "    for i in range(len(route)-1):\n",
    "            sum+=distance(route[i], route[i+1]) \n",
    "    return sum\n",
    "#test\n"
   ]
  },
  {
   "cell_type": "code",
   "execution_count": 98,
   "metadata": {},
   "outputs": [
    {
     "data": {
      "text/plain": [
       "23966.250551381112"
      ]
     },
     "execution_count": 98,
     "metadata": {},
     "output_type": "execute_result"
    }
   ],
   "source": [
    "def taxi_dist(taxi):\n",
    "    '''Return distance through home, points in list, home\n",
    "       input: integer list of locations'''\n",
    "    route=[]\n",
    "    route.append(home)\n",
    "    for i in taxi:\n",
    "        route.append(np_df[i])\n",
    "    route.append(home)    \n",
    "    #print(route)\n",
    "\n",
    "    sum=0\n",
    "    for i in range(len(route)-1):\n",
    "            sum+=distance(route[i], route[i+1]) \n",
    "    return sum\n",
    "#test\n",
    "taxi_dist(taxis[0])"
   ]
  },
  {
   "cell_type": "code",
   "execution_count": 103,
   "metadata": {},
   "outputs": [
    {
     "data": {
      "text/plain": [
       "1317620.0"
      ]
     },
     "execution_count": 103,
     "metadata": {},
     "output_type": "execute_result"
    }
   ],
   "source": [
    "def taxi_weight(taxi):\n",
    "    '''Return total weight of gifts in route\n",
    "       input: integer list of locations'''\n",
    "    route=[]\n",
    "    for i in taxi:\n",
    "        route.append(df.iloc[i])\n",
    "    #print(route)\n",
    "\n",
    "    sum=0\n",
    "    for i in range(len(route)):\n",
    "            sum+=route[i]['weight']\n",
    "    return sum\n",
    "#test\n",
    "taxi_weight(taxis[0])"
   ]
  },
  {
   "cell_type": "code",
   "execution_count": 107,
   "metadata": {},
   "outputs": [
    {
     "name": "stdout",
     "output_type": "stream",
     "text": [
      "   id        lat       long  weight  sleigh  dist_korvatunturi\n",
      "0   2  40.733034 -86.762233  342917      -1        6818.460780\n",
      "1   3  43.029635 -91.094895  974703      -1        6716.931863\n",
      "[[-86.762233  40.733034   2.      ]\n",
      " [-91.094895  43.029635   3.      ]]\n"
     ]
    }
   ],
   "source": [
    "def taxi_info(taxi):\n",
    "    '''Print info about route\n",
    "       input: integer list of locations'''\n",
    "    print(df.iloc[taxi])\n",
    "    print(np_df[taxi])\n",
    "#test\n",
    "taxi_info(taxis[0])"
   ]
  },
  {
   "cell_type": "code",
   "execution_count": 108,
   "metadata": {},
   "outputs": [
    {
     "data": {
      "text/plain": [
       "[[0, 1]]"
      ]
     },
     "execution_count": 108,
     "metadata": {},
     "output_type": "execute_result"
    }
   ],
   "source": [
    "taxis"
   ]
  },
  {
   "cell_type": "code",
   "execution_count": 112,
   "metadata": {},
   "outputs": [
    {
     "data": {
      "text/plain": [
       "array([-86.762233,  40.733034,   2.      ])"
      ]
     },
     "execution_count": 112,
     "metadata": {},
     "output_type": "execute_result"
    }
   ],
   "source": [
    "np_df[0]"
   ]
  },
  {
   "cell_type": "code",
   "execution_count": 117,
   "metadata": {},
   "outputs": [
    {
     "data": {
      "text/plain": [
       "array([[-8.67622330e+01,  4.07330340e+01,  2.00000000e+00],\n",
       "       [-9.10948950e+01,  4.30296350e+01,  3.00000000e+00],\n",
       "       [ 1.65960370e+01,  3.11802150e+01,  4.00000000e+00],\n",
       "       ...,\n",
       "       [-8.43143890e+01,  3.34632950e+01,  9.99900000e+03],\n",
       "       [ 1.34530749e+02,  3.40919710e+01,  1.00000000e+04],\n",
       "       [-6.37709960e+01, -2.25511500e+01,  1.00010000e+04]])"
      ]
     },
     "execution_count": 117,
     "metadata": {},
     "output_type": "execute_result"
    }
   ],
   "source": [
    "np_df"
   ]
  },
  {
   "cell_type": "code",
   "execution_count": 121,
   "metadata": {},
   "outputs": [
    {
     "data": {
      "text/html": [
       "<div>\n",
       "<style scoped>\n",
       "    .dataframe tbody tr th:only-of-type {\n",
       "        vertical-align: middle;\n",
       "    }\n",
       "\n",
       "    .dataframe tbody tr th {\n",
       "        vertical-align: top;\n",
       "    }\n",
       "\n",
       "    .dataframe thead th {\n",
       "        text-align: right;\n",
       "    }\n",
       "</style>\n",
       "<table border=\"1\" class=\"dataframe\">\n",
       "  <thead>\n",
       "    <tr style=\"text-align: right;\">\n",
       "      <th></th>\n",
       "      <th>id</th>\n",
       "      <th>lat</th>\n",
       "      <th>long</th>\n",
       "      <th>weight</th>\n",
       "      <th>sleigh</th>\n",
       "      <th>dist_korvatunturi</th>\n",
       "    </tr>\n",
       "  </thead>\n",
       "  <tbody>\n",
       "    <tr>\n",
       "      <th>0</th>\n",
       "      <td>2</td>\n",
       "      <td>40.733034</td>\n",
       "      <td>-86.762233</td>\n",
       "      <td>342917</td>\n",
       "      <td>-1</td>\n",
       "      <td>6818.46078</td>\n",
       "    </tr>\n",
       "  </tbody>\n",
       "</table>\n",
       "</div>"
      ],
      "text/plain": [
       "   id        lat       long  weight  sleigh  dist_korvatunturi\n",
       "0   2  40.733034 -86.762233  342917      -1         6818.46078"
      ]
     },
     "execution_count": 121,
     "metadata": {},
     "output_type": "execute_result"
    }
   ],
   "source": [
    "df[df['id']==2]"
   ]
  },
  {
   "cell_type": "code",
   "execution_count": null,
   "metadata": {},
   "outputs": [],
   "source": []
  },
  {
   "cell_type": "code",
   "execution_count": 122,
   "metadata": {},
   "outputs": [],
   "source": [
    "def taxi_build_route(startpoint, knn):\n",
    "    '''Pick always item furthest from home\n",
    "   find 30 knn\n",
    "   by order of distance to 1st, if fits under 10 tons, add next\n",
    "   score: 12.8M (12837118)   '''\n",
    "    \n",
    "    route=[]\n",
    "    route.append(startpoint)\n",
    "    weight_total = taxi_weight(route)\n",
    "    #print(weight_total)\n",
    "    \n",
    "    for i in knn:\n",
    "        #print(i)\n",
    "        weight_total = taxi_weight(route)\n",
    "        weight_next = df.iloc[i]['weight']\n",
    "        if weight_total + weight_next <= max_weight:\n",
    "            route.append(i)\n",
    "    return route\n",
    "#test\n",
    "#taxi_build_route()"
   ]
  },
  {
   "cell_type": "code",
   "execution_count": 124,
   "metadata": {},
   "outputs": [],
   "source": [
    "def taxi_build_route2(startpoint, knn):\n",
    "    '''Input startpoint: int of first item to add \n",
    "       knn list of n nearest points to startpoint\n",
    "    \n",
    "       On version 1 we added always knn in order, as logn as they fit under max weight\n",
    "       At times though, distance to next item x can be larger than distance to home and back to x with empty\n",
    "       load!\n",
    "       \n",
    "       Also if our load is 9 tons out of 10 tons and current->home-> x is just little longer than direct to x,\n",
    "       we might wanna go home and arrive to x with empty load.\n",
    "       \n",
    "       So we want to add a function comparing \n",
    "       - current load percentage, \n",
    "       - distance to home and \n",
    "       - distance to next item\n",
    "       \n",
    "       The further we are from home, the longer way we are willing to travel sideways\n",
    "       Consider also\n",
    "       - distance to home vs\n",
    "       - distance to home via x\n",
    "       This will tell how much extra way x would bring.\n",
    "       In good case x can be far from current, but very close to direct line between current and home!\n",
    "       \n",
    "       Also notice that each item has a hardness-number\n",
    "       If we have options to pick 500kg item at 10.000 km from home at extra route y or \n",
    "       500kg item at 100 km from home at extra route 0.1y, the one further might be lot better, \n",
    "       since coming later to this far is expensive, while item B is cheap to come at later route.\n",
    "    \n",
    "    '''\n",
    "    \n",
    "    route=[]\n",
    "    route.append(startpoint)\n",
    "    weight_total = taxi_weight(route)\n",
    "    #print(weight_total)\n",
    "    \n",
    "    for i in knn:\n",
    "        #print(i)\n",
    "        weight_total = taxi_weight(route)\n",
    "        weight_next = df.iloc[i]['weight']\n",
    "        # fits y weigh\n",
    "        if weight_total + weight_next <= max_weight:\n",
    "                   \n",
    "            eps = 1e-7   \n",
    "            #multiplier for go home, then to dest i\n",
    "            dist_direct = distance(np_df[startpoint], np_df[i])\n",
    "            dist_through_home = distance(np_df[startpoint], home) + distance(home, np_df[i])\n",
    "            multiplyer_dist = dist_through_home / (dist_direct+eps)\n",
    "            \n",
    "            #multiplayer space\n",
    "            weight_direct = weight_total + weight_next\n",
    "            weight_through_home = weight_next\n",
    "            multiplyer_weight = (max_weight - weight_through_home) / (max_weight - weight_direct)\n",
    "            \n",
    "            #hypothesis, saving?\n",
    "            # example, cargo 0.5 full, next is 0.1, direct would bring 0.6 full\n",
    "            # distance through home is 1.2x multiplier, space for cargo through home\n",
    "            # would be free space: 0.9 / 0.4 = 2.25 x\n",
    "            # hypothesis, by going home to empty, on average we save\n",
    "            \n",
    "            #if multiplyer_weight > multiplyer_dist:\n",
    "            \n",
    "            # don't go home, go directly to next\n",
    "            if not(multiplyer_weight > multiplyer_dist):\n",
    "                route.append(i)\n",
    "                \n",
    "            #weight_free = max_weight - weight_total\n",
    "            #weight_free_percentage = weight_total / max_weight            \n",
    "            #HARDNESS NUMBER FOR EACH ITEM\n",
    "            # weight * distance?\n",
    "        \n",
    "            #extra_distance \n",
    "            #(taxi_dist(startpoint, df.iloc[i]) + taxi_dist(df.iloc[i], home) / taxi_dist(startpoint, home))\n",
    "            \n",
    "           # fits by distance and loc  \n",
    "           # relation of dist to new x + dist to home vs directly home\n",
    "            #weight_free = (weight_total / max_weight)\n",
    "            #if (taxi_dist(startpoint, df.iloc[i]) + taxi_dist(df.iloc[i], home) / taxi_dist(startpoint, home))                \n",
    "    return route"
   ]
  },
  {
   "cell_type": "code",
   "execution_count": 125,
   "metadata": {},
   "outputs": [],
   "source": [
    "def mark_taken(df, locations):\n",
    "    '''mark locations on list as taken\n",
    "       '''\n",
    "    df['sleigh'].iloc[locations]=10000"
   ]
  },
  {
   "cell_type": "code",
   "execution_count": 126,
   "metadata": {},
   "outputs": [
    {
     "ename": "NameError",
     "evalue": "name 'newtaxi' is not defined",
     "output_type": "error",
     "traceback": [
      "\u001b[0;31m---------------------------------------------------------------------------\u001b[0m",
      "\u001b[0;31mNameError\u001b[0m                                 Traceback (most recent call last)",
      "\u001b[0;32m<ipython-input-126-0ffda512fd2f>\u001b[0m in \u001b[0;36m<module>\u001b[0;34m()\u001b[0m\n\u001b[0;32m----> 1\u001b[0;31m \u001b[0mnewtaxi\u001b[0m\u001b[0;34m\u001b[0m\u001b[0m\n\u001b[0m",
      "\u001b[0;31mNameError\u001b[0m: name 'newtaxi' is not defined"
     ]
    }
   ],
   "source": [
    "newtaxi"
   ]
  },
  {
   "cell_type": "code",
   "execution_count": null,
   "metadata": {},
   "outputs": [],
   "source": [
    "sleighs=[]\n",
    "\n",
    "i =df['dist_korvatunturi'].idxmax()\n",
    "print(i)\n",
    "this = df.iloc[i]\n",
    "# Each points distance to this one\n",
    "distances = freeones.apply(lambda row: distance(this, row), axis=1)\n",
    "knn = distances.nsmallest(30)\n",
    "\n",
    "print(knn[0:4])\n",
    "\n",
    "# while  sleight weight under 10k kg\n",
    "# add next closest to same sleigh"
   ]
  },
  {
   "cell_type": "code",
   "execution_count": 415,
   "metadata": {},
   "outputs": [
    {
     "data": {
      "text/plain": [
       "Int64Index([5047, 3258, 9401, 8222, 7595, 3031, 8524, 4439, 5416, 3897, 6247,\n",
       "            8257, 8826, 8658, 2514, 2650, 5367, 8119, 3740, 6083, 7877, 7257,\n",
       "            5689, 4608, 3950, 2290, 8983, 6004, 8850],\n",
       "           dtype='int64')"
      ]
     },
     "execution_count": 415,
     "metadata": {},
     "output_type": "execute_result"
    }
   ],
   "source": [
    "knn.index[1:]"
   ]
  },
  {
   "cell_type": "code",
   "execution_count": 424,
   "metadata": {},
   "outputs": [
    {
     "name": "stdout",
     "output_type": "stream",
     "text": [
      "20\n"
     ]
    }
   ],
   "source": [
    "newtaxi = taxi_build_route(i, knn.index[1:])\n",
    "print(len(newtaxi))"
   ]
  },
  {
   "cell_type": "code",
   "execution_count": 430,
   "metadata": {},
   "outputs": [
    {
     "data": {
      "text/plain": [
       "8824"
      ]
     },
     "execution_count": 430,
     "metadata": {},
     "output_type": "execute_result"
    }
   ],
   "source": [
    "i"
   ]
  },
  {
   "cell_type": "code",
   "execution_count": 434,
   "metadata": {},
   "outputs": [
    {
     "name": "stdout",
     "output_type": "stream",
     "text": [
      "14\n"
     ]
    }
   ],
   "source": [
    "newtaxi = taxi_build_route2(i, knn.index[1:])\n",
    "print(len(newtaxi))"
   ]
  },
  {
   "cell_type": "code",
   "execution_count": 429,
   "metadata": {},
   "outputs": [
    {
     "data": {
      "text/plain": [
       "-86.762233"
      ]
     },
     "execution_count": 429,
     "metadata": {},
     "output_type": "execute_result"
    }
   ],
   "source": [
    "np_df[0][1]"
   ]
  },
  {
   "cell_type": "code",
   "execution_count": 287,
   "metadata": {},
   "outputs": [
    {
     "name": "stdout",
     "output_type": "stream",
     "text": [
      "140603.84412360637\n",
      "9994609.0\n"
     ]
    }
   ],
   "source": [
    "print(taxi_dist(newtaxi))\n",
    "print(taxi_weight(newtaxi))"
   ]
  },
  {
   "cell_type": "markdown",
   "metadata": {},
   "source": [
    "### remove these points from list of Free"
   ]
  },
  {
   "cell_type": "code",
   "execution_count": 157,
   "metadata": {},
   "outputs": [
    {
     "data": {
      "text/plain": [
       "3904.2857505922034"
      ]
     },
     "execution_count": 157,
     "metadata": {},
     "output_type": "execute_result"
    }
   ],
   "source": [
    "point = freeones.iloc[knn.index[1]]\n",
    "distance_panda(this, point )"
   ]
  },
  {
   "cell_type": "code",
   "execution_count": 301,
   "metadata": {},
   "outputs": [],
   "source": [
    "taxis.append(newtaxi)"
   ]
  },
  {
   "cell_type": "code",
   "execution_count": 411,
   "metadata": {},
   "outputs": [],
   "source": [
    "np_df = np.asarray(freeones[['lat','long']])"
   ]
  },
  {
   "cell_type": "code",
   "execution_count": 438,
   "metadata": {},
   "outputs": [
    {
     "data": {
      "text/plain": [
       "[8824,\n",
       " 5047,\n",
       " 3258,\n",
       " 9401,\n",
       " 8222,\n",
       " 7595,\n",
       " 3031,\n",
       " 8524,\n",
       " 4439,\n",
       " 5416,\n",
       " 3897,\n",
       " 6247,\n",
       " 8257,\n",
       " 8826]"
      ]
     },
     "execution_count": 438,
     "metadata": {},
     "output_type": "execute_result"
    }
   ],
   "source": [
    "#test\n",
    "taxis[0]"
   ]
  },
  {
   "cell_type": "code",
   "execution_count": 448,
   "metadata": {},
   "outputs": [],
   "source": []
  },
  {
   "cell_type": "code",
   "execution_count": 128,
   "metadata": {},
   "outputs": [
    {
     "name": "stdout",
     "output_type": "stream",
     "text": [
      "8824\n"
     ]
    },
    {
     "ename": "AssertionError",
     "evalue": "occurred at index 0",
     "output_type": "error",
     "traceback": [
      "\u001b[0;31m---------------------------------------------------------------------------\u001b[0m",
      "\u001b[0;31mAssertionError\u001b[0m                            Traceback (most recent call last)",
      "\u001b[0;32m<ipython-input-128-e787218d8476>\u001b[0m in \u001b[0;36m<module>\u001b[0;34m()\u001b[0m\n\u001b[1;32m      9\u001b[0m \u001b[0mthis\u001b[0m \u001b[0;34m=\u001b[0m \u001b[0mdf\u001b[0m\u001b[0;34m.\u001b[0m\u001b[0miloc\u001b[0m\u001b[0;34m[\u001b[0m\u001b[0mi\u001b[0m\u001b[0;34m]\u001b[0m\u001b[0;34m\u001b[0m\u001b[0m\n\u001b[1;32m     10\u001b[0m \u001b[0;31m# Each points distance to this one\u001b[0m\u001b[0;34m\u001b[0m\u001b[0;34m\u001b[0m\u001b[0m\n\u001b[0;32m---> 11\u001b[0;31m \u001b[0mdistances\u001b[0m \u001b[0;34m=\u001b[0m \u001b[0mfreeones\u001b[0m\u001b[0;34m.\u001b[0m\u001b[0mapply\u001b[0m\u001b[0;34m(\u001b[0m\u001b[0;32mlambda\u001b[0m \u001b[0mrow\u001b[0m\u001b[0;34m:\u001b[0m \u001b[0mdistance\u001b[0m\u001b[0;34m(\u001b[0m\u001b[0mthis\u001b[0m\u001b[0;34m,\u001b[0m \u001b[0mrow\u001b[0m\u001b[0;34m)\u001b[0m\u001b[0;34m,\u001b[0m \u001b[0maxis\u001b[0m\u001b[0;34m=\u001b[0m\u001b[0;36m1\u001b[0m\u001b[0;34m)\u001b[0m\u001b[0;34m\u001b[0m\u001b[0m\n\u001b[0m\u001b[1;32m     12\u001b[0m \u001b[0mknn\u001b[0m \u001b[0;34m=\u001b[0m \u001b[0mdistances\u001b[0m\u001b[0;34m.\u001b[0m\u001b[0mnsmallest\u001b[0m\u001b[0;34m(\u001b[0m\u001b[0;36m30\u001b[0m\u001b[0;34m)\u001b[0m\u001b[0;34m\u001b[0m\u001b[0m\n\u001b[1;32m     13\u001b[0m \u001b[0;34m\u001b[0m\u001b[0m\n",
      "\u001b[0;32m~/anaconda3/lib/python3.6/site-packages/pandas/core/frame.py\u001b[0m in \u001b[0;36mapply\u001b[0;34m(self, func, axis, broadcast, raw, reduce, result_type, args, **kwds)\u001b[0m\n\u001b[1;32m   6012\u001b[0m                          \u001b[0margs\u001b[0m\u001b[0;34m=\u001b[0m\u001b[0margs\u001b[0m\u001b[0;34m,\u001b[0m\u001b[0;34m\u001b[0m\u001b[0m\n\u001b[1;32m   6013\u001b[0m                          kwds=kwds)\n\u001b[0;32m-> 6014\u001b[0;31m         \u001b[0;32mreturn\u001b[0m \u001b[0mop\u001b[0m\u001b[0;34m.\u001b[0m\u001b[0mget_result\u001b[0m\u001b[0;34m(\u001b[0m\u001b[0;34m)\u001b[0m\u001b[0;34m\u001b[0m\u001b[0m\n\u001b[0m\u001b[1;32m   6015\u001b[0m \u001b[0;34m\u001b[0m\u001b[0m\n\u001b[1;32m   6016\u001b[0m     \u001b[0;32mdef\u001b[0m \u001b[0mapplymap\u001b[0m\u001b[0;34m(\u001b[0m\u001b[0mself\u001b[0m\u001b[0;34m,\u001b[0m \u001b[0mfunc\u001b[0m\u001b[0;34m)\u001b[0m\u001b[0;34m:\u001b[0m\u001b[0;34m\u001b[0m\u001b[0m\n",
      "\u001b[0;32m~/anaconda3/lib/python3.6/site-packages/pandas/core/apply.py\u001b[0m in \u001b[0;36mget_result\u001b[0;34m(self)\u001b[0m\n\u001b[1;32m    140\u001b[0m             \u001b[0;32mreturn\u001b[0m \u001b[0mself\u001b[0m\u001b[0;34m.\u001b[0m\u001b[0mapply_raw\u001b[0m\u001b[0;34m(\u001b[0m\u001b[0;34m)\u001b[0m\u001b[0;34m\u001b[0m\u001b[0m\n\u001b[1;32m    141\u001b[0m \u001b[0;34m\u001b[0m\u001b[0m\n\u001b[0;32m--> 142\u001b[0;31m         \u001b[0;32mreturn\u001b[0m \u001b[0mself\u001b[0m\u001b[0;34m.\u001b[0m\u001b[0mapply_standard\u001b[0m\u001b[0;34m(\u001b[0m\u001b[0;34m)\u001b[0m\u001b[0;34m\u001b[0m\u001b[0m\n\u001b[0m\u001b[1;32m    143\u001b[0m \u001b[0;34m\u001b[0m\u001b[0m\n\u001b[1;32m    144\u001b[0m     \u001b[0;32mdef\u001b[0m \u001b[0mapply_empty_result\u001b[0m\u001b[0;34m(\u001b[0m\u001b[0mself\u001b[0m\u001b[0;34m)\u001b[0m\u001b[0;34m:\u001b[0m\u001b[0;34m\u001b[0m\u001b[0m\n",
      "\u001b[0;32m~/anaconda3/lib/python3.6/site-packages/pandas/core/apply.py\u001b[0m in \u001b[0;36mapply_standard\u001b[0;34m(self)\u001b[0m\n\u001b[1;32m    246\u001b[0m \u001b[0;34m\u001b[0m\u001b[0m\n\u001b[1;32m    247\u001b[0m         \u001b[0;31m# compute the result using the series generator\u001b[0m\u001b[0;34m\u001b[0m\u001b[0;34m\u001b[0m\u001b[0m\n\u001b[0;32m--> 248\u001b[0;31m         \u001b[0mself\u001b[0m\u001b[0;34m.\u001b[0m\u001b[0mapply_series_generator\u001b[0m\u001b[0;34m(\u001b[0m\u001b[0;34m)\u001b[0m\u001b[0;34m\u001b[0m\u001b[0m\n\u001b[0m\u001b[1;32m    249\u001b[0m \u001b[0;34m\u001b[0m\u001b[0m\n\u001b[1;32m    250\u001b[0m         \u001b[0;31m# wrap results\u001b[0m\u001b[0;34m\u001b[0m\u001b[0;34m\u001b[0m\u001b[0m\n",
      "\u001b[0;32m~/anaconda3/lib/python3.6/site-packages/pandas/core/apply.py\u001b[0m in \u001b[0;36mapply_series_generator\u001b[0;34m(self)\u001b[0m\n\u001b[1;32m    275\u001b[0m             \u001b[0;32mtry\u001b[0m\u001b[0;34m:\u001b[0m\u001b[0;34m\u001b[0m\u001b[0m\n\u001b[1;32m    276\u001b[0m                 \u001b[0;32mfor\u001b[0m \u001b[0mi\u001b[0m\u001b[0;34m,\u001b[0m \u001b[0mv\u001b[0m \u001b[0;32min\u001b[0m \u001b[0menumerate\u001b[0m\u001b[0;34m(\u001b[0m\u001b[0mseries_gen\u001b[0m\u001b[0;34m)\u001b[0m\u001b[0;34m:\u001b[0m\u001b[0;34m\u001b[0m\u001b[0m\n\u001b[0;32m--> 277\u001b[0;31m                     \u001b[0mresults\u001b[0m\u001b[0;34m[\u001b[0m\u001b[0mi\u001b[0m\u001b[0;34m]\u001b[0m \u001b[0;34m=\u001b[0m \u001b[0mself\u001b[0m\u001b[0;34m.\u001b[0m\u001b[0mf\u001b[0m\u001b[0;34m(\u001b[0m\u001b[0mv\u001b[0m\u001b[0;34m)\u001b[0m\u001b[0;34m\u001b[0m\u001b[0m\n\u001b[0m\u001b[1;32m    278\u001b[0m                     \u001b[0mkeys\u001b[0m\u001b[0;34m.\u001b[0m\u001b[0mappend\u001b[0m\u001b[0;34m(\u001b[0m\u001b[0mv\u001b[0m\u001b[0;34m.\u001b[0m\u001b[0mname\u001b[0m\u001b[0;34m)\u001b[0m\u001b[0;34m\u001b[0m\u001b[0m\n\u001b[1;32m    279\u001b[0m             \u001b[0;32mexcept\u001b[0m \u001b[0mException\u001b[0m \u001b[0;32mas\u001b[0m \u001b[0me\u001b[0m\u001b[0;34m:\u001b[0m\u001b[0;34m\u001b[0m\u001b[0m\n",
      "\u001b[0;32m<ipython-input-128-e787218d8476>\u001b[0m in \u001b[0;36m<lambda>\u001b[0;34m(row)\u001b[0m\n\u001b[1;32m      9\u001b[0m \u001b[0mthis\u001b[0m \u001b[0;34m=\u001b[0m \u001b[0mdf\u001b[0m\u001b[0;34m.\u001b[0m\u001b[0miloc\u001b[0m\u001b[0;34m[\u001b[0m\u001b[0mi\u001b[0m\u001b[0;34m]\u001b[0m\u001b[0;34m\u001b[0m\u001b[0m\n\u001b[1;32m     10\u001b[0m \u001b[0;31m# Each points distance to this one\u001b[0m\u001b[0;34m\u001b[0m\u001b[0;34m\u001b[0m\u001b[0m\n\u001b[0;32m---> 11\u001b[0;31m \u001b[0mdistances\u001b[0m \u001b[0;34m=\u001b[0m \u001b[0mfreeones\u001b[0m\u001b[0;34m.\u001b[0m\u001b[0mapply\u001b[0m\u001b[0;34m(\u001b[0m\u001b[0;32mlambda\u001b[0m \u001b[0mrow\u001b[0m\u001b[0;34m:\u001b[0m \u001b[0mdistance\u001b[0m\u001b[0;34m(\u001b[0m\u001b[0mthis\u001b[0m\u001b[0;34m,\u001b[0m \u001b[0mrow\u001b[0m\u001b[0;34m)\u001b[0m\u001b[0;34m,\u001b[0m \u001b[0maxis\u001b[0m\u001b[0;34m=\u001b[0m\u001b[0;36m1\u001b[0m\u001b[0;34m)\u001b[0m\u001b[0;34m\u001b[0m\u001b[0m\n\u001b[0m\u001b[1;32m     12\u001b[0m \u001b[0mknn\u001b[0m \u001b[0;34m=\u001b[0m \u001b[0mdistances\u001b[0m\u001b[0;34m.\u001b[0m\u001b[0mnsmallest\u001b[0m\u001b[0;34m(\u001b[0m\u001b[0;36m30\u001b[0m\u001b[0;34m)\u001b[0m\u001b[0;34m\u001b[0m\u001b[0m\n\u001b[1;32m     13\u001b[0m \u001b[0;34m\u001b[0m\u001b[0m\n",
      "\u001b[0;32m<ipython-input-75-4d259f9a8d9c>\u001b[0m in \u001b[0;36mdistance\u001b[0;34m(point1, point2)\u001b[0m\n\u001b[1;32m      4\u001b[0m     '''\n\u001b[1;32m      5\u001b[0m     \u001b[0;31m#confirm only 2 columns\u001b[0m\u001b[0;34m\u001b[0m\u001b[0;34m\u001b[0m\u001b[0m\n\u001b[0;32m----> 6\u001b[0;31m     \u001b[0;32massert\u001b[0m \u001b[0mlen\u001b[0m\u001b[0;34m(\u001b[0m\u001b[0mpoint1\u001b[0m\u001b[0;34m)\u001b[0m\u001b[0;34m==\u001b[0m\u001b[0;36m2\u001b[0m \u001b[0;32mor\u001b[0m \u001b[0mlen\u001b[0m\u001b[0;34m(\u001b[0m\u001b[0mpoint1\u001b[0m\u001b[0;34m)\u001b[0m\u001b[0;34m==\u001b[0m\u001b[0;36m3\u001b[0m\u001b[0;34m\u001b[0m\u001b[0m\n\u001b[0m\u001b[1;32m      7\u001b[0m     \u001b[0;32massert\u001b[0m \u001b[0mlen\u001b[0m\u001b[0;34m(\u001b[0m\u001b[0mpoint2\u001b[0m\u001b[0;34m)\u001b[0m\u001b[0;34m==\u001b[0m\u001b[0;36m2\u001b[0m \u001b[0;32mor\u001b[0m \u001b[0mlen\u001b[0m\u001b[0;34m(\u001b[0m\u001b[0mpoint2\u001b[0m\u001b[0;34m)\u001b[0m\u001b[0;34m==\u001b[0m\u001b[0;36m3\u001b[0m\u001b[0;34m\u001b[0m\u001b[0m\n\u001b[1;32m      8\u001b[0m \u001b[0;34m\u001b[0m\u001b[0m\n",
      "\u001b[0;31mAssertionError\u001b[0m: occurred at index 0"
     ]
    }
   ],
   "source": [
    "#reset\n",
    "df['sleigh']=-1\n",
    "free= df[df['sleigh']==-1]\n",
    "freeones = free[['id','lat','long', 'weight']]\n",
    "np_freeones = np.asarray(freeones[['long','lat']])\n",
    "\n",
    "i =8824\n",
    "print(i)\n",
    "this = df.iloc[i]\n",
    "# Each points distance to this one\n",
    "distances = freeones.apply(lambda row: distance(this, row), axis=1)\n",
    "knn = distances.nsmallest(30)\n",
    "\n",
    "print(knn[0:10])"
   ]
  },
  {
   "cell_type": "code",
   "execution_count": 445,
   "metadata": {},
   "outputs": [
    {
     "data": {
      "text/plain": [
       "9489    17526.241392\n",
       "dtype: float64"
      ]
     },
     "execution_count": 445,
     "metadata": {},
     "output_type": "execute_result"
    }
   ],
   "source": [
    "knn"
   ]
  },
  {
   "cell_type": "markdown",
   "metadata": {},
   "source": [
    "### Repeat\n"
   ]
  },
  {
   "cell_type": "code",
   "execution_count": 323,
   "metadata": {},
   "outputs": [
    {
     "name": "stdout",
     "output_type": "stream",
     "text": [
      "Free remaining\n",
      "9912\n",
      "------\n",
      "[[ 43.029635 -91.094895]\n",
      " [ 31.180215  16.596037]\n",
      " [-28.657398 -55.964951]]\n"
     ]
    }
   ],
   "source": [
    "# Get free ones\n",
    "free= df[df['sleigh']==-1]\n",
    "freeones = free[['id','long','lat', 'weight']]\n",
    "\n",
    "# Input required is np.arary with only coordinates, no id field\n",
    "np_freeones = np.asarray(freeones[['long','lat']])\n",
    "print('Free remaining'); print(len(freeones))\n",
    "print('------')\n",
    "print(np_freeones[0:3])"
   ]
  },
  {
   "cell_type": "code",
   "execution_count": 324,
   "metadata": {},
   "outputs": [
    {
     "name": "stdout",
     "output_type": "stream",
     "text": [
      "9278\n",
      "9278      0.000000\n",
      "8557    297.985948\n",
      "278     454.053433\n",
      "3522    484.076805\n",
      "dtype: float64\n"
     ]
    }
   ],
   "source": [
    "#Pick NEXT gift (furthest from home) to pick up and its knn\n",
    "\n",
    "i =free['dist_korvatunturi'].idxmax()\n",
    "print(i)\n",
    "this = df.iloc[i]\n",
    "# Each points distance to this one\n",
    "distances = freeones.apply(lambda row: distance(this, row), axis=1)\n",
    "knn = distances.nsmallest(30)\n",
    "\n",
    "print(knn[0:4])"
   ]
  },
  {
   "cell_type": "code",
   "execution_count": 325,
   "metadata": {},
   "outputs": [
    {
     "name": "stdout",
     "output_type": "stream",
     "text": [
      "678340.0\n",
      "21\n"
     ]
    },
    {
     "name": "stderr",
     "output_type": "stream",
     "text": [
      "/home/mark/anaconda3/lib/python3.6/site-packages/pandas/core/indexing.py:189: SettingWithCopyWarning: \n",
      "A value is trying to be set on a copy of a slice from a DataFrame\n",
      "\n",
      "See the caveats in the documentation: http://pandas.pydata.org/pandas-docs/stable/indexing.html#indexing-view-versus-copy\n",
      "  self._setitem_with_indexer(indexer, value)\n"
     ]
    }
   ],
   "source": [
    "# Plan a route\n",
    "newtaxi = taxi_build_route(i, knn.index[1:])\n",
    "print(len(newtaxi))\n",
    "\n",
    "#Add to routes\n",
    "taxis.append(newtaxi)\n",
    "\n",
    "#Mark those taken\n",
    "mark_taken(df, newtaxi)"
   ]
  },
  {
   "cell_type": "code",
   "execution_count": 331,
   "metadata": {},
   "outputs": [
    {
     "data": {
      "text/plain": [
       "478771.4884847733"
      ]
     },
     "execution_count": 331,
     "metadata": {},
     "output_type": "execute_result"
    }
   ],
   "source": [
    "# Total distance of all taxis\n",
    "total_dist = np.sum([taxi_dist(item) for item in taxis])\n",
    "print(total_dist)"
   ]
  },
  {
   "cell_type": "code",
   "execution_count": 354,
   "metadata": {},
   "outputs": [
    {
     "data": {
      "text/plain": [
       "200"
      ]
     },
     "execution_count": 354,
     "metadata": {},
     "output_type": "execute_result"
    }
   ],
   "source": [
    "len(df)"
   ]
  },
  {
   "cell_type": "markdown",
   "metadata": {},
   "source": [
    "### In one loop"
   ]
  },
  {
   "cell_type": "code",
   "execution_count": 358,
   "metadata": {},
   "outputs": [
    {
     "data": {
      "text/plain": [
       "10000"
      ]
     },
     "execution_count": 358,
     "metadata": {},
     "output_type": "execute_result"
    }
   ],
   "source": [
    "df_full = df\n",
    "#df = df[0:500]\n",
    "df = df_full\n",
    "len(df)"
   ]
  },
  {
   "cell_type": "code",
   "execution_count": 130,
   "metadata": {},
   "outputs": [
    {
     "name": "stdout",
     "output_type": "stream",
     "text": [
      "Free remaining\n",
      "10000\n",
      "Free remaining\n",
      "9980\n"
     ]
    },
    {
     "name": "stderr",
     "output_type": "stream",
     "text": [
      "/home/max/anaconda3/lib/python3.6/site-packages/pandas/core/indexing.py:189: SettingWithCopyWarning: \n",
      "A value is trying to be set on a copy of a slice from a DataFrame\n",
      "\n",
      "See the caveats in the documentation: http://pandas.pydata.org/pandas-docs/stable/indexing.html#indexing-view-versus-copy\n",
      "  self._setitem_with_indexer(indexer, value)\n"
     ]
    },
    {
     "name": "stdout",
     "output_type": "stream",
     "text": [
      "Free remaining\n",
      "9959\n",
      "Free remaining\n",
      "9944\n",
      "Free remaining\n",
      "9924\n",
      "Free remaining\n",
      "9904\n",
      "Free remaining\n",
      "9883\n"
     ]
    },
    {
     "ename": "IndexError",
     "evalue": "index 9979 is out of bounds for axis 0 with size 9883",
     "output_type": "error",
     "traceback": [
      "\u001b[0;31m---------------------------------------------------------------------------\u001b[0m",
      "\u001b[0;31mIndexError\u001b[0m                                Traceback (most recent call last)",
      "\u001b[0;32m<ipython-input-130-203f40900df5>\u001b[0m in \u001b[0;36m<module>\u001b[0;34m()\u001b[0m\n\u001b[1;32m     25\u001b[0m     \u001b[0;31m# HERE\u001b[0m\u001b[0;34m\u001b[0m\u001b[0;34m\u001b[0m\u001b[0m\n\u001b[1;32m     26\u001b[0m     \u001b[0;31m#this = np_df[i]\u001b[0m\u001b[0;34m\u001b[0m\u001b[0;34m\u001b[0m\u001b[0m\n\u001b[0;32m---> 27\u001b[0;31m     \u001b[0mthis\u001b[0m \u001b[0;34m=\u001b[0m \u001b[0mnp_freeones\u001b[0m\u001b[0;34m[\u001b[0m\u001b[0mi\u001b[0m\u001b[0;34m]\u001b[0m\u001b[0;34m\u001b[0m\u001b[0m\n\u001b[0m\u001b[1;32m     28\u001b[0m     \u001b[0;31m# Each points distance to this one\u001b[0m\u001b[0;34m\u001b[0m\u001b[0;34m\u001b[0m\u001b[0m\n\u001b[1;32m     29\u001b[0m     \u001b[0;31m# FAULTY distances = freeones.apply(lambda row: distance(this, row), axis=1)\u001b[0m\u001b[0;34m\u001b[0m\u001b[0;34m\u001b[0m\u001b[0m\n",
      "\u001b[0;31mIndexError\u001b[0m: index 9979 is out of bounds for axis 0 with size 9883"
     ]
    }
   ],
   "source": [
    "'''Pick always item furthest from home\n",
    "   find 30 knn\n",
    "   by order of distance to 1st, if fits under 10 tons, add next\n",
    "   route, score: 12.8M (12837118)   \n",
    "   \n",
    "   route2: 16,9M\n",
    "   '''\n",
    "\n",
    "#Reset all to free\n",
    "df['sleigh']=-1\n",
    "taxis=[]\n",
    "\n",
    "# Get free ones\n",
    "free= df[df['sleigh']==-1]\n",
    "\n",
    "while len(free) >0:\n",
    "    freeones = free[['id','long','lat', 'weight']]\n",
    "\n",
    "    # Input required is np.arary with only coordinates, no id field\n",
    "    np_freeones = np.asarray(freeones[['long','lat']])\n",
    "    print('Free remaining'); print(len(freeones))\n",
    "\n",
    "#Pick NEXT gift (furthest from home) to pick up and its knn\n",
    "    #i =free['dist_korvatunturi'].idxmax()\n",
    "    \n",
    "    i = free.loc[free['dist_korvatunturi'].idxmax()]['id']\n",
    "    # HERE\n",
    "    #this = np_df[i]\n",
    "    this = np_freeones[i]\n",
    "    # Each points distance to this one\n",
    "    # FAULTY distances = freeones.apply(lambda row: distance(this, row), axis=1)\n",
    "    \n",
    "    distances =  [distance(this, row) for row in np_freeones] \n",
    "    distances = pd.Series(distances)\n",
    "    \n",
    "    knn = distances.nsmallest(30)\n",
    "\n",
    "# Plan a route\n",
    "    #newtaxi = taxi_build_route(i, knn.index[1:])\n",
    "    newtaxi = taxi_build_route(i, knn.index[1:])\n",
    "\n",
    "    #Add to routes\n",
    "    taxis.append(newtaxi)\n",
    "\n",
    "    #Mark those taken\n",
    "    mark_taken(df, newtaxi)\n",
    "    # Update free ones\n",
    "    free= df[df['sleigh']==-1]\n",
    "    \n",
    "# Total distance of all taxis\n",
    "print('Total distance of all routes')\n",
    "total_dist = np.sum([taxi_dist(item) for item in taxis])\n",
    "print(total_dist)"
   ]
  },
  {
   "cell_type": "code",
   "execution_count": null,
   "metadata": {},
   "outputs": [],
   "source": [
    "# free is assigned those of df with sleigh-1 in df.\n",
    "# free= df[df['sleigh']==-1]    \n",
    "#\n",
    "# argmax of highest is bigger number than len(free)\n",
    "# free['dist_korvatunturi'].idxmax() 9979\n",
    "# len(free): 9883\n",
    "\n",
    "#seems new df free has spaces in id and using only those got from df.\n",
    "\n",
    "# instead index, get the field 'id' in it\n",
    "# free.loc[9979]['id']\n",
    "# free.loc[free['dist_korvatunturi'].idxmax()]['id'], is 9981\n",
    "\n"
   ]
  },
  {
   "cell_type": "code",
   "execution_count": 181,
   "metadata": {},
   "outputs": [],
   "source": [
    "test_df = df[0:5]\n",
    "test_df = test_df.set_index('id')"
   ]
  },
  {
   "cell_type": "code",
   "execution_count": 182,
   "metadata": {},
   "outputs": [
    {
     "data": {
      "text/html": [
       "<div>\n",
       "<style scoped>\n",
       "    .dataframe tbody tr th:only-of-type {\n",
       "        vertical-align: middle;\n",
       "    }\n",
       "\n",
       "    .dataframe tbody tr th {\n",
       "        vertical-align: top;\n",
       "    }\n",
       "\n",
       "    .dataframe thead th {\n",
       "        text-align: right;\n",
       "    }\n",
       "</style>\n",
       "<table border=\"1\" class=\"dataframe\">\n",
       "  <thead>\n",
       "    <tr style=\"text-align: right;\">\n",
       "      <th></th>\n",
       "      <th>lat</th>\n",
       "      <th>long</th>\n",
       "      <th>weight</th>\n",
       "      <th>sleigh</th>\n",
       "      <th>dist_korvatunturi</th>\n",
       "    </tr>\n",
       "    <tr>\n",
       "      <th>id</th>\n",
       "      <th></th>\n",
       "      <th></th>\n",
       "      <th></th>\n",
       "      <th></th>\n",
       "      <th></th>\n",
       "    </tr>\n",
       "  </thead>\n",
       "  <tbody>\n",
       "    <tr>\n",
       "      <th>2</th>\n",
       "      <td>40.733034</td>\n",
       "      <td>-86.762233</td>\n",
       "      <td>342917</td>\n",
       "      <td>-1</td>\n",
       "      <td>6818.460780</td>\n",
       "    </tr>\n",
       "    <tr>\n",
       "      <th>3</th>\n",
       "      <td>43.029635</td>\n",
       "      <td>-91.094895</td>\n",
       "      <td>974703</td>\n",
       "      <td>-1</td>\n",
       "      <td>6716.931863</td>\n",
       "    </tr>\n",
       "    <tr>\n",
       "      <th>4</th>\n",
       "      <td>31.180215</td>\n",
       "      <td>16.596037</td>\n",
       "      <td>215099</td>\n",
       "      <td>0</td>\n",
       "      <td>4189.445884</td>\n",
       "    </tr>\n",
       "    <tr>\n",
       "      <th>5</th>\n",
       "      <td>-28.657398</td>\n",
       "      <td>-55.964951</td>\n",
       "      <td>568144</td>\n",
       "      <td>-1</td>\n",
       "      <td>12768.438477</td>\n",
       "    </tr>\n",
       "    <tr>\n",
       "      <th>6</th>\n",
       "      <td>36.186751</td>\n",
       "      <td>-86.355754</td>\n",
       "      <td>695570</td>\n",
       "      <td>0</td>\n",
       "      <td>7274.033239</td>\n",
       "    </tr>\n",
       "  </tbody>\n",
       "</table>\n",
       "</div>"
      ],
      "text/plain": [
       "          lat       long  weight  sleigh  dist_korvatunturi\n",
       "id                                                         \n",
       "2   40.733034 -86.762233  342917      -1        6818.460780\n",
       "3   43.029635 -91.094895  974703      -1        6716.931863\n",
       "4   31.180215  16.596037  215099       0        4189.445884\n",
       "5  -28.657398 -55.964951  568144      -1       12768.438477\n",
       "6   36.186751 -86.355754  695570       0        7274.033239"
      ]
     },
     "execution_count": 182,
     "metadata": {},
     "output_type": "execute_result"
    }
   ],
   "source": [
    "test_df"
   ]
  },
  {
   "cell_type": "code",
   "execution_count": 183,
   "metadata": {},
   "outputs": [
    {
     "name": "stderr",
     "output_type": "stream",
     "text": [
      "/home/max/anaconda3/lib/python3.6/site-packages/pandas/core/indexing.py:189: SettingWithCopyWarning: \n",
      "A value is trying to be set on a copy of a slice from a DataFrame\n",
      "\n",
      "See the caveats in the documentation: http://pandas.pydata.org/pandas-docs/stable/indexing.html#indexing-view-versus-copy\n",
      "  self._setitem_with_indexer(indexer, value)\n"
     ]
    },
    {
     "data": {
      "text/html": [
       "<div>\n",
       "<style scoped>\n",
       "    .dataframe tbody tr th:only-of-type {\n",
       "        vertical-align: middle;\n",
       "    }\n",
       "\n",
       "    .dataframe tbody tr th {\n",
       "        vertical-align: top;\n",
       "    }\n",
       "\n",
       "    .dataframe thead th {\n",
       "        text-align: right;\n",
       "    }\n",
       "</style>\n",
       "<table border=\"1\" class=\"dataframe\">\n",
       "  <thead>\n",
       "    <tr style=\"text-align: right;\">\n",
       "      <th></th>\n",
       "      <th>lat</th>\n",
       "      <th>long</th>\n",
       "      <th>weight</th>\n",
       "      <th>sleigh</th>\n",
       "      <th>dist_korvatunturi</th>\n",
       "    </tr>\n",
       "    <tr>\n",
       "      <th>id</th>\n",
       "      <th></th>\n",
       "      <th></th>\n",
       "      <th></th>\n",
       "      <th></th>\n",
       "      <th></th>\n",
       "    </tr>\n",
       "  </thead>\n",
       "  <tbody>\n",
       "    <tr>\n",
       "      <th>2</th>\n",
       "      <td>40.733034</td>\n",
       "      <td>-86.762233</td>\n",
       "      <td>342917</td>\n",
       "      <td>0</td>\n",
       "      <td>6818.460780</td>\n",
       "    </tr>\n",
       "    <tr>\n",
       "      <th>3</th>\n",
       "      <td>43.029635</td>\n",
       "      <td>-91.094895</td>\n",
       "      <td>974703</td>\n",
       "      <td>-1</td>\n",
       "      <td>6716.931863</td>\n",
       "    </tr>\n",
       "    <tr>\n",
       "      <th>4</th>\n",
       "      <td>31.180215</td>\n",
       "      <td>16.596037</td>\n",
       "      <td>215099</td>\n",
       "      <td>0</td>\n",
       "      <td>4189.445884</td>\n",
       "    </tr>\n",
       "    <tr>\n",
       "      <th>5</th>\n",
       "      <td>-28.657398</td>\n",
       "      <td>-55.964951</td>\n",
       "      <td>568144</td>\n",
       "      <td>-1</td>\n",
       "      <td>12768.438477</td>\n",
       "    </tr>\n",
       "    <tr>\n",
       "      <th>6</th>\n",
       "      <td>36.186751</td>\n",
       "      <td>-86.355754</td>\n",
       "      <td>695570</td>\n",
       "      <td>0</td>\n",
       "      <td>7274.033239</td>\n",
       "    </tr>\n",
       "  </tbody>\n",
       "</table>\n",
       "</div>"
      ],
      "text/plain": [
       "          lat       long  weight  sleigh  dist_korvatunturi\n",
       "id                                                         \n",
       "2   40.733034 -86.762233  342917       0        6818.460780\n",
       "3   43.029635 -91.094895  974703      -1        6716.931863\n",
       "4   31.180215  16.596037  215099       0        4189.445884\n",
       "5  -28.657398 -55.964951  568144      -1       12768.438477\n",
       "6   36.186751 -86.355754  695570       0        7274.033239"
      ]
     },
     "execution_count": 183,
     "metadata": {},
     "output_type": "execute_result"
    }
   ],
   "source": [
    "# test\n",
    "test_df = df[0:5]\n",
    "test_df = test_df.set_index('id')\n",
    "test_df['sleigh'].loc[2]=0\n",
    "test_df['sleigh'].loc[4]=0\n",
    "test_df"
   ]
  },
  {
   "cell_type": "code",
   "execution_count": 184,
   "metadata": {},
   "outputs": [
    {
     "data": {
      "text/html": [
       "<div>\n",
       "<style scoped>\n",
       "    .dataframe tbody tr th:only-of-type {\n",
       "        vertical-align: middle;\n",
       "    }\n",
       "\n",
       "    .dataframe tbody tr th {\n",
       "        vertical-align: top;\n",
       "    }\n",
       "\n",
       "    .dataframe thead th {\n",
       "        text-align: right;\n",
       "    }\n",
       "</style>\n",
       "<table border=\"1\" class=\"dataframe\">\n",
       "  <thead>\n",
       "    <tr style=\"text-align: right;\">\n",
       "      <th></th>\n",
       "      <th>lat</th>\n",
       "      <th>long</th>\n",
       "      <th>weight</th>\n",
       "      <th>sleigh</th>\n",
       "      <th>dist_korvatunturi</th>\n",
       "    </tr>\n",
       "    <tr>\n",
       "      <th>id</th>\n",
       "      <th></th>\n",
       "      <th></th>\n",
       "      <th></th>\n",
       "      <th></th>\n",
       "      <th></th>\n",
       "    </tr>\n",
       "  </thead>\n",
       "  <tbody>\n",
       "    <tr>\n",
       "      <th>2</th>\n",
       "      <td>40.733034</td>\n",
       "      <td>-86.762233</td>\n",
       "      <td>342917</td>\n",
       "      <td>0</td>\n",
       "      <td>6818.460780</td>\n",
       "    </tr>\n",
       "    <tr>\n",
       "      <th>4</th>\n",
       "      <td>31.180215</td>\n",
       "      <td>16.596037</td>\n",
       "      <td>215099</td>\n",
       "      <td>0</td>\n",
       "      <td>4189.445884</td>\n",
       "    </tr>\n",
       "    <tr>\n",
       "      <th>6</th>\n",
       "      <td>36.186751</td>\n",
       "      <td>-86.355754</td>\n",
       "      <td>695570</td>\n",
       "      <td>0</td>\n",
       "      <td>7274.033239</td>\n",
       "    </tr>\n",
       "  </tbody>\n",
       "</table>\n",
       "</div>"
      ],
      "text/plain": [
       "          lat       long  weight  sleigh  dist_korvatunturi\n",
       "id                                                         \n",
       "2   40.733034 -86.762233  342917       0        6818.460780\n",
       "4   31.180215  16.596037  215099       0        4189.445884\n",
       "6   36.186751 -86.355754  695570       0        7274.033239"
      ]
     },
     "execution_count": 184,
     "metadata": {},
     "output_type": "execute_result"
    }
   ],
   "source": [
    "test2_df = test_df[test_df['sleigh']==0]\n",
    "test2_df"
   ]
  },
  {
   "cell_type": "code",
   "execution_count": null,
   "metadata": {},
   "outputs": [],
   "source": []
  },
  {
   "cell_type": "code",
   "execution_count": 149,
   "metadata": {},
   "outputs": [
    {
     "data": {
      "text/plain": [
       "pandas.core.frame.DataFrame"
      ]
     },
     "execution_count": 149,
     "metadata": {},
     "output_type": "execute_result"
    }
   ],
   "source": [
    "type(free)"
   ]
  },
  {
   "cell_type": "code",
   "execution_count": 152,
   "metadata": {},
   "outputs": [
    {
     "data": {
      "text/plain": [
       "9883"
      ]
     },
     "execution_count": 152,
     "metadata": {},
     "output_type": "execute_result"
    }
   ],
   "source": [
    "len(free)"
   ]
  },
  {
   "cell_type": "code",
   "execution_count": null,
   "metadata": {},
   "outputs": [],
   "source": [
    "free.set_index('id', inplace=True)"
   ]
  },
  {
   "cell_type": "code",
   "execution_count": 188,
   "metadata": {},
   "outputs": [
    {
     "data": {
      "text/html": [
       "<div>\n",
       "<style scoped>\n",
       "    .dataframe tbody tr th:only-of-type {\n",
       "        vertical-align: middle;\n",
       "    }\n",
       "\n",
       "    .dataframe tbody tr th {\n",
       "        vertical-align: top;\n",
       "    }\n",
       "\n",
       "    .dataframe thead th {\n",
       "        text-align: right;\n",
       "    }\n",
       "</style>\n",
       "<table border=\"1\" class=\"dataframe\">\n",
       "  <thead>\n",
       "    <tr style=\"text-align: right;\">\n",
       "      <th></th>\n",
       "      <th>lat</th>\n",
       "      <th>long</th>\n",
       "      <th>weight</th>\n",
       "      <th>sleigh</th>\n",
       "      <th>dist_korvatunturi</th>\n",
       "    </tr>\n",
       "    <tr>\n",
       "      <th>id</th>\n",
       "      <th></th>\n",
       "      <th></th>\n",
       "      <th></th>\n",
       "      <th></th>\n",
       "      <th></th>\n",
       "    </tr>\n",
       "  </thead>\n",
       "  <tbody>\n",
       "    <tr>\n",
       "      <th>2</th>\n",
       "      <td>40.733034</td>\n",
       "      <td>-86.762233</td>\n",
       "      <td>342917</td>\n",
       "      <td>-1</td>\n",
       "      <td>6818.460780</td>\n",
       "    </tr>\n",
       "    <tr>\n",
       "      <th>3</th>\n",
       "      <td>43.029635</td>\n",
       "      <td>-91.094895</td>\n",
       "      <td>974703</td>\n",
       "      <td>-1</td>\n",
       "      <td>6716.931863</td>\n",
       "    </tr>\n",
       "  </tbody>\n",
       "</table>\n",
       "</div>"
      ],
      "text/plain": [
       "          lat       long  weight  sleigh  dist_korvatunturi\n",
       "id                                                         \n",
       "2   40.733034 -86.762233  342917      -1        6818.460780\n",
       "3   43.029635 -91.094895  974703      -1        6716.931863"
      ]
     },
     "execution_count": 188,
     "metadata": {},
     "output_type": "execute_result"
    }
   ],
   "source": [
    "free[0:2]"
   ]
  },
  {
   "cell_type": "code",
   "execution_count": 189,
   "metadata": {},
   "outputs": [
    {
     "data": {
      "text/plain": [
       "9981"
      ]
     },
     "execution_count": 189,
     "metadata": {},
     "output_type": "execute_result"
    }
   ],
   "source": [
    "free['dist_korvatunturi'].idxmax()"
   ]
  },
  {
   "cell_type": "code",
   "execution_count": 200,
   "metadata": {},
   "outputs": [
    {
     "data": {
      "text/plain": [
       "lat                     -43.524502\n",
       "long                    172.636436\n",
       "weight               557069.000000\n",
       "sleigh                   -1.000000\n",
       "dist_korvatunturi     16571.756074\n",
       "Name: 9981, dtype: float64"
      ]
     },
     "execution_count": 200,
     "metadata": {},
     "output_type": "execute_result"
    }
   ],
   "source": [
    "free.loc[9981]"
   ]
  },
  {
   "cell_type": "code",
   "execution_count": 202,
   "metadata": {},
   "outputs": [
    {
     "data": {
      "text/plain": [
       "lat                      40.733034\n",
       "long                    -86.762233\n",
       "weight               342917.000000\n",
       "sleigh                   -1.000000\n",
       "dist_korvatunturi      6818.460780\n",
       "Name: 2, dtype: float64"
      ]
     },
     "execution_count": 202,
     "metadata": {},
     "output_type": "execute_result"
    }
   ],
   "source": [
    "free.iloc[0]"
   ]
  },
  {
   "cell_type": "code",
   "execution_count": 153,
   "metadata": {},
   "outputs": [
    {
     "data": {
      "text/plain": [
       "9979"
      ]
     },
     "execution_count": 153,
     "metadata": {},
     "output_type": "execute_result"
    }
   ],
   "source": [
    "free['dist_korvatunturi'].idxmax()"
   ]
  },
  {
   "cell_type": "code",
   "execution_count": 148,
   "metadata": {},
   "outputs": [
    {
     "data": {
      "text/plain": [
       "16571.756074275425"
      ]
     },
     "execution_count": 148,
     "metadata": {},
     "output_type": "execute_result"
    }
   ],
   "source": [
    "free['dist_korvatunturi'].max()"
   ]
  },
  {
   "cell_type": "code",
   "execution_count": 161,
   "metadata": {},
   "outputs": [
    {
     "data": {
      "text/plain": [
       "9981.0"
      ]
     },
     "execution_count": 161,
     "metadata": {},
     "output_type": "execute_result"
    }
   ],
   "source": [
    "free.loc[free['dist_korvatunturi'].idxmax()]['id']"
   ]
  },
  {
   "cell_type": "code",
   "execution_count": 158,
   "metadata": {},
   "outputs": [
    {
     "data": {
      "text/plain": [
       "9981.0"
      ]
     },
     "execution_count": 158,
     "metadata": {},
     "output_type": "execute_result"
    }
   ],
   "source": [
    "free.loc[9979]['id']"
   ]
  },
  {
   "cell_type": "code",
   "execution_count": 133,
   "metadata": {},
   "outputs": [
    {
     "data": {
      "text/plain": [
       "9883"
      ]
     },
     "execution_count": 133,
     "metadata": {},
     "output_type": "execute_result"
    }
   ],
   "source": [
    "len(free)"
   ]
  },
  {
   "cell_type": "code",
   "execution_count": 160,
   "metadata": {},
   "outputs": [
    {
     "ename": "IndexError",
     "evalue": "index 9981 is out of bounds for axis 0 with size 9883",
     "output_type": "error",
     "traceback": [
      "\u001b[0;31m---------------------------------------------------------------------------\u001b[0m",
      "\u001b[0;31mIndexError\u001b[0m                                Traceback (most recent call last)",
      "\u001b[0;32m<ipython-input-160-3342c72f2ca4>\u001b[0m in \u001b[0;36m<module>\u001b[0;34m()\u001b[0m\n\u001b[0;32m----> 1\u001b[0;31m \u001b[0mnp_freeones\u001b[0m\u001b[0;34m[\u001b[0m\u001b[0;36m9981\u001b[0m\u001b[0;34m]\u001b[0m\u001b[0;34m\u001b[0m\u001b[0m\n\u001b[0m",
      "\u001b[0;31mIndexError\u001b[0m: index 9981 is out of bounds for axis 0 with size 9883"
     ]
    }
   ],
   "source": [
    "np_freeones[9981]"
   ]
  },
  {
   "cell_type": "code",
   "execution_count": 163,
   "metadata": {},
   "outputs": [
    {
     "data": {
      "text/plain": [
       "array([ -88.744593,   44.389955, 9983.      ])"
      ]
     },
     "execution_count": 163,
     "metadata": {},
     "output_type": "execute_result"
    }
   ],
   "source": [
    "np_df[9981]"
   ]
  },
  {
   "cell_type": "code",
   "execution_count": 165,
   "metadata": {},
   "outputs": [
    {
     "ename": "IndexError",
     "evalue": "only integers, slices (`:`), ellipsis (`...`), numpy.newaxis (`None`) and integer or boolean arrays are valid indices",
     "output_type": "error",
     "traceback": [
      "\u001b[0;31m---------------------------------------------------------------------------\u001b[0m",
      "\u001b[0;31mIndexError\u001b[0m                                Traceback (most recent call last)",
      "\u001b[0;32m<ipython-input-165-b4ef9180b210>\u001b[0m in \u001b[0;36m<module>\u001b[0;34m()\u001b[0m\n\u001b[0;32m----> 1\u001b[0;31m \u001b[0mnp_df\u001b[0m\u001b[0;34m[\u001b[0m\u001b[0;34m'id'\u001b[0m\u001b[0;34m]\u001b[0m\u001b[0;34m==\u001b[0m\u001b[0;36m9981\u001b[0m\u001b[0;34m\u001b[0m\u001b[0m\n\u001b[0m",
      "\u001b[0;31mIndexError\u001b[0m: only integers, slices (`:`), ellipsis (`...`), numpy.newaxis (`None`) and integer or boolean arrays are valid indices"
     ]
    }
   ],
   "source": [
    "np_df['id']==9981"
   ]
  },
  {
   "cell_type": "code",
   "execution_count": 138,
   "metadata": {},
   "outputs": [
    {
     "data": {
      "text/html": [
       "<div>\n",
       "<style scoped>\n",
       "    .dataframe tbody tr th:only-of-type {\n",
       "        vertical-align: middle;\n",
       "    }\n",
       "\n",
       "    .dataframe tbody tr th {\n",
       "        vertical-align: top;\n",
       "    }\n",
       "\n",
       "    .dataframe thead th {\n",
       "        text-align: right;\n",
       "    }\n",
       "</style>\n",
       "<table border=\"1\" class=\"dataframe\">\n",
       "  <thead>\n",
       "    <tr style=\"text-align: right;\">\n",
       "      <th></th>\n",
       "      <th>id</th>\n",
       "      <th>lat</th>\n",
       "      <th>long</th>\n",
       "      <th>weight</th>\n",
       "      <th>sleigh</th>\n",
       "      <th>dist_korvatunturi</th>\n",
       "    </tr>\n",
       "  </thead>\n",
       "  <tbody>\n",
       "    <tr>\n",
       "      <th>0</th>\n",
       "      <td>2</td>\n",
       "      <td>40.733034</td>\n",
       "      <td>-86.762233</td>\n",
       "      <td>342917</td>\n",
       "      <td>-1</td>\n",
       "      <td>6818.460780</td>\n",
       "    </tr>\n",
       "    <tr>\n",
       "      <th>1</th>\n",
       "      <td>3</td>\n",
       "      <td>43.029635</td>\n",
       "      <td>-91.094895</td>\n",
       "      <td>974703</td>\n",
       "      <td>-1</td>\n",
       "      <td>6716.931863</td>\n",
       "    </tr>\n",
       "    <tr>\n",
       "      <th>2</th>\n",
       "      <td>4</td>\n",
       "      <td>31.180215</td>\n",
       "      <td>16.596037</td>\n",
       "      <td>215099</td>\n",
       "      <td>-1</td>\n",
       "      <td>4189.445884</td>\n",
       "    </tr>\n",
       "    <tr>\n",
       "      <th>3</th>\n",
       "      <td>5</td>\n",
       "      <td>-28.657398</td>\n",
       "      <td>-55.964951</td>\n",
       "      <td>568144</td>\n",
       "      <td>-1</td>\n",
       "      <td>12768.438477</td>\n",
       "    </tr>\n",
       "    <tr>\n",
       "      <th>4</th>\n",
       "      <td>6</td>\n",
       "      <td>36.186751</td>\n",
       "      <td>-86.355754</td>\n",
       "      <td>695570</td>\n",
       "      <td>-1</td>\n",
       "      <td>7274.033239</td>\n",
       "    </tr>\n",
       "    <tr>\n",
       "      <th>5</th>\n",
       "      <td>7</td>\n",
       "      <td>47.796114</td>\n",
       "      <td>-122.282910</td>\n",
       "      <td>707350</td>\n",
       "      <td>-1</td>\n",
       "      <td>6922.960180</td>\n",
       "    </tr>\n",
       "    <tr>\n",
       "      <th>6</th>\n",
       "      <td>8</td>\n",
       "      <td>33.577877</td>\n",
       "      <td>71.409199</td>\n",
       "      <td>991585</td>\n",
       "      <td>-1</td>\n",
       "      <td>4667.945161</td>\n",
       "    </tr>\n",
       "    <tr>\n",
       "      <th>7</th>\n",
       "      <td>9</td>\n",
       "      <td>41.605594</td>\n",
       "      <td>-87.910040</td>\n",
       "      <td>857192</td>\n",
       "      <td>-1</td>\n",
       "      <td>6765.372351</td>\n",
       "    </tr>\n",
       "    <tr>\n",
       "      <th>8</th>\n",
       "      <td>10</td>\n",
       "      <td>44.383324</td>\n",
       "      <td>21.252033</td>\n",
       "      <td>18226</td>\n",
       "      <td>-1</td>\n",
       "      <td>2678.706012</td>\n",
       "    </tr>\n",
       "    <tr>\n",
       "      <th>9</th>\n",
       "      <td>11</td>\n",
       "      <td>51.633882</td>\n",
       "      <td>-3.968193</td>\n",
       "      <td>79124</td>\n",
       "      <td>-1</td>\n",
       "      <td>2550.572986</td>\n",
       "    </tr>\n",
       "    <tr>\n",
       "      <th>10</th>\n",
       "      <td>12</td>\n",
       "      <td>40.834018</td>\n",
       "      <td>-73.997322</td>\n",
       "      <td>570462</td>\n",
       "      <td>-1</td>\n",
       "      <td>6368.798098</td>\n",
       "    </tr>\n",
       "    <tr>\n",
       "      <th>11</th>\n",
       "      <td>13</td>\n",
       "      <td>41.698069</td>\n",
       "      <td>-74.380440</td>\n",
       "      <td>316232</td>\n",
       "      <td>-1</td>\n",
       "      <td>6296.018052</td>\n",
       "    </tr>\n",
       "    <tr>\n",
       "      <th>12</th>\n",
       "      <td>14</td>\n",
       "      <td>39.538161</td>\n",
       "      <td>-83.419700</td>\n",
       "      <td>507879</td>\n",
       "      <td>-1</td>\n",
       "      <td>6830.821149</td>\n",
       "    </tr>\n",
       "    <tr>\n",
       "      <th>13</th>\n",
       "      <td>15</td>\n",
       "      <td>19.242101</td>\n",
       "      <td>73.154111</td>\n",
       "      <td>289870</td>\n",
       "      <td>-1</td>\n",
       "      <td>6227.426516</td>\n",
       "    </tr>\n",
       "    <tr>\n",
       "      <th>14</th>\n",
       "      <td>16</td>\n",
       "      <td>49.982001</td>\n",
       "      <td>8.251541</td>\n",
       "      <td>987331</td>\n",
       "      <td>-1</td>\n",
       "      <td>2320.934833</td>\n",
       "    </tr>\n",
       "    <tr>\n",
       "      <th>15</th>\n",
       "      <td>17</td>\n",
       "      <td>10.743668</td>\n",
       "      <td>121.924362</td>\n",
       "      <td>81740</td>\n",
       "      <td>-1</td>\n",
       "      <td>9018.001655</td>\n",
       "    </tr>\n",
       "    <tr>\n",
       "      <th>16</th>\n",
       "      <td>18</td>\n",
       "      <td>31.353199</td>\n",
       "      <td>-92.416000</td>\n",
       "      <td>368605</td>\n",
       "      <td>-1</td>\n",
       "      <td>7974.930659</td>\n",
       "    </tr>\n",
       "    <tr>\n",
       "      <th>17</th>\n",
       "      <td>19</td>\n",
       "      <td>33.158259</td>\n",
       "      <td>-102.281902</td>\n",
       "      <td>879555</td>\n",
       "      <td>-1</td>\n",
       "      <td>8076.203683</td>\n",
       "    </tr>\n",
       "    <tr>\n",
       "      <th>18</th>\n",
       "      <td>20</td>\n",
       "      <td>34.972595</td>\n",
       "      <td>-80.139396</td>\n",
       "      <td>321700</td>\n",
       "      <td>-1</td>\n",
       "      <td>7184.900331</td>\n",
       "    </tr>\n",
       "    <tr>\n",
       "      <th>19</th>\n",
       "      <td>21</td>\n",
       "      <td>51.616369</td>\n",
       "      <td>-2.495535</td>\n",
       "      <td>345460</td>\n",
       "      <td>-1</td>\n",
       "      <td>2499.219331</td>\n",
       "    </tr>\n",
       "    <tr>\n",
       "      <th>20</th>\n",
       "      <td>22</td>\n",
       "      <td>29.618606</td>\n",
       "      <td>-82.597168</td>\n",
       "      <td>760810</td>\n",
       "      <td>-1</td>\n",
       "      <td>7824.012035</td>\n",
       "    </tr>\n",
       "    <tr>\n",
       "      <th>21</th>\n",
       "      <td>23</td>\n",
       "      <td>42.736951</td>\n",
       "      <td>-105.394577</td>\n",
       "      <td>197827</td>\n",
       "      <td>-1</td>\n",
       "      <td>7136.898168</td>\n",
       "    </tr>\n",
       "    <tr>\n",
       "      <th>22</th>\n",
       "      <td>24</td>\n",
       "      <td>27.755868</td>\n",
       "      <td>-97.368618</td>\n",
       "      <td>735397</td>\n",
       "      <td>-1</td>\n",
       "      <td>8508.135163</td>\n",
       "    </tr>\n",
       "    <tr>\n",
       "      <th>23</th>\n",
       "      <td>25</td>\n",
       "      <td>-8.705725</td>\n",
       "      <td>115.159397</td>\n",
       "      <td>777890</td>\n",
       "      <td>-1</td>\n",
       "      <td>10745.040170</td>\n",
       "    </tr>\n",
       "    <tr>\n",
       "      <th>24</th>\n",
       "      <td>26</td>\n",
       "      <td>34.865644</td>\n",
       "      <td>114.360735</td>\n",
       "      <td>288165</td>\n",
       "      <td>-1</td>\n",
       "      <td>6252.424627</td>\n",
       "    </tr>\n",
       "    <tr>\n",
       "      <th>25</th>\n",
       "      <td>27</td>\n",
       "      <td>56.113340</td>\n",
       "      <td>27.547673</td>\n",
       "      <td>794277</td>\n",
       "      <td>-1</td>\n",
       "      <td>1334.428283</td>\n",
       "    </tr>\n",
       "    <tr>\n",
       "      <th>26</th>\n",
       "      <td>28</td>\n",
       "      <td>42.987689</td>\n",
       "      <td>-87.983209</td>\n",
       "      <td>585135</td>\n",
       "      <td>-1</td>\n",
       "      <td>6625.541764</td>\n",
       "    </tr>\n",
       "    <tr>\n",
       "      <th>27</th>\n",
       "      <td>29</td>\n",
       "      <td>-8.438550</td>\n",
       "      <td>118.770968</td>\n",
       "      <td>878328</td>\n",
       "      <td>-1</td>\n",
       "      <td>10866.917362</td>\n",
       "    </tr>\n",
       "    <tr>\n",
       "      <th>28</th>\n",
       "      <td>30</td>\n",
       "      <td>39.555900</td>\n",
       "      <td>32.135349</td>\n",
       "      <td>143472</td>\n",
       "      <td>-1</td>\n",
       "      <td>3179.163543</td>\n",
       "    </tr>\n",
       "    <tr>\n",
       "      <th>29</th>\n",
       "      <td>31</td>\n",
       "      <td>26.024972</td>\n",
       "      <td>-80.127321</td>\n",
       "      <td>844048</td>\n",
       "      <td>-1</td>\n",
       "      <td>8106.394930</td>\n",
       "    </tr>\n",
       "    <tr>\n",
       "      <th>...</th>\n",
       "      <td>...</td>\n",
       "      <td>...</td>\n",
       "      <td>...</td>\n",
       "      <td>...</td>\n",
       "      <td>...</td>\n",
       "      <td>...</td>\n",
       "    </tr>\n",
       "    <tr>\n",
       "      <th>9970</th>\n",
       "      <td>9972</td>\n",
       "      <td>-8.290330</td>\n",
       "      <td>-35.044999</td>\n",
       "      <td>277257</td>\n",
       "      <td>-1</td>\n",
       "      <td>9851.843109</td>\n",
       "    </tr>\n",
       "    <tr>\n",
       "      <th>9971</th>\n",
       "      <td>9973</td>\n",
       "      <td>-17.828822</td>\n",
       "      <td>-63.175804</td>\n",
       "      <td>246954</td>\n",
       "      <td>-1</td>\n",
       "      <td>11958.375923</td>\n",
       "    </tr>\n",
       "    <tr>\n",
       "      <th>9972</th>\n",
       "      <td>9974</td>\n",
       "      <td>25.177346</td>\n",
       "      <td>75.813857</td>\n",
       "      <td>692910</td>\n",
       "      <td>-1</td>\n",
       "      <td>5693.930539</td>\n",
       "    </tr>\n",
       "    <tr>\n",
       "      <th>9973</th>\n",
       "      <td>9975</td>\n",
       "      <td>37.786559</td>\n",
       "      <td>-120.987502</td>\n",
       "      <td>919015</td>\n",
       "      <td>-1</td>\n",
       "      <td>7994.469997</td>\n",
       "    </tr>\n",
       "    <tr>\n",
       "      <th>9974</th>\n",
       "      <td>9976</td>\n",
       "      <td>35.194168</td>\n",
       "      <td>-6.170061</td>\n",
       "      <td>590899</td>\n",
       "      <td>-1</td>\n",
       "      <td>4280.294952</td>\n",
       "    </tr>\n",
       "    <tr>\n",
       "      <th>9975</th>\n",
       "      <td>9977</td>\n",
       "      <td>32.012479</td>\n",
       "      <td>-93.701526</td>\n",
       "      <td>329065</td>\n",
       "      <td>-1</td>\n",
       "      <td>7946.211413</td>\n",
       "    </tr>\n",
       "    <tr>\n",
       "      <th>9976</th>\n",
       "      <td>9978</td>\n",
       "      <td>-15.111948</td>\n",
       "      <td>39.299749</td>\n",
       "      <td>280817</td>\n",
       "      <td>-1</td>\n",
       "      <td>9295.034680</td>\n",
       "    </tr>\n",
       "    <tr>\n",
       "      <th>9977</th>\n",
       "      <td>9979</td>\n",
       "      <td>45.734130</td>\n",
       "      <td>-87.070321</td>\n",
       "      <td>125998</td>\n",
       "      <td>-1</td>\n",
       "      <td>6315.838940</td>\n",
       "    </tr>\n",
       "    <tr>\n",
       "      <th>9978</th>\n",
       "      <td>9980</td>\n",
       "      <td>39.478021</td>\n",
       "      <td>-0.423334</td>\n",
       "      <td>618854</td>\n",
       "      <td>-1</td>\n",
       "      <td>3657.166722</td>\n",
       "    </tr>\n",
       "    <tr>\n",
       "      <th>9979</th>\n",
       "      <td>9981</td>\n",
       "      <td>-43.524502</td>\n",
       "      <td>172.636436</td>\n",
       "      <td>557069</td>\n",
       "      <td>-1</td>\n",
       "      <td>16571.756074</td>\n",
       "    </tr>\n",
       "    <tr>\n",
       "      <th>9980</th>\n",
       "      <td>9982</td>\n",
       "      <td>32.117611</td>\n",
       "      <td>114.041297</td>\n",
       "      <td>745762</td>\n",
       "      <td>-1</td>\n",
       "      <td>6513.746353</td>\n",
       "    </tr>\n",
       "    <tr>\n",
       "      <th>9981</th>\n",
       "      <td>9983</td>\n",
       "      <td>44.389955</td>\n",
       "      <td>-88.744593</td>\n",
       "      <td>948764</td>\n",
       "      <td>-1</td>\n",
       "      <td>6505.183100</td>\n",
       "    </tr>\n",
       "    <tr>\n",
       "      <th>9982</th>\n",
       "      <td>9984</td>\n",
       "      <td>6.844774</td>\n",
       "      <td>7.374079</td>\n",
       "      <td>719787</td>\n",
       "      <td>-1</td>\n",
       "      <td>7009.629862</td>\n",
       "    </tr>\n",
       "    <tr>\n",
       "      <th>9983</th>\n",
       "      <td>9985</td>\n",
       "      <td>10.496373</td>\n",
       "      <td>-73.249598</td>\n",
       "      <td>459367</td>\n",
       "      <td>-1</td>\n",
       "      <td>9449.373636</td>\n",
       "    </tr>\n",
       "    <tr>\n",
       "      <th>9984</th>\n",
       "      <td>9986</td>\n",
       "      <td>34.345930</td>\n",
       "      <td>-89.499381</td>\n",
       "      <td>183863</td>\n",
       "      <td>-1</td>\n",
       "      <td>7568.375490</td>\n",
       "    </tr>\n",
       "    <tr>\n",
       "      <th>9985</th>\n",
       "      <td>9987</td>\n",
       "      <td>51.241193</td>\n",
       "      <td>7.164080</td>\n",
       "      <td>552537</td>\n",
       "      <td>-1</td>\n",
       "      <td>2222.444757</td>\n",
       "    </tr>\n",
       "    <tr>\n",
       "      <th>9986</th>\n",
       "      <td>9988</td>\n",
       "      <td>46.601832</td>\n",
       "      <td>15.001692</td>\n",
       "      <td>303049</td>\n",
       "      <td>-1</td>\n",
       "      <td>2525.318950</td>\n",
       "    </tr>\n",
       "    <tr>\n",
       "      <th>9987</th>\n",
       "      <td>9989</td>\n",
       "      <td>35.049056</td>\n",
       "      <td>-85.067591</td>\n",
       "      <td>479246</td>\n",
       "      <td>-1</td>\n",
       "      <td>7348.343521</td>\n",
       "    </tr>\n",
       "    <tr>\n",
       "      <th>9988</th>\n",
       "      <td>9990</td>\n",
       "      <td>-27.180280</td>\n",
       "      <td>151.255799</td>\n",
       "      <td>958448</td>\n",
       "      <td>-1</td>\n",
       "      <td>14118.689137</td>\n",
       "    </tr>\n",
       "    <tr>\n",
       "      <th>9989</th>\n",
       "      <td>9991</td>\n",
       "      <td>45.778298</td>\n",
       "      <td>19.127626</td>\n",
       "      <td>789397</td>\n",
       "      <td>-1</td>\n",
       "      <td>2549.992573</td>\n",
       "    </tr>\n",
       "    <tr>\n",
       "      <th>9990</th>\n",
       "      <td>9992</td>\n",
       "      <td>40.898223</td>\n",
       "      <td>-74.508095</td>\n",
       "      <td>700007</td>\n",
       "      <td>-1</td>\n",
       "      <td>6380.905018</td>\n",
       "    </tr>\n",
       "    <tr>\n",
       "      <th>9991</th>\n",
       "      <td>9993</td>\n",
       "      <td>40.449835</td>\n",
       "      <td>-74.320241</td>\n",
       "      <td>483386</td>\n",
       "      <td>-1</td>\n",
       "      <td>6419.143108</td>\n",
       "    </tr>\n",
       "    <tr>\n",
       "      <th>9992</th>\n",
       "      <td>9994</td>\n",
       "      <td>35.082312</td>\n",
       "      <td>-89.947683</td>\n",
       "      <td>617217</td>\n",
       "      <td>-1</td>\n",
       "      <td>7506.149447</td>\n",
       "    </tr>\n",
       "    <tr>\n",
       "      <th>9993</th>\n",
       "      <td>9995</td>\n",
       "      <td>-24.637373</td>\n",
       "      <td>17.979283</td>\n",
       "      <td>372729</td>\n",
       "      <td>-1</td>\n",
       "      <td>10362.604937</td>\n",
       "    </tr>\n",
       "    <tr>\n",
       "      <th>9994</th>\n",
       "      <td>9996</td>\n",
       "      <td>0.710036</td>\n",
       "      <td>30.065800</td>\n",
       "      <td>190442</td>\n",
       "      <td>-1</td>\n",
       "      <td>7498.939154</td>\n",
       "    </tr>\n",
       "    <tr>\n",
       "      <th>9995</th>\n",
       "      <td>9997</td>\n",
       "      <td>7.346531</td>\n",
       "      <td>134.460417</td>\n",
       "      <td>177074</td>\n",
       "      <td>-1</td>\n",
       "      <td>9879.097716</td>\n",
       "    </tr>\n",
       "    <tr>\n",
       "      <th>9996</th>\n",
       "      <td>9998</td>\n",
       "      <td>40.702376</td>\n",
       "      <td>-78.210798</td>\n",
       "      <td>752916</td>\n",
       "      <td>-1</td>\n",
       "      <td>6532.901194</td>\n",
       "    </tr>\n",
       "    <tr>\n",
       "      <th>9997</th>\n",
       "      <td>9999</td>\n",
       "      <td>33.463295</td>\n",
       "      <td>-84.314389</td>\n",
       "      <td>54772</td>\n",
       "      <td>-1</td>\n",
       "      <td>7486.475276</td>\n",
       "    </tr>\n",
       "    <tr>\n",
       "      <th>9998</th>\n",
       "      <td>10000</td>\n",
       "      <td>34.091971</td>\n",
       "      <td>134.530749</td>\n",
       "      <td>46559</td>\n",
       "      <td>-1</td>\n",
       "      <td>7121.127819</td>\n",
       "    </tr>\n",
       "    <tr>\n",
       "      <th>9999</th>\n",
       "      <td>10001</td>\n",
       "      <td>-22.551150</td>\n",
       "      <td>-63.770996</td>\n",
       "      <td>663913</td>\n",
       "      <td>-1</td>\n",
       "      <td>12465.640401</td>\n",
       "    </tr>\n",
       "  </tbody>\n",
       "</table>\n",
       "<p>9883 rows × 6 columns</p>\n",
       "</div>"
      ],
      "text/plain": [
       "         id        lat        long  weight  sleigh  dist_korvatunturi\n",
       "0         2  40.733034  -86.762233  342917      -1        6818.460780\n",
       "1         3  43.029635  -91.094895  974703      -1        6716.931863\n",
       "2         4  31.180215   16.596037  215099      -1        4189.445884\n",
       "3         5 -28.657398  -55.964951  568144      -1       12768.438477\n",
       "4         6  36.186751  -86.355754  695570      -1        7274.033239\n",
       "5         7  47.796114 -122.282910  707350      -1        6922.960180\n",
       "6         8  33.577877   71.409199  991585      -1        4667.945161\n",
       "7         9  41.605594  -87.910040  857192      -1        6765.372351\n",
       "8        10  44.383324   21.252033   18226      -1        2678.706012\n",
       "9        11  51.633882   -3.968193   79124      -1        2550.572986\n",
       "10       12  40.834018  -73.997322  570462      -1        6368.798098\n",
       "11       13  41.698069  -74.380440  316232      -1        6296.018052\n",
       "12       14  39.538161  -83.419700  507879      -1        6830.821149\n",
       "13       15  19.242101   73.154111  289870      -1        6227.426516\n",
       "14       16  49.982001    8.251541  987331      -1        2320.934833\n",
       "15       17  10.743668  121.924362   81740      -1        9018.001655\n",
       "16       18  31.353199  -92.416000  368605      -1        7974.930659\n",
       "17       19  33.158259 -102.281902  879555      -1        8076.203683\n",
       "18       20  34.972595  -80.139396  321700      -1        7184.900331\n",
       "19       21  51.616369   -2.495535  345460      -1        2499.219331\n",
       "20       22  29.618606  -82.597168  760810      -1        7824.012035\n",
       "21       23  42.736951 -105.394577  197827      -1        7136.898168\n",
       "22       24  27.755868  -97.368618  735397      -1        8508.135163\n",
       "23       25  -8.705725  115.159397  777890      -1       10745.040170\n",
       "24       26  34.865644  114.360735  288165      -1        6252.424627\n",
       "25       27  56.113340   27.547673  794277      -1        1334.428283\n",
       "26       28  42.987689  -87.983209  585135      -1        6625.541764\n",
       "27       29  -8.438550  118.770968  878328      -1       10866.917362\n",
       "28       30  39.555900   32.135349  143472      -1        3179.163543\n",
       "29       31  26.024972  -80.127321  844048      -1        8106.394930\n",
       "...     ...        ...         ...     ...     ...                ...\n",
       "9970   9972  -8.290330  -35.044999  277257      -1        9851.843109\n",
       "9971   9973 -17.828822  -63.175804  246954      -1       11958.375923\n",
       "9972   9974  25.177346   75.813857  692910      -1        5693.930539\n",
       "9973   9975  37.786559 -120.987502  919015      -1        7994.469997\n",
       "9974   9976  35.194168   -6.170061  590899      -1        4280.294952\n",
       "9975   9977  32.012479  -93.701526  329065      -1        7946.211413\n",
       "9976   9978 -15.111948   39.299749  280817      -1        9295.034680\n",
       "9977   9979  45.734130  -87.070321  125998      -1        6315.838940\n",
       "9978   9980  39.478021   -0.423334  618854      -1        3657.166722\n",
       "9979   9981 -43.524502  172.636436  557069      -1       16571.756074\n",
       "9980   9982  32.117611  114.041297  745762      -1        6513.746353\n",
       "9981   9983  44.389955  -88.744593  948764      -1        6505.183100\n",
       "9982   9984   6.844774    7.374079  719787      -1        7009.629862\n",
       "9983   9985  10.496373  -73.249598  459367      -1        9449.373636\n",
       "9984   9986  34.345930  -89.499381  183863      -1        7568.375490\n",
       "9985   9987  51.241193    7.164080  552537      -1        2222.444757\n",
       "9986   9988  46.601832   15.001692  303049      -1        2525.318950\n",
       "9987   9989  35.049056  -85.067591  479246      -1        7348.343521\n",
       "9988   9990 -27.180280  151.255799  958448      -1       14118.689137\n",
       "9989   9991  45.778298   19.127626  789397      -1        2549.992573\n",
       "9990   9992  40.898223  -74.508095  700007      -1        6380.905018\n",
       "9991   9993  40.449835  -74.320241  483386      -1        6419.143108\n",
       "9992   9994  35.082312  -89.947683  617217      -1        7506.149447\n",
       "9993   9995 -24.637373   17.979283  372729      -1       10362.604937\n",
       "9994   9996   0.710036   30.065800  190442      -1        7498.939154\n",
       "9995   9997   7.346531  134.460417  177074      -1        9879.097716\n",
       "9996   9998  40.702376  -78.210798  752916      -1        6532.901194\n",
       "9997   9999  33.463295  -84.314389   54772      -1        7486.475276\n",
       "9998  10000  34.091971  134.530749   46559      -1        7121.127819\n",
       "9999  10001 -22.551150  -63.770996  663913      -1       12465.640401\n",
       "\n",
       "[9883 rows x 6 columns]"
      ]
     },
     "execution_count": 138,
     "metadata": {},
     "output_type": "execute_result"
    }
   ],
   "source": [
    "free"
   ]
  },
  {
   "cell_type": "code",
   "execution_count": 140,
   "metadata": {},
   "outputs": [
    {
     "data": {
      "text/plain": [
       "id                     9111.000000\n",
       "lat                      47.476947\n",
       "long                      7.734470\n",
       "weight               441405.000000\n",
       "sleigh                   -1.000000\n",
       "dist_korvatunturi      2594.634898\n",
       "Name: 9109, dtype: float64"
      ]
     },
     "execution_count": 140,
     "metadata": {},
     "output_type": "execute_result"
    }
   ],
   "source": [
    "free.iloc[9000]"
   ]
  },
  {
   "cell_type": "code",
   "execution_count": 142,
   "metadata": {},
   "outputs": [
    {
     "data": {
      "text/plain": [
       "id          9111.000000\n",
       "long           7.734470\n",
       "lat           47.476947\n",
       "weight    441405.000000\n",
       "Name: 9109, dtype: float64"
      ]
     },
     "execution_count": 142,
     "metadata": {},
     "output_type": "execute_result"
    }
   ],
   "source": [
    "freeones.iloc[9000]"
   ]
  },
  {
   "cell_type": "code",
   "execution_count": 143,
   "metadata": {},
   "outputs": [
    {
     "data": {
      "text/plain": [
       "array([ 7.73447 , 47.476947])"
      ]
     },
     "execution_count": 143,
     "metadata": {},
     "output_type": "execute_result"
    }
   ],
   "source": [
    "np_freeones[9000]"
   ]
  },
  {
   "cell_type": "code",
   "execution_count": null,
   "metadata": {},
   "outputs": [],
   "source": []
  },
  {
   "cell_type": "code",
   "execution_count": 613,
   "metadata": {},
   "outputs": [
    {
     "data": {
      "text/plain": [
       "142     9515.527696\n",
       "986     9517.095439\n",
       "1665    9529.812178\n",
       "1487    9530.302753\n",
       "358     9540.327262\n",
       "638     9549.893787\n",
       "603     9560.816478\n",
       "242     9566.058594\n",
       "306     9566.774028\n",
       "2043    9584.315478\n",
       "2388    9591.712812\n",
       "1651    9610.117542\n",
       "1033    9617.141909\n",
       "1711    9618.916769\n",
       "1337    9619.256663\n",
       "249     9621.653262\n",
       "1532    9642.578199\n",
       "1160    9647.004669\n",
       "2291    9655.622787\n",
       "1153    9692.177334\n",
       "1916    9694.861916\n",
       "2023    9749.160912\n",
       "930     9754.491272\n",
       "2201    9759.850016\n",
       "907     9799.704091\n",
       "781     9800.411530\n",
       "974     9803.754124\n",
       "614     9808.081608\n",
       "1383    9823.700282\n",
       "32      9845.246928\n",
       "dtype: float64"
      ]
     },
     "execution_count": 613,
     "metadata": {},
     "output_type": "execute_result"
    }
   ],
   "source": [
    "knn = distances.nsmallest(30)\n",
    "knn"
   ]
  },
  {
   "cell_type": "code",
   "execution_count": null,
   "metadata": {},
   "outputs": [],
   "source": []
  },
  {
   "cell_type": "code",
   "execution_count": null,
   "metadata": {},
   "outputs": [],
   "source": []
  },
  {
   "cell_type": "code",
   "execution_count": 614,
   "metadata": {},
   "outputs": [
    {
     "data": {
      "text/plain": [
       "Int64Index([ 142,  986, 1665, 1487,  358,  638,  603,  242,  306, 2043, 2388,\n",
       "            1651, 1033, 1711, 1337,  249, 1532, 1160, 2291, 1153, 1916, 2023,\n",
       "             930, 2201,  907,  781,  974,  614, 1383,   32],\n",
       "           dtype='int64')"
      ]
     },
     "execution_count": 614,
     "metadata": {},
     "output_type": "execute_result"
    }
   ],
   "source": [
    "knn.index[:]"
   ]
  },
  {
   "cell_type": "code",
   "execution_count": 611,
   "metadata": {},
   "outputs": [
    {
     "data": {
      "text/plain": [
       "6883"
      ]
     },
     "execution_count": 611,
     "metadata": {},
     "output_type": "execute_result"
    }
   ],
   "source": [
    "free['dist_korvatunturi'].idxmax()"
   ]
  },
  {
   "cell_type": "code",
   "execution_count": 612,
   "metadata": {},
   "outputs": [],
   "source": [
    "distances =  [distance(this, row) for row in np_freeones] \n",
    "distances = pd.Series(distances)"
   ]
  },
  {
   "cell_type": "code",
   "execution_count": 588,
   "metadata": {},
   "outputs": [
    {
     "data": {
      "text/plain": [
       "array([ 33.786749, -84.179606])"
      ]
     },
     "execution_count": 588,
     "metadata": {},
     "output_type": "execute_result"
    }
   ],
   "source": [
    "np_df[6883]"
   ]
  },
  {
   "cell_type": "code",
   "execution_count": 601,
   "metadata": {},
   "outputs": [
    {
     "data": {
      "text/plain": [
       "id                     6885.000000\n",
       "lat                      33.786749\n",
       "long                    -84.179606\n",
       "weight               335482.000000\n",
       "sleigh                   -1.000000\n",
       "dist_korvatunturi      7448.405155\n",
       "Name: 6883, dtype: float64"
      ]
     },
     "execution_count": 601,
     "metadata": {},
     "output_type": "execute_result"
    }
   ],
   "source": [
    "df.iloc[6883]"
   ]
  },
  {
   "cell_type": "code",
   "execution_count": 604,
   "metadata": {},
   "outputs": [
    {
     "data": {
      "text/plain": [
       "[7521,\n",
       " 142,\n",
       " 1666,\n",
       " 1488,\n",
       " 358,\n",
       " 638,\n",
       " 603,\n",
       " 242,\n",
       " 306,\n",
       " 2044,\n",
       " 2389,\n",
       " 1652,\n",
       " 2024,\n",
       " 2292,\n",
       " 930,\n",
       " 1033,\n",
       " 1712,\n",
       " 1338,\n",
       " 249,\n",
       " 1533,\n",
       " 987]"
      ]
     },
     "execution_count": 604,
     "metadata": {},
     "output_type": "execute_result"
    }
   ],
   "source": [
    "taxis[1672]"
   ]
  },
  {
   "cell_type": "code",
   "execution_count": 606,
   "metadata": {},
   "outputs": [
    {
     "data": {
      "text/plain": [
       "[5223,\n",
       " 1698,\n",
       " 504,\n",
       " 2404,\n",
       " 635,\n",
       " 2148,\n",
       " 1266,\n",
       " 2064,\n",
       " 237,\n",
       " 681,\n",
       " 531,\n",
       " 1422,\n",
       " 384,\n",
       " 1913,\n",
       " 638,\n",
       " 709,\n",
       " 1981,\n",
       " 303,\n",
       " 1318,\n",
       " 118,\n",
       " 2232,\n",
       " 2047]"
      ]
     },
     "execution_count": 606,
     "metadata": {},
     "output_type": "execute_result"
    }
   ],
   "source": [
    "taxis[1671]"
   ]
  },
  {
   "cell_type": "code",
   "execution_count": 594,
   "metadata": {},
   "outputs": [
    {
     "data": {
      "text/plain": [
       "id                     6885.000000\n",
       "lat                      33.786749\n",
       "long                    -84.179606\n",
       "weight               335482.000000\n",
       "sleigh                   -1.000000\n",
       "dist_korvatunturi      7448.405155\n",
       "Name: 6883, dtype: float64"
      ]
     },
     "execution_count": 594,
     "metadata": {},
     "output_type": "execute_result"
    }
   ],
   "source": [
    "df.iloc[6883]"
   ]
  },
  {
   "cell_type": "code",
   "execution_count": 589,
   "metadata": {},
   "outputs": [
    {
     "data": {
      "text/plain": [
       "6883"
      ]
     },
     "execution_count": 589,
     "metadata": {},
     "output_type": "execute_result"
    }
   ],
   "source": []
  },
  {
   "cell_type": "code",
   "execution_count": 591,
   "metadata": {},
   "outputs": [
    {
     "data": {
      "text/plain": [
       "7448.405154893551"
      ]
     },
     "execution_count": 591,
     "metadata": {},
     "output_type": "execute_result"
    }
   ],
   "source": [
    "free['dist_korvatunturi'].max()"
   ]
  },
  {
   "cell_type": "code",
   "execution_count": 581,
   "metadata": {},
   "outputs": [
    {
     "data": {
      "text/html": [
       "<div>\n",
       "<style scoped>\n",
       "    .dataframe tbody tr th:only-of-type {\n",
       "        vertical-align: middle;\n",
       "    }\n",
       "\n",
       "    .dataframe tbody tr th {\n",
       "        vertical-align: top;\n",
       "    }\n",
       "\n",
       "    .dataframe thead th {\n",
       "        text-align: right;\n",
       "    }\n",
       "</style>\n",
       "<table border=\"1\" class=\"dataframe\">\n",
       "  <thead>\n",
       "    <tr style=\"text-align: right;\">\n",
       "      <th></th>\n",
       "      <th>id</th>\n",
       "      <th>lat</th>\n",
       "      <th>long</th>\n",
       "      <th>weight</th>\n",
       "      <th>sleigh</th>\n",
       "      <th>dist_korvatunturi</th>\n",
       "    </tr>\n",
       "  </thead>\n",
       "  <tbody>\n",
       "    <tr>\n",
       "      <th>9975</th>\n",
       "      <td>9977</td>\n",
       "      <td>32.012479</td>\n",
       "      <td>-93.701526</td>\n",
       "      <td>329065</td>\n",
       "      <td>-1</td>\n",
       "      <td>7946.211413</td>\n",
       "    </tr>\n",
       "    <tr>\n",
       "      <th>9976</th>\n",
       "      <td>9978</td>\n",
       "      <td>-15.111948</td>\n",
       "      <td>39.299749</td>\n",
       "      <td>280817</td>\n",
       "      <td>-1</td>\n",
       "      <td>9295.034680</td>\n",
       "    </tr>\n",
       "    <tr>\n",
       "      <th>9977</th>\n",
       "      <td>9979</td>\n",
       "      <td>45.734130</td>\n",
       "      <td>-87.070321</td>\n",
       "      <td>125998</td>\n",
       "      <td>-1</td>\n",
       "      <td>6315.838940</td>\n",
       "    </tr>\n",
       "    <tr>\n",
       "      <th>9978</th>\n",
       "      <td>9980</td>\n",
       "      <td>39.478021</td>\n",
       "      <td>-0.423334</td>\n",
       "      <td>618854</td>\n",
       "      <td>-1</td>\n",
       "      <td>3657.166722</td>\n",
       "    </tr>\n",
       "    <tr>\n",
       "      <th>9979</th>\n",
       "      <td>9981</td>\n",
       "      <td>-43.524502</td>\n",
       "      <td>172.636436</td>\n",
       "      <td>557069</td>\n",
       "      <td>-1</td>\n",
       "      <td>16571.756074</td>\n",
       "    </tr>\n",
       "    <tr>\n",
       "      <th>9980</th>\n",
       "      <td>9982</td>\n",
       "      <td>32.117611</td>\n",
       "      <td>114.041297</td>\n",
       "      <td>745762</td>\n",
       "      <td>-1</td>\n",
       "      <td>6513.746353</td>\n",
       "    </tr>\n",
       "    <tr>\n",
       "      <th>9981</th>\n",
       "      <td>9983</td>\n",
       "      <td>44.389955</td>\n",
       "      <td>-88.744593</td>\n",
       "      <td>948764</td>\n",
       "      <td>-1</td>\n",
       "      <td>6505.183100</td>\n",
       "    </tr>\n",
       "    <tr>\n",
       "      <th>9982</th>\n",
       "      <td>9984</td>\n",
       "      <td>6.844774</td>\n",
       "      <td>7.374079</td>\n",
       "      <td>719787</td>\n",
       "      <td>-1</td>\n",
       "      <td>7009.629862</td>\n",
       "    </tr>\n",
       "  </tbody>\n",
       "</table>\n",
       "</div>"
      ],
      "text/plain": [
       "        id        lat        long  weight  sleigh  dist_korvatunturi\n",
       "9975  9977  32.012479  -93.701526  329065      -1        7946.211413\n",
       "9976  9978 -15.111948   39.299749  280817      -1        9295.034680\n",
       "9977  9979  45.734130  -87.070321  125998      -1        6315.838940\n",
       "9978  9980  39.478021   -0.423334  618854      -1        3657.166722\n",
       "9979  9981 -43.524502  172.636436  557069      -1       16571.756074\n",
       "9980  9982  32.117611  114.041297  745762      -1        6513.746353\n",
       "9981  9983  44.389955  -88.744593  948764      -1        6505.183100\n",
       "9982  9984   6.844774    7.374079  719787      -1        7009.629862"
      ]
     },
     "execution_count": 581,
     "metadata": {},
     "output_type": "execute_result"
    }
   ],
   "source": [
    "free.loc[9975:9982]"
   ]
  },
  {
   "cell_type": "code",
   "execution_count": 583,
   "metadata": {},
   "outputs": [
    {
     "data": {
      "text/plain": [
       "array([-43.524502, 172.636436])"
      ]
     },
     "execution_count": 583,
     "metadata": {},
     "output_type": "execute_result"
    }
   ],
   "source": [
    "np_df[9979]"
   ]
  },
  {
   "cell_type": "code",
   "execution_count": 500,
   "metadata": {},
   "outputs": [
    {
     "name": "stdout",
     "output_type": "stream",
     "text": [
      "Total distance of all routes\n",
      "38710601.341219366\n"
     ]
    }
   ],
   "source": [
    "print('Total distance of all routes')\n",
    "total_dist = np.sum([taxi_dist(item) for item in taxis])\n",
    "print(total_dist)"
   ]
  },
  {
   "cell_type": "code",
   "execution_count": null,
   "metadata": {},
   "outputs": [],
   "source": []
  },
  {
   "cell_type": "markdown",
   "metadata": {},
   "source": [
    "### Save result"
   ]
  },
  {
   "cell_type": "code",
   "execution_count": 367,
   "metadata": {},
   "outputs": [],
   "source": [
    "import csv\n",
    "\n",
    "with open(\"solution_route2.csv\", \"w\", newline=\"\") as f:\n",
    "    writer = csv.writer(f, delimiter=';')\n",
    "    writer.writerows(taxis)"
   ]
  },
  {
   "cell_type": "markdown",
   "metadata": {},
   "source": [
    "### Statistics"
   ]
  },
  {
   "cell_type": "code",
   "execution_count": 607,
   "metadata": {},
   "outputs": [
    {
     "name": "stdout",
     "output_type": "stream",
     "text": [
      "Nr of taxis: \n",
      "1673\n",
      "Avg items per taxi\n",
      "20.398684997011358\n",
      "Avg weight of taxi\n",
      "9916394.07053198\n",
      "Avg length of taxi route\n",
      "197308.7685915863\n"
     ]
    }
   ],
   "source": [
    "# nr of taxis\n",
    "print('Nr of taxis: '); print(len(taxis))\n",
    "\n",
    "# Avg items per taxi\n",
    "# Avg length of taxi ride\n",
    "print('Avg items per taxi')\n",
    "print(np.mean([len(item) for item in taxis]))\n",
    "\n",
    "# Avg weight per taxi\n",
    "print('Avg weight of taxi')\n",
    "print(np.mean([taxi_weight(item) for item in taxis]))\n",
    "\n",
    "# Avg length of taxi ride\n",
    "print('Avg length of taxi route')\n",
    "print(np.mean([taxi_dist(item) for item in taxis]))\n"
   ]
  },
  {
   "cell_type": "code",
   "execution_count": null,
   "metadata": {},
   "outputs": [],
   "source": [
    "# route1 12M\n",
    "# Nr of taxis: 536\n",
    "# Avg items per taxi 18.65671641791045\n",
    "# Avg weight of taxi 9903409.529850746\n",
    "# Avg length of taxi route 23949.846369940846\n",
    "\n",
    "# route2 16,9M\n",
    "#Nr of taxis: 757\n",
    "#Avg items per taxi 13.21003963011889\n",
    "#Avg weight of taxi 7012189.574636724\n",
    "#Avg length of taxi route 22411.432553687224\n",
    "\n",
    "# route2 fixed long,lat in np,  65M - large\n",
    "Nr of taxis:  1559\n",
    "Avg items per taxi 6.428479794740218\n",
    "Avg weight of taxi 3412421.434252726\n",
    "Avg length of taxi route 42015.77227992759\n",
    "# WHY avg length almost double to those with more items?\n"
   ]
  },
  {
   "cell_type": "code",
   "execution_count": 399,
   "metadata": {},
   "outputs": [
    {
     "name": "stdout",
     "output_type": "stream",
     "text": [
      "413.50618191356716\n"
     ]
    }
   ],
   "source": [
    "# how much distance per kg on average?\n",
    "\n",
    "wei = np.sum([taxi_weight(item) for item in taxis])\n",
    "dis = np.sum([taxi_dist(item) for item in taxis])\n",
    "print(wei/dis)"
   ]
  },
  {
   "cell_type": "code",
   "execution_count": 401,
   "metadata": {},
   "outputs": [
    {
     "name": "stdout",
     "output_type": "stream",
     "text": [
      "2.4183435308568715\n"
     ]
    }
   ],
   "source": [
    "print(dis/(wei/1000))\n",
    "# is this 2,4 km per kg?\n"
   ]
  },
  {
   "cell_type": "code",
   "execution_count": 436,
   "metadata": {},
   "outputs": [
    {
     "name": "stdout",
     "output_type": "stream",
     "text": [
      "Nr of taxis: \n",
      "757\n",
      "Avg items per taxi\n",
      "13.21003963011889\n",
      "Avg weight of taxi\n",
      "7012189.574636724\n",
      "Avg length of taxi route\n",
      "22411.432553687224\n"
     ]
    }
   ],
   "source": [
    "# route2\n",
    "# nr of taxis\n",
    "print('Nr of taxis: '); print(len(taxis))\n",
    "\n",
    "# Avg items per taxi\n",
    "# Avg length of taxi ride\n",
    "print('Avg items per taxi')\n",
    "print(np.mean([len(item) for item in taxis]))\n",
    "\n",
    "# Avg weight per taxi\n",
    "print('Avg weight of taxi')\n",
    "print(np.mean([taxi_weight(item) for item in taxis]))\n",
    "\n",
    "# Avg length of taxi ride\n",
    "print('Avg length of taxi route')\n",
    "print(np.mean([taxi_dist(item) for item in taxis]))\n",
    "\n"
   ]
  },
  {
   "cell_type": "markdown",
   "metadata": {},
   "source": [
    "### Test - compare"
   ]
  },
  {
   "cell_type": "code",
   "execution_count": 563,
   "metadata": {},
   "outputs": [
    {
     "name": "stdout",
     "output_type": "stream",
     "text": [
      "8824\n",
      "8824       0.000000\n",
      "5047    3904.285751\n",
      "3258    3972.061501\n",
      "9401    3972.603170\n",
      "8222    4100.532788\n",
      "7595    4102.164808\n",
      "3031    4104.382690\n",
      "8524    4160.556527\n",
      "4439    4261.316647\n",
      "5416    4261.422954\n",
      "dtype: float64\n"
     ]
    }
   ],
   "source": [
    "#reset\n",
    "df['sleigh']=-1\n",
    "free= df[df['sleigh']==-1]\n",
    "freeones = free[['id','lat','long', 'weight']]\n",
    "np_freeones = np.asarray(freeones[['lat','long']])\n",
    "\n",
    "i =8824\n",
    "print(i)\n",
    "this = df.iloc[i]\n",
    "# Each points distance to this one\n",
    "distances = freeones.apply(lambda row: distance_panda(this, row), axis=1)\n",
    "knn = distances.nsmallest(30)\n",
    "\n",
    "print(knn[0:10])"
   ]
  },
  {
   "cell_type": "code",
   "execution_count": 569,
   "metadata": {},
   "outputs": [
    {
     "name": "stdout",
     "output_type": "stream",
     "text": [
      "8824\n",
      "97       153.553765\n",
      "4368    1045.244446\n",
      "5167    1097.827311\n",
      "9956    1112.821056\n",
      "125     1135.801977\n",
      "1918    1145.924931\n",
      "5347    1174.439937\n",
      "1999    1176.178963\n",
      "6925    1196.743181\n",
      "2710    1210.833468\n",
      "dtype: float64\n"
     ]
    }
   ],
   "source": [
    "#reset\n",
    "df['sleigh']=-1\n",
    "free= df[df['sleigh']==-1]\n",
    "freeones = free[['id','long','lat', 'weight']]\n",
    "np_freeones = np.asarray(freeones[['long','lat']])\n",
    "\n",
    "i =8824\n",
    "print(i)\n",
    "#this = df.iloc[i]\n",
    "this = np_df[i]\n",
    "# Each points distance to this one\n",
    "# NOT WORKING. mixing df and np arrays?\n",
    "#distances = freeones.apply(lambda row: distance_panda(this, row), axis=1)\n",
    "\n",
    "#distances = [for row in np_freeones ]\n",
    "distances =  [distance(this, row) for row in np_freeones] \n",
    "distances = pd.Series(distances)\n",
    "knn = distances.nsmallest(30)\n",
    "\n",
    "print(knn[0:10])\n"
   ]
  },
  {
   "cell_type": "code",
   "execution_count": 554,
   "metadata": {},
   "outputs": [
    {
     "data": {
      "text/html": [
       "<div>\n",
       "<style scoped>\n",
       "    .dataframe tbody tr th:only-of-type {\n",
       "        vertical-align: middle;\n",
       "    }\n",
       "\n",
       "    .dataframe tbody tr th {\n",
       "        vertical-align: top;\n",
       "    }\n",
       "\n",
       "    .dataframe thead th {\n",
       "        text-align: right;\n",
       "    }\n",
       "</style>\n",
       "<table border=\"1\" class=\"dataframe\">\n",
       "  <thead>\n",
       "    <tr style=\"text-align: right;\">\n",
       "      <th></th>\n",
       "      <th>0</th>\n",
       "    </tr>\n",
       "  </thead>\n",
       "  <tbody>\n",
       "    <tr>\n",
       "      <th>0</th>\n",
       "      <td>10253.653113</td>\n",
       "    </tr>\n",
       "    <tr>\n",
       "      <th>1</th>\n",
       "      <td>9935.373258</td>\n",
       "    </tr>\n",
       "    <tr>\n",
       "      <th>2</th>\n",
       "      <td>13329.837861</td>\n",
       "    </tr>\n",
       "    <tr>\n",
       "      <th>3</th>\n",
       "      <td>8285.328556</td>\n",
       "    </tr>\n",
       "    <tr>\n",
       "      <th>4</th>\n",
       "      <td>10257.947194</td>\n",
       "    </tr>\n",
       "    <tr>\n",
       "      <th>5</th>\n",
       "      <td>7424.197424</td>\n",
       "    </tr>\n",
       "    <tr>\n",
       "      <th>6</th>\n",
       "      <td>11149.034954</td>\n",
       "    </tr>\n",
       "    <tr>\n",
       "      <th>7</th>\n",
       "      <td>10172.998096</td>\n",
       "    </tr>\n",
       "    <tr>\n",
       "      <th>8</th>\n",
       "      <td>14547.382691</td>\n",
       "    </tr>\n",
       "    <tr>\n",
       "      <th>9</th>\n",
       "      <td>15746.994496</td>\n",
       "    </tr>\n",
       "    <tr>\n",
       "      <th>10</th>\n",
       "      <td>11174.558736</td>\n",
       "    </tr>\n",
       "    <tr>\n",
       "      <th>11</th>\n",
       "      <td>11167.071685</td>\n",
       "    </tr>\n",
       "    <tr>\n",
       "      <th>12</th>\n",
       "      <td>10484.231822</td>\n",
       "    </tr>\n",
       "    <tr>\n",
       "      <th>13</th>\n",
       "      <td>10628.606818</td>\n",
       "    </tr>\n",
       "    <tr>\n",
       "      <th>14</th>\n",
       "      <td>15504.318489</td>\n",
       "    </tr>\n",
       "    <tr>\n",
       "      <th>15</th>\n",
       "      <td>9388.796235</td>\n",
       "    </tr>\n",
       "    <tr>\n",
       "      <th>16</th>\n",
       "      <td>9878.635342</td>\n",
       "    </tr>\n",
       "    <tr>\n",
       "      <th>17</th>\n",
       "      <td>9274.781124</td>\n",
       "    </tr>\n",
       "    <tr>\n",
       "      <th>18</th>\n",
       "      <td>10645.605771</td>\n",
       "    </tr>\n",
       "    <tr>\n",
       "      <th>19</th>\n",
       "      <td>15756.693082</td>\n",
       "    </tr>\n",
       "    <tr>\n",
       "      <th>20</th>\n",
       "      <td>10424.953032</td>\n",
       "    </tr>\n",
       "    <tr>\n",
       "      <th>21</th>\n",
       "      <td>8863.213082</td>\n",
       "    </tr>\n",
       "    <tr>\n",
       "      <th>22</th>\n",
       "      <td>9637.368119</td>\n",
       "    </tr>\n",
       "    <tr>\n",
       "      <th>23</th>\n",
       "      <td>10429.238808</td>\n",
       "    </tr>\n",
       "    <tr>\n",
       "      <th>24</th>\n",
       "      <td>8500.335446</td>\n",
       "    </tr>\n",
       "    <tr>\n",
       "      <th>25</th>\n",
       "      <td>15294.298385</td>\n",
       "    </tr>\n",
       "    <tr>\n",
       "      <th>26</th>\n",
       "      <td>10171.597671</td>\n",
       "    </tr>\n",
       "    <tr>\n",
       "      <th>27</th>\n",
       "      <td>10469.402144</td>\n",
       "    </tr>\n",
       "    <tr>\n",
       "      <th>28</th>\n",
       "      <td>13651.214133</td>\n",
       "    </tr>\n",
       "    <tr>\n",
       "      <th>29</th>\n",
       "      <td>10498.809575</td>\n",
       "    </tr>\n",
       "    <tr>\n",
       "      <th>...</th>\n",
       "      <td>...</td>\n",
       "    </tr>\n",
       "    <tr>\n",
       "      <th>9970</th>\n",
       "      <td>9263.869851</td>\n",
       "    </tr>\n",
       "    <tr>\n",
       "      <th>9971</th>\n",
       "      <td>9134.510809</td>\n",
       "    </tr>\n",
       "    <tr>\n",
       "      <th>9972</th>\n",
       "      <td>10684.715344</td>\n",
       "    </tr>\n",
       "    <tr>\n",
       "      <th>9973</th>\n",
       "      <td>7971.572107</td>\n",
       "    </tr>\n",
       "    <tr>\n",
       "      <th>9974</th>\n",
       "      <td>13910.232075</td>\n",
       "    </tr>\n",
       "    <tr>\n",
       "      <th>9975</th>\n",
       "      <td>9800.222552</td>\n",
       "    </tr>\n",
       "    <tr>\n",
       "      <th>9976</th>\n",
       "      <td>8722.914488</td>\n",
       "    </tr>\n",
       "    <tr>\n",
       "      <th>9977</th>\n",
       "      <td>10252.029132</td>\n",
       "    </tr>\n",
       "    <tr>\n",
       "      <th>9978</th>\n",
       "      <td>14412.974376</td>\n",
       "    </tr>\n",
       "    <tr>\n",
       "      <th>9979</th>\n",
       "      <td>14813.785753</td>\n",
       "    </tr>\n",
       "    <tr>\n",
       "      <th>9980</th>\n",
       "      <td>8626.058869</td>\n",
       "    </tr>\n",
       "    <tr>\n",
       "      <th>9981</th>\n",
       "      <td>10116.294210</td>\n",
       "    </tr>\n",
       "    <tr>\n",
       "      <th>9982</th>\n",
       "      <td>10774.147829</td>\n",
       "    </tr>\n",
       "    <tr>\n",
       "      <th>9983</th>\n",
       "      <td>10353.556402</td>\n",
       "    </tr>\n",
       "    <tr>\n",
       "      <th>9984</th>\n",
       "      <td>10049.979466</td>\n",
       "    </tr>\n",
       "    <tr>\n",
       "      <th>9985</th>\n",
       "      <td>15660.909456</td>\n",
       "    </tr>\n",
       "    <tr>\n",
       "      <th>9986</th>\n",
       "      <td>14980.414524</td>\n",
       "    </tr>\n",
       "    <tr>\n",
       "      <th>9987</th>\n",
       "      <td>10333.591449</td>\n",
       "    </tr>\n",
       "    <tr>\n",
       "      <th>9988</th>\n",
       "      <td>12646.699850</td>\n",
       "    </tr>\n",
       "    <tr>\n",
       "      <th>9989</th>\n",
       "      <td>14762.425673</td>\n",
       "    </tr>\n",
       "    <tr>\n",
       "      <th>9990</th>\n",
       "      <td>11139.665736</td>\n",
       "    </tr>\n",
       "    <tr>\n",
       "      <th>9991</th>\n",
       "      <td>11142.668862</td>\n",
       "    </tr>\n",
       "    <tr>\n",
       "      <th>9992</th>\n",
       "      <td>10021.886203</td>\n",
       "    </tr>\n",
       "    <tr>\n",
       "      <th>9993</th>\n",
       "      <td>7418.102051</td>\n",
       "    </tr>\n",
       "    <tr>\n",
       "      <th>9994</th>\n",
       "      <td>10086.943013</td>\n",
       "    </tr>\n",
       "    <tr>\n",
       "      <th>9995</th>\n",
       "      <td>9446.544111</td>\n",
       "    </tr>\n",
       "    <tr>\n",
       "      <th>9996</th>\n",
       "      <td>10870.863429</td>\n",
       "    </tr>\n",
       "    <tr>\n",
       "      <th>9997</th>\n",
       "      <td>10367.125928</td>\n",
       "    </tr>\n",
       "    <tr>\n",
       "      <th>9998</th>\n",
       "      <td>7441.891002</td>\n",
       "    </tr>\n",
       "    <tr>\n",
       "      <th>9999</th>\n",
       "      <td>8932.254220</td>\n",
       "    </tr>\n",
       "  </tbody>\n",
       "</table>\n",
       "<p>10000 rows × 1 columns</p>\n",
       "</div>"
      ],
      "text/plain": [
       "                 0\n",
       "0     10253.653113\n",
       "1      9935.373258\n",
       "2     13329.837861\n",
       "3      8285.328556\n",
       "4     10257.947194\n",
       "5      7424.197424\n",
       "6     11149.034954\n",
       "7     10172.998096\n",
       "8     14547.382691\n",
       "9     15746.994496\n",
       "10    11174.558736\n",
       "11    11167.071685\n",
       "12    10484.231822\n",
       "13    10628.606818\n",
       "14    15504.318489\n",
       "15     9388.796235\n",
       "16     9878.635342\n",
       "17     9274.781124\n",
       "18    10645.605771\n",
       "19    15756.693082\n",
       "20    10424.953032\n",
       "21     8863.213082\n",
       "22     9637.368119\n",
       "23    10429.238808\n",
       "24     8500.335446\n",
       "25    15294.298385\n",
       "26    10171.597671\n",
       "27    10469.402144\n",
       "28    13651.214133\n",
       "29    10498.809575\n",
       "...            ...\n",
       "9970   9263.869851\n",
       "9971   9134.510809\n",
       "9972  10684.715344\n",
       "9973   7971.572107\n",
       "9974  13910.232075\n",
       "9975   9800.222552\n",
       "9976   8722.914488\n",
       "9977  10252.029132\n",
       "9978  14412.974376\n",
       "9979  14813.785753\n",
       "9980   8626.058869\n",
       "9981  10116.294210\n",
       "9982  10774.147829\n",
       "9983  10353.556402\n",
       "9984  10049.979466\n",
       "9985  15660.909456\n",
       "9986  14980.414524\n",
       "9987  10333.591449\n",
       "9988  12646.699850\n",
       "9989  14762.425673\n",
       "9990  11139.665736\n",
       "9991  11142.668862\n",
       "9992  10021.886203\n",
       "9993   7418.102051\n",
       "9994  10086.943013\n",
       "9995   9446.544111\n",
       "9996  10870.863429\n",
       "9997  10367.125928\n",
       "9998   7441.891002\n",
       "9999   8932.254220\n",
       "\n",
       "[10000 rows x 1 columns]"
      ]
     },
     "execution_count": 554,
     "metadata": {},
     "output_type": "execute_result"
    }
   ],
   "source": [
    "distances"
   ]
  },
  {
   "cell_type": "code",
   "execution_count": 513,
   "metadata": {},
   "outputs": [
    {
     "data": {
      "text/plain": [
       "10017.9441706003"
      ]
     },
     "execution_count": 513,
     "metadata": {},
     "output_type": "execute_result"
    }
   ],
   "source": [
    "distance(np_df[8824], np_df[3393])"
   ]
  },
  {
   "cell_type": "code",
   "execution_count": 506,
   "metadata": {},
   "outputs": [
    {
     "name": "stdout",
     "output_type": "stream",
     "text": [
      "14321.80390945964\n",
      "5548\n"
     ]
    }
   ],
   "source": [
    "print(distances.min())\n",
    "print(distances.idxmin())"
   ]
  },
  {
   "cell_type": "code",
   "execution_count": 509,
   "metadata": {},
   "outputs": [
    {
     "data": {
      "text/plain": [
       "8824       0.000000\n",
       "5047    3904.285751\n",
       "3258    3972.061501\n",
       "9401    3972.603170\n",
       "8222    4100.532788\n",
       "7595    4102.164808\n",
       "3031    4104.382690\n",
       "8524    4160.556527\n",
       "4439    4261.316647\n",
       "5416    4261.422954\n",
       "dtype: float64"
      ]
     },
     "execution_count": 509,
     "metadata": {},
     "output_type": "execute_result"
    }
   ],
   "source": [
    " distances.nsmallest(10)"
   ]
  },
  {
   "cell_type": "markdown",
   "metadata": {},
   "source": [
    "### Visualize a route"
   ]
  },
  {
   "cell_type": "code",
   "execution_count": null,
   "metadata": {},
   "outputs": [],
   "source": []
  },
  {
   "cell_type": "code",
   "execution_count": 450,
   "metadata": {},
   "outputs": [
    {
     "data": {
      "text/plain": [
       "[8824,\n",
       " 5047,\n",
       " 3258,\n",
       " 9401,\n",
       " 8222,\n",
       " 7595,\n",
       " 3031,\n",
       " 8524,\n",
       " 4439,\n",
       " 5416,\n",
       " 3897,\n",
       " 6247,\n",
       " 8257,\n",
       " 8826]"
      ]
     },
     "execution_count": 450,
     "metadata": {},
     "output_type": "execute_result"
    }
   ],
   "source": [
    "taxis[0]"
   ]
  },
  {
   "cell_type": "code",
   "execution_count": 502,
   "metadata": {},
   "outputs": [
    {
     "data": {
      "text/plain": [
       "[8824,\n",
       " 4000,\n",
       " 3393,\n",
       " 122,\n",
       " 7377,\n",
       " 1994,\n",
       " 2819,\n",
       " 8364,\n",
       " 8090,\n",
       " 3253,\n",
       " 9661,\n",
       " 3964,\n",
       " 6212,\n",
       " 4976,\n",
       " 7979,\n",
       " 2381,\n",
       " 9992,\n",
       " 9850,\n",
       " 6770,\n",
       " 854,\n",
       " 4397,\n",
       " 5401]"
      ]
     },
     "execution_count": 502,
     "metadata": {},
     "output_type": "execute_result"
    }
   ],
   "source": [
    "taxis[0]"
   ]
  },
  {
   "cell_type": "code",
   "execution_count": 503,
   "metadata": {},
   "outputs": [
    {
     "data": {
      "text/plain": [
       "10019.112107087549"
      ]
     },
     "execution_count": 503,
     "metadata": {},
     "output_type": "execute_result"
    }
   ],
   "source": [
    "distance(np_df[8824], np_df[4000])"
   ]
  },
  {
   "cell_type": "code",
   "execution_count": 504,
   "metadata": {},
   "outputs": [
    {
     "data": {
      "text/plain": [
       "1.113282314021306"
      ]
     },
     "execution_count": 504,
     "metadata": {},
     "output_type": "execute_result"
    }
   ],
   "source": [
    "distance(df.iloc[8824], np_df[3393])"
   ]
  },
  {
   "cell_type": "code",
   "execution_count": 505,
   "metadata": {},
   "outputs": [
    {
     "data": {
      "text/plain": [
       "14504.67358460332"
      ]
     },
     "execution_count": 505,
     "metadata": {},
     "output_type": "execute_result"
    }
   ],
   "source": [
    "distance(np_df[8824], df.iloc[122])"
   ]
  },
  {
   "cell_type": "code",
   "execution_count": 497,
   "metadata": {},
   "outputs": [
    {
     "name": "stdout",
     "output_type": "stream",
     "text": [
      "[-54.926451 -67.63741 ]\n",
      "id                     5049.000000\n",
      "lat                     -54.926451\n",
      "long                    -67.637410\n",
      "weight               289232.000000\n",
      "sleigh                10000.000000\n",
      "dist_korvatunturi     15777.878007\n",
      "Name: 5047, dtype: float64\n"
     ]
    }
   ],
   "source": [
    "# IS DF.ILOC USING ID FIELD + LAT FOR DISTANCE? FIELD 0\n",
    "print(np_df[5047])\n",
    "print(df.iloc[5047])\n"
   ]
  },
  {
   "cell_type": "code",
   "execution_count": null,
   "metadata": {},
   "outputs": [],
   "source": []
  },
  {
   "cell_type": "code",
   "execution_count": 470,
   "metadata": {},
   "outputs": [
    {
     "data": {
      "text/plain": [
       "5481.275069231028"
      ]
     },
     "execution_count": 470,
     "metadata": {},
     "output_type": "execute_result"
    }
   ],
   "source": [
    "distance(np_df[8824], np_df[3258])"
   ]
  },
  {
   "cell_type": "code",
   "execution_count": 471,
   "metadata": {},
   "outputs": [
    {
     "data": {
      "text/plain": [
       "5482.095370809144"
      ]
     },
     "execution_count": 471,
     "metadata": {},
     "output_type": "execute_result"
    }
   ],
   "source": [
    "distance(np_df[8824], np_df[9401])"
   ]
  },
  {
   "cell_type": "code",
   "execution_count": 472,
   "metadata": {},
   "outputs": [
    {
     "data": {
      "text/plain": [
       "8331.00514248898"
      ]
     },
     "execution_count": 472,
     "metadata": {},
     "output_type": "execute_result"
    }
   ],
   "source": [
    "distance(np_df[8824], np_df[8222])"
   ]
  },
  {
   "cell_type": "code",
   "execution_count": 463,
   "metadata": {},
   "outputs": [
    {
     "data": {
      "text/html": [
       "<div>\n",
       "<style scoped>\n",
       "    .dataframe tbody tr th:only-of-type {\n",
       "        vertical-align: middle;\n",
       "    }\n",
       "\n",
       "    .dataframe tbody tr th {\n",
       "        vertical-align: top;\n",
       "    }\n",
       "\n",
       "    .dataframe thead th {\n",
       "        text-align: right;\n",
       "    }\n",
       "</style>\n",
       "<table border=\"1\" class=\"dataframe\">\n",
       "  <thead>\n",
       "    <tr style=\"text-align: right;\">\n",
       "      <th></th>\n",
       "      <th>lat</th>\n",
       "      <th>long</th>\n",
       "    </tr>\n",
       "  </thead>\n",
       "  <tbody>\n",
       "    <tr>\n",
       "      <th>8824</th>\n",
       "      <td>-90.000000</td>\n",
       "      <td>0.000000</td>\n",
       "    </tr>\n",
       "    <tr>\n",
       "      <th>5047</th>\n",
       "      <td>-54.926451</td>\n",
       "      <td>-67.637410</td>\n",
       "    </tr>\n",
       "    <tr>\n",
       "      <th>3258</th>\n",
       "      <td>-54.317598</td>\n",
       "      <td>-36.506344</td>\n",
       "    </tr>\n",
       "    <tr>\n",
       "      <th>9401</th>\n",
       "      <td>-54.312732</td>\n",
       "      <td>-36.513174</td>\n",
       "    </tr>\n",
       "    <tr>\n",
       "      <th>8222</th>\n",
       "      <td>-53.163496</td>\n",
       "      <td>-70.928661</td>\n",
       "    </tr>\n",
       "    <tr>\n",
       "      <th>7595</th>\n",
       "      <td>-53.148835</td>\n",
       "      <td>-70.972913</td>\n",
       "    </tr>\n",
       "    <tr>\n",
       "      <th>3031</th>\n",
       "      <td>-53.128911</td>\n",
       "      <td>-70.941173</td>\n",
       "    </tr>\n",
       "    <tr>\n",
       "      <th>8524</th>\n",
       "      <td>-52.624282</td>\n",
       "      <td>-71.454606</td>\n",
       "    </tr>\n",
       "    <tr>\n",
       "      <th>4439</th>\n",
       "      <td>-51.719119</td>\n",
       "      <td>-72.497241</td>\n",
       "    </tr>\n",
       "    <tr>\n",
       "      <th>5416</th>\n",
       "      <td>-51.718164</td>\n",
       "      <td>-57.839239</td>\n",
       "    </tr>\n",
       "    <tr>\n",
       "      <th>3897</th>\n",
       "      <td>-51.708967</td>\n",
       "      <td>-57.851359</td>\n",
       "    </tr>\n",
       "    <tr>\n",
       "      <th>6247</th>\n",
       "      <td>-51.705300</td>\n",
       "      <td>-72.514337</td>\n",
       "    </tr>\n",
       "    <tr>\n",
       "      <th>8257</th>\n",
       "      <td>-51.626529</td>\n",
       "      <td>-69.226963</td>\n",
       "    </tr>\n",
       "    <tr>\n",
       "      <th>8826</th>\n",
       "      <td>-50.346843</td>\n",
       "      <td>-72.299891</td>\n",
       "    </tr>\n",
       "  </tbody>\n",
       "</table>\n",
       "</div>"
      ],
      "text/plain": [
       "            lat       long\n",
       "8824 -90.000000   0.000000\n",
       "5047 -54.926451 -67.637410\n",
       "3258 -54.317598 -36.506344\n",
       "9401 -54.312732 -36.513174\n",
       "8222 -53.163496 -70.928661\n",
       "7595 -53.148835 -70.972913\n",
       "3031 -53.128911 -70.941173\n",
       "8524 -52.624282 -71.454606\n",
       "4439 -51.719119 -72.497241\n",
       "5416 -51.718164 -57.839239\n",
       "3897 -51.708967 -57.851359\n",
       "6247 -51.705300 -72.514337\n",
       "8257 -51.626529 -69.226963\n",
       "8826 -50.346843 -72.299891"
      ]
     },
     "execution_count": 463,
     "metadata": {},
     "output_type": "execute_result"
    }
   ],
   "source": [
    "routex = df[['lat','long']].iloc[taxis[0]]\n",
    "routex"
   ]
  },
  {
   "cell_type": "code",
   "execution_count": 467,
   "metadata": {},
   "outputs": [
    {
     "data": {
      "image/png": "[encoded data removed]",
      "text/plain": [
       "<Figure size 1440x720 with 1 Axes>"
      ]
     },
     "metadata": {},
     "output_type": "display_data"
    }
   ],
   "source": [
    "routex.plot(kind=\"line\", x=\"long\", y=\"lat\", alpha=0.8, figsize=(20,10))\n",
    "# Red X home / Korvatunturi\n",
    "plt.plot(home[1], home[0], 'rX', label='point')\n",
    "plt.show()"
   ]
  },
  {
   "cell_type": "code",
   "execution_count": 468,
   "metadata": {},
   "outputs": [
    {
     "data": {
      "image/png": "[encoded data removed]",
      "text/plain": [
       "<Figure size 1440x720 with 1 Axes>"
      ]
     },
     "metadata": {},
     "output_type": "display_data"
    }
   ],
   "source": [
    "df.plot(kind=\"scatter\", x=\"long\", y=\"lat\", alpha=0.2, figsize=(20,10))\n",
    "# Red X home / Korvatunturi\n",
    "plt.plot(home[1], home[0], 'rX', label='point')\n",
    "plt.show()"
   ]
  },
  {
   "cell_type": "code",
   "execution_count": null,
   "metadata": {},
   "outputs": [],
   "source": [
    "# as long as unassigned gifts remain\n",
    "- pick furthest away\n",
    "  as long as space:\n",
    "# find n nearest\n",
    "- if fit, add closest\n",
    "# find nearest for all these\n",
    "- add closest to this group # this is same as growing cluster with unit closest to any old item\n",
    "\n",
    "# keep a alist of unassigned? or use sleigh==-1?\n",
    "# how to keep indexing?\n",
    "\n",
    "\n",
    "# when done, can still arrange each sleighs locations internally to shortest path\n",
    "\n"
   ]
  },
  {
   "cell_type": "code",
   "execution_count": null,
   "metadata": {},
   "outputs": [],
   "source": []
  },
  {
   "cell_type": "code",
   "execution_count": null,
   "metadata": {},
   "outputs": [],
   "source": []
  },
  {
   "cell_type": "code",
   "execution_count": 103,
   "metadata": {},
   "outputs": [],
   "source": [
    "i = 0\n",
    "dist=[]\n",
    "# sort by nearest\n",
    "for j in range(len(df)):\n",
    " dist.append( haversine(df.iloc[i]['long'], df.iloc[i]['lat'], df.iloc[j]['long'], df.iloc[j]['lat']) )"
   ]
  },
  {
   "cell_type": "code",
   "execution_count": 104,
   "metadata": {},
   "outputs": [
    {
     "data": {
      "text/html": [
       "<div>\n",
       "<style scoped>\n",
       "    .dataframe tbody tr th:only-of-type {\n",
       "        vertical-align: middle;\n",
       "    }\n",
       "\n",
       "    .dataframe tbody tr th {\n",
       "        vertical-align: top;\n",
       "    }\n",
       "\n",
       "    .dataframe thead th {\n",
       "        text-align: right;\n",
       "    }\n",
       "</style>\n",
       "<table border=\"1\" class=\"dataframe\">\n",
       "  <thead>\n",
       "    <tr style=\"text-align: right;\">\n",
       "      <th></th>\n",
       "      <th>0</th>\n",
       "    </tr>\n",
       "  </thead>\n",
       "  <tbody>\n",
       "    <tr>\n",
       "      <th>0</th>\n",
       "      <td>0.000000</td>\n",
       "    </tr>\n",
       "    <tr>\n",
       "      <th>1</th>\n",
       "      <td>440.696945</td>\n",
       "    </tr>\n",
       "    <tr>\n",
       "      <th>2</th>\n",
       "      <td>8811.929433</td>\n",
       "    </tr>\n",
       "    <tr>\n",
       "      <th>3</th>\n",
       "      <td>8352.661111</td>\n",
       "    </tr>\n",
       "  </tbody>\n",
       "</table>\n",
       "</div>"
      ],
      "text/plain": [
       "             0\n",
       "0     0.000000\n",
       "1   440.696945\n",
       "2  8811.929433\n",
       "3  8352.661111"
      ]
     },
     "execution_count": 104,
     "metadata": {},
     "output_type": "execute_result"
    }
   ],
   "source": [
    "dist = pd.DataFrame(dist)\n",
    "dist[0:4]"
   ]
  },
  {
   "cell_type": "code",
   "execution_count": 105,
   "metadata": {},
   "outputs": [],
   "source": [
    "dist = dist.reset_index()"
   ]
  },
  {
   "cell_type": "code",
   "execution_count": null,
   "metadata": {},
   "outputs": [],
   "source": [
    "dist.head(3)"
   ]
  },
  {
   "cell_type": "code",
   "execution_count": null,
   "metadata": {},
   "outputs": [],
   "source": [
    "dist_sorted = dist.sort_values(by=[0], ascending=True)\n",
    "dist_sorted.head(3)"
   ]
  },
  {
   "cell_type": "code",
   "execution_count": null,
   "metadata": {},
   "outputs": [],
   "source": [
    "dist[0:4]"
   ]
  },
  {
   "cell_type": "code",
   "execution_count": 109,
   "metadata": {},
   "outputs": [
    {
     "data": {
      "text/plain": [
       "array(['index', 0], dtype=object)"
      ]
     },
     "execution_count": 109,
     "metadata": {},
     "output_type": "execute_result"
    }
   ],
   "source": [
    "dist.columns.values"
   ]
  },
  {
   "cell_type": "code",
   "execution_count": 110,
   "metadata": {},
   "outputs": [],
   "source": [
    "# create a function taking into account\n",
    "# - groups distance from home\n",
    "# and\n",
    "# - distance of possible additional units vs.\n",
    "# - how much of max load would be wasted"
   ]
  },
  {
   "cell_type": "code",
   "execution_count": 111,
   "metadata": {},
   "outputs": [
    {
     "data": {
      "text/html": [
       "<div>\n",
       "<style scoped>\n",
       "    .dataframe tbody tr th:only-of-type {\n",
       "        vertical-align: middle;\n",
       "    }\n",
       "\n",
       "    .dataframe tbody tr th {\n",
       "        vertical-align: top;\n",
       "    }\n",
       "\n",
       "    .dataframe thead th {\n",
       "        text-align: right;\n",
       "    }\n",
       "</style>\n",
       "<table border=\"1\" class=\"dataframe\">\n",
       "  <thead>\n",
       "    <tr style=\"text-align: right;\">\n",
       "      <th></th>\n",
       "      <th>id</th>\n",
       "      <th>lat</th>\n",
       "      <th>long</th>\n",
       "      <th>weight</th>\n",
       "      <th>sleigh</th>\n",
       "      <th>dist_korvatunturi</th>\n",
       "    </tr>\n",
       "  </thead>\n",
       "  <tbody>\n",
       "    <tr>\n",
       "      <th>0</th>\n",
       "      <td>2</td>\n",
       "      <td>40.733034</td>\n",
       "      <td>-86.762233</td>\n",
       "      <td>342917</td>\n",
       "      <td>2</td>\n",
       "      <td>6818.460780</td>\n",
       "    </tr>\n",
       "    <tr>\n",
       "      <th>1</th>\n",
       "      <td>3</td>\n",
       "      <td>43.029635</td>\n",
       "      <td>-91.094895</td>\n",
       "      <td>974703</td>\n",
       "      <td>3</td>\n",
       "      <td>6716.931863</td>\n",
       "    </tr>\n",
       "    <tr>\n",
       "      <th>2</th>\n",
       "      <td>4</td>\n",
       "      <td>31.180215</td>\n",
       "      <td>16.596037</td>\n",
       "      <td>215099</td>\n",
       "      <td>4</td>\n",
       "      <td>4189.445884</td>\n",
       "    </tr>\n",
       "    <tr>\n",
       "      <th>3</th>\n",
       "      <td>5</td>\n",
       "      <td>-28.657398</td>\n",
       "      <td>-55.964951</td>\n",
       "      <td>568144</td>\n",
       "      <td>5</td>\n",
       "      <td>12768.438477</td>\n",
       "    </tr>\n",
       "  </tbody>\n",
       "</table>\n",
       "</div>"
      ],
      "text/plain": [
       "   id        lat       long  weight  sleigh  dist_korvatunturi\n",
       "0   2  40.733034 -86.762233  342917       2        6818.460780\n",
       "1   3  43.029635 -91.094895  974703       3        6716.931863\n",
       "2   4  31.180215  16.596037  215099       4        4189.445884\n",
       "3   5 -28.657398 -55.964951  568144       5       12768.438477"
      ]
     },
     "execution_count": 111,
     "metadata": {},
     "output_type": "execute_result"
    }
   ],
   "source": [
    "df.head(4)"
   ]
  },
  {
   "cell_type": "markdown",
   "metadata": {},
   "source": [
    "### go"
   ]
  },
  {
   "cell_type": "code",
   "execution_count": null,
   "metadata": {},
   "outputs": [],
   "source": [
    "t0 = clock()\n",
    "#knn = knn_search(data, K)\n",
    "t1 = clock()\n",
    "print(t1-t0)"
   ]
  },
  {
   "cell_type": "code",
   "execution_count": 47,
   "metadata": {},
   "outputs": [
    {
     "ename": "IndexError",
     "evalue": "index 0 is out of bounds for axis 0 with size 0",
     "output_type": "error",
     "traceback": [
      "\u001b[0;31m---------------------------------------------------------------------------\u001b[0m",
      "\u001b[0;31mIndexError\u001b[0m                                Traceback (most recent call last)",
      "\u001b[0;32m<ipython-input-47-f79bc8c66262>\u001b[0m in \u001b[0;36m<module>\u001b[0;34m()\u001b[0m\n\u001b[1;32m      1\u001b[0m \u001b[0mK\u001b[0m\u001b[0;34m=\u001b[0m\u001b[0;36m20\u001b[0m\u001b[0;34m\u001b[0m\u001b[0m\n\u001b[1;32m      2\u001b[0m \u001b[0;31m#knn = knn_search(treedata, K)\u001b[0m\u001b[0;34m\u001b[0m\u001b[0;34m\u001b[0m\u001b[0m\n\u001b[0;32m----> 3\u001b[0;31m \u001b[0mnear\u001b[0m \u001b[0;34m=\u001b[0m \u001b[0msearch_kdtree\u001b[0m\u001b[0;34m(\u001b[0m\u001b[0mtreedata\u001b[0m\u001b[0;34m,\u001b[0m \u001b[0mdatapoint\u001b[0m\u001b[0;34m,\u001b[0m \u001b[0mK\u001b[0m\u001b[0;34m)\u001b[0m\u001b[0;34m\u001b[0m\u001b[0m\n\u001b[0m",
      "\u001b[0;32m<ipython-input-33-912293370020>\u001b[0m in \u001b[0;36msearch_kdtree\u001b[0;34m(tree, datapoint, K)\u001b[0m\n\u001b[1;32m     31\u001b[0m \u001b[0;32mdef\u001b[0m \u001b[0msearch_kdtree\u001b[0m\u001b[0;34m(\u001b[0m\u001b[0mtree\u001b[0m\u001b[0;34m,\u001b[0m \u001b[0mdatapoint\u001b[0m\u001b[0;34m,\u001b[0m \u001b[0mK\u001b[0m\u001b[0;34m)\u001b[0m\u001b[0;34m:\u001b[0m\u001b[0;34m\u001b[0m\u001b[0m\n\u001b[1;32m     32\u001b[0m     \u001b[0;34m\"\"\" find the k nearest neighbours of datapoint in a kdtree \"\"\"\u001b[0m\u001b[0;34m\u001b[0m\u001b[0m\n\u001b[0;32m---> 33\u001b[0;31m     \u001b[0mstack\u001b[0m \u001b[0;34m=\u001b[0m \u001b[0;34m[\u001b[0m\u001b[0mtree\u001b[0m\u001b[0;34m[\u001b[0m\u001b[0;36m0\u001b[0m\u001b[0;34m]\u001b[0m\u001b[0;34m]\u001b[0m\u001b[0;34m\u001b[0m\u001b[0m\n\u001b[0m\u001b[1;32m     34\u001b[0m     \u001b[0mknn\u001b[0m \u001b[0;34m=\u001b[0m \u001b[0;34m[\u001b[0m\u001b[0;34m(\u001b[0m\u001b[0mnumpy\u001b[0m\u001b[0;34m.\u001b[0m\u001b[0minf\u001b[0m\u001b[0;34m,\u001b[0m \u001b[0;32mNone\u001b[0m\u001b[0;34m)\u001b[0m\u001b[0;34m]\u001b[0m\u001b[0;34m*\u001b[0m\u001b[0mK\u001b[0m\u001b[0;34m\u001b[0m\u001b[0m\n\u001b[1;32m     35\u001b[0m     \u001b[0m_datapt\u001b[0m \u001b[0;34m=\u001b[0m \u001b[0mdatapoint\u001b[0m\u001b[0;34m[\u001b[0m\u001b[0;34m:\u001b[0m\u001b[0;34m,\u001b[0m\u001b[0;36m0\u001b[0m\u001b[0;34m]\u001b[0m\u001b[0;34m\u001b[0m\u001b[0m\n",
      "\u001b[0;31mIndexError\u001b[0m: index 0 is out of bounds for axis 0 with size 0"
     ]
    }
   ],
   "source": [
    "K=20\n",
    "#knn = knn_search(treedata, K)\n"
   ]
  },
  {
   "cell_type": "code",
   "execution_count": 48,
   "metadata": {},
   "outputs": [
    {
     "ename": "IndexError",
     "evalue": "index 0 is out of bounds for axis 0 with size 0",
     "output_type": "error",
     "traceback": [
      "\u001b[0;31m---------------------------------------------------------------------------\u001b[0m",
      "\u001b[0;31mIndexError\u001b[0m                                Traceback (most recent call last)",
      "\u001b[0;32m<ipython-input-48-44d8a4abdba1>\u001b[0m in \u001b[0;36m<module>\u001b[0;34m()\u001b[0m\n\u001b[0;32m----> 1\u001b[0;31m \u001b[0mknn\u001b[0m \u001b[0;34m=\u001b[0m \u001b[0mknn_search\u001b[0m\u001b[0;34m(\u001b[0m\u001b[0mtreedata\u001b[0m\u001b[0;34m,\u001b[0m \u001b[0mK\u001b[0m\u001b[0;34m)\u001b[0m\u001b[0;34m\u001b[0m\u001b[0m\n\u001b[0m",
      "\u001b[0;32m<ipython-input-33-912293370020>\u001b[0m in \u001b[0;36mknn_search\u001b[0;34m(data, K, leafsize)\u001b[0m\n\u001b[1;32m     66\u001b[0m \u001b[0;34m\u001b[0m\u001b[0m\n\u001b[1;32m     67\u001b[0m     \u001b[0;31m# build kdtree\u001b[0m\u001b[0;34m\u001b[0m\u001b[0;34m\u001b[0m\u001b[0m\n\u001b[0;32m---> 68\u001b[0;31m     \u001b[0mtree\u001b[0m \u001b[0;34m=\u001b[0m \u001b[0mkdtree\u001b[0m\u001b[0;34m(\u001b[0m\u001b[0mdata\u001b[0m\u001b[0;34m.\u001b[0m\u001b[0mcopy\u001b[0m\u001b[0;34m(\u001b[0m\u001b[0;34m)\u001b[0m\u001b[0;34m,\u001b[0m \u001b[0mleafsize\u001b[0m\u001b[0;34m=\u001b[0m\u001b[0mleafsize\u001b[0m\u001b[0;34m)\u001b[0m\u001b[0;34m\u001b[0m\u001b[0m\n\u001b[0m\u001b[1;32m     69\u001b[0m \u001b[0;34m\u001b[0m\u001b[0m\n\u001b[1;32m     70\u001b[0m     \u001b[0;31m# search kdtree\u001b[0m\u001b[0;34m\u001b[0m\u001b[0;34m\u001b[0m\u001b[0m\n",
      "\u001b[0;32m<ipython-input-32-1ad020585ac5>\u001b[0m in \u001b[0;36mkdtree\u001b[0;34m(data, leafsize)\u001b[0m\n\u001b[1;32m     31\u001b[0m \u001b[0;34m\u001b[0m\u001b[0m\n\u001b[1;32m     32\u001b[0m     \u001b[0;31m# create root of kd-tree\u001b[0m\u001b[0;34m\u001b[0m\u001b[0;34m\u001b[0m\u001b[0m\n\u001b[0;32m---> 33\u001b[0;31m     \u001b[0midx\u001b[0m \u001b[0;34m=\u001b[0m \u001b[0mnumpy\u001b[0m\u001b[0;34m.\u001b[0m\u001b[0margsort\u001b[0m\u001b[0;34m(\u001b[0m\u001b[0mdata\u001b[0m\u001b[0;34m[\u001b[0m\u001b[0;36m0\u001b[0m\u001b[0;34m,\u001b[0m\u001b[0;34m:\u001b[0m\u001b[0;34m]\u001b[0m\u001b[0;34m,\u001b[0m \u001b[0mkind\u001b[0m\u001b[0;34m=\u001b[0m\u001b[0;34m'mergesort'\u001b[0m\u001b[0;34m)\u001b[0m\u001b[0;34m\u001b[0m\u001b[0m\n\u001b[0m\u001b[1;32m     34\u001b[0m     \u001b[0mdata\u001b[0m\u001b[0;34m[\u001b[0m\u001b[0;34m:\u001b[0m\u001b[0;34m,\u001b[0m\u001b[0;34m:\u001b[0m\u001b[0;34m]\u001b[0m \u001b[0;34m=\u001b[0m \u001b[0mdata\u001b[0m\u001b[0;34m[\u001b[0m\u001b[0;34m:\u001b[0m\u001b[0;34m,\u001b[0m\u001b[0midx\u001b[0m\u001b[0;34m]\u001b[0m\u001b[0;34m\u001b[0m\u001b[0m\n\u001b[1;32m     35\u001b[0m     \u001b[0msplitval\u001b[0m \u001b[0;34m=\u001b[0m \u001b[0mdata\u001b[0m\u001b[0;34m[\u001b[0m\u001b[0;36m0\u001b[0m\u001b[0;34m,\u001b[0m\u001b[0mndata\u001b[0m\u001b[0;34m//\u001b[0m\u001b[0;36m2\u001b[0m\u001b[0;34m]\u001b[0m\u001b[0;34m\u001b[0m\u001b[0m\n",
      "\u001b[0;31mIndexError\u001b[0m: index 0 is out of bounds for axis 0 with size 0"
     ]
    }
   ],
   "source": [
    "knn = knn_search(treedata, K)"
   ]
  },
  {
   "cell_type": "code",
   "execution_count": null,
   "metadata": {},
   "outputs": [],
   "source": []
  },
  {
   "cell_type": "code",
   "execution_count": null,
   "metadata": {},
   "outputs": [],
   "source": []
  },
  {
   "cell_type": "code",
   "execution_count": null,
   "metadata": {},
   "outputs": [],
   "source": []
  },
  {
   "cell_type": "markdown",
   "metadata": {},
   "source": [
    "### Info on some specific points"
   ]
  },
  {
   "cell_type": "code",
   "execution_count": 100,
   "metadata": {},
   "outputs": [],
   "source": [
    "treedata = df[['long', 'lat']]"
   ]
  },
  {
   "cell_type": "code",
   "execution_count": 115,
   "metadata": {},
   "outputs": [
    {
     "data": {
      "text/html": [
       "<div>\n",
       "<style scoped>\n",
       "    .dataframe tbody tr th:only-of-type {\n",
       "        vertical-align: middle;\n",
       "    }\n",
       "\n",
       "    .dataframe tbody tr th {\n",
       "        vertical-align: top;\n",
       "    }\n",
       "\n",
       "    .dataframe thead th {\n",
       "        text-align: right;\n",
       "    }\n",
       "</style>\n",
       "<table border=\"1\" class=\"dataframe\">\n",
       "  <thead>\n",
       "    <tr style=\"text-align: right;\">\n",
       "      <th></th>\n",
       "      <th>id</th>\n",
       "      <th>lat</th>\n",
       "      <th>long</th>\n",
       "      <th>weight</th>\n",
       "      <th>sleigh</th>\n",
       "      <th>dist_korvatunturi</th>\n",
       "    </tr>\n",
       "  </thead>\n",
       "  <tbody>\n",
       "    <tr>\n",
       "      <th>0</th>\n",
       "      <td>2</td>\n",
       "      <td>40.733034</td>\n",
       "      <td>-86.762233</td>\n",
       "      <td>342917</td>\n",
       "      <td>2</td>\n",
       "      <td>6818.460780</td>\n",
       "    </tr>\n",
       "    <tr>\n",
       "      <th>1</th>\n",
       "      <td>3</td>\n",
       "      <td>43.029635</td>\n",
       "      <td>-91.094895</td>\n",
       "      <td>974703</td>\n",
       "      <td>3</td>\n",
       "      <td>6716.931863</td>\n",
       "    </tr>\n",
       "    <tr>\n",
       "      <th>2</th>\n",
       "      <td>4</td>\n",
       "      <td>31.180215</td>\n",
       "      <td>16.596037</td>\n",
       "      <td>215099</td>\n",
       "      <td>4</td>\n",
       "      <td>4189.445884</td>\n",
       "    </tr>\n",
       "    <tr>\n",
       "      <th>3</th>\n",
       "      <td>5</td>\n",
       "      <td>-28.657398</td>\n",
       "      <td>-55.964951</td>\n",
       "      <td>568144</td>\n",
       "      <td>5</td>\n",
       "      <td>12768.438477</td>\n",
       "    </tr>\n",
       "    <tr>\n",
       "      <th>4</th>\n",
       "      <td>6</td>\n",
       "      <td>36.186751</td>\n",
       "      <td>-86.355754</td>\n",
       "      <td>695570</td>\n",
       "      <td>6</td>\n",
       "      <td>7274.033239</td>\n",
       "    </tr>\n",
       "  </tbody>\n",
       "</table>\n",
       "</div>"
      ],
      "text/plain": [
       "   id        lat       long  weight  sleigh  dist_korvatunturi\n",
       "0   2  40.733034 -86.762233  342917       2        6818.460780\n",
       "1   3  43.029635 -91.094895  974703       3        6716.931863\n",
       "2   4  31.180215  16.596037  215099       4        4189.445884\n",
       "3   5 -28.657398 -55.964951  568144       5       12768.438477\n",
       "4   6  36.186751 -86.355754  695570       6        7274.033239"
      ]
     },
     "execution_count": 115,
     "metadata": {},
     "output_type": "execute_result"
    }
   ],
   "source": [
    "df.head()"
   ]
  },
  {
   "cell_type": "code",
   "execution_count": 134,
   "metadata": {},
   "outputs": [
    {
     "data": {
      "text/plain": [
       "id                        2.000000\n",
       "lat                      40.733034\n",
       "long                    -86.762233\n",
       "weight               342917.000000\n",
       "sleigh                    2.000000\n",
       "dist_korvatunturi      6818.460780\n",
       "Name: 0, dtype: float64"
      ]
     },
     "execution_count": 134,
     "metadata": {},
     "output_type": "execute_result"
    }
   ],
   "source": [
    "df.iloc[0]"
   ]
  },
  {
   "cell_type": "code",
   "execution_count": 109,
   "metadata": {},
   "outputs": [
    {
     "data": {
      "text/plain": [
       "(10000, 2)"
      ]
     },
     "execution_count": 109,
     "metadata": {},
     "output_type": "execute_result"
    }
   ],
   "source": [
    "treedat.shape"
   ]
  },
  {
   "cell_type": "code",
   "execution_count": 111,
   "metadata": {},
   "outputs": [
    {
     "data": {
      "text/plain": [
       "[(0.035337873581000136, 8964),\n",
       " (0.9283121356569914, 5852),\n",
       " (1.266208588250013, 9578),\n",
       " (1.4500857272850018, 9328),\n",
       " (1.5663806009299814, 8870),\n",
       " (1.5857399166370032, 5124),\n",
       " (2.221291289120009, 9302),\n",
       " (2.4370281524809574, 882),\n",
       " (2.8134255199210036, 100),\n",
       " (3.3382238789840173, 6154)]"
      ]
     },
     "execution_count": 111,
     "metadata": {},
     "output_type": "execute_result"
    }
   ],
   "source": [
    "knn[0]"
   ]
  },
  {
   "cell_type": "code",
   "execution_count": 133,
   "metadata": {
    "scrolled": true
   },
   "outputs": [
    {
     "data": {
      "text/plain": [
       "id                     8967.000000\n",
       "lat                      42.080503\n",
       "long                    -87.828679\n",
       "weight               541541.000000\n",
       "sleigh                 8967.000000\n",
       "dist_korvatunturi      6713.930818\n",
       "Name: 8965, dtype: float64"
      ]
     },
     "execution_count": 133,
     "metadata": {},
     "output_type": "execute_result"
    }
   ],
   "source": [
    "df.iloc[8964+1]"
   ]
  },
  {
   "cell_type": "code",
   "execution_count": 136,
   "metadata": {
    "scrolled": false
   },
   "outputs": [
    {
     "data": {
      "text/plain": [
       "id                     9331.000000\n",
       "lat                      44.848400\n",
       "long                    -87.360702\n",
       "weight               546408.000000\n",
       "sleigh                 9331.000000\n",
       "dist_korvatunturi      6415.349769\n",
       "Name: 9329, dtype: float64"
      ]
     },
     "execution_count": 136,
     "metadata": {},
     "output_type": "execute_result"
    }
   ],
   "source": [
    "# only 460 km\n",
    "df.iloc[9328+1]"
   ]
  },
  {
   "cell_type": "code",
   "execution_count": 124,
   "metadata": {},
   "outputs": [
    {
     "data": {
      "text/plain": [
       "174.42923390434507"
      ]
     },
     "execution_count": 124,
     "metadata": {},
     "output_type": "execute_result"
    }
   ],
   "source": [
    "i= 8964+1\n",
    "haversine(df.iloc[0]['long'], df.iloc[0]['lat'], df.iloc[i]['long'], df.iloc[i]['lat'])"
   ]
  },
  {
   "cell_type": "code",
   "execution_count": 125,
   "metadata": {},
   "outputs": [
    {
     "data": {
      "text/plain": [
       "9520.249117979016"
      ]
     },
     "execution_count": 125,
     "metadata": {},
     "output_type": "execute_result"
    }
   ],
   "source": [
    "i= 5852+1\n",
    "haversine(df.iloc[0]['long'], df.iloc[0]['lat'], df.iloc[i]['long'], df.iloc[i]['lat'])"
   ]
  },
  {
   "cell_type": "code",
   "execution_count": 129,
   "metadata": {},
   "outputs": [
    {
     "data": {
      "text/plain": [
       "1000.1607124358325"
      ]
     },
     "execution_count": 129,
     "metadata": {},
     "output_type": "execute_result"
    }
   ],
   "source": [
    "i= 9578+1\n",
    "haversine(df.iloc[0]['long'], df.iloc[0]['lat'], df.iloc[i]['long'], df.iloc[i]['lat'])"
   ]
  },
  {
   "cell_type": "code",
   "execution_count": 130,
   "metadata": {},
   "outputs": [
    {
     "data": {
      "text/plain": [
       "460.70783954420926"
      ]
     },
     "execution_count": 130,
     "metadata": {},
     "output_type": "execute_result"
    }
   ],
   "source": [
    "i= 9328+1\n",
    "haversine(df.iloc[0]['long'], df.iloc[0]['lat'], df.iloc[i]['long'], df.iloc[i]['lat'])"
   ]
  },
  {
   "cell_type": "code",
   "execution_count": 135,
   "metadata": {},
   "outputs": [
    {
     "data": {
      "text/plain": [
       "id                     8981.000000\n",
       "lat                      37.073659\n",
       "long                     36.261472\n",
       "weight               212478.000000\n",
       "sleigh                 8981.000000\n",
       "dist_korvatunturi      3477.809998\n",
       "Name: 8979, dtype: float64"
      ]
     },
     "execution_count": 135,
     "metadata": {},
     "output_type": "execute_result"
    }
   ],
   "source": [
    "df.iloc[8978+1]"
   ]
  },
  {
   "cell_type": "code",
   "execution_count": 113,
   "metadata": {},
   "outputs": [
    {
     "data": {
      "text/plain": [
       "id                        2.000000\n",
       "lat                      40.733034\n",
       "long                    -86.762233\n",
       "weight               342917.000000\n",
       "sleigh                    2.000000\n",
       "dist_korvatunturi      6818.460780\n",
       "Name: 0, dtype: float64"
      ]
     },
     "execution_count": 113,
     "metadata": {},
     "output_type": "execute_result"
    }
   ],
   "source": [
    "df.iloc[0]"
   ]
  },
  {
   "cell_type": "code",
   "execution_count": 114,
   "metadata": {},
   "outputs": [
    {
     "data": {
      "text/plain": [
       "id                     8966.000000\n",
       "lat                      25.402624\n",
       "long                     97.358505\n",
       "weight               699326.000000\n",
       "sleigh                 8966.000000\n",
       "dist_korvatunturi      6500.293323\n",
       "Name: 8964, dtype: float64"
      ]
     },
     "execution_count": 114,
     "metadata": {},
     "output_type": "execute_result"
    }
   ],
   "source": [
    "df.iloc[8964]"
   ]
  },
  {
   "cell_type": "code",
   "execution_count": null,
   "metadata": {},
   "outputs": [],
   "source": []
  }
 ],
 "metadata": {
  "kernelspec": {
   "display_name": "Python 3",
   "language": "python",
   "name": "python3"
  },
  "language_info": {
   "codemirror_mode": {
    "name": "ipython",
    "version": 3
   },
   "file_extension": ".py",
   "mimetype": "text/x-python",
   "name": "python",
   "nbconvert_exporter": "python",
   "pygments_lexer": "ipython3",
   "version": "3.6.4"
  }
 },
 "nbformat": 4,
 "nbformat_minor": 2
}
