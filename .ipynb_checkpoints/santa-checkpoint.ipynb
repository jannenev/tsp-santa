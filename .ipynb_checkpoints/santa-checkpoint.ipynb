{
 "cells": [
  {
   "cell_type": "code",
   "execution_count": 1,
   "metadata": {},
   "outputs": [],
   "source": [
    "# Santas travel to deliver packets\n",
    "# https://traveling-santa.reaktor.com/?utm_source=facebook&utm_campaign=FI+%7C+Holiday+Code+Puzzle+12%2F2018&utm_medium=paid&hsa_net=facebook&hsa_ad=6111530998674&hsa_src=fb&hsa_ver=3&hsa_grp=6111530993874&hsa_cam=6111530985074&hsa_acc=273790800&fbclid=IwAR2nXLgIqacdbUOM1buVCqznhb8Ab-DAMFIGgSFD7L6lNkleH6tSF1M6z58"
   ]
  },
  {
   "cell_type": "code",
   "execution_count": 2,
   "metadata": {},
   "outputs": [],
   "source": [
    "import pandas as pd\n",
    "import time\n",
    "import matplotlib.pyplot as plt\n",
    "import numpy\n",
    "\n",
    "import numpy as np\n",
    "from scipy.spatial import KDTree"
   ]
  },
  {
   "cell_type": "code",
   "execution_count": 3,
   "metadata": {},
   "outputs": [],
   "source": [
    "# Since over a sphere geometry is different than on flat surface, use haversine.\n",
    "# https://stackoverflow.com/questions/4913349/haversine-formula-in-python-bearing-and-distance-between-two-gps-points\n",
    "from math import radians, cos, sin, asin, sqrt\n",
    "\n",
    "def haversine(lon1, lat1, lon2, lat2):\n",
    "    \"\"\"\n",
    "    Calculate the great circle distance between two points \n",
    "    on the earth (specified in decimal degrees)\n",
    "    \"\"\"\n",
    "    # convert decimal degrees to radians \n",
    "    lon1, lat1, lon2, lat2 = map(radians, [lon1, lat1, lon2, lat2])\n",
    "\n",
    "    # haversine formula \n",
    "    dlon = lon2 - lon1 \n",
    "    dlat = lat2 - lat1 \n",
    "    a = sin(dlat/2)**2 + cos(lat1) * cos(lat2) * sin(dlon/2)**2\n",
    "    c = 2 * asin(sqrt(a)) \n",
    "    r = 6378 # Radius of earth in kilometers. \n",
    "    return c * r"
   ]
  },
  {
   "cell_type": "code",
   "execution_count": 4,
   "metadata": {},
   "outputs": [
    {
     "data": {
      "text/plain": [
       "6818.460779642609"
      ]
     },
     "execution_count": 4,
     "metadata": {},
     "output_type": "execute_result"
    }
   ],
   "source": [
    "# test\n",
    "haversine(29.315278, 68.073611, -86.762233, 40.733034)"
   ]
  },
  {
   "cell_type": "code",
   "execution_count": 208,
   "metadata": {},
   "outputs": [],
   "source": [
    "# weight is in grams. Sleigh can carry 10.000 kgs\n",
    "max_weight = 10000000"
   ]
  },
  {
   "cell_type": "code",
   "execution_count": 6,
   "metadata": {},
   "outputs": [
    {
     "data": {
      "text/plain": [
       "0    68.073611\n",
       "1    29.315278\n",
       "dtype: float64"
      ]
     },
     "execution_count": 6,
     "metadata": {},
     "output_type": "execute_result"
    }
   ],
   "source": [
    "# Korvatunturi = 68.073611N 29.315278E\n",
    "home = pd.Series([68.073611, 29.315278])\n",
    "home\n"
   ]
  },
  {
   "cell_type": "code",
   "execution_count": 355,
   "metadata": {},
   "outputs": [
    {
     "data": {
      "text/html": [
       "<div>\n",
       "<style scoped>\n",
       "    .dataframe tbody tr th:only-of-type {\n",
       "        vertical-align: middle;\n",
       "    }\n",
       "\n",
       "    .dataframe tbody tr th {\n",
       "        vertical-align: top;\n",
       "    }\n",
       "\n",
       "    .dataframe thead th {\n",
       "        text-align: right;\n",
       "    }\n",
       "</style>\n",
       "<table border=\"1\" class=\"dataframe\">\n",
       "  <thead>\n",
       "    <tr style=\"text-align: right;\">\n",
       "      <th></th>\n",
       "      <th>id</th>\n",
       "      <th>lat</th>\n",
       "      <th>long</th>\n",
       "      <th>weight</th>\n",
       "      <th>sleigh</th>\n",
       "    </tr>\n",
       "  </thead>\n",
       "  <tbody>\n",
       "    <tr>\n",
       "      <th>0</th>\n",
       "      <td>2</td>\n",
       "      <td>40.733034</td>\n",
       "      <td>-86.762233</td>\n",
       "      <td>342917</td>\n",
       "      <td>-1</td>\n",
       "    </tr>\n",
       "    <tr>\n",
       "      <th>1</th>\n",
       "      <td>3</td>\n",
       "      <td>43.029635</td>\n",
       "      <td>-91.094895</td>\n",
       "      <td>974703</td>\n",
       "      <td>-1</td>\n",
       "    </tr>\n",
       "    <tr>\n",
       "      <th>2</th>\n",
       "      <td>4</td>\n",
       "      <td>31.180215</td>\n",
       "      <td>16.596037</td>\n",
       "      <td>215099</td>\n",
       "      <td>-1</td>\n",
       "    </tr>\n",
       "  </tbody>\n",
       "</table>\n",
       "</div>"
      ],
      "text/plain": [
       "   id        lat       long  weight  sleigh\n",
       "0   2  40.733034 -86.762233  342917      -1\n",
       "1   3  43.029635 -91.094895  974703      -1\n",
       "2   4  31.180215  16.596037  215099      -1"
      ]
     },
     "execution_count": 355,
     "metadata": {},
     "output_type": "execute_result"
    }
   ],
   "source": [
    "colnames = ['id', 'lat', 'long', 'weight']\n",
    "df = pd.read_csv('nicelist.txt', header=None, delimiter=';', names=colnames)\n",
    "df['sleigh']=-1\n",
    "df.head(3)"
   ]
  },
  {
   "cell_type": "code",
   "execution_count": 356,
   "metadata": {},
   "outputs": [
    {
     "data": {
      "text/plain": [
       "365.4292324325635"
      ]
     },
     "execution_count": 356,
     "metadata": {},
     "output_type": "execute_result"
    }
   ],
   "source": [
    "# test\n",
    "haversine(df.iloc[0]['long'], df.iloc[0]['lat'], df.iloc[1]['long'], df.iloc[0]['lat'])"
   ]
  },
  {
   "cell_type": "code",
   "execution_count": 357,
   "metadata": {},
   "outputs": [
    {
     "data": {
      "text/html": [
       "<div>\n",
       "<style scoped>\n",
       "    .dataframe tbody tr th:only-of-type {\n",
       "        vertical-align: middle;\n",
       "    }\n",
       "\n",
       "    .dataframe tbody tr th {\n",
       "        vertical-align: top;\n",
       "    }\n",
       "\n",
       "    .dataframe thead th {\n",
       "        text-align: right;\n",
       "    }\n",
       "</style>\n",
       "<table border=\"1\" class=\"dataframe\">\n",
       "  <thead>\n",
       "    <tr style=\"text-align: right;\">\n",
       "      <th></th>\n",
       "      <th>id</th>\n",
       "      <th>lat</th>\n",
       "      <th>long</th>\n",
       "      <th>weight</th>\n",
       "      <th>sleigh</th>\n",
       "      <th>dist_korvatunturi</th>\n",
       "    </tr>\n",
       "  </thead>\n",
       "  <tbody>\n",
       "    <tr>\n",
       "      <th>0</th>\n",
       "      <td>2</td>\n",
       "      <td>40.733034</td>\n",
       "      <td>-86.762233</td>\n",
       "      <td>342917</td>\n",
       "      <td>-1</td>\n",
       "      <td>6818.460780</td>\n",
       "    </tr>\n",
       "    <tr>\n",
       "      <th>1</th>\n",
       "      <td>3</td>\n",
       "      <td>43.029635</td>\n",
       "      <td>-91.094895</td>\n",
       "      <td>974703</td>\n",
       "      <td>-1</td>\n",
       "      <td>6716.931863</td>\n",
       "    </tr>\n",
       "    <tr>\n",
       "      <th>2</th>\n",
       "      <td>4</td>\n",
       "      <td>31.180215</td>\n",
       "      <td>16.596037</td>\n",
       "      <td>215099</td>\n",
       "      <td>-1</td>\n",
       "      <td>4189.445884</td>\n",
       "    </tr>\n",
       "  </tbody>\n",
       "</table>\n",
       "</div>"
      ],
      "text/plain": [
       "   id        lat       long  weight  sleigh  dist_korvatunturi\n",
       "0   2  40.733034 -86.762233  342917      -1        6818.460780\n",
       "1   3  43.029635 -91.094895  974703      -1        6716.931863\n",
       "2   4  31.180215  16.596037  215099      -1        4189.445884"
      ]
     },
     "execution_count": 357,
     "metadata": {},
     "output_type": "execute_result"
    }
   ],
   "source": [
    "# Add distance from Korvatunturi\n",
    "df['dist_korvatunturi'] = df.apply(lambda row: haversine(29.315278, 68.073611,row['long'], row['lat']), axis=1)\n",
    "df.head(3)"
   ]
  },
  {
   "cell_type": "code",
   "execution_count": 10,
   "metadata": {},
   "outputs": [
    {
     "data": {
      "image/png": "[encoded data removed]",
      "text/plain": [
       "<Figure size 1440x720 with 1 Axes>"
      ]
     },
     "metadata": {},
     "output_type": "display_data"
    }
   ],
   "source": [
    "import matplotlib.pyplot as plt\n",
    "df.plot(kind=\"scatter\", x=\"long\", y=\"lat\", alpha=0.2, figsize=(20,10))\n",
    "plt.show()"
   ]
  },
  {
   "cell_type": "code",
   "execution_count": 11,
   "metadata": {},
   "outputs": [
    {
     "data": {
      "text/html": [
       "<div>\n",
       "<style scoped>\n",
       "    .dataframe tbody tr th:only-of-type {\n",
       "        vertical-align: middle;\n",
       "    }\n",
       "\n",
       "    .dataframe tbody tr th {\n",
       "        vertical-align: top;\n",
       "    }\n",
       "\n",
       "    .dataframe thead th {\n",
       "        text-align: right;\n",
       "    }\n",
       "</style>\n",
       "<table border=\"1\" class=\"dataframe\">\n",
       "  <thead>\n",
       "    <tr style=\"text-align: right;\">\n",
       "      <th></th>\n",
       "      <th>id</th>\n",
       "      <th>lat</th>\n",
       "      <th>long</th>\n",
       "      <th>weight</th>\n",
       "      <th>sleigh</th>\n",
       "      <th>dist_korvatunturi</th>\n",
       "    </tr>\n",
       "  </thead>\n",
       "  <tbody>\n",
       "    <tr>\n",
       "      <th>count</th>\n",
       "      <td>10000.00000</td>\n",
       "      <td>10000.000000</td>\n",
       "      <td>10000.000000</td>\n",
       "      <td>1.000000e+04</td>\n",
       "      <td>10000.0</td>\n",
       "      <td>10000.000000</td>\n",
       "    </tr>\n",
       "    <tr>\n",
       "      <th>mean</th>\n",
       "      <td>5001.50000</td>\n",
       "      <td>27.720125</td>\n",
       "      <td>-17.268937</td>\n",
       "      <td>5.308228e+05</td>\n",
       "      <td>-1.0</td>\n",
       "      <td>6784.421729</td>\n",
       "    </tr>\n",
       "    <tr>\n",
       "      <th>std</th>\n",
       "      <td>2886.89568</td>\n",
       "      <td>24.241659</td>\n",
       "      <td>78.886361</td>\n",
       "      <td>4.291983e+05</td>\n",
       "      <td>0.0</td>\n",
       "      <td>2977.048874</td>\n",
       "    </tr>\n",
       "    <tr>\n",
       "      <th>min</th>\n",
       "      <td>2.00000</td>\n",
       "      <td>-90.000000</td>\n",
       "      <td>-179.593071</td>\n",
       "      <td>5.000000e+00</td>\n",
       "      <td>-1.0</td>\n",
       "      <td>133.077700</td>\n",
       "    </tr>\n",
       "    <tr>\n",
       "      <th>25%</th>\n",
       "      <td>2501.75000</td>\n",
       "      <td>14.431097</td>\n",
       "      <td>-85.826239</td>\n",
       "      <td>2.514975e+05</td>\n",
       "      <td>-1.0</td>\n",
       "      <td>5043.700586</td>\n",
       "    </tr>\n",
       "    <tr>\n",
       "      <th>50%</th>\n",
       "      <td>5001.50000</td>\n",
       "      <td>36.169634</td>\n",
       "      <td>-40.346728</td>\n",
       "      <td>5.027195e+05</td>\n",
       "      <td>-1.0</td>\n",
       "      <td>6891.140591</td>\n",
       "    </tr>\n",
       "    <tr>\n",
       "      <th>75%</th>\n",
       "      <td>7501.25000</td>\n",
       "      <td>42.718775</td>\n",
       "      <td>34.304132</td>\n",
       "      <td>7.563300e+05</td>\n",
       "      <td>-1.0</td>\n",
       "      <td>8099.031980</td>\n",
       "    </tr>\n",
       "    <tr>\n",
       "      <th>max</th>\n",
       "      <td>10001.00000</td>\n",
       "      <td>90.000000</td>\n",
       "      <td>179.385081</td>\n",
       "      <td>9.158430e+06</td>\n",
       "      <td>-1.0</td>\n",
       "      <td>17596.295914</td>\n",
       "    </tr>\n",
       "  </tbody>\n",
       "</table>\n",
       "</div>"
      ],
      "text/plain": [
       "                id           lat          long        weight   sleigh  \\\n",
       "count  10000.00000  10000.000000  10000.000000  1.000000e+04  10000.0   \n",
       "mean    5001.50000     27.720125    -17.268937  5.308228e+05     -1.0   \n",
       "std     2886.89568     24.241659     78.886361  4.291983e+05      0.0   \n",
       "min        2.00000    -90.000000   -179.593071  5.000000e+00     -1.0   \n",
       "25%     2501.75000     14.431097    -85.826239  2.514975e+05     -1.0   \n",
       "50%     5001.50000     36.169634    -40.346728  5.027195e+05     -1.0   \n",
       "75%     7501.25000     42.718775     34.304132  7.563300e+05     -1.0   \n",
       "max    10001.00000     90.000000    179.385081  9.158430e+06     -1.0   \n",
       "\n",
       "       dist_korvatunturi  \n",
       "count       10000.000000  \n",
       "mean         6784.421729  \n",
       "std          2977.048874  \n",
       "min           133.077700  \n",
       "25%          5043.700586  \n",
       "50%          6891.140591  \n",
       "75%          8099.031980  \n",
       "max         17596.295914  "
      ]
     },
     "execution_count": 11,
     "metadata": {},
     "output_type": "execute_result"
    }
   ],
   "source": [
    "# Avg weight\n",
    "df.describe()"
   ]
  },
  {
   "cell_type": "code",
   "execution_count": 12,
   "metadata": {},
   "outputs": [
    {
     "data": {
      "text/html": [
       "<div>\n",
       "<style scoped>\n",
       "    .dataframe tbody tr th:only-of-type {\n",
       "        vertical-align: middle;\n",
       "    }\n",
       "\n",
       "    .dataframe tbody tr th {\n",
       "        vertical-align: top;\n",
       "    }\n",
       "\n",
       "    .dataframe thead th {\n",
       "        text-align: right;\n",
       "    }\n",
       "</style>\n",
       "<table border=\"1\" class=\"dataframe\">\n",
       "  <thead>\n",
       "    <tr style=\"text-align: right;\">\n",
       "      <th></th>\n",
       "      <th>id</th>\n",
       "      <th>lat</th>\n",
       "      <th>long</th>\n",
       "      <th>weight</th>\n",
       "      <th>sleigh</th>\n",
       "      <th>dist_korvatunturi</th>\n",
       "    </tr>\n",
       "  </thead>\n",
       "  <tbody>\n",
       "    <tr>\n",
       "      <th>2296</th>\n",
       "      <td>2298</td>\n",
       "      <td>2.106498</td>\n",
       "      <td>31.400424</td>\n",
       "      <td>9158430</td>\n",
       "      <td>-1</td>\n",
       "      <td>7344.993084</td>\n",
       "    </tr>\n",
       "  </tbody>\n",
       "</table>\n",
       "</div>"
      ],
      "text/plain": [
       "        id       lat       long   weight  sleigh  dist_korvatunturi\n",
       "2296  2298  2.106498  31.400424  9158430      -1        7344.993084"
      ]
     },
     "execution_count": 12,
     "metadata": {},
     "output_type": "execute_result"
    }
   ],
   "source": [
    "# gifts that cant fit 2 per sleigh - only 1 such\n",
    "df[df['weight']>5000000]"
   ]
  },
  {
   "cell_type": "code",
   "execution_count": 13,
   "metadata": {},
   "outputs": [
    {
     "data": {
      "text/plain": [
       "135688434.588227"
      ]
     },
     "execution_count": 13,
     "metadata": {},
     "output_type": "execute_result"
    }
   ],
   "source": [
    "# SOLUTION 1\n",
    "# define a higher limit - 136 Million km\n",
    "# each gift taken with separate sleigh\n",
    "df['dist_korvatunturi'].sum()*2"
   ]
  },
  {
   "cell_type": "code",
   "execution_count": 14,
   "metadata": {},
   "outputs": [],
   "source": [
    "# SOLUTION 2\n",
    "# Let each gift take in its closest gift (assign it same sleigh), as long as weight ok\n",
    "df['sleigh']=df['id']\n"
   ]
  },
  {
   "cell_type": "code",
   "execution_count": null,
   "metadata": {},
   "outputs": [],
   "source": []
  },
  {
   "cell_type": "code",
   "execution_count": 28,
   "metadata": {},
   "outputs": [],
   "source": [
    "# Algorithm 1\n",
    "# Find a gift furthest from home\n",
    "# For it, find n nearest neighbors (or all within certain radius)\n",
    "# considering their weights, try to fill sleight close to full\n",
    "#  - define some kind of formula to weight distance and weight vs each other\n",
    "# repeat\n",
    "\n"
   ]
  },
  {
   "cell_type": "code",
   "execution_count": 30,
   "metadata": {},
   "outputs": [
    {
     "ename": "SyntaxError",
     "evalue": "invalid syntax (<ipython-input-30-26864eef2ccf>, line 2)",
     "output_type": "error",
     "traceback": [
      "\u001b[0;36m  File \u001b[0;32m\"<ipython-input-30-26864eef2ccf>\"\u001b[0;36m, line \u001b[0;32m2\u001b[0m\n\u001b[0;31m    distances =\u001b[0m\n\u001b[0m                ^\u001b[0m\n\u001b[0;31mSyntaxError\u001b[0m\u001b[0;31m:\u001b[0m invalid syntax\n"
     ]
    }
   ],
   "source": [
    "# matrix of distances between each location pair\n",
    "#"
   ]
  },
  {
   "cell_type": "code",
   "execution_count": 31,
   "metadata": {},
   "outputs": [
    {
     "ename": "IndentationError",
     "evalue": "unexpected indent (<ipython-input-31-a06bc08bdc10>, line 3)",
     "output_type": "error",
     "traceback": [
      "\u001b[0;36m  File \u001b[0;32m\"<ipython-input-31-a06bc08bdc10>\"\u001b[0;36m, line \u001b[0;32m3\u001b[0m\n\u001b[0;31m    get_ipython().set_next_input('  - compare dist to home');get_ipython().run_line_magic('pinfo', 'home')\u001b[0m\n\u001b[0m    ^\u001b[0m\n\u001b[0;31mIndentationError\u001b[0m\u001b[0;31m:\u001b[0m unexpected indent\n"
     ]
    }
   ],
   "source": [
    "# Finding nearest\n",
    "# 1 approximate which might be close to location x\n",
    "  - compare dist to home?\n",
    "  - compare lat/long\n",
    "  - add found to list while increasing search area as long as found at least n\n",
    "\n",
    "# 2 within those, use more accurate but more expensive way\n"
   ]
  },
  {
   "cell_type": "code",
   "execution_count": 15,
   "metadata": {},
   "outputs": [
    {
     "name": "stdout",
     "output_type": "stream",
     "text": [
      "6.857689619064331\n"
     ]
    }
   ],
   "source": [
    "\n",
    "start = time.time()\n",
    "for i in range(len(df)):\n",
    "    haversine(df.iloc[0]['long'], df.iloc[0]['lat'], df.iloc[i]['long'], df.iloc[i]['lat'])\n",
    "end = time.time()\n",
    "print(end-start)"
   ]
  },
  {
   "cell_type": "code",
   "execution_count": 35,
   "metadata": {},
   "outputs": [],
   "source": [
    "# scipy kdtree\n",
    "# https://www.programcreek.com/python/example/57350/scipy.spatial.KDTree\n",
    "# http://code.activestate.com/recipes/578434-a-simple-kd-tree-example-with-custom-euclidean-dis/"
   ]
  },
  {
   "cell_type": "code",
   "execution_count": 36,
   "metadata": {},
   "outputs": [],
   "source": [
    "import numpy as np\n",
    "from scipy.spatial import KDTree"
   ]
  },
  {
   "cell_type": "code",
   "execution_count": 16,
   "metadata": {},
   "outputs": [
    {
     "data": {
      "text/plain": [
       "array([[0, 2],\n",
       "       [0, 3],\n",
       "       [0, 4],\n",
       "       [0, 5],\n",
       "       [0, 6],\n",
       "       [0, 7],\n",
       "       [1, 2],\n",
       "       [1, 3],\n",
       "       [1, 4],\n",
       "       [1, 5],\n",
       "       [1, 6],\n",
       "       [1, 7],\n",
       "       [2, 2],\n",
       "       [2, 3],\n",
       "       [2, 4],\n",
       "       [2, 5],\n",
       "       [2, 6],\n",
       "       [2, 7],\n",
       "       [3, 2],\n",
       "       [3, 3],\n",
       "       [3, 4],\n",
       "       [3, 5],\n",
       "       [3, 6],\n",
       "       [3, 7],\n",
       "       [4, 2],\n",
       "       [4, 3],\n",
       "       [4, 4],\n",
       "       [4, 5],\n",
       "       [4, 6],\n",
       "       [4, 7]])"
      ]
     },
     "execution_count": 16,
     "metadata": {},
     "output_type": "execute_result"
    }
   ],
   "source": [
    "# http://library.isr.ist.utl.pt/docs/scipy/spatial.html\n",
    "x, y = np.mgrid[0:5, 2:8]\n",
    "tree = KDTree(list(zip(x.ravel(), y.ravel())))\n",
    "tree.data"
   ]
  },
  {
   "cell_type": "code",
   "execution_count": 17,
   "metadata": {},
   "outputs": [],
   "source": [
    "# https://scipy-cookbook.readthedocs.io/items/KDTree_example.html\n",
    "#!python numbers=disable\n",
    "\n",
    "# Copyleft 2008 Sturla Molden\n",
    "# University of Oslo\n",
    "\n",
    "#import psyco\n",
    "#psyco.full()\n",
    "\n",
    "import numpy\n",
    "\n",
    "def kdtree( data, leafsize=10 ):\n",
    "    \"\"\"\n",
    "    build a kd-tree for O(n log n) nearest neighbour search\n",
    "\n",
    "    input:\n",
    "        data:       2D ndarray, shape =(ndim,ndata), preferentially C order\n",
    "        leafsize:   max. number of data points to leave in a leaf\n",
    "\n",
    "    output:\n",
    "        kd-tree:    list of tuples\n",
    "    \"\"\"\n",
    "\n",
    "    ndim = data.shape[0]\n",
    "    ndata = data.shape[1]\n",
    "\n",
    "    # find bounding hyper-rectangle\n",
    "    hrect = numpy.zeros((2,data.shape[0]))\n",
    "    hrect[0,:] = data.min(axis=1)\n",
    "    hrect[1,:] = data.max(axis=1)\n",
    "\n",
    "    # create root of kd-tree\n",
    "    idx = numpy.argsort(data[0,:], kind='mergesort')\n",
    "    data[:,:] = data[:,idx]\n",
    "    splitval = data[0,ndata//2]\n",
    "\n",
    "    left_hrect = hrect.copy()\n",
    "    right_hrect = hrect.copy()\n",
    "    left_hrect[1, 0] = splitval\n",
    "    right_hrect[0, 0] = splitval\n",
    "\n",
    "    tree = [(None, None, left_hrect, right_hrect, None, None)]\n",
    "\n",
    "    stack = [(data[:,:ndata//2], idx[:ndata//2], 1, 0, True),\n",
    "             (data[:,ndata//2:], idx[ndata//2:], 1, 0, False)]\n",
    "\n",
    "    # recursively split data in halves using hyper-rectangles:\n",
    "    while stack:\n",
    "\n",
    "        # pop data off stack\n",
    "        data, didx, depth, parent, leftbranch = stack.pop()\n",
    "        ndata = data.shape[1]\n",
    "        nodeptr = len(tree)\n",
    "\n",
    "        # update parent node\n",
    "\n",
    "        _didx, _data, _left_hrect, _right_hrect, left, right = tree[parent]\n",
    "\n",
    "        tree[parent] = (_didx, _data, _left_hrect, _right_hrect, nodeptr, right) if leftbranch \\\n",
    "            else (_didx, _data, _left_hrect, _right_hrect, left, nodeptr)\n",
    "\n",
    "        # insert node in kd-tree\n",
    "\n",
    "        # leaf node?\n",
    "        if ndata <= leafsize:\n",
    "            _didx = didx.copy()\n",
    "            _data = data.copy()\n",
    "            leaf = (_didx, _data, None, None, 0, 0)\n",
    "            tree.append(leaf)\n",
    "\n",
    "        # not a leaf, split the data in two      \n",
    "        else:\n",
    "            splitdim = depth % ndim\n",
    "            idx = numpy.argsort(data[splitdim,:], kind='mergesort')\n",
    "            data[:,:] = data[:,idx]\n",
    "            didx = didx[idx]\n",
    "            nodeptr = len(tree)\n",
    "            stack.append((data[:,:ndata//2], didx[:ndata//2], depth+1, nodeptr, True))\n",
    "            stack.append((data[:,ndata//2:], didx[ndata//2:], depth+1, nodeptr, False))\n",
    "            splitval = data[splitdim,ndata//2]\n",
    "            if leftbranch:\n",
    "                left_hrect = _left_hrect.copy()\n",
    "                right_hrect = _left_hrect.copy()\n",
    "            else:\n",
    "                left_hrect = _right_hrect.copy()\n",
    "                right_hrect = _right_hrect.copy()\n",
    "            left_hrect[1, splitdim] = splitval\n",
    "            right_hrect[0, splitdim] = splitval\n",
    "            # append node to tree\n",
    "            tree.append((None, None, left_hrect, right_hrect, None, None))\n",
    "\n",
    "    return tree"
   ]
  },
  {
   "cell_type": "code",
   "execution_count": null,
   "metadata": {},
   "outputs": [],
   "source": []
  },
  {
   "cell_type": "code",
   "execution_count": 18,
   "metadata": {},
   "outputs": [],
   "source": [
    "#!python numbers=disable\n",
    "\n",
    "\n",
    "def intersect(hrect, r2, centroid):\n",
    "    \"\"\"\n",
    "    checks if the hyperrectangle hrect intersects with the\n",
    "    hypersphere defined by centroid and r2\n",
    "    \"\"\"\n",
    "    maxval = hrect[1,:]\n",
    "    minval = hrect[0,:]\n",
    "    p = centroid.copy()\n",
    "    idx = p < minval\n",
    "    p[idx] = minval[idx]\n",
    "    idx = p > maxval\n",
    "    p[idx] = maxval[idx]\n",
    "    return ((p-centroid)**2).sum() < r2\n",
    "\n",
    "\n",
    "def quadratic_knn_search(data, lidx, ldata, K):\n",
    "    \"\"\" find K nearest neighbours of data among ldata \"\"\"\n",
    "    ndata = ldata.shape[1]\n",
    "    param = ldata.shape[0]\n",
    "    K = K if K < ndata else ndata\n",
    "    retval = []\n",
    "    sqd = ((ldata - data[:,:ndata])**2).sum(axis=0) # data.reshape((param,1)).repeat(ndata, axis=1);\n",
    "    idx = numpy.argsort(sqd, kind='mergesort')\n",
    "    idx = idx[:K]\n",
    "    return list(zip(sqd[idx], lidx[idx]))\n",
    "\n",
    "\n",
    "def search_kdtree(tree, datapoint, K):\n",
    "    \"\"\" find the k nearest neighbours of datapoint in a kdtree \"\"\"\n",
    "    stack = [tree[0]]\n",
    "    knn = [(numpy.inf, None)]*K\n",
    "    _datapt = datapoint[:,0]\n",
    "    while stack:\n",
    "\n",
    "        leaf_idx, leaf_data, left_hrect, \\\n",
    "                  right_hrect, left, right = stack.pop()\n",
    "\n",
    "        # leaf\n",
    "        if leaf_idx is not None:\n",
    "            _knn = quadratic_knn_search(datapoint, leaf_idx, leaf_data, K)\n",
    "            if _knn[0][0] < knn[-1][0]:\n",
    "                knn = sorted(knn + _knn)[:K]\n",
    "\n",
    "        # not a leaf\n",
    "        else:\n",
    "\n",
    "            # check left branch\n",
    "            if intersect(left_hrect, knn[-1][0], _datapt):\n",
    "                stack.append(tree[left])\n",
    "\n",
    "            # chech right branch\n",
    "            if intersect(right_hrect, knn[-1][0], _datapt):\n",
    "                stack.append(tree[right])\n",
    "    return knn\n",
    "\n",
    "\n",
    "def knn_search( data, K, leafsize=2048 ):\n",
    "\n",
    "    \"\"\" find the K nearest neighbours for data points in data,\n",
    "        using an O(n log n) kd-tree \"\"\"\n",
    "\n",
    "    ndata = data.shape[1]\n",
    "    param = data.shape[0]\n",
    "\n",
    "    # build kdtree\n",
    "    tree = kdtree(data.copy(), leafsize=leafsize)\n",
    "\n",
    "    # search kdtree\n",
    "    knn = []\n",
    "    for i in numpy.arange(ndata):\n",
    "        _data = data[:,i].reshape((param,1)).repeat(leafsize, axis=1);\n",
    "        _knn = search_kdtree(tree, _data, K+1)\n",
    "        knn.append(_knn[1:])\n",
    "\n",
    "    return knn\n",
    "\n",
    "\n",
    "def radius_search(tree, datapoint, radius):\n",
    "    \"\"\" find all points within radius of datapoint \"\"\"\n",
    "    stack = [tree[0]]\n",
    "    inside = []\n",
    "    while stack:\n",
    "\n",
    "        leaf_idx, leaf_data, left_hrect, \\\n",
    "                  right_hrect, left, right = stack.pop()\n",
    "\n",
    "        # leaf\n",
    "        if leaf_idx is not None:\n",
    "            param=leaf_data.shape[0]\n",
    "            distance = numpy.sqrt(((leaf_data - datapoint.reshape((param,1)))**2).sum(axis=0))\n",
    "            near = numpy.where(distance<=radius)\n",
    "            if len(near[0]):\n",
    "                idx = leaf_idx[near]\n",
    "                distance = distance[near]\n",
    "                inside += (zip(distance, idx))\n",
    "\n",
    "        else:\n",
    "\n",
    "            if intersect(left_hrect, radius, datapoint):\n",
    "                stack.append(tree[left])\n",
    "\n",
    "            if intersect(right_hrect, radius, datapoint):\n",
    "                stack.append(tree[right])\n",
    "\n",
    "    return inside"
   ]
  },
  {
   "cell_type": "code",
   "execution_count": 19,
   "metadata": {},
   "outputs": [],
   "source": [
    "#!python numbers=disable\n",
    "\n",
    "try:\n",
    "    import multiprocessing as processing\n",
    "except:\n",
    "    import processing\n",
    "\n",
    "import ctypes, os\n",
    "\n",
    "def __num_processors():\n",
    "    if os.name == 'nt': # Windows\n",
    "        return int(os.getenv('NUMBER_OF_PROCESSORS'))\n",
    "    else: # glibc (Linux, *BSD, Apple)\n",
    "        get_nprocs = ctypes.cdll.libc.get_nprocs\n",
    "        get_nprocs.restype = ctypes.c_int\n",
    "        get_nprocs.argtypes = []\n",
    "        return get_nprocs()\n",
    "\n",
    "\n",
    "def __search_kdtree(tree, data, K, leafsize):\n",
    "    knn = []\n",
    "    param = data.shape[0]\n",
    "    ndata = data.shape[1]\n",
    "    for i in numpy.arange(ndata):\n",
    "        _data = data[:,i].reshape((param,1)).repeat(leafsize, axis=1);\n",
    "        _knn = search_kdtree(tree, _data, K+1)\n",
    "        knn.append(_knn[1:])\n",
    "    return knn\n",
    "\n",
    "def __remote_process(rank, qin, qout, tree, K, leafsize):\n",
    "    while 1:\n",
    "        # read input queue (block until data arrives)\n",
    "        nc, data = qin.get()\n",
    "        # process data\n",
    "        knn = __search_kdtree(tree, data, K, leafsize)\n",
    "        # write to output queue\n",
    "        qout.put((nc,knn))\n",
    "\n",
    "def knn_search_parallel(data, K, leafsize=2048):\n",
    "\n",
    "    \"\"\" find the K nearest neighbours for data points in data,\n",
    "        using an O(n log n) kd-tree, exploiting all logical\n",
    "        processors on the computer \"\"\"\n",
    "\n",
    "    ndata = data.shape[1]\n",
    "    param = data.shape[0]\n",
    "    nproc = __num_processors()\n",
    "    # build kdtree\n",
    "    tree = kdtree(data.copy(), leafsize=leafsize)\n",
    "    # compute chunk size\n",
    "    chunk_size = data.shape[1] / (4*nproc)\n",
    "    chunk_size = 100 if chunk_size < 100 else chunk_size\n",
    "    # set up a pool of processes\n",
    "    qin = processing.Queue(maxsize=ndata/chunk_size)\n",
    "    qout = processing.Queue(maxsize=ndata/chunk_size)\n",
    "    pool = [processing.Process(target=__remote_process,\n",
    "                args=(rank, qin, qout, tree, K, leafsize))\n",
    "                    for rank in range(nproc)]\n",
    "    for p in pool: p.start()\n",
    "    # put data chunks in input queue\n",
    "    cur, nc = 0, 0\n",
    "    while 1:\n",
    "        _data = data[:,cur:cur+chunk_size]\n",
    "        if _data.shape[1] == 0: break\n",
    "        qin.put((nc,_data))\n",
    "        cur += chunk_size\n",
    "        nc += 1\n",
    "    # read output queue\n",
    "    knn = []\n",
    "    while len(knn) < nc:\n",
    "        knn += [qout.get()]\n",
    "    # avoid race condition\n",
    "    _knn = [n for i,n in sorted(knn)]\n",
    "    knn = []\n",
    "    for tmp in _knn:\n",
    "        knn += tmp\n",
    "    # terminate workers\n",
    "    for p in pool: p.terminate()\n",
    "    return knn"
   ]
  },
  {
   "cell_type": "code",
   "execution_count": 20,
   "metadata": {},
   "outputs": [
    {
     "name": "stdout",
     "output_type": "stream",
     "text": [
      "Elapsed time %.2f seconds\n",
      "19.280621000000004\n"
     ]
    }
   ],
   "source": [
    "#!python numbers=disable\n",
    "from time import clock\n",
    "\n",
    "def test():\n",
    "    K = 11\n",
    "    ndata = 10000\n",
    "    ndim = 12\n",
    "    data =  10 * numpy.random.rand(ndata*ndim).reshape((ndim,ndata) )\n",
    "    knn = knn_search(data, K)\n",
    "\n",
    "if __name__ == '__main__':\n",
    "    t0 = clock()\n",
    "    test()\n",
    "    t1 = clock()\n",
    "    print(\"Elapsed time %.2f seconds\") ; print(t1-t0)\n",
    "\n",
    "    #import profile          # using Python's profiler is not useful if you are\n",
    "    #profile.run('test()')   # running the parallel search."
   ]
  },
  {
   "cell_type": "code",
   "execution_count": 24,
   "metadata": {},
   "outputs": [
    {
     "name": "stdout",
     "output_type": "stream",
     "text": [
      "Elapsed time %.2f seconds\n",
      "-0.20118300000000033\n"
     ]
    }
   ],
   "source": [
    "### Test example\n",
    "K = 11\n",
    "ndata = 100\n",
    "ndim = 2\n",
    "data =  10 * numpy.random.rand(ndata*ndim).reshape((ndim,ndata) )\n",
    "    \n",
    "t0 = clock()\n",
    "print(\"Elapsed time %.2f seconds\") ; print(t1-t0)\n",
    "t1 = clock()\n",
    "knn = knn_search(data, K)\n"
   ]
  },
  {
   "cell_type": "code",
   "execution_count": 25,
   "metadata": {},
   "outputs": [
    {
     "data": {
      "text/plain": [
       "100"
      ]
     },
     "execution_count": 25,
     "metadata": {},
     "output_type": "execute_result"
    }
   ],
   "source": [
    "len(knn)"
   ]
  },
  {
   "cell_type": "code",
   "execution_count": null,
   "metadata": {},
   "outputs": [],
   "source": [
    "# libc error for parallel version\n",
    "# knn = knn_search_parallel(data, K)\n"
   ]
  },
  {
   "cell_type": "code",
   "execution_count": 30,
   "metadata": {},
   "outputs": [
    {
     "name": "stdout",
     "output_type": "stream",
     "text": [
      "(10000, 2)\n",
      "(2, 10000)\n",
      "7.078999000000003\n"
     ]
    }
   ],
   "source": [
    "### Test with real data\n",
    "treedata = df[['long', 'lat']]\n",
    "treedat = np.asarray(treedata)\n",
    "print(treedat.shape)\n",
    "\n",
    "#ndata = 10000\n",
    "ndata = len(treedat)\n",
    "ndim = 2\n",
    "\n",
    "data = treedat.reshape(ndim,ndata)\n",
    "print(data.shape)\n",
    "\n",
    "K = 10\n",
    "#data =  10 * numpy.random.rand(ndata*ndim).reshape((ndim,ndata) )\n",
    "t0 = clock()\n",
    "knn = knn_search(data, K)\n",
    "t1 = clock()\n",
    "print(t1-t0)"
   ]
  },
  {
   "cell_type": "markdown",
   "metadata": {},
   "source": [
    "### Main run"
   ]
  },
  {
   "cell_type": "code",
   "execution_count": 110,
   "metadata": {},
   "outputs": [],
   "source": [
    "### Search only free gifts\n",
    "# each gifts initialized free, ie no sleigh\n",
    "df['sleigh']= -1"
   ]
  },
  {
   "cell_type": "code",
   "execution_count": 111,
   "metadata": {},
   "outputs": [
    {
     "name": "stdout",
     "output_type": "stream",
     "text": [
      "   id        lat       long  weight\n",
      "0   2  40.733034 -86.762233  342917\n",
      "1   3  43.029635 -91.094895  974703\n",
      "2   4  31.180215  16.596037  215099\n",
      "------\n",
      "[[ 40.733034 -86.762233]\n",
      " [ 43.029635 -91.094895]\n",
      " [ 31.180215  16.596037]]\n"
     ]
    }
   ],
   "source": [
    "# Np array of free sleighs coordinates\n",
    "free= df[df['sleigh']==-1]\n",
    "#free[0:3]\n",
    "freeones = free[['id','lat','long', 'weight']]\n",
    "print(freeones[0:3])\n",
    "\n",
    "# Input required is np.arary with only coordinates, no id field\n",
    "np_freeones = np.asarray(freeones[['lat','long']])\n",
    "print('------')\n",
    "print(np_freeones[0:3])"
   ]
  },
  {
   "cell_type": "code",
   "execution_count": null,
   "metadata": {},
   "outputs": [],
   "source": []
  },
  {
   "cell_type": "code",
   "execution_count": 112,
   "metadata": {},
   "outputs": [
    {
     "name": "stdout",
     "output_type": "stream",
     "text": [
      "lat     40.733034\n",
      "long   -86.762233\n",
      "Name: 0, dtype: float64\n",
      "----\n",
      "[[ 40.733034]\n",
      " [-86.762233]]\n"
     ]
    }
   ],
   "source": [
    "# Test - individual datapoint\n",
    "this = df.iloc[0][['lat','long']]\n",
    "print(this)\n",
    "datapoint = np.asarray(this)\n",
    "datapoint = datapoint.reshape(2,1) # give it dim 1 instead of , and rotate\n",
    "print('----')\n",
    "print(datapoint)"
   ]
  },
  {
   "cell_type": "code",
   "execution_count": 113,
   "metadata": {},
   "outputs": [],
   "source": [
    "# library will use it like this\n",
    "# datapoint[:,0]"
   ]
  },
  {
   "cell_type": "code",
   "execution_count": 114,
   "metadata": {},
   "outputs": [
    {
     "data": {
      "text/plain": [
       "array([[ 40.733034],\n",
       "       [-86.762233]])"
      ]
     },
     "execution_count": 114,
     "metadata": {},
     "output_type": "execute_result"
    }
   ],
   "source": [
    "# def search_kdtree(tree, datapoint, K):\n",
    "datapoint"
   ]
  },
  {
   "cell_type": "code",
   "execution_count": 115,
   "metadata": {},
   "outputs": [
    {
     "data": {
      "text/plain": [
       "array([[ 40.733034, -86.762233],\n",
       "       [ 43.029635, -91.094895],\n",
       "       [ 31.180215,  16.596037],\n",
       "       ...,\n",
       "       [ 33.463295, -84.314389],\n",
       "       [ 34.091971, 134.530749],\n",
       "       [-22.55115 , -63.770996]])"
      ]
     },
     "execution_count": 115,
     "metadata": {},
     "output_type": "execute_result"
    }
   ],
   "source": [
    "np_freeones"
   ]
  },
  {
   "cell_type": "code",
   "execution_count": 116,
   "metadata": {},
   "outputs": [
    {
     "name": "stdout",
     "output_type": "stream",
     "text": [
      "7.3742890000000045\n"
     ]
    }
   ],
   "source": [
    "# Test\n",
    "K = 10\n",
    "\n",
    "data = np_freeones\n",
    "# switch axels\n",
    "ndata = len(np_freeones)\n",
    "ndim = 2\n",
    "data = data.reshape(ndim,ndata)\n",
    "\n",
    "\n",
    "t0 = clock()\n",
    "knn = knn_search(data, K)\n",
    "t1 = clock()\n",
    "print(t1-t0)"
   ]
  },
  {
   "cell_type": "code",
   "execution_count": 117,
   "metadata": {},
   "outputs": [
    {
     "data": {
      "text/plain": [
       "10000"
      ]
     },
     "execution_count": 117,
     "metadata": {},
     "output_type": "execute_result"
    }
   ],
   "source": [
    "len(knn)"
   ]
  },
  {
   "cell_type": "code",
   "execution_count": 118,
   "metadata": {},
   "outputs": [],
   "source": [
    "#treedata"
   ]
  },
  {
   "cell_type": "code",
   "execution_count": 119,
   "metadata": {},
   "outputs": [
    {
     "data": {
      "text/plain": [
       "pandas.core.frame.DataFrame"
      ]
     },
     "execution_count": 119,
     "metadata": {},
     "output_type": "execute_result"
    }
   ],
   "source": [
    "type(treedata)"
   ]
  },
  {
   "cell_type": "code",
   "execution_count": 120,
   "metadata": {},
   "outputs": [],
   "source": [
    "# individual point search requires Tree as input\n",
    "#tree = kdtree( treedata, leafsize=10 )\n",
    "tree = kdtree(data, leafsize=10 )\n",
    "# tree = kdtree(np_freeones, leafsize=10 )"
   ]
  },
  {
   "cell_type": "code",
   "execution_count": 71,
   "metadata": {},
   "outputs": [],
   "source": [
    "K = 10\n",
    "ndata = len(np_freeones)\n",
    "ndim = 2\n",
    "#data =  10 * numpy.random.rand(ndata*ndim).reshape((ndim,ndata) )\n",
    "#data = treedata.reshape(ndim,ndata)\n",
    "#datap = datapoint.reshape(2,1)\n",
    "\n",
    "near = search_kdtree(tree, datapoint, K)\n",
    "#near = search_kdtree(tree, datap, K)"
   ]
  },
  {
   "cell_type": "code",
   "execution_count": 121,
   "metadata": {},
   "outputs": [
    {
     "data": {
      "text/plain": [
       "[(0.8863722457219996, 5341),\n",
       " (2.889194031010053, 5339),\n",
       " (4.213510656196028, 5338),\n",
       " (5.480878428545001, 5342),\n",
       " (5.907173495602003, 5340),\n",
       " (7.552287465223954, 5394),\n",
       " (8.183751220880012, 5418),\n",
       " (8.947693259370043, 5337),\n",
       " (9.601400973544973, 5343),\n",
       " (10.535867838785036, 5393)]"
      ]
     },
     "execution_count": 121,
     "metadata": {},
     "output_type": "execute_result"
    }
   ],
   "source": [
    "near"
   ]
  },
  {
   "cell_type": "code",
   "execution_count": null,
   "metadata": {},
   "outputs": [],
   "source": [
    "# Match results with their IDs "
   ]
  },
  {
   "cell_type": "code",
   "execution_count": 122,
   "metadata": {},
   "outputs": [
    {
     "data": {
      "text/plain": [
       "0.0"
      ]
     },
     "execution_count": 122,
     "metadata": {},
     "output_type": "execute_result"
    }
   ],
   "source": [
    "def distance(point1, point2):\n",
    "    #haversine(df.iloc[0]['long'], df.iloc[0]['lat'], df.iloc[i]['long'], df.iloc[i]['lat'])\n",
    "    return haversine(point1[0], point1[1], point2[0], point2[1])\n",
    "#test\n",
    "distance(freeones.iloc[0], freeones.iloc[0])"
   ]
  },
  {
   "cell_type": "code",
   "execution_count": 123,
   "metadata": {},
   "outputs": [
    {
     "data": {
      "text/plain": [
       "440.6969447506693"
      ]
     },
     "execution_count": 123,
     "metadata": {},
     "output_type": "execute_result"
    }
   ],
   "source": [
    "def distance_panda(point1, point2):\n",
    "    '''Input DataFrame, allowed to have extra fields'''\n",
    "    #haversine(df.iloc[0]['long'], df.iloc[0]['lat'], df.iloc[i]['long'], df.iloc[i]['lat'])\n",
    "    return haversine(point1['long'], point1['lat'], point2['long'], point2['lat'])\n",
    "#test\n",
    "distance_panda(this, freeones.iloc[1])"
   ]
  },
  {
   "cell_type": "code",
   "execution_count": 124,
   "metadata": {},
   "outputs": [
    {
     "data": {
      "text/plain": [
       "id          5343.000000\n",
       "lat           57.264955\n",
       "long          25.304851\n",
       "weight    352548.000000\n",
       "Name: 5341, dtype: float64"
      ]
     },
     "execution_count": 124,
     "metadata": {},
     "output_type": "execute_result"
    }
   ],
   "source": [
    "freeones.iloc[5341]"
   ]
  },
  {
   "cell_type": "code",
   "execution_count": 125,
   "metadata": {},
   "outputs": [
    {
     "data": {
      "text/plain": [
       "14586.107736097902"
      ]
     },
     "execution_count": 125,
     "metadata": {},
     "output_type": "execute_result"
    }
   ],
   "source": [
    "distance(datapoint, freeones.iloc[5340])"
   ]
  },
  {
   "cell_type": "code",
   "execution_count": 126,
   "metadata": {},
   "outputs": [],
   "source": [
    "# Each points distance to this one\n",
    "distances = freeones.apply(lambda row: distance(this, row), axis=1)"
   ]
  },
  {
   "cell_type": "code",
   "execution_count": 127,
   "metadata": {},
   "outputs": [
    {
     "data": {
      "text/plain": [
       "0    14268.418129\n",
       "1    14520.064188\n",
       "2    13198.486188\n",
       "3     6537.914229\n",
       "dtype: float64"
      ]
     },
     "execution_count": 127,
     "metadata": {},
     "output_type": "execute_result"
    }
   ],
   "source": [
    "distances[0:4]"
   ]
  },
  {
   "cell_type": "code",
   "execution_count": 129,
   "metadata": {},
   "outputs": [
    {
     "name": "stdout",
     "output_type": "stream",
     "text": [
      "360.41883191911086\n",
      "8824\n"
     ]
    }
   ],
   "source": [
    "print(distances.min())\n",
    "print(distances.idxmin())"
   ]
  },
  {
   "cell_type": "code",
   "execution_count": null,
   "metadata": {},
   "outputs": [],
   "source": []
  },
  {
   "cell_type": "code",
   "execution_count": 81,
   "metadata": {},
   "outputs": [
    {
     "data": {
      "text/plain": [
       "2120.8743472471565"
      ]
     },
     "execution_count": 81,
     "metadata": {},
     "output_type": "execute_result"
    }
   ],
   "source": [
    "i= 5340\n",
    "haversine(df.iloc[0]['long'], df.iloc[0]['lat'], df.iloc[i]['long'], df.iloc[i]['lat'])"
   ]
  },
  {
   "cell_type": "code",
   "execution_count": 90,
   "metadata": {},
   "outputs": [
    {
     "data": {
      "text/plain": [
       "268.74355232650845"
      ]
     },
     "execution_count": 90,
     "metadata": {},
     "output_type": "execute_result"
    }
   ],
   "source": [
    "distance(freeones.iloc[0], freeones.iloc[1])"
   ]
  },
  {
   "cell_type": "code",
   "execution_count": 130,
   "metadata": {},
   "outputs": [
    {
     "data": {
      "text/html": [
       "<div>\n",
       "<style scoped>\n",
       "    .dataframe tbody tr th:only-of-type {\n",
       "        vertical-align: middle;\n",
       "    }\n",
       "\n",
       "    .dataframe tbody tr th {\n",
       "        vertical-align: top;\n",
       "    }\n",
       "\n",
       "    .dataframe thead th {\n",
       "        text-align: right;\n",
       "    }\n",
       "</style>\n",
       "<table border=\"1\" class=\"dataframe\">\n",
       "  <thead>\n",
       "    <tr style=\"text-align: right;\">\n",
       "      <th></th>\n",
       "      <th>id</th>\n",
       "      <th>lat</th>\n",
       "      <th>long</th>\n",
       "      <th>weight</th>\n",
       "      <th>sleigh</th>\n",
       "      <th>dist_korvatunturi</th>\n",
       "    </tr>\n",
       "  </thead>\n",
       "  <tbody>\n",
       "    <tr>\n",
       "      <th>0</th>\n",
       "      <td>2</td>\n",
       "      <td>40.733034</td>\n",
       "      <td>-86.762233</td>\n",
       "      <td>342917</td>\n",
       "      <td>-1</td>\n",
       "      <td>6818.460780</td>\n",
       "    </tr>\n",
       "    <tr>\n",
       "      <th>1</th>\n",
       "      <td>3</td>\n",
       "      <td>43.029635</td>\n",
       "      <td>-91.094895</td>\n",
       "      <td>974703</td>\n",
       "      <td>-1</td>\n",
       "      <td>6716.931863</td>\n",
       "    </tr>\n",
       "    <tr>\n",
       "      <th>2</th>\n",
       "      <td>4</td>\n",
       "      <td>31.180215</td>\n",
       "      <td>16.596037</td>\n",
       "      <td>215099</td>\n",
       "      <td>-1</td>\n",
       "      <td>4189.445884</td>\n",
       "    </tr>\n",
       "    <tr>\n",
       "      <th>3</th>\n",
       "      <td>5</td>\n",
       "      <td>-28.657398</td>\n",
       "      <td>-55.964951</td>\n",
       "      <td>568144</td>\n",
       "      <td>-1</td>\n",
       "      <td>12768.438477</td>\n",
       "    </tr>\n",
       "    <tr>\n",
       "      <th>4</th>\n",
       "      <td>6</td>\n",
       "      <td>36.186751</td>\n",
       "      <td>-86.355754</td>\n",
       "      <td>695570</td>\n",
       "      <td>-1</td>\n",
       "      <td>7274.033239</td>\n",
       "    </tr>\n",
       "  </tbody>\n",
       "</table>\n",
       "</div>"
      ],
      "text/plain": [
       "   id        lat       long  weight  sleigh  dist_korvatunturi\n",
       "0   2  40.733034 -86.762233  342917      -1        6818.460780\n",
       "1   3  43.029635 -91.094895  974703      -1        6716.931863\n",
       "2   4  31.180215  16.596037  215099      -1        4189.445884\n",
       "3   5 -28.657398 -55.964951  568144      -1       12768.438477\n",
       "4   6  36.186751 -86.355754  695570      -1        7274.033239"
      ]
     },
     "execution_count": 130,
     "metadata": {},
     "output_type": "execute_result"
    }
   ],
   "source": [
    "df.head()"
   ]
  },
  {
   "cell_type": "code",
   "execution_count": 137,
   "metadata": {},
   "outputs": [
    {
     "name": "stdout",
     "output_type": "stream",
     "text": [
      "8824\n",
      "0.0\n",
      "8824\n"
     ]
    }
   ],
   "source": [
    "sleighs=[]\n",
    "\n",
    "i =df['dist_korvatunturi'].idxmax()\n",
    "print(i)\n",
    "this = df.iloc[i]\n",
    "# Each points distance to this one\n",
    "distances = freeones.apply(lambda row: distance(this, row), axis=1)\n",
    "print(distances.min())\n",
    "print(distances.idxmin())"
   ]
  },
  {
   "cell_type": "code",
   "execution_count": 211,
   "metadata": {},
   "outputs": [
    {
     "name": "stdout",
     "output_type": "stream",
     "text": [
      "8824\n",
      "8824       0.000000\n",
      "5047    3904.285751\n",
      "3258    3972.061501\n",
      "9401    3972.603170\n",
      "8222    4100.532788\n",
      "7595    4102.164808\n",
      "3031    4104.382690\n",
      "8524    4160.556527\n",
      "4439    4261.316647\n",
      "5416    4261.422954\n",
      "dtype: float64\n"
     ]
    }
   ],
   "source": [
    "sleighs=[]\n",
    "\n",
    "i =df['dist_korvatunturi'].idxmax()\n",
    "print(i)\n",
    "this = df.iloc[i]\n",
    "# Each points distance to this one\n",
    "distances = freeones.apply(lambda row: distance(this, row), axis=1)\n",
    "knn = distances.nsmallest(10)\n",
    "\n",
    "print(knn)\n",
    "\n",
    "# while  sleight weight under 10k kg\n",
    "# add next closest to same sleigh"
   ]
  },
  {
   "cell_type": "code",
   "execution_count": 298,
   "metadata": {},
   "outputs": [
    {
     "data": {
      "text/plain": [
       "12174.965025073525"
      ]
     },
     "execution_count": 298,
     "metadata": {},
     "output_type": "execute_result"
    }
   ],
   "source": [
    "# LIST OF SLEIGHS/TAXIS \n",
    "taxis = []\n",
    "taxis.append([0,1])\n",
    "taxis[0]\n",
    "taxi_dist(taxis[0])"
   ]
  },
  {
   "cell_type": "code",
   "execution_count": 191,
   "metadata": {},
   "outputs": [
    {
     "data": {
      "text/plain": [
       "12392.272145150187"
      ]
     },
     "execution_count": 191,
     "metadata": {},
     "output_type": "execute_result"
    }
   ],
   "source": [
    "def taxi_dist(taxi):\n",
    "    '''Return distance through home, points in list, home\n",
    "       input: integer list of locations'''\n",
    "    route=[]\n",
    "    route.append(home)\n",
    "    for i in taxi:\n",
    "        route.append(df.iloc[i])\n",
    "    route.append(home)    \n",
    "    #print(route)\n",
    "\n",
    "    sum=0\n",
    "    for i in range(len(route)-1):\n",
    "            sum+=distance(route[i], route[i+1]) \n",
    "    return sum\n",
    "#test\n",
    "taxi_dist(taxis[0])"
   ]
  },
  {
   "cell_type": "code",
   "execution_count": 197,
   "metadata": {},
   "outputs": [
    {
     "data": {
      "text/plain": [
       "1317620.0"
      ]
     },
     "execution_count": 197,
     "metadata": {},
     "output_type": "execute_result"
    }
   ],
   "source": [
    "def taxi_weight(taxi):\n",
    "    '''Return total weight of gifts in route\n",
    "       input: integer list of locations'''\n",
    "    route=[]\n",
    "    for i in taxi:\n",
    "        route.append(df.iloc[i])\n",
    "    #print(route)\n",
    "\n",
    "    sum=0\n",
    "    for i in range(len(route)):\n",
    "            sum+=route[i]['weight']\n",
    "    return sum\n",
    "#test\n",
    "taxi_weight(taxis[0])"
   ]
  },
  {
   "cell_type": "code",
   "execution_count": 202,
   "metadata": {},
   "outputs": [
    {
     "name": "stdout",
     "output_type": "stream",
     "text": [
      "   id        lat       long  weight  sleigh  dist_korvatunturi\n",
      "0   2  40.733034 -86.762233  342917      -1        6818.460780\n",
      "1   3  43.029635 -91.094895  974703      -1        6716.931863\n"
     ]
    }
   ],
   "source": [
    "def taxi_info(taxi):\n",
    "    '''Print info about route\n",
    "       input: integer list of locations\n",
    "    print(df.iloc[taxi])\n",
    "#test\n",
    "taxi_info(taxis[0])"
   ]
  },
  {
   "cell_type": "code",
   "execution_count": 360,
   "metadata": {},
   "outputs": [],
   "source": [
    "def taxi_build_route(startpoint, knn):\n",
    "    route=[]\n",
    "    route.append(startpoint)\n",
    "    weight_total = taxi_weight(route)\n",
    "    #print(weight_total)\n",
    "    \n",
    "    for i in knn:\n",
    "        #print(i)\n",
    "        weight_total = taxi_weight(route)\n",
    "        weight_next = df.iloc[i]['weight']\n",
    "        if weight_total + weight_next <= max_weight:\n",
    "            route.append(i)\n",
    "    return route\n",
    "#test\n",
    "#taxi_build_route()"
   ]
  },
  {
   "cell_type": "code",
   "execution_count": null,
   "metadata": {},
   "outputs": [],
   "source": [
    "def taxi_build_route2(startpoint, knn):\n",
    "    route=[]\n",
    "    route.append(startpoint)\n",
    "    weight_total = taxi_weight(route)\n",
    "    #print(weight_total)\n",
    "    \n",
    "    for i in knn:\n",
    "        #print(i)\n",
    "        weight_total = taxi_weight(route)\n",
    "        weight_next = df.iloc[i]['weight']\n",
    "        if weight_total + weight_next <= max_weight:\n",
    "            route.append(i)\n",
    "    return route"
   ]
  },
  {
   "cell_type": "code",
   "execution_count": 283,
   "metadata": {},
   "outputs": [],
   "source": [
    "def mark_taken(df, locations):\n",
    "    '''mark locations on list as taken\n",
    "       '''\n",
    "    df['sleigh'].iloc[locations]=10000\n"
   ]
  },
  {
   "cell_type": "code",
   "execution_count": 284,
   "metadata": {},
   "outputs": [
    {
     "name": "stdout",
     "output_type": "stream",
     "text": [
      "8824\n",
      "8824       0.000000\n",
      "5047    3904.285751\n",
      "3258    3972.061501\n",
      "9401    3972.603170\n",
      "dtype: float64\n"
     ]
    }
   ],
   "source": [
    "sleighs=[]\n",
    "\n",
    "i =df['dist_korvatunturi'].idxmax()\n",
    "print(i)\n",
    "this = df.iloc[i]\n",
    "# Each points distance to this one\n",
    "distances = freeones.apply(lambda row: distance(this, row), axis=1)\n",
    "knn = distances.nsmallest(30)\n",
    "\n",
    "print(knn[0:4])\n",
    "\n",
    "# while  sleight weight under 10k kg\n",
    "# add next closest to same sleigh"
   ]
  },
  {
   "cell_type": "code",
   "execution_count": 285,
   "metadata": {},
   "outputs": [
    {
     "data": {
      "text/plain": [
       "Int64Index([5047, 3258, 9401, 8222, 7595, 3031, 8524, 4439, 5416, 3897, 6247,\n",
       "            8257, 8826, 8658, 2514, 2650, 5367, 8119, 3740, 6083, 7877, 7257,\n",
       "            5689, 4608, 3950, 2290, 8983, 6004, 8850],\n",
       "           dtype='int64')"
      ]
     },
     "execution_count": 285,
     "metadata": {},
     "output_type": "execute_result"
    }
   ],
   "source": [
    "i\n",
    "knn.index[1:]"
   ]
  },
  {
   "cell_type": "code",
   "execution_count": 286,
   "metadata": {},
   "outputs": [
    {
     "name": "stdout",
     "output_type": "stream",
     "text": [
      "8520.0\n",
      "20\n"
     ]
    }
   ],
   "source": [
    "newtaxi = taxi_build_route(i, knn.index[1:])\n",
    "print(len(newtaxi))"
   ]
  },
  {
   "cell_type": "code",
   "execution_count": 287,
   "metadata": {},
   "outputs": [
    {
     "name": "stdout",
     "output_type": "stream",
     "text": [
      "140603.84412360637\n",
      "9994609.0\n"
     ]
    }
   ],
   "source": [
    "print(taxi_dist(newtaxi))\n",
    "print(taxi_weight(newtaxi))"
   ]
  },
  {
   "cell_type": "markdown",
   "metadata": {},
   "source": [
    "### remove these points from list of Free"
   ]
  },
  {
   "cell_type": "code",
   "execution_count": 289,
   "metadata": {},
   "outputs": [
    {
     "data": {
      "text/plain": [
       "9979"
      ]
     },
     "execution_count": 289,
     "metadata": {},
     "output_type": "execute_result"
    }
   ],
   "source": [
    "sum(df['sleigh']==-1)"
   ]
  },
  {
   "cell_type": "code",
   "execution_count": 293,
   "metadata": {},
   "outputs": [
    {
     "name": "stderr",
     "output_type": "stream",
     "text": [
      "/home/mark/anaconda3/lib/python3.6/site-packages/pandas/core/indexing.py:189: SettingWithCopyWarning: \n",
      "A value is trying to be set on a copy of a slice from a DataFrame\n",
      "\n",
      "See the caveats in the documentation: http://pandas.pydata.org/pandas-docs/stable/indexing.html#indexing-view-versus-copy\n",
      "  self._setitem_with_indexer(indexer, value)\n"
     ]
    }
   ],
   "source": [
    "mark_taken(df, newtaxi)"
   ]
  },
  {
   "cell_type": "code",
   "execution_count": 294,
   "metadata": {},
   "outputs": [
    {
     "data": {
      "text/plain": [
       "9979"
      ]
     },
     "execution_count": 294,
     "metadata": {},
     "output_type": "execute_result"
    }
   ],
   "source": [
    "sum(df['sleigh']==-1)"
   ]
  },
  {
   "cell_type": "code",
   "execution_count": 157,
   "metadata": {},
   "outputs": [
    {
     "data": {
      "text/plain": [
       "3904.2857505922034"
      ]
     },
     "execution_count": 157,
     "metadata": {},
     "output_type": "execute_result"
    }
   ],
   "source": [
    "point = freeones.iloc[knn.index[1]]\n",
    "distance_panda(this, point )"
   ]
  },
  {
   "cell_type": "code",
   "execution_count": 301,
   "metadata": {},
   "outputs": [],
   "source": [
    "taxis.append(newtaxi)"
   ]
  },
  {
   "cell_type": "markdown",
   "metadata": {},
   "source": [
    "### Repeat\n"
   ]
  },
  {
   "cell_type": "code",
   "execution_count": 323,
   "metadata": {},
   "outputs": [
    {
     "name": "stdout",
     "output_type": "stream",
     "text": [
      "Free remaining\n",
      "9912\n",
      "------\n",
      "[[ 43.029635 -91.094895]\n",
      " [ 31.180215  16.596037]\n",
      " [-28.657398 -55.964951]]\n"
     ]
    }
   ],
   "source": [
    "# Get free ones\n",
    "\n",
    "free= df[df['sleigh']==-1]\n",
    "#free[0:3]\n",
    "#freeones = free[['id','lat','long', 'weight']]\n",
    "freeones = free[['id','lat','long', 'weight']]\n",
    "#print(freeones[0:3])\n",
    "\n",
    "# Input required is np.arary with only coordinates, no id field\n",
    "np_freeones = np.asarray(freeones[['lat','long']])\n",
    "print('Free remaining'); print(len(freeones))\n",
    "print('------')\n",
    "print(np_freeones[0:3])"
   ]
  },
  {
   "cell_type": "code",
   "execution_count": 324,
   "metadata": {},
   "outputs": [
    {
     "name": "stdout",
     "output_type": "stream",
     "text": [
      "9278\n",
      "9278      0.000000\n",
      "8557    297.985948\n",
      "278     454.053433\n",
      "3522    484.076805\n",
      "dtype: float64\n"
     ]
    }
   ],
   "source": [
    "#Pick NEXT gift (furthest from home) to pick up and its knn\n",
    "\n",
    "i =free['dist_korvatunturi'].idxmax()\n",
    "print(i)\n",
    "this = df.iloc[i]\n",
    "# Each points distance to this one\n",
    "distances = freeones.apply(lambda row: distance(this, row), axis=1)\n",
    "knn = distances.nsmallest(30)\n",
    "\n",
    "print(knn[0:4])"
   ]
  },
  {
   "cell_type": "code",
   "execution_count": 325,
   "metadata": {},
   "outputs": [
    {
     "name": "stdout",
     "output_type": "stream",
     "text": [
      "678340.0\n",
      "21\n"
     ]
    },
    {
     "name": "stderr",
     "output_type": "stream",
     "text": [
      "/home/mark/anaconda3/lib/python3.6/site-packages/pandas/core/indexing.py:189: SettingWithCopyWarning: \n",
      "A value is trying to be set on a copy of a slice from a DataFrame\n",
      "\n",
      "See the caveats in the documentation: http://pandas.pydata.org/pandas-docs/stable/indexing.html#indexing-view-versus-copy\n",
      "  self._setitem_with_indexer(indexer, value)\n"
     ]
    }
   ],
   "source": [
    "# Plan a route\n",
    "newtaxi = taxi_build_route(i, knn.index[1:])\n",
    "print(len(newtaxi))\n",
    "\n",
    "#Add to routes\n",
    "taxis.append(newtaxi)\n",
    "\n",
    "#Mark those taken\n",
    "mark_taken(df, newtaxi)"
   ]
  },
  {
   "cell_type": "code",
   "execution_count": 331,
   "metadata": {},
   "outputs": [
    {
     "data": {
      "text/plain": [
       "478771.4884847733"
      ]
     },
     "execution_count": 331,
     "metadata": {},
     "output_type": "execute_result"
    }
   ],
   "source": [
    "# Total distance of all taxis\n",
    "total_dist = np.sum([taxi_dist(item) for item in taxis])\n",
    "print(total_dist)"
   ]
  },
  {
   "cell_type": "code",
   "execution_count": 354,
   "metadata": {},
   "outputs": [
    {
     "data": {
      "text/plain": [
       "200"
      ]
     },
     "execution_count": 354,
     "metadata": {},
     "output_type": "execute_result"
    }
   ],
   "source": [
    "len(df)"
   ]
  },
  {
   "cell_type": "markdown",
   "metadata": {},
   "source": [
    "### In one loop"
   ]
  },
  {
   "cell_type": "code",
   "execution_count": 358,
   "metadata": {},
   "outputs": [
    {
     "data": {
      "text/plain": [
       "10000"
      ]
     },
     "execution_count": 358,
     "metadata": {},
     "output_type": "execute_result"
    }
   ],
   "source": [
    "df_full = df\n",
    "#df = df[0:500]\n",
    "df = df_full\n",
    "len(df)"
   ]
  },
  {
   "cell_type": "code",
   "execution_count": 359,
   "metadata": {},
   "outputs": [
    {
     "name": "stdout",
     "output_type": "stream",
     "text": [
      "Free remaining\n",
      "10000\n",
      "8520.0\n",
      "Free remaining\n",
      "9980\n"
     ]
    },
    {
     "name": "stderr",
     "output_type": "stream",
     "text": [
      "/home/mark/anaconda3/lib/python3.6/site-packages/pandas/core/indexing.py:189: SettingWithCopyWarning: \n",
      "A value is trying to be set on a copy of a slice from a DataFrame\n",
      "\n",
      "See the caveats in the documentation: http://pandas.pydata.org/pandas-docs/stable/indexing.html#indexing-view-versus-copy\n",
      "  self._setitem_with_indexer(indexer, value)\n"
     ]
    },
    {
     "name": "stdout",
     "output_type": "stream",
     "text": [
      "502674.0\n",
      "Free remaining\n",
      "9958\n",
      "563903.0\n",
      "Free remaining\n",
      "9935\n",
      "557069.0\n",
      "Free remaining\n",
      "9913\n",
      "678340.0\n",
      "Free remaining\n",
      "9892\n",
      "814160.0\n",
      "Free remaining\n",
      "9875\n",
      "524249.0\n",
      "Free remaining\n",
      "9853\n",
      "35320.0\n",
      "Free remaining\n",
      "9832\n",
      "867362.0\n",
      "Free remaining\n",
      "9813\n",
      "695207.0\n",
      "Free remaining\n",
      "9795\n",
      "746098.0\n",
      "Free remaining\n",
      "9771\n",
      "41563.0\n",
      "Free remaining\n",
      "9753\n",
      "873694.0\n",
      "Free remaining\n",
      "9730\n",
      "852309.0\n",
      "Free remaining\n",
      "9711\n",
      "177116.0\n",
      "Free remaining\n",
      "9692\n",
      "67628.0\n",
      "Free remaining\n",
      "9669\n",
      "994751.0\n",
      "Free remaining\n",
      "9653\n",
      "795269.0\n",
      "Free remaining\n",
      "9633\n",
      "211873.0\n",
      "Free remaining\n",
      "9612\n",
      "351568.0\n",
      "Free remaining\n",
      "9592\n",
      "597465.0\n",
      "Free remaining\n",
      "9570\n",
      "6312.0\n",
      "Free remaining\n",
      "9548\n",
      "438107.0\n",
      "Free remaining\n",
      "9527\n",
      "954602.0\n",
      "Free remaining\n",
      "9509\n",
      "453156.0\n",
      "Free remaining\n",
      "9483\n",
      "364028.0\n",
      "Free remaining\n",
      "9456\n",
      "424621.0\n",
      "Free remaining\n",
      "9435\n",
      "487488.0\n",
      "Free remaining\n",
      "9417\n",
      "948047.0\n",
      "Free remaining\n",
      "9397\n",
      "166806.0\n",
      "Free remaining\n",
      "9373\n",
      "187541.0\n",
      "Free remaining\n",
      "9355\n",
      "651336.0\n",
      "Free remaining\n",
      "9335\n",
      "329529.0\n",
      "Free remaining\n",
      "9319\n",
      "185159.0\n",
      "Free remaining\n",
      "9295\n",
      "730118.0\n",
      "Free remaining\n",
      "9273\n",
      "581670.0\n",
      "Free remaining\n",
      "9248\n",
      "642882.0\n",
      "Free remaining\n",
      "9229\n",
      "398934.0\n",
      "Free remaining\n",
      "9218\n",
      "103801.0\n",
      "Free remaining\n",
      "9193\n",
      "65388.0\n",
      "Free remaining\n",
      "9167\n",
      "718818.0\n",
      "Free remaining\n",
      "9146\n",
      "925570.0\n",
      "Free remaining\n",
      "9132\n",
      "603137.0\n",
      "Free remaining\n",
      "9109\n",
      "862028.0\n",
      "Free remaining\n",
      "9090\n",
      "966803.0\n",
      "Free remaining\n",
      "9072\n",
      "479485.0\n",
      "Free remaining\n",
      "9053\n",
      "11458.0\n",
      "Free remaining\n",
      "9030\n",
      "438511.0\n",
      "Free remaining\n",
      "9006\n",
      "486605.0\n",
      "Free remaining\n",
      "8987\n",
      "763011.0\n",
      "Free remaining\n",
      "8969\n",
      "128359.0\n",
      "Free remaining\n",
      "8949\n",
      "333681.0\n",
      "Free remaining\n",
      "8928\n",
      "906979.0\n",
      "Free remaining\n",
      "8910\n",
      "926100.0\n",
      "Free remaining\n",
      "8889\n",
      "999902.0\n",
      "Free remaining\n",
      "8871\n",
      "56271.0\n",
      "Free remaining\n",
      "8850\n",
      "882642.0\n",
      "Free remaining\n",
      "8833\n",
      "452335.0\n",
      "Free remaining\n",
      "8817\n",
      "631417.0\n",
      "Free remaining\n",
      "8797\n",
      "136524.0\n",
      "Free remaining\n",
      "8775\n",
      "244657.0\n",
      "Free remaining\n",
      "8753\n",
      "672066.0\n",
      "Free remaining\n",
      "8738\n",
      "587053.0\n",
      "Free remaining\n",
      "8724\n",
      "804026.0\n",
      "Free remaining\n",
      "8710\n",
      "457594.0\n",
      "Free remaining\n",
      "8695\n",
      "352201.0\n",
      "Free remaining\n",
      "8675\n",
      "906553.0\n",
      "Free remaining\n",
      "8659\n",
      "461366.0\n",
      "Free remaining\n",
      "8642\n",
      "384122.0\n",
      "Free remaining\n",
      "8623\n",
      "1025075.0\n",
      "Free remaining\n",
      "8601\n",
      "872021.0\n",
      "Free remaining\n",
      "8580\n",
      "905950.0\n",
      "Free remaining\n",
      "8559\n",
      "880344.0\n",
      "Free remaining\n",
      "8545\n",
      "239598.0\n",
      "Free remaining\n",
      "8526\n",
      "667103.0\n",
      "Free remaining\n",
      "8507\n",
      "395341.0\n",
      "Free remaining\n",
      "8486\n",
      "980624.0\n",
      "Free remaining\n",
      "8460\n",
      "461770.0\n",
      "Free remaining\n",
      "8443\n",
      "267696.0\n",
      "Free remaining\n",
      "8417\n",
      "725016.0\n",
      "Free remaining\n",
      "8398\n",
      "860246.0\n",
      "Free remaining\n",
      "8379\n",
      "730408.0\n",
      "Free remaining\n",
      "8360\n",
      "855848.0\n",
      "Free remaining\n",
      "8343\n",
      "96294.0\n",
      "Free remaining\n",
      "8320\n",
      "221354.0\n",
      "Free remaining\n",
      "8299\n",
      "165735.0\n",
      "Free remaining\n",
      "8279\n",
      "693341.0\n",
      "Free remaining\n",
      "8257\n",
      "385122.0\n",
      "Free remaining\n",
      "8238\n",
      "340842.0\n",
      "Free remaining\n",
      "8224\n",
      "228144.0\n",
      "Free remaining\n",
      "8207\n",
      "383919.0\n",
      "Free remaining\n",
      "8188\n",
      "399522.0\n",
      "Free remaining\n",
      "8167\n",
      "105062.0\n",
      "Free remaining\n",
      "8147\n",
      "4172638.0\n",
      "Free remaining\n",
      "8136\n",
      "459140.0\n",
      "Free remaining\n",
      "8109\n",
      "358357.0\n",
      "Free remaining\n",
      "8087\n",
      "974235.0\n",
      "Free remaining\n",
      "8070\n",
      "243417.0\n",
      "Free remaining\n",
      "8053\n",
      "17668.0\n",
      "Free remaining\n",
      "8030\n",
      "367521.0\n",
      "Free remaining\n",
      "8015\n",
      "552121.0\n",
      "Free remaining\n",
      "7994\n",
      "796084.0\n",
      "Free remaining\n",
      "7975\n",
      "705523.0\n",
      "Free remaining\n",
      "7948\n",
      "769255.0\n",
      "Free remaining\n",
      "7931\n",
      "700764.0\n",
      "Free remaining\n",
      "7913\n",
      "135314.0\n",
      "Free remaining\n",
      "7895\n",
      "426377.0\n",
      "Free remaining\n",
      "7879\n",
      "939619.0\n",
      "Free remaining\n",
      "7856\n",
      "4713604.0\n",
      "Free remaining\n",
      "7844\n",
      "481829.0\n",
      "Free remaining\n",
      "7820\n",
      "664892.0\n",
      "Free remaining\n",
      "7801\n",
      "177074.0\n",
      "Free remaining\n",
      "7776\n",
      "704373.0\n",
      "Free remaining\n",
      "7754\n",
      "568163.0\n",
      "Free remaining\n",
      "7740\n",
      "989033.0\n",
      "Free remaining\n",
      "7723\n",
      "522752.0\n",
      "Free remaining\n",
      "7703\n",
      "862788.0\n",
      "Free remaining\n",
      "7686\n",
      "240645.0\n",
      "Free remaining\n",
      "7670\n",
      "999336.0\n",
      "Free remaining\n",
      "7651\n",
      "933115.0\n",
      "Free remaining\n",
      "7633\n",
      "876025.0\n",
      "Free remaining\n",
      "7612\n",
      "76136.0\n",
      "Free remaining\n",
      "7587\n",
      "699288.0\n",
      "Free remaining\n",
      "7568\n",
      "607921.0\n",
      "Free remaining\n",
      "7547\n",
      "583024.0\n",
      "Free remaining\n",
      "7525\n",
      "253499.0\n",
      "Free remaining\n",
      "7506\n",
      "697128.0\n",
      "Free remaining\n",
      "7488\n",
      "542730.0\n",
      "Free remaining\n",
      "7470\n",
      "494448.0\n",
      "Free remaining\n",
      "7451\n",
      "990692.0\n",
      "Free remaining\n",
      "7435\n",
      "795174.0\n",
      "Free remaining\n",
      "7417\n",
      "473211.0\n",
      "Free remaining\n",
      "7395\n",
      "600830.0\n",
      "Free remaining\n",
      "7375\n",
      "467643.0\n",
      "Free remaining\n",
      "7352\n",
      "960329.0\n",
      "Free remaining\n",
      "7338\n",
      "499550.0\n",
      "Free remaining\n",
      "7321\n",
      "893529.0\n",
      "Free remaining\n",
      "7301\n",
      "331740.0\n",
      "Free remaining\n",
      "7277\n",
      "982851.0\n",
      "Free remaining\n",
      "7257\n",
      "177537.0\n",
      "Free remaining\n",
      "7246\n",
      "780268.0\n",
      "Free remaining\n",
      "7235\n",
      "155640.0\n",
      "Free remaining\n",
      "7215\n",
      "842137.0\n",
      "Free remaining\n",
      "7198\n",
      "650895.0\n",
      "Free remaining\n",
      "7179\n",
      "753585.0\n",
      "Free remaining\n",
      "7160\n",
      "867370.0\n",
      "Free remaining\n",
      "7142\n",
      "652129.0\n",
      "Free remaining\n",
      "7123\n",
      "946809.0\n",
      "Free remaining\n",
      "7107\n",
      "190271.0\n",
      "Free remaining\n",
      "7082\n",
      "997682.0\n",
      "Free remaining\n",
      "7063\n",
      "732915.0\n",
      "Free remaining\n",
      "7049\n",
      "863611.0\n",
      "Free remaining\n",
      "7026\n",
      "499327.0\n",
      "Free remaining\n",
      "7004\n",
      "119646.0\n",
      "Free remaining\n",
      "6984\n",
      "804305.0\n",
      "Free remaining\n",
      "6965\n",
      "294835.0\n",
      "Free remaining\n",
      "6943\n",
      "907114.0\n",
      "Free remaining\n",
      "6924\n",
      "4681142.0\n",
      "Free remaining\n",
      "6910\n",
      "642239.0\n",
      "Free remaining\n",
      "6894\n",
      "164356.0\n",
      "Free remaining\n",
      "6872\n",
      "857834.0\n",
      "Free remaining\n",
      "6853\n",
      "3987354.0\n",
      "Free remaining\n",
      "6844\n",
      "617772.0\n",
      "Free remaining\n",
      "6821\n",
      "747763.0\n",
      "Free remaining\n",
      "6810\n",
      "734623.0\n",
      "Free remaining\n",
      "6790\n",
      "816799.0\n",
      "Free remaining\n",
      "6777\n",
      "801474.0\n",
      "Free remaining\n",
      "6760\n",
      "684724.0\n",
      "Free remaining\n",
      "6744\n",
      "692946.0\n",
      "Free remaining\n",
      "6734\n",
      "730751.0\n",
      "Free remaining\n",
      "6713\n",
      "163897.0\n",
      "Free remaining\n",
      "6698\n",
      "447716.0\n",
      "Free remaining\n",
      "6681\n",
      "887207.0\n",
      "Free remaining\n",
      "6665\n",
      "670563.0\n",
      "Free remaining\n",
      "6646\n",
      "842620.0\n",
      "Free remaining\n",
      "6631\n",
      "872664.0\n",
      "Free remaining\n",
      "6613\n",
      "268893.0\n",
      "Free remaining\n",
      "6593\n",
      "711650.0\n",
      "Free remaining\n",
      "6577\n",
      "912964.0\n",
      "Free remaining\n",
      "6557\n",
      "536791.0\n",
      "Free remaining\n",
      "6538\n",
      "371754.0\n",
      "Free remaining\n",
      "6522\n",
      "781352.0\n",
      "Free remaining\n",
      "6507\n",
      "293826.0\n",
      "Free remaining\n",
      "6484\n",
      "639820.0\n",
      "Free remaining\n",
      "6462\n",
      "943857.0\n",
      "Free remaining\n",
      "6442\n",
      "407390.0\n",
      "Free remaining\n",
      "6419\n",
      "171630.0\n",
      "Free remaining\n",
      "6398\n",
      "652132.0\n",
      "Free remaining\n",
      "6373\n",
      "865864.0\n",
      "Free remaining\n",
      "6358\n",
      "756039.0\n",
      "Free remaining\n",
      "6340\n",
      "841452.0\n",
      "Free remaining\n",
      "6320\n",
      "213681.0\n",
      "Free remaining\n",
      "6296\n",
      "303505.0\n",
      "Free remaining\n",
      "6280\n",
      "89632.0\n",
      "Free remaining\n",
      "6264\n",
      "554598.0\n",
      "Free remaining\n",
      "6243\n",
      "534617.0\n",
      "Free remaining\n",
      "6221\n",
      "625824.0\n",
      "Free remaining\n",
      "6202\n",
      "378707.0\n",
      "Free remaining\n",
      "6181\n",
      "337500.0\n",
      "Free remaining\n",
      "6162\n",
      "2746830.0\n",
      "Free remaining\n",
      "6144\n",
      "184180.0\n",
      "Free remaining\n",
      "6124\n",
      "976530.0\n",
      "Free remaining\n",
      "6105\n",
      "417346.0\n",
      "Free remaining\n",
      "6084\n",
      "411016.0\n",
      "Free remaining\n",
      "6065\n",
      "632587.0\n",
      "Free remaining\n",
      "6049\n",
      "107903.0\n",
      "Free remaining\n",
      "6028\n",
      "840056.0\n",
      "Free remaining\n",
      "6007\n",
      "278316.0\n",
      "Free remaining\n",
      "5983\n",
      "549299.0\n",
      "Free remaining\n",
      "5961\n",
      "836293.0\n",
      "Free remaining\n",
      "5940\n",
      "329320.0\n",
      "Free remaining\n",
      "5922\n",
      "767111.0\n",
      "Free remaining\n",
      "5910\n",
      "16500.0\n",
      "Free remaining\n",
      "5888\n",
      "585526.0\n",
      "Free remaining\n",
      "5871\n",
      "238325.0\n",
      "Free remaining\n",
      "5848\n",
      "191201.0\n",
      "Free remaining\n",
      "5828\n",
      "468325.0\n",
      "Free remaining\n",
      "5810\n",
      "659140.0\n",
      "Free remaining\n",
      "5790\n",
      "110633.0\n",
      "Free remaining\n",
      "5770\n",
      "130644.0\n",
      "Free remaining\n",
      "5746\n",
      "718328.0\n",
      "Free remaining\n",
      "5723\n",
      "376356.0\n",
      "Free remaining\n",
      "5702\n",
      "472766.0\n",
      "Free remaining\n",
      "5689\n",
      "491403.0\n",
      "Free remaining\n",
      "5668\n",
      "888452.0\n",
      "Free remaining\n",
      "5653\n",
      "860276.0\n",
      "Free remaining\n",
      "5635\n",
      "450102.0\n",
      "Free remaining\n",
      "5617\n",
      "986394.0\n",
      "Free remaining\n",
      "5596\n",
      "396467.0\n",
      "Free remaining\n",
      "5571\n",
      "493916.0\n",
      "Free remaining\n",
      "5557\n",
      "315654.0\n",
      "Free remaining\n",
      "5534\n",
      "330825.0\n",
      "Free remaining\n",
      "5513\n",
      "352967.0\n",
      "Free remaining\n",
      "5492\n",
      "931112.0\n",
      "Free remaining\n",
      "5474\n",
      "628724.0\n",
      "Free remaining\n",
      "5452\n",
      "219929.0\n",
      "Free remaining\n",
      "5438\n",
      "448921.0\n",
      "Free remaining\n",
      "5419\n",
      "950511.0\n",
      "Free remaining\n",
      "5400\n",
      "926320.0\n",
      "Free remaining\n",
      "5383\n",
      "668074.0\n",
      "Free remaining\n",
      "5369\n",
      "837375.0\n",
      "Free remaining\n",
      "5348\n",
      "843746.0\n",
      "Free remaining\n",
      "5330\n",
      "14516.0\n",
      "Free remaining\n",
      "5307\n",
      "999869.0\n",
      "Free remaining\n",
      "5287\n",
      "439439.0\n",
      "Free remaining\n",
      "5273\n",
      "739719.0\n",
      "Free remaining\n",
      "5260\n",
      "64441.0\n",
      "Free remaining\n",
      "5237\n",
      "285936.0\n",
      "Free remaining\n",
      "5218\n",
      "85234.0\n",
      "Free remaining\n",
      "5199\n",
      "461033.0\n",
      "Free remaining\n",
      "5181\n",
      "964309.0\n",
      "Free remaining\n",
      "5161\n",
      "747925.0\n",
      "Free remaining\n",
      "5142\n",
      "465958.0\n",
      "Free remaining\n",
      "5123\n",
      "435885.0\n",
      "Free remaining\n",
      "5108\n",
      "301228.0\n",
      "Free remaining\n",
      "5091\n",
      "832562.0\n",
      "Free remaining\n",
      "5071\n",
      "406519.0\n",
      "Free remaining\n",
      "5049\n",
      "369409.0\n",
      "Free remaining\n",
      "5030\n",
      "237827.0\n",
      "Free remaining\n",
      "5011\n",
      "277853.0\n",
      "Free remaining\n",
      "4993\n",
      "682347.0\n",
      "Free remaining\n",
      "4975\n",
      "608867.0\n",
      "Free remaining\n",
      "4954\n",
      "847313.0\n",
      "Free remaining\n",
      "4937\n",
      "548216.0\n",
      "Free remaining\n",
      "4916\n",
      "369364.0\n",
      "Free remaining\n",
      "4896\n",
      "2794.0\n",
      "Free remaining\n",
      "4882\n",
      "695161.0\n",
      "Free remaining\n",
      "4866\n",
      "974022.0\n",
      "Free remaining\n",
      "4850\n",
      "251201.0\n",
      "Free remaining\n",
      "4827\n",
      "189582.0\n",
      "Free remaining\n",
      "4806\n",
      "508487.0\n",
      "Free remaining\n",
      "4787\n",
      "805632.0\n",
      "Free remaining\n",
      "4771\n",
      "548705.0\n",
      "Free remaining\n",
      "4754\n",
      "715824.0\n",
      "Free remaining\n",
      "4736\n",
      "869763.0\n",
      "Free remaining\n",
      "4713\n",
      "947258.0\n",
      "Free remaining\n",
      "4695\n",
      "16682.0\n",
      "Free remaining\n",
      "4674\n",
      "764667.0\n",
      "Free remaining\n",
      "4651\n",
      "538566.0\n",
      "Free remaining\n",
      "4630\n",
      "761501.0\n",
      "Free remaining\n",
      "4611\n",
      "328218.0\n",
      "Free remaining\n",
      "4587\n",
      "289308.0\n",
      "Free remaining\n",
      "4568\n",
      "486412.0\n",
      "Free remaining\n",
      "4549\n",
      "262926.0\n",
      "Free remaining\n",
      "4536\n"
     ]
    },
    {
     "name": "stdout",
     "output_type": "stream",
     "text": [
      "303104.0\n",
      "Free remaining\n",
      "4515\n",
      "46758.0\n",
      "Free remaining\n",
      "4493\n",
      "726954.0\n",
      "Free remaining\n",
      "4478\n",
      "614123.0\n",
      "Free remaining\n",
      "4458\n",
      "375965.0\n",
      "Free remaining\n",
      "4434\n",
      "797154.0\n",
      "Free remaining\n",
      "4414\n",
      "249645.0\n",
      "Free remaining\n",
      "4395\n",
      "386252.0\n",
      "Free remaining\n",
      "4374\n",
      "155392.0\n",
      "Free remaining\n",
      "4359\n",
      "953427.0\n",
      "Free remaining\n",
      "4339\n",
      "790919.0\n",
      "Free remaining\n",
      "4317\n",
      "778112.0\n",
      "Free remaining\n",
      "4300\n",
      "919015.0\n",
      "Free remaining\n",
      "4281\n",
      "258813.0\n",
      "Free remaining\n",
      "4261\n",
      "424445.0\n",
      "Free remaining\n",
      "4240\n",
      "315952.0\n",
      "Free remaining\n",
      "4227\n",
      "4238660.0\n",
      "Free remaining\n",
      "4215\n",
      "844258.0\n",
      "Free remaining\n",
      "4202\n",
      "161832.0\n",
      "Free remaining\n",
      "4187\n",
      "596890.0\n",
      "Free remaining\n",
      "4171\n",
      "602560.0\n",
      "Free remaining\n",
      "4157\n",
      "544261.0\n",
      "Free remaining\n",
      "4137\n",
      "925974.0\n",
      "Free remaining\n",
      "4118\n",
      "750908.0\n",
      "Free remaining\n",
      "4100\n",
      "787438.0\n",
      "Free remaining\n",
      "4078\n",
      "626639.0\n",
      "Free remaining\n",
      "4056\n",
      "355689.0\n",
      "Free remaining\n",
      "4038\n",
      "550574.0\n",
      "Free remaining\n",
      "4015\n",
      "537292.0\n",
      "Free remaining\n",
      "3994\n",
      "856593.0\n",
      "Free remaining\n",
      "3974\n",
      "289446.0\n",
      "Free remaining\n",
      "3955\n",
      "4150041.0\n",
      "Free remaining\n",
      "3941\n",
      "175427.0\n",
      "Free remaining\n",
      "3922\n",
      "653945.0\n",
      "Free remaining\n",
      "3907\n",
      "365974.0\n",
      "Free remaining\n",
      "3886\n",
      "199325.0\n",
      "Free remaining\n",
      "3865\n",
      "904293.0\n",
      "Free remaining\n",
      "3845\n",
      "436542.0\n",
      "Free remaining\n",
      "3821\n",
      "18843.0\n",
      "Free remaining\n",
      "3807\n",
      "533247.0\n",
      "Free remaining\n",
      "3793\n",
      "425490.0\n",
      "Free remaining\n",
      "3771\n",
      "877172.0\n",
      "Free remaining\n",
      "3756\n",
      "792787.0\n",
      "Free remaining\n",
      "3737\n",
      "240881.0\n",
      "Free remaining\n",
      "3718\n",
      "700618.0\n",
      "Free remaining\n",
      "3700\n",
      "31901.0\n",
      "Free remaining\n",
      "3681\n",
      "447266.0\n",
      "Free remaining\n",
      "3657\n",
      "966786.0\n",
      "Free remaining\n",
      "3640\n",
      "506677.0\n",
      "Free remaining\n",
      "3626\n",
      "700263.0\n",
      "Free remaining\n",
      "3605\n",
      "700590.0\n",
      "Free remaining\n",
      "3584\n",
      "516147.0\n",
      "Free remaining\n",
      "3565\n",
      "634053.0\n",
      "Free remaining\n",
      "3544\n",
      "762582.0\n",
      "Free remaining\n",
      "3523\n",
      "581599.0\n",
      "Free remaining\n",
      "3510\n",
      "333055.0\n",
      "Free remaining\n",
      "3491\n",
      "477029.0\n",
      "Free remaining\n",
      "3470\n",
      "99201.0\n",
      "Free remaining\n",
      "3451\n",
      "471436.0\n",
      "Free remaining\n",
      "3438\n",
      "82031.0\n",
      "Free remaining\n",
      "3422\n",
      "325788.0\n",
      "Free remaining\n",
      "3404\n",
      "955400.0\n",
      "Free remaining\n",
      "3388\n",
      "580926.0\n",
      "Free remaining\n",
      "3369\n",
      "563821.0\n",
      "Free remaining\n",
      "3350\n",
      "246908.0\n",
      "Free remaining\n",
      "3333\n",
      "484359.0\n",
      "Free remaining\n",
      "3312\n",
      "363044.0\n",
      "Free remaining\n",
      "3295\n",
      "140452.0\n",
      "Free remaining\n",
      "3271\n",
      "686271.0\n",
      "Free remaining\n",
      "3254\n",
      "460520.0\n",
      "Free remaining\n",
      "3232\n",
      "265267.0\n",
      "Free remaining\n",
      "3208\n",
      "410876.0\n",
      "Free remaining\n",
      "3188\n",
      "927842.0\n",
      "Free remaining\n",
      "3171\n",
      "627719.0\n",
      "Free remaining\n",
      "3151\n",
      "886294.0\n",
      "Free remaining\n",
      "3133\n",
      "243357.0\n",
      "Free remaining\n",
      "3113\n",
      "829761.0\n",
      "Free remaining\n",
      "3100\n",
      "993583.0\n",
      "Free remaining\n",
      "3082\n",
      "886452.0\n",
      "Free remaining\n",
      "3066\n",
      "263453.0\n",
      "Free remaining\n",
      "3048\n",
      "610530.0\n",
      "Free remaining\n",
      "3029\n",
      "52177.0\n",
      "Free remaining\n",
      "3009\n",
      "878212.0\n",
      "Free remaining\n",
      "2994\n",
      "319205.0\n",
      "Free remaining\n",
      "2978\n",
      "671786.0\n",
      "Free remaining\n",
      "2964\n",
      "730761.0\n",
      "Free remaining\n",
      "2944\n",
      "767530.0\n",
      "Free remaining\n",
      "2924\n",
      "3484835.0\n",
      "Free remaining\n",
      "2914\n",
      "9158430.0\n",
      "Free remaining\n",
      "2910\n",
      "903000.0\n",
      "Free remaining\n",
      "2887\n",
      "479359.0\n",
      "Free remaining\n",
      "2865\n",
      "234387.0\n",
      "Free remaining\n",
      "2844\n",
      "86958.0\n",
      "Free remaining\n",
      "2824\n",
      "12049.0\n",
      "Free remaining\n",
      "2806\n",
      "384121.0\n",
      "Free remaining\n",
      "2789\n",
      "113715.0\n",
      "Free remaining\n",
      "2769\n",
      "967841.0\n",
      "Free remaining\n",
      "2746\n",
      "301312.0\n",
      "Free remaining\n",
      "2722\n",
      "220663.0\n",
      "Free remaining\n",
      "2702\n",
      "606877.0\n",
      "Free remaining\n",
      "2682\n",
      "99409.0\n",
      "Free remaining\n",
      "2659\n",
      "613782.0\n",
      "Free remaining\n",
      "2648\n",
      "219888.0\n",
      "Free remaining\n",
      "2625\n",
      "323366.0\n",
      "Free remaining\n",
      "2607\n",
      "4952381.0\n",
      "Free remaining\n",
      "2597\n",
      "474339.0\n",
      "Free remaining\n",
      "2575\n",
      "407754.0\n",
      "Free remaining\n",
      "2557\n",
      "640010.0\n",
      "Free remaining\n",
      "2538\n",
      "790525.0\n",
      "Free remaining\n",
      "2521\n",
      "136172.0\n",
      "Free remaining\n",
      "2502\n",
      "916962.0\n",
      "Free remaining\n",
      "2486\n",
      "147623.0\n",
      "Free remaining\n",
      "2467\n",
      "933198.0\n",
      "Free remaining\n",
      "2449\n",
      "581939.0\n",
      "Free remaining\n",
      "2432\n",
      "395450.0\n",
      "Free remaining\n",
      "2413\n",
      "348776.0\n",
      "Free remaining\n",
      "2393\n",
      "11832.0\n",
      "Free remaining\n",
      "2371\n",
      "769258.0\n",
      "Free remaining\n",
      "2349\n",
      "671320.0\n",
      "Free remaining\n",
      "2329\n",
      "775888.0\n",
      "Free remaining\n",
      "2310\n",
      "288325.0\n",
      "Free remaining\n",
      "2286\n",
      "482920.0\n",
      "Free remaining\n",
      "2269\n",
      "851041.0\n",
      "Free remaining\n",
      "2253\n",
      "762707.0\n",
      "Free remaining\n",
      "2233\n",
      "23353.0\n",
      "Free remaining\n",
      "2214\n",
      "464670.0\n",
      "Free remaining\n",
      "2195\n",
      "330687.0\n",
      "Free remaining\n",
      "2172\n",
      "703209.0\n",
      "Free remaining\n",
      "2148\n",
      "377465.0\n",
      "Free remaining\n",
      "2127\n",
      "372463.0\n",
      "Free remaining\n",
      "2109\n",
      "840450.0\n",
      "Free remaining\n",
      "2090\n",
      "186964.0\n",
      "Free remaining\n",
      "2069\n",
      "795074.0\n",
      "Free remaining\n",
      "2049\n",
      "979092.0\n",
      "Free remaining\n",
      "2034\n",
      "377848.0\n",
      "Free remaining\n",
      "2014\n",
      "680011.0\n",
      "Free remaining\n",
      "1994\n",
      "4575070.0\n",
      "Free remaining\n",
      "1983\n",
      "319640.0\n",
      "Free remaining\n",
      "1963\n",
      "936260.0\n",
      "Free remaining\n",
      "1937\n",
      "834757.0\n",
      "Free remaining\n",
      "1920\n",
      "770986.0\n",
      "Free remaining\n",
      "1904\n",
      "258404.0\n",
      "Free remaining\n",
      "1885\n",
      "733933.0\n",
      "Free remaining\n",
      "1866\n",
      "456508.0\n",
      "Free remaining\n",
      "1846\n",
      "805866.0\n",
      "Free remaining\n",
      "1828\n",
      "740391.0\n",
      "Free remaining\n",
      "1810\n",
      "956921.0\n",
      "Free remaining\n",
      "1791\n",
      "726507.0\n",
      "Free remaining\n",
      "1773\n",
      "493423.0\n",
      "Free remaining\n",
      "1757\n",
      "899556.0\n",
      "Free remaining\n",
      "1737\n",
      "816715.0\n",
      "Free remaining\n",
      "1715\n",
      "497952.0\n",
      "Free remaining\n",
      "1697\n",
      "601871.0\n",
      "Free remaining\n",
      "1676\n",
      "998396.0\n",
      "Free remaining\n",
      "1659\n",
      "450515.0\n",
      "Free remaining\n",
      "1638\n",
      "627224.0\n",
      "Free remaining\n",
      "1621\n",
      "939830.0\n",
      "Free remaining\n",
      "1613\n",
      "200776.0\n",
      "Free remaining\n",
      "1596\n",
      "253108.0\n",
      "Free remaining\n",
      "1576\n",
      "729053.0\n",
      "Free remaining\n",
      "1559\n",
      "621208.0\n",
      "Free remaining\n",
      "1541\n",
      "186451.0\n",
      "Free remaining\n",
      "1524\n",
      "909960.0\n",
      "Free remaining\n",
      "1503\n",
      "630837.0\n",
      "Free remaining\n",
      "1490\n",
      "573455.0\n",
      "Free remaining\n",
      "1480\n",
      "540159.0\n",
      "Free remaining\n",
      "1459\n",
      "488260.0\n",
      "Free remaining\n",
      "1445\n",
      "658856.0\n",
      "Free remaining\n",
      "1426\n",
      "180934.0\n",
      "Free remaining\n",
      "1414\n",
      "871549.0\n",
      "Free remaining\n",
      "1400\n",
      "455666.0\n",
      "Free remaining\n",
      "1390\n",
      "509254.0\n",
      "Free remaining\n",
      "1370\n",
      "939871.0\n",
      "Free remaining\n",
      "1349\n",
      "236107.0\n",
      "Free remaining\n",
      "1328\n",
      "900247.0\n",
      "Free remaining\n",
      "1311\n",
      "964109.0\n",
      "Free remaining\n",
      "1291\n",
      "410573.0\n",
      "Free remaining\n",
      "1269\n",
      "244420.0\n",
      "Free remaining\n",
      "1250\n",
      "948228.0\n",
      "Free remaining\n",
      "1234\n",
      "921191.0\n",
      "Free remaining\n",
      "1217\n",
      "644827.0\n",
      "Free remaining\n",
      "1195\n",
      "411138.0\n",
      "Free remaining\n",
      "1185\n",
      "709390.0\n",
      "Free remaining\n",
      "1170\n",
      "928688.0\n",
      "Free remaining\n",
      "1150\n",
      "168528.0\n",
      "Free remaining\n",
      "1130\n",
      "473637.0\n",
      "Free remaining\n",
      "1111\n",
      "857192.0\n",
      "Free remaining\n",
      "1093\n",
      "937483.0\n",
      "Free remaining\n",
      "1079\n",
      "892387.0\n",
      "Free remaining\n",
      "1063\n",
      "674185.0\n",
      "Free remaining\n",
      "1049\n",
      "823230.0\n",
      "Free remaining\n",
      "1040\n",
      "594423.0\n",
      "Free remaining\n",
      "1021\n",
      "198046.0\n",
      "Free remaining\n",
      "1001\n",
      "541763.0\n",
      "Free remaining\n",
      "982\n",
      "253233.0\n",
      "Free remaining\n",
      "969\n",
      "496028.0\n",
      "Free remaining\n",
      "957\n",
      "551881.0\n",
      "Free remaining\n",
      "946\n",
      "4447628.0\n",
      "Free remaining\n",
      "937\n",
      "968052.0\n",
      "Free remaining\n",
      "922\n",
      "729075.0\n",
      "Free remaining\n",
      "905\n",
      "326811.0\n",
      "Free remaining\n",
      "885\n",
      "332619.0\n",
      "Free remaining\n",
      "869\n",
      "856888.0\n",
      "Free remaining\n",
      "858\n",
      "899540.0\n",
      "Free remaining\n",
      "838\n",
      "478447.0\n",
      "Free remaining\n",
      "824\n",
      "729963.0\n",
      "Free remaining\n",
      "808\n",
      "514960.0\n",
      "Free remaining\n",
      "789\n",
      "368915.0\n",
      "Free remaining\n",
      "773\n",
      "709762.0\n",
      "Free remaining\n",
      "761\n",
      "827991.0\n",
      "Free remaining\n",
      "740\n",
      "98951.0\n",
      "Free remaining\n",
      "719\n",
      "474880.0\n",
      "Free remaining\n",
      "700\n",
      "622263.0\n",
      "Free remaining\n",
      "679\n",
      "189703.0\n",
      "Free remaining\n",
      "657\n",
      "95423.0\n",
      "Free remaining\n",
      "634\n",
      "922935.0\n",
      "Free remaining\n",
      "612\n",
      "743029.0\n",
      "Free remaining\n",
      "590\n",
      "643550.0\n",
      "Free remaining\n",
      "569\n",
      "312273.0\n",
      "Free remaining\n",
      "547\n",
      "600729.0\n",
      "Free remaining\n",
      "534\n",
      "126042.0\n",
      "Free remaining\n",
      "517\n",
      "609811.0\n",
      "Free remaining\n",
      "500\n",
      "334507.0\n",
      "Free remaining\n",
      "480\n",
      "505089.0\n",
      "Free remaining\n",
      "463\n",
      "2036815.0\n",
      "Free remaining\n",
      "450\n",
      "870777.0\n",
      "Free remaining\n",
      "430\n",
      "870464.0\n",
      "Free remaining\n",
      "414\n",
      "162692.0\n",
      "Free remaining\n",
      "388\n",
      "807122.0\n",
      "Free remaining\n",
      "370\n",
      "414047.0\n",
      "Free remaining\n",
      "354\n",
      "133666.0\n",
      "Free remaining\n",
      "333\n",
      "509447.0\n",
      "Free remaining\n",
      "316\n",
      "154579.0\n",
      "Free remaining\n",
      "297\n",
      "858061.0\n",
      "Free remaining\n",
      "277\n",
      "996961.0\n",
      "Free remaining\n",
      "263\n",
      "746082.0\n",
      "Free remaining\n",
      "244\n",
      "704008.0\n",
      "Free remaining\n",
      "227\n",
      "241607.0\n",
      "Free remaining\n",
      "209\n",
      "469652.0\n",
      "Free remaining\n",
      "193\n",
      "789247.0\n",
      "Free remaining\n",
      "176\n",
      "358681.0\n",
      "Free remaining\n",
      "156\n",
      "955504.0\n",
      "Free remaining\n",
      "134\n",
      "777739.0\n",
      "Free remaining\n",
      "118\n",
      "447301.0\n",
      "Free remaining\n",
      "107\n",
      "928555.0\n",
      "Free remaining\n",
      "91\n",
      "921175.0\n",
      "Free remaining\n",
      "73\n",
      "319653.0\n",
      "Free remaining\n",
      "53\n",
      "485111.0\n",
      "Free remaining\n",
      "39\n",
      "485344.0\n",
      "Free remaining\n",
      "23\n",
      "1417377.0\n",
      "Free remaining\n",
      "10\n",
      "451243.0\n",
      "Free remaining\n",
      "1\n",
      "4220811.0\n",
      "Total distance of all routes\n",
      "12837117.654288294\n"
     ]
    }
   ],
   "source": [
    "'''Pick always item furthest from home\n",
    "   find 30 knn\n",
    "   by order of distance to 1st, if fits under 10 tons, add next\n",
    "   score: 12.8M (12837118)   '''\n",
    "\n",
    "#Reset all to free\n",
    "df['sleigh']=-1\n",
    "taxis=[]\n",
    "\n",
    "# Get free ones\n",
    "free= df[df['sleigh']==-1]\n",
    "\n",
    "while len(free) >0:\n",
    "    freeones = free[['id','lat','long', 'weight']]\n",
    "\n",
    "    # Input required is np.arary with only coordinates, no id field\n",
    "    np_freeones = np.asarray(freeones[['lat','long']])\n",
    "    print('Free remaining'); print(len(freeones))\n",
    "\n",
    "#Pick NEXT gift (furthest from home) to pick up and its knn\n",
    "    i =free['dist_korvatunturi'].idxmax()\n",
    "    this = df.iloc[i]\n",
    "    # Each points distance to this one\n",
    "    distances = freeones.apply(lambda row: distance(this, row), axis=1)\n",
    "    knn = distances.nsmallest(30)\n",
    "\n",
    "# Plan a route\n",
    "    newtaxi = taxi_build_route(i, knn.index[1:])\n",
    "\n",
    "    #Add to routes\n",
    "    taxis.append(newtaxi)\n",
    "\n",
    "    #Mark those taken\n",
    "    mark_taken(df, newtaxi)\n",
    "    # Update free ones\n",
    "    free= df[df['sleigh']==-1]\n",
    "    \n",
    "# Total distance of all taxis\n",
    "print('Total distance of all routes')\n",
    "total_dist = np.sum([taxi_dist(item) for item in taxis])\n",
    "print(total_dist)"
   ]
  },
  {
   "cell_type": "code",
   "execution_count": 350,
   "metadata": {},
   "outputs": [
    {
     "data": {
      "text/plain": [
       "0"
      ]
     },
     "execution_count": 350,
     "metadata": {},
     "output_type": "execute_result"
    }
   ],
   "source": [
    "len(free)"
   ]
  },
  {
   "cell_type": "code",
   "execution_count": null,
   "metadata": {},
   "outputs": [],
   "source": []
  },
  {
   "cell_type": "markdown",
   "metadata": {},
   "source": [
    "### Save result"
   ]
  },
  {
   "cell_type": "code",
   "execution_count": 361,
   "metadata": {},
   "outputs": [],
   "source": [
    "import csv\n",
    "\n",
    "with open(\"solution_12M.csv\", \"w\", newline=\"\") as f:\n",
    "    writer = csv.writer(f)\n",
    "    writer.writerows(taxis)"
   ]
  },
  {
   "cell_type": "markdown",
   "metadata": {},
   "source": [
    "### Statistics"
   ]
  },
  {
   "cell_type": "code",
   "execution_count": 364,
   "metadata": {},
   "outputs": [
    {
     "name": "stdout",
     "output_type": "stream",
     "text": [
      "Nr of taxis: \n",
      "536\n",
      "Avg items per taxi\n",
      "18.65671641791045\n",
      "Avg weight of taxi\n",
      "9903409.529850746\n",
      "Avg length of taxi route\n",
      "23949.846369940846\n"
     ]
    }
   ],
   "source": [
    "# nr of taxis\n",
    "print('Nr of taxis: '); print(len(taxis))\n",
    "\n",
    "# Avg items per taxi\n",
    "# Avg length of taxi ride\n",
    "print('Avg items per taxi')\n",
    "print(np.mean([len(item) for item in taxis]))\n",
    "\n",
    "# Avg weight per taxi\n",
    "print('Avg weight of taxi')\n",
    "print(np.mean([taxi_weight(item) for item in taxis]))\n",
    "\n",
    "# Avg length of taxi ride\n",
    "print('Avg length of taxi route')\n",
    "print(np.mean([taxi_dist(item) for item in taxis]))\n"
   ]
  },
  {
   "cell_type": "code",
   "execution_count": null,
   "metadata": {},
   "outputs": [],
   "source": []
  },
  {
   "cell_type": "code",
   "execution_count": null,
   "metadata": {},
   "outputs": [],
   "source": []
  },
  {
   "cell_type": "code",
   "execution_count": null,
   "metadata": {},
   "outputs": [],
   "source": []
  },
  {
   "cell_type": "code",
   "execution_count": null,
   "metadata": {},
   "outputs": [],
   "source": []
  },
  {
   "cell_type": "code",
   "execution_count": null,
   "metadata": {},
   "outputs": [],
   "source": [
    "# as long as unassigned gifts remain\n",
    "- pick furthest away\n",
    "  as long as space:\n",
    "# find n nearest\n",
    "- if fit, add closest\n",
    "# find nearest for all these\n",
    "- add closest to this group # this is same as growing cluster with unit closest to any old item\n",
    "\n",
    "# keep a alist of unassigned? or use sleigh==-1?\n",
    "# how to keep indexing?\n",
    "\n",
    "\n",
    "# when done, can still arrange each sleighs locations internally to shortest path\n",
    "\n"
   ]
  },
  {
   "cell_type": "code",
   "execution_count": null,
   "metadata": {},
   "outputs": [],
   "source": []
  },
  {
   "cell_type": "code",
   "execution_count": null,
   "metadata": {},
   "outputs": [],
   "source": []
  },
  {
   "cell_type": "code",
   "execution_count": 103,
   "metadata": {},
   "outputs": [],
   "source": [
    "i = 0\n",
    "dist=[]\n",
    "# sort by nearest\n",
    "for j in range(len(df)):\n",
    " dist.append( haversine(df.iloc[i]['long'], df.iloc[i]['lat'], df.iloc[j]['long'], df.iloc[j]['lat']) )"
   ]
  },
  {
   "cell_type": "code",
   "execution_count": 104,
   "metadata": {},
   "outputs": [
    {
     "data": {
      "text/html": [
       "<div>\n",
       "<style scoped>\n",
       "    .dataframe tbody tr th:only-of-type {\n",
       "        vertical-align: middle;\n",
       "    }\n",
       "\n",
       "    .dataframe tbody tr th {\n",
       "        vertical-align: top;\n",
       "    }\n",
       "\n",
       "    .dataframe thead th {\n",
       "        text-align: right;\n",
       "    }\n",
       "</style>\n",
       "<table border=\"1\" class=\"dataframe\">\n",
       "  <thead>\n",
       "    <tr style=\"text-align: right;\">\n",
       "      <th></th>\n",
       "      <th>0</th>\n",
       "    </tr>\n",
       "  </thead>\n",
       "  <tbody>\n",
       "    <tr>\n",
       "      <th>0</th>\n",
       "      <td>0.000000</td>\n",
       "    </tr>\n",
       "    <tr>\n",
       "      <th>1</th>\n",
       "      <td>440.696945</td>\n",
       "    </tr>\n",
       "    <tr>\n",
       "      <th>2</th>\n",
       "      <td>8811.929433</td>\n",
       "    </tr>\n",
       "    <tr>\n",
       "      <th>3</th>\n",
       "      <td>8352.661111</td>\n",
       "    </tr>\n",
       "  </tbody>\n",
       "</table>\n",
       "</div>"
      ],
      "text/plain": [
       "             0\n",
       "0     0.000000\n",
       "1   440.696945\n",
       "2  8811.929433\n",
       "3  8352.661111"
      ]
     },
     "execution_count": 104,
     "metadata": {},
     "output_type": "execute_result"
    }
   ],
   "source": [
    "dist = pd.DataFrame(dist)\n",
    "dist[0:4]"
   ]
  },
  {
   "cell_type": "code",
   "execution_count": 105,
   "metadata": {},
   "outputs": [],
   "source": [
    "dist = dist.reset_index()"
   ]
  },
  {
   "cell_type": "code",
   "execution_count": null,
   "metadata": {},
   "outputs": [],
   "source": [
    "dist.head(3)"
   ]
  },
  {
   "cell_type": "code",
   "execution_count": null,
   "metadata": {},
   "outputs": [],
   "source": [
    "dist_sorted = dist.sort_values(by=[0], ascending=True)\n",
    "dist_sorted.head(3)"
   ]
  },
  {
   "cell_type": "code",
   "execution_count": null,
   "metadata": {},
   "outputs": [],
   "source": [
    "dist[0:4]"
   ]
  },
  {
   "cell_type": "code",
   "execution_count": 109,
   "metadata": {},
   "outputs": [
    {
     "data": {
      "text/plain": [
       "array(['index', 0], dtype=object)"
      ]
     },
     "execution_count": 109,
     "metadata": {},
     "output_type": "execute_result"
    }
   ],
   "source": [
    "dist.columns.values"
   ]
  },
  {
   "cell_type": "code",
   "execution_count": 110,
   "metadata": {},
   "outputs": [],
   "source": [
    "# create a function taking into account\n",
    "# - groups distance from home\n",
    "# and\n",
    "# - distance of possible additional units vs.\n",
    "# - how much of max load would be wasted"
   ]
  },
  {
   "cell_type": "code",
   "execution_count": 111,
   "metadata": {},
   "outputs": [
    {
     "data": {
      "text/html": [
       "<div>\n",
       "<style scoped>\n",
       "    .dataframe tbody tr th:only-of-type {\n",
       "        vertical-align: middle;\n",
       "    }\n",
       "\n",
       "    .dataframe tbody tr th {\n",
       "        vertical-align: top;\n",
       "    }\n",
       "\n",
       "    .dataframe thead th {\n",
       "        text-align: right;\n",
       "    }\n",
       "</style>\n",
       "<table border=\"1\" class=\"dataframe\">\n",
       "  <thead>\n",
       "    <tr style=\"text-align: right;\">\n",
       "      <th></th>\n",
       "      <th>id</th>\n",
       "      <th>lat</th>\n",
       "      <th>long</th>\n",
       "      <th>weight</th>\n",
       "      <th>sleigh</th>\n",
       "      <th>dist_korvatunturi</th>\n",
       "    </tr>\n",
       "  </thead>\n",
       "  <tbody>\n",
       "    <tr>\n",
       "      <th>0</th>\n",
       "      <td>2</td>\n",
       "      <td>40.733034</td>\n",
       "      <td>-86.762233</td>\n",
       "      <td>342917</td>\n",
       "      <td>2</td>\n",
       "      <td>6818.460780</td>\n",
       "    </tr>\n",
       "    <tr>\n",
       "      <th>1</th>\n",
       "      <td>3</td>\n",
       "      <td>43.029635</td>\n",
       "      <td>-91.094895</td>\n",
       "      <td>974703</td>\n",
       "      <td>3</td>\n",
       "      <td>6716.931863</td>\n",
       "    </tr>\n",
       "    <tr>\n",
       "      <th>2</th>\n",
       "      <td>4</td>\n",
       "      <td>31.180215</td>\n",
       "      <td>16.596037</td>\n",
       "      <td>215099</td>\n",
       "      <td>4</td>\n",
       "      <td>4189.445884</td>\n",
       "    </tr>\n",
       "    <tr>\n",
       "      <th>3</th>\n",
       "      <td>5</td>\n",
       "      <td>-28.657398</td>\n",
       "      <td>-55.964951</td>\n",
       "      <td>568144</td>\n",
       "      <td>5</td>\n",
       "      <td>12768.438477</td>\n",
       "    </tr>\n",
       "  </tbody>\n",
       "</table>\n",
       "</div>"
      ],
      "text/plain": [
       "   id        lat       long  weight  sleigh  dist_korvatunturi\n",
       "0   2  40.733034 -86.762233  342917       2        6818.460780\n",
       "1   3  43.029635 -91.094895  974703       3        6716.931863\n",
       "2   4  31.180215  16.596037  215099       4        4189.445884\n",
       "3   5 -28.657398 -55.964951  568144       5       12768.438477"
      ]
     },
     "execution_count": 111,
     "metadata": {},
     "output_type": "execute_result"
    }
   ],
   "source": [
    "df.head(4)"
   ]
  },
  {
   "cell_type": "markdown",
   "metadata": {},
   "source": [
    "### go"
   ]
  },
  {
   "cell_type": "code",
   "execution_count": null,
   "metadata": {},
   "outputs": [],
   "source": [
    "t0 = clock()\n",
    "#knn = knn_search(data, K)\n",
    "t1 = clock()\n",
    "print(t1-t0)"
   ]
  },
  {
   "cell_type": "code",
   "execution_count": 47,
   "metadata": {},
   "outputs": [
    {
     "ename": "IndexError",
     "evalue": "index 0 is out of bounds for axis 0 with size 0",
     "output_type": "error",
     "traceback": [
      "\u001b[0;31m---------------------------------------------------------------------------\u001b[0m",
      "\u001b[0;31mIndexError\u001b[0m                                Traceback (most recent call last)",
      "\u001b[0;32m<ipython-input-47-f79bc8c66262>\u001b[0m in \u001b[0;36m<module>\u001b[0;34m()\u001b[0m\n\u001b[1;32m      1\u001b[0m \u001b[0mK\u001b[0m\u001b[0;34m=\u001b[0m\u001b[0;36m20\u001b[0m\u001b[0;34m\u001b[0m\u001b[0m\n\u001b[1;32m      2\u001b[0m \u001b[0;31m#knn = knn_search(treedata, K)\u001b[0m\u001b[0;34m\u001b[0m\u001b[0;34m\u001b[0m\u001b[0m\n\u001b[0;32m----> 3\u001b[0;31m \u001b[0mnear\u001b[0m \u001b[0;34m=\u001b[0m \u001b[0msearch_kdtree\u001b[0m\u001b[0;34m(\u001b[0m\u001b[0mtreedata\u001b[0m\u001b[0;34m,\u001b[0m \u001b[0mdatapoint\u001b[0m\u001b[0;34m,\u001b[0m \u001b[0mK\u001b[0m\u001b[0;34m)\u001b[0m\u001b[0;34m\u001b[0m\u001b[0m\n\u001b[0m",
      "\u001b[0;32m<ipython-input-33-912293370020>\u001b[0m in \u001b[0;36msearch_kdtree\u001b[0;34m(tree, datapoint, K)\u001b[0m\n\u001b[1;32m     31\u001b[0m \u001b[0;32mdef\u001b[0m \u001b[0msearch_kdtree\u001b[0m\u001b[0;34m(\u001b[0m\u001b[0mtree\u001b[0m\u001b[0;34m,\u001b[0m \u001b[0mdatapoint\u001b[0m\u001b[0;34m,\u001b[0m \u001b[0mK\u001b[0m\u001b[0;34m)\u001b[0m\u001b[0;34m:\u001b[0m\u001b[0;34m\u001b[0m\u001b[0m\n\u001b[1;32m     32\u001b[0m     \u001b[0;34m\"\"\" find the k nearest neighbours of datapoint in a kdtree \"\"\"\u001b[0m\u001b[0;34m\u001b[0m\u001b[0m\n\u001b[0;32m---> 33\u001b[0;31m     \u001b[0mstack\u001b[0m \u001b[0;34m=\u001b[0m \u001b[0;34m[\u001b[0m\u001b[0mtree\u001b[0m\u001b[0;34m[\u001b[0m\u001b[0;36m0\u001b[0m\u001b[0;34m]\u001b[0m\u001b[0;34m]\u001b[0m\u001b[0;34m\u001b[0m\u001b[0m\n\u001b[0m\u001b[1;32m     34\u001b[0m     \u001b[0mknn\u001b[0m \u001b[0;34m=\u001b[0m \u001b[0;34m[\u001b[0m\u001b[0;34m(\u001b[0m\u001b[0mnumpy\u001b[0m\u001b[0;34m.\u001b[0m\u001b[0minf\u001b[0m\u001b[0;34m,\u001b[0m \u001b[0;32mNone\u001b[0m\u001b[0;34m)\u001b[0m\u001b[0;34m]\u001b[0m\u001b[0;34m*\u001b[0m\u001b[0mK\u001b[0m\u001b[0;34m\u001b[0m\u001b[0m\n\u001b[1;32m     35\u001b[0m     \u001b[0m_datapt\u001b[0m \u001b[0;34m=\u001b[0m \u001b[0mdatapoint\u001b[0m\u001b[0;34m[\u001b[0m\u001b[0;34m:\u001b[0m\u001b[0;34m,\u001b[0m\u001b[0;36m0\u001b[0m\u001b[0;34m]\u001b[0m\u001b[0;34m\u001b[0m\u001b[0m\n",
      "\u001b[0;31mIndexError\u001b[0m: index 0 is out of bounds for axis 0 with size 0"
     ]
    }
   ],
   "source": [
    "K=20\n",
    "#knn = knn_search(treedata, K)\n"
   ]
  },
  {
   "cell_type": "code",
   "execution_count": 48,
   "metadata": {},
   "outputs": [
    {
     "ename": "IndexError",
     "evalue": "index 0 is out of bounds for axis 0 with size 0",
     "output_type": "error",
     "traceback": [
      "\u001b[0;31m---------------------------------------------------------------------------\u001b[0m",
      "\u001b[0;31mIndexError\u001b[0m                                Traceback (most recent call last)",
      "\u001b[0;32m<ipython-input-48-44d8a4abdba1>\u001b[0m in \u001b[0;36m<module>\u001b[0;34m()\u001b[0m\n\u001b[0;32m----> 1\u001b[0;31m \u001b[0mknn\u001b[0m \u001b[0;34m=\u001b[0m \u001b[0mknn_search\u001b[0m\u001b[0;34m(\u001b[0m\u001b[0mtreedata\u001b[0m\u001b[0;34m,\u001b[0m \u001b[0mK\u001b[0m\u001b[0;34m)\u001b[0m\u001b[0;34m\u001b[0m\u001b[0m\n\u001b[0m",
      "\u001b[0;32m<ipython-input-33-912293370020>\u001b[0m in \u001b[0;36mknn_search\u001b[0;34m(data, K, leafsize)\u001b[0m\n\u001b[1;32m     66\u001b[0m \u001b[0;34m\u001b[0m\u001b[0m\n\u001b[1;32m     67\u001b[0m     \u001b[0;31m# build kdtree\u001b[0m\u001b[0;34m\u001b[0m\u001b[0;34m\u001b[0m\u001b[0m\n\u001b[0;32m---> 68\u001b[0;31m     \u001b[0mtree\u001b[0m \u001b[0;34m=\u001b[0m \u001b[0mkdtree\u001b[0m\u001b[0;34m(\u001b[0m\u001b[0mdata\u001b[0m\u001b[0;34m.\u001b[0m\u001b[0mcopy\u001b[0m\u001b[0;34m(\u001b[0m\u001b[0;34m)\u001b[0m\u001b[0;34m,\u001b[0m \u001b[0mleafsize\u001b[0m\u001b[0;34m=\u001b[0m\u001b[0mleafsize\u001b[0m\u001b[0;34m)\u001b[0m\u001b[0;34m\u001b[0m\u001b[0m\n\u001b[0m\u001b[1;32m     69\u001b[0m \u001b[0;34m\u001b[0m\u001b[0m\n\u001b[1;32m     70\u001b[0m     \u001b[0;31m# search kdtree\u001b[0m\u001b[0;34m\u001b[0m\u001b[0;34m\u001b[0m\u001b[0m\n",
      "\u001b[0;32m<ipython-input-32-1ad020585ac5>\u001b[0m in \u001b[0;36mkdtree\u001b[0;34m(data, leafsize)\u001b[0m\n\u001b[1;32m     31\u001b[0m \u001b[0;34m\u001b[0m\u001b[0m\n\u001b[1;32m     32\u001b[0m     \u001b[0;31m# create root of kd-tree\u001b[0m\u001b[0;34m\u001b[0m\u001b[0;34m\u001b[0m\u001b[0m\n\u001b[0;32m---> 33\u001b[0;31m     \u001b[0midx\u001b[0m \u001b[0;34m=\u001b[0m \u001b[0mnumpy\u001b[0m\u001b[0;34m.\u001b[0m\u001b[0margsort\u001b[0m\u001b[0;34m(\u001b[0m\u001b[0mdata\u001b[0m\u001b[0;34m[\u001b[0m\u001b[0;36m0\u001b[0m\u001b[0;34m,\u001b[0m\u001b[0;34m:\u001b[0m\u001b[0;34m]\u001b[0m\u001b[0;34m,\u001b[0m \u001b[0mkind\u001b[0m\u001b[0;34m=\u001b[0m\u001b[0;34m'mergesort'\u001b[0m\u001b[0;34m)\u001b[0m\u001b[0;34m\u001b[0m\u001b[0m\n\u001b[0m\u001b[1;32m     34\u001b[0m     \u001b[0mdata\u001b[0m\u001b[0;34m[\u001b[0m\u001b[0;34m:\u001b[0m\u001b[0;34m,\u001b[0m\u001b[0;34m:\u001b[0m\u001b[0;34m]\u001b[0m \u001b[0;34m=\u001b[0m \u001b[0mdata\u001b[0m\u001b[0;34m[\u001b[0m\u001b[0;34m:\u001b[0m\u001b[0;34m,\u001b[0m\u001b[0midx\u001b[0m\u001b[0;34m]\u001b[0m\u001b[0;34m\u001b[0m\u001b[0m\n\u001b[1;32m     35\u001b[0m     \u001b[0msplitval\u001b[0m \u001b[0;34m=\u001b[0m \u001b[0mdata\u001b[0m\u001b[0;34m[\u001b[0m\u001b[0;36m0\u001b[0m\u001b[0;34m,\u001b[0m\u001b[0mndata\u001b[0m\u001b[0;34m//\u001b[0m\u001b[0;36m2\u001b[0m\u001b[0;34m]\u001b[0m\u001b[0;34m\u001b[0m\u001b[0m\n",
      "\u001b[0;31mIndexError\u001b[0m: index 0 is out of bounds for axis 0 with size 0"
     ]
    }
   ],
   "source": [
    "knn = knn_search(treedata, K)"
   ]
  },
  {
   "cell_type": "code",
   "execution_count": null,
   "metadata": {},
   "outputs": [],
   "source": []
  },
  {
   "cell_type": "code",
   "execution_count": null,
   "metadata": {},
   "outputs": [],
   "source": []
  },
  {
   "cell_type": "code",
   "execution_count": null,
   "metadata": {},
   "outputs": [],
   "source": []
  },
  {
   "cell_type": "markdown",
   "metadata": {},
   "source": [
    "### Info on some specific points"
   ]
  },
  {
   "cell_type": "code",
   "execution_count": 100,
   "metadata": {},
   "outputs": [],
   "source": [
    "treedata = df[['long', 'lat']]"
   ]
  },
  {
   "cell_type": "code",
   "execution_count": 115,
   "metadata": {},
   "outputs": [
    {
     "data": {
      "text/html": [
       "<div>\n",
       "<style scoped>\n",
       "    .dataframe tbody tr th:only-of-type {\n",
       "        vertical-align: middle;\n",
       "    }\n",
       "\n",
       "    .dataframe tbody tr th {\n",
       "        vertical-align: top;\n",
       "    }\n",
       "\n",
       "    .dataframe thead th {\n",
       "        text-align: right;\n",
       "    }\n",
       "</style>\n",
       "<table border=\"1\" class=\"dataframe\">\n",
       "  <thead>\n",
       "    <tr style=\"text-align: right;\">\n",
       "      <th></th>\n",
       "      <th>id</th>\n",
       "      <th>lat</th>\n",
       "      <th>long</th>\n",
       "      <th>weight</th>\n",
       "      <th>sleigh</th>\n",
       "      <th>dist_korvatunturi</th>\n",
       "    </tr>\n",
       "  </thead>\n",
       "  <tbody>\n",
       "    <tr>\n",
       "      <th>0</th>\n",
       "      <td>2</td>\n",
       "      <td>40.733034</td>\n",
       "      <td>-86.762233</td>\n",
       "      <td>342917</td>\n",
       "      <td>2</td>\n",
       "      <td>6818.460780</td>\n",
       "    </tr>\n",
       "    <tr>\n",
       "      <th>1</th>\n",
       "      <td>3</td>\n",
       "      <td>43.029635</td>\n",
       "      <td>-91.094895</td>\n",
       "      <td>974703</td>\n",
       "      <td>3</td>\n",
       "      <td>6716.931863</td>\n",
       "    </tr>\n",
       "    <tr>\n",
       "      <th>2</th>\n",
       "      <td>4</td>\n",
       "      <td>31.180215</td>\n",
       "      <td>16.596037</td>\n",
       "      <td>215099</td>\n",
       "      <td>4</td>\n",
       "      <td>4189.445884</td>\n",
       "    </tr>\n",
       "    <tr>\n",
       "      <th>3</th>\n",
       "      <td>5</td>\n",
       "      <td>-28.657398</td>\n",
       "      <td>-55.964951</td>\n",
       "      <td>568144</td>\n",
       "      <td>5</td>\n",
       "      <td>12768.438477</td>\n",
       "    </tr>\n",
       "    <tr>\n",
       "      <th>4</th>\n",
       "      <td>6</td>\n",
       "      <td>36.186751</td>\n",
       "      <td>-86.355754</td>\n",
       "      <td>695570</td>\n",
       "      <td>6</td>\n",
       "      <td>7274.033239</td>\n",
       "    </tr>\n",
       "  </tbody>\n",
       "</table>\n",
       "</div>"
      ],
      "text/plain": [
       "   id        lat       long  weight  sleigh  dist_korvatunturi\n",
       "0   2  40.733034 -86.762233  342917       2        6818.460780\n",
       "1   3  43.029635 -91.094895  974703       3        6716.931863\n",
       "2   4  31.180215  16.596037  215099       4        4189.445884\n",
       "3   5 -28.657398 -55.964951  568144       5       12768.438477\n",
       "4   6  36.186751 -86.355754  695570       6        7274.033239"
      ]
     },
     "execution_count": 115,
     "metadata": {},
     "output_type": "execute_result"
    }
   ],
   "source": [
    "df.head()"
   ]
  },
  {
   "cell_type": "code",
   "execution_count": 134,
   "metadata": {},
   "outputs": [
    {
     "data": {
      "text/plain": [
       "id                        2.000000\n",
       "lat                      40.733034\n",
       "long                    -86.762233\n",
       "weight               342917.000000\n",
       "sleigh                    2.000000\n",
       "dist_korvatunturi      6818.460780\n",
       "Name: 0, dtype: float64"
      ]
     },
     "execution_count": 134,
     "metadata": {},
     "output_type": "execute_result"
    }
   ],
   "source": [
    "df.iloc[0]"
   ]
  },
  {
   "cell_type": "code",
   "execution_count": 109,
   "metadata": {},
   "outputs": [
    {
     "data": {
      "text/plain": [
       "(10000, 2)"
      ]
     },
     "execution_count": 109,
     "metadata": {},
     "output_type": "execute_result"
    }
   ],
   "source": [
    "treedat.shape"
   ]
  },
  {
   "cell_type": "code",
   "execution_count": 111,
   "metadata": {},
   "outputs": [
    {
     "data": {
      "text/plain": [
       "[(0.035337873581000136, 8964),\n",
       " (0.9283121356569914, 5852),\n",
       " (1.266208588250013, 9578),\n",
       " (1.4500857272850018, 9328),\n",
       " (1.5663806009299814, 8870),\n",
       " (1.5857399166370032, 5124),\n",
       " (2.221291289120009, 9302),\n",
       " (2.4370281524809574, 882),\n",
       " (2.8134255199210036, 100),\n",
       " (3.3382238789840173, 6154)]"
      ]
     },
     "execution_count": 111,
     "metadata": {},
     "output_type": "execute_result"
    }
   ],
   "source": [
    "knn[0]"
   ]
  },
  {
   "cell_type": "code",
   "execution_count": 133,
   "metadata": {
    "scrolled": true
   },
   "outputs": [
    {
     "data": {
      "text/plain": [
       "id                     8967.000000\n",
       "lat                      42.080503\n",
       "long                    -87.828679\n",
       "weight               541541.000000\n",
       "sleigh                 8967.000000\n",
       "dist_korvatunturi      6713.930818\n",
       "Name: 8965, dtype: float64"
      ]
     },
     "execution_count": 133,
     "metadata": {},
     "output_type": "execute_result"
    }
   ],
   "source": [
    "df.iloc[8964+1]"
   ]
  },
  {
   "cell_type": "code",
   "execution_count": 136,
   "metadata": {
    "scrolled": false
   },
   "outputs": [
    {
     "data": {
      "text/plain": [
       "id                     9331.000000\n",
       "lat                      44.848400\n",
       "long                    -87.360702\n",
       "weight               546408.000000\n",
       "sleigh                 9331.000000\n",
       "dist_korvatunturi      6415.349769\n",
       "Name: 9329, dtype: float64"
      ]
     },
     "execution_count": 136,
     "metadata": {},
     "output_type": "execute_result"
    }
   ],
   "source": [
    "# only 460 km\n",
    "df.iloc[9328+1]"
   ]
  },
  {
   "cell_type": "code",
   "execution_count": 124,
   "metadata": {},
   "outputs": [
    {
     "data": {
      "text/plain": [
       "174.42923390434507"
      ]
     },
     "execution_count": 124,
     "metadata": {},
     "output_type": "execute_result"
    }
   ],
   "source": [
    "i= 8964+1\n",
    "haversine(df.iloc[0]['long'], df.iloc[0]['lat'], df.iloc[i]['long'], df.iloc[i]['lat'])"
   ]
  },
  {
   "cell_type": "code",
   "execution_count": 125,
   "metadata": {},
   "outputs": [
    {
     "data": {
      "text/plain": [
       "9520.249117979016"
      ]
     },
     "execution_count": 125,
     "metadata": {},
     "output_type": "execute_result"
    }
   ],
   "source": [
    "i= 5852+1\n",
    "haversine(df.iloc[0]['long'], df.iloc[0]['lat'], df.iloc[i]['long'], df.iloc[i]['lat'])"
   ]
  },
  {
   "cell_type": "code",
   "execution_count": 129,
   "metadata": {},
   "outputs": [
    {
     "data": {
      "text/plain": [
       "1000.1607124358325"
      ]
     },
     "execution_count": 129,
     "metadata": {},
     "output_type": "execute_result"
    }
   ],
   "source": [
    "i= 9578+1\n",
    "haversine(df.iloc[0]['long'], df.iloc[0]['lat'], df.iloc[i]['long'], df.iloc[i]['lat'])"
   ]
  },
  {
   "cell_type": "code",
   "execution_count": 130,
   "metadata": {},
   "outputs": [
    {
     "data": {
      "text/plain": [
       "460.70783954420926"
      ]
     },
     "execution_count": 130,
     "metadata": {},
     "output_type": "execute_result"
    }
   ],
   "source": [
    "i= 9328+1\n",
    "haversine(df.iloc[0]['long'], df.iloc[0]['lat'], df.iloc[i]['long'], df.iloc[i]['lat'])"
   ]
  },
  {
   "cell_type": "code",
   "execution_count": 135,
   "metadata": {},
   "outputs": [
    {
     "data": {
      "text/plain": [
       "id                     8981.000000\n",
       "lat                      37.073659\n",
       "long                     36.261472\n",
       "weight               212478.000000\n",
       "sleigh                 8981.000000\n",
       "dist_korvatunturi      3477.809998\n",
       "Name: 8979, dtype: float64"
      ]
     },
     "execution_count": 135,
     "metadata": {},
     "output_type": "execute_result"
    }
   ],
   "source": [
    "df.iloc[8978+1]"
   ]
  },
  {
   "cell_type": "code",
   "execution_count": 113,
   "metadata": {},
   "outputs": [
    {
     "data": {
      "text/plain": [
       "id                        2.000000\n",
       "lat                      40.733034\n",
       "long                    -86.762233\n",
       "weight               342917.000000\n",
       "sleigh                    2.000000\n",
       "dist_korvatunturi      6818.460780\n",
       "Name: 0, dtype: float64"
      ]
     },
     "execution_count": 113,
     "metadata": {},
     "output_type": "execute_result"
    }
   ],
   "source": [
    "df.iloc[0]"
   ]
  },
  {
   "cell_type": "code",
   "execution_count": 114,
   "metadata": {},
   "outputs": [
    {
     "data": {
      "text/plain": [
       "id                     8966.000000\n",
       "lat                      25.402624\n",
       "long                     97.358505\n",
       "weight               699326.000000\n",
       "sleigh                 8966.000000\n",
       "dist_korvatunturi      6500.293323\n",
       "Name: 8964, dtype: float64"
      ]
     },
     "execution_count": 114,
     "metadata": {},
     "output_type": "execute_result"
    }
   ],
   "source": [
    "df.iloc[8964]"
   ]
  },
  {
   "cell_type": "code",
   "execution_count": null,
   "metadata": {},
   "outputs": [],
   "source": []
  }
 ],
 "metadata": {
  "kernelspec": {
   "display_name": "Python 3",
   "language": "python",
   "name": "python3"
  },
  "language_info": {
   "codemirror_mode": {
    "name": "ipython",
    "version": 3
   },
   "file_extension": ".py",
   "mimetype": "text/x-python",
   "name": "python",
   "nbconvert_exporter": "python",
   "pygments_lexer": "ipython3",
   "version": "3.6.5"
  }
 },
 "nbformat": 4,
 "nbformat_minor": 2
}
